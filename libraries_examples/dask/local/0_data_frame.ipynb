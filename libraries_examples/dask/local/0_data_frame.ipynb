{
 "cells": [
  {
   "cell_type": "code",
   "id": "initial_id",
   "metadata": {
    "collapsed": true,
    "ExecuteTime": {
     "end_time": "2025-01-24T00:31:58.988618Z",
     "start_time": "2025-01-24T00:31:58.315606Z"
    }
   },
   "source": [
    "import numpy as np\n",
    "import pandas as pd\n",
    "\n",
    "import dask.dataframe as dd\n",
    "import dask.array as da\n",
    "import dask.bag as db\n",
    "\n",
    "index = pd.date_range(\"2021-09-01\", periods=2400, freq=\"1h\")\n",
    "df = pd.DataFrame({\"a\": np.arange(2400), \"b\": list(\"abcaddbe\" * 300)}, index=index)\n",
    "ddf = dd.from_pandas(df, npartitions=10)\n",
    "print(ddf)"
   ],
   "outputs": [
    {
     "name": "stdout",
     "output_type": "stream",
     "text": [
      "Dask DataFrame Structure:\n",
      "                         a       b\n",
      "npartitions=10                    \n",
      "2021-09-01 00:00:00  int64  string\n",
      "2021-09-11 00:00:00    ...     ...\n",
      "...                    ...     ...\n",
      "2021-11-30 00:00:00    ...     ...\n",
      "2021-12-09 23:00:00    ...     ...\n",
      "Dask Name: frompandas, 1 expression\n",
      "Expr=df\n"
     ]
    }
   ],
   "execution_count": 1
  },
  {
   "metadata": {
    "ExecuteTime": {
     "end_time": "2025-01-24T00:31:59.006770Z",
     "start_time": "2025-01-24T00:31:59.000363Z"
    }
   },
   "cell_type": "code",
   "source": "ddf.divisions",
   "id": "22ca279497e7d481",
   "outputs": [
    {
     "data": {
      "text/plain": [
       "(Timestamp('2021-09-01 00:00:00'),\n",
       " Timestamp('2021-09-11 00:00:00'),\n",
       " Timestamp('2021-09-21 00:00:00'),\n",
       " Timestamp('2021-10-01 00:00:00'),\n",
       " Timestamp('2021-10-11 00:00:00'),\n",
       " Timestamp('2021-10-21 00:00:00'),\n",
       " Timestamp('2021-10-31 00:00:00'),\n",
       " Timestamp('2021-11-10 00:00:00'),\n",
       " Timestamp('2021-11-20 00:00:00'),\n",
       " Timestamp('2021-11-30 00:00:00'),\n",
       " Timestamp('2021-12-09 23:00:00'))"
      ]
     },
     "execution_count": 2,
     "metadata": {},
     "output_type": "execute_result"
    }
   ],
   "execution_count": 2
  },
  {
   "metadata": {
    "ExecuteTime": {
     "end_time": "2025-01-24T00:31:59.142163Z",
     "start_time": "2025-01-24T00:31:59.136186Z"
    }
   },
   "cell_type": "code",
   "source": "print(ddf.partitions[1])",
   "id": "aa733650663ef2d4",
   "outputs": [
    {
     "name": "stdout",
     "output_type": "stream",
     "text": [
      "Dask DataFrame Structure:\n",
      "                   a       b\n",
      "npartitions=1               \n",
      "2021-09-11     int64  string\n",
      "2021-09-21       ...     ...\n",
      "Dask Name: partitions, 2 expressions\n",
      "Expr=Partitions(frame=df, partitions=[1])\n"
     ]
    }
   ],
   "execution_count": 3
  },
  {
   "metadata": {
    "ExecuteTime": {
     "end_time": "2025-01-24T00:31:59.417540Z",
     "start_time": "2025-01-24T00:31:59.215742Z"
    }
   },
   "cell_type": "code",
   "source": "ddf[\"2021-10-01\": \"2021-10-09 5:00\"].compute()",
   "id": "1922ecb44d91e04d",
   "outputs": [
    {
     "data": {
      "text/plain": [
       "                       a  b\n",
       "2021-10-01 00:00:00  720  a\n",
       "2021-10-01 01:00:00  721  b\n",
       "2021-10-01 02:00:00  722  c\n",
       "2021-10-01 03:00:00  723  a\n",
       "2021-10-01 04:00:00  724  d\n",
       "...                  ... ..\n",
       "2021-10-09 01:00:00  913  b\n",
       "2021-10-09 02:00:00  914  c\n",
       "2021-10-09 03:00:00  915  a\n",
       "2021-10-09 04:00:00  916  d\n",
       "2021-10-09 05:00:00  917  d\n",
       "\n",
       "[198 rows x 2 columns]"
      ],
      "text/html": [
       "<div>\n",
       "<style scoped>\n",
       "    .dataframe tbody tr th:only-of-type {\n",
       "        vertical-align: middle;\n",
       "    }\n",
       "\n",
       "    .dataframe tbody tr th {\n",
       "        vertical-align: top;\n",
       "    }\n",
       "\n",
       "    .dataframe thead th {\n",
       "        text-align: right;\n",
       "    }\n",
       "</style>\n",
       "<table border=\"1\" class=\"dataframe\">\n",
       "  <thead>\n",
       "    <tr style=\"text-align: right;\">\n",
       "      <th></th>\n",
       "      <th>a</th>\n",
       "      <th>b</th>\n",
       "    </tr>\n",
       "  </thead>\n",
       "  <tbody>\n",
       "    <tr>\n",
       "      <th>2021-10-01 00:00:00</th>\n",
       "      <td>720</td>\n",
       "      <td>a</td>\n",
       "    </tr>\n",
       "    <tr>\n",
       "      <th>2021-10-01 01:00:00</th>\n",
       "      <td>721</td>\n",
       "      <td>b</td>\n",
       "    </tr>\n",
       "    <tr>\n",
       "      <th>2021-10-01 02:00:00</th>\n",
       "      <td>722</td>\n",
       "      <td>c</td>\n",
       "    </tr>\n",
       "    <tr>\n",
       "      <th>2021-10-01 03:00:00</th>\n",
       "      <td>723</td>\n",
       "      <td>a</td>\n",
       "    </tr>\n",
       "    <tr>\n",
       "      <th>2021-10-01 04:00:00</th>\n",
       "      <td>724</td>\n",
       "      <td>d</td>\n",
       "    </tr>\n",
       "    <tr>\n",
       "      <th>...</th>\n",
       "      <td>...</td>\n",
       "      <td>...</td>\n",
       "    </tr>\n",
       "    <tr>\n",
       "      <th>2021-10-09 01:00:00</th>\n",
       "      <td>913</td>\n",
       "      <td>b</td>\n",
       "    </tr>\n",
       "    <tr>\n",
       "      <th>2021-10-09 02:00:00</th>\n",
       "      <td>914</td>\n",
       "      <td>c</td>\n",
       "    </tr>\n",
       "    <tr>\n",
       "      <th>2021-10-09 03:00:00</th>\n",
       "      <td>915</td>\n",
       "      <td>a</td>\n",
       "    </tr>\n",
       "    <tr>\n",
       "      <th>2021-10-09 04:00:00</th>\n",
       "      <td>916</td>\n",
       "      <td>d</td>\n",
       "    </tr>\n",
       "    <tr>\n",
       "      <th>2021-10-09 05:00:00</th>\n",
       "      <td>917</td>\n",
       "      <td>d</td>\n",
       "    </tr>\n",
       "  </tbody>\n",
       "</table>\n",
       "<p>198 rows × 2 columns</p>\n",
       "</div>"
      ]
     },
     "execution_count": 4,
     "metadata": {},
     "output_type": "execute_result"
    }
   ],
   "execution_count": 4
  },
  {
   "metadata": {
    "ExecuteTime": {
     "end_time": "2025-01-24T00:31:59.525341Z",
     "start_time": "2025-01-24T00:31:59.519869Z"
    }
   },
   "cell_type": "code",
   "source": "ddf.a.mean()",
   "id": "8a97e62e96366bc4",
   "outputs": [
    {
     "data": {
      "text/plain": [
       "<dask_expr.expr.Scalar: expr=df['a'].mean(), dtype=float64>"
      ]
     },
     "execution_count": 5,
     "metadata": {},
     "output_type": "execute_result"
    }
   ],
   "execution_count": 5
  },
  {
   "metadata": {
    "ExecuteTime": {
     "end_time": "2025-01-24T00:31:59.608562Z",
     "start_time": "2025-01-24T00:31:59.568394Z"
    }
   },
   "cell_type": "code",
   "source": "print(ddf.a.mean().compute())",
   "id": "4d4678d1f652f753",
   "outputs": [
    {
     "name": "stdout",
     "output_type": "stream",
     "text": [
      "1199.5\n"
     ]
    }
   ],
   "execution_count": 6
  },
  {
   "metadata": {
    "ExecuteTime": {
     "end_time": "2025-01-24T00:31:59.706988Z",
     "start_time": "2025-01-24T00:31:59.700627Z"
    }
   },
   "cell_type": "code",
   "source": "ddf.b.unique()",
   "id": "f4266497f8cd67d7",
   "outputs": [
    {
     "data": {
      "text/plain": [
       "Dask Series Structure:\n",
       "npartitions=10\n",
       "    string\n",
       "       ...\n",
       "     ...  \n",
       "       ...\n",
       "       ...\n",
       "Dask Name: unique, 3 expressions\n",
       "Expr=Unique(frame=df['b'])"
      ]
     },
     "execution_count": 7,
     "metadata": {},
     "output_type": "execute_result"
    }
   ],
   "execution_count": 7
  },
  {
   "metadata": {
    "ExecuteTime": {
     "end_time": "2025-01-24T00:31:59.901864Z",
     "start_time": "2025-01-24T00:31:59.782509Z"
    }
   },
   "cell_type": "code",
   "source": "ddf.b.unique().compute()",
   "id": "636b23a4e5409870",
   "outputs": [
    {
     "data": {
      "text/plain": [
       "0    e\n",
       "0    c\n",
       "1    d\n",
       "0    a\n",
       "0    b\n",
       "Name: b, dtype: string"
      ]
     },
     "execution_count": 8,
     "metadata": {},
     "output_type": "execute_result"
    }
   ],
   "execution_count": 8
  },
  {
   "metadata": {
    "ExecuteTime": {
     "end_time": "2025-01-24T00:31:59.970045Z",
     "start_time": "2025-01-24T00:31:59.961960Z"
    }
   },
   "cell_type": "code",
   "source": [
    "result = ddf[\"2021-10-01\": \"2021-10-09 5:00\"].a.cumsum() - 100\n",
    "result"
   ],
   "id": "3b5e56c524264f05",
   "outputs": [
    {
     "data": {
      "text/plain": [
       "Dask Series Structure:\n",
       "npartitions=1\n",
       "2021-10-01 00:00:00.000000000    int64\n",
       "2021-10-09 05:00:59.999999999      ...\n",
       "Dask Name: sub, 5 expressions\n",
       "Expr=CumSum(frame=(LocSlice(frame=df, iindexer=slice(Timestamp('2021-10-01 00:00:00'), Timestamp('2021-10-09 05:00:59.999999999'), None)))['a'], skipna=True) - 100"
      ]
     },
     "execution_count": 9,
     "metadata": {},
     "output_type": "execute_result"
    }
   ],
   "execution_count": 9
  },
  {
   "metadata": {
    "ExecuteTime": {
     "end_time": "2025-01-24T00:32:00.060341Z",
     "start_time": "2025-01-24T00:32:00.055302Z"
    }
   },
   "cell_type": "code",
   "source": "print(result)",
   "id": "6f6be999cfd4456b",
   "outputs": [
    {
     "name": "stdout",
     "output_type": "stream",
     "text": [
      "Dask Series Structure:\n",
      "npartitions=1\n",
      "2021-10-01 00:00:00.000000000    int64\n",
      "2021-10-09 05:00:59.999999999      ...\n",
      "Dask Name: sub, 5 expressions\n",
      "Expr=CumSum(frame=(LocSlice(frame=df, iindexer=slice(Timestamp('2021-10-01 00:00:00'), Timestamp('2021-10-09 05:00:59.999999999'), None)))['a'], skipna=True) - 100\n"
     ]
    }
   ],
   "execution_count": 10
  },
  {
   "metadata": {
    "ExecuteTime": {
     "end_time": "2025-01-24T00:32:00.320560Z",
     "start_time": "2025-01-24T00:32:00.283092Z"
    }
   },
   "cell_type": "code",
   "source": "result.dask",
   "id": "3ddc5e473e3ca227",
   "outputs": [
    {
     "data": {
      "text/plain": [
       "{('sub-eebc03bb5505dfb07416b4fbd92d5139',\n",
       "  0): <Task ('sub-eebc03bb5505dfb07416b4fbd92d5139', 0) sub(...)>,\n",
       " ('cumulativefinalize-c84b0f8ecf10f71d230544539f044652',\n",
       "  0): ('cumsum-e20fcbf6c4d8eda775020e3b7c4b791d', 0),\n",
       " ('operation-aacd21d2599cdd1704dfcf208f8222e1',\n",
       "  0): <Task ('operation-aacd21d2599cdd1704dfcf208f8222e1', 0) operation(...)>,\n",
       " ('cumsum-e20fcbf6c4d8eda775020e3b7c4b791d',\n",
       "  0): <Task ('cumsum-e20fcbf6c4d8eda775020e3b7c4b791d', 0) cumsum(...)>,\n",
       " ('getitem-b30cd0817323990ef9ce62e05e218713',\n",
       "  0): <Task ('getitem-b30cd0817323990ef9ce62e05e218713', 0) getitem(...)>,\n",
       " ('loc-efb1c1846e6ebd78444b69ffc82fcb86',\n",
       "  0): <Task ('loc-efb1c1846e6ebd78444b69ffc82fcb86', 0) loc(...)>,\n",
       " ('partitions-16166c71926eb3bb0e9da95b33a1c035',\n",
       "  0): Alias(('partitions-16166c71926eb3bb0e9da95b33a1c035', 0)->('frompandas-33946d5e46faffe611c6bc08f15bacda', 3)),\n",
       " ('frompandas-33946d5e46faffe611c6bc08f15bacda',\n",
       "  0): DataNode(                       a  b\n",
       " 2021-09-01 00:00:00    0  a\n",
       " 2021-09-01 01:00:00    1  b\n",
       " 2021-09-01 02:00:00    2  c\n",
       " 2021-09-01 03:00:00    3  a\n",
       " 2021-09-01 04:00:00    4  d\n",
       " ...                  ... ..\n",
       " 2021-09-10 19:00:00  235  a\n",
       " 2021-09-10 20:00:00  236  d\n",
       " 2021-09-10 21:00:00  237  d\n",
       " 2021-09-10 22:00:00  238  b\n",
       " 2021-09-10 23:00:00  239  e\n",
       " \n",
       " [240 rows x 2 columns]),\n",
       " ('frompandas-33946d5e46faffe611c6bc08f15bacda',\n",
       "  1): DataNode(                       a  b\n",
       " 2021-09-11 00:00:00  240  a\n",
       " 2021-09-11 01:00:00  241  b\n",
       " 2021-09-11 02:00:00  242  c\n",
       " 2021-09-11 03:00:00  243  a\n",
       " 2021-09-11 04:00:00  244  d\n",
       " ...                  ... ..\n",
       " 2021-09-20 19:00:00  475  a\n",
       " 2021-09-20 20:00:00  476  d\n",
       " 2021-09-20 21:00:00  477  d\n",
       " 2021-09-20 22:00:00  478  b\n",
       " 2021-09-20 23:00:00  479  e\n",
       " \n",
       " [240 rows x 2 columns]),\n",
       " ('frompandas-33946d5e46faffe611c6bc08f15bacda',\n",
       "  2): DataNode(                       a  b\n",
       " 2021-09-21 00:00:00  480  a\n",
       " 2021-09-21 01:00:00  481  b\n",
       " 2021-09-21 02:00:00  482  c\n",
       " 2021-09-21 03:00:00  483  a\n",
       " 2021-09-21 04:00:00  484  d\n",
       " ...                  ... ..\n",
       " 2021-09-30 19:00:00  715  a\n",
       " 2021-09-30 20:00:00  716  d\n",
       " 2021-09-30 21:00:00  717  d\n",
       " 2021-09-30 22:00:00  718  b\n",
       " 2021-09-30 23:00:00  719  e\n",
       " \n",
       " [240 rows x 2 columns]),\n",
       " ('frompandas-33946d5e46faffe611c6bc08f15bacda',\n",
       "  3): DataNode(                       a  b\n",
       " 2021-10-01 00:00:00  720  a\n",
       " 2021-10-01 01:00:00  721  b\n",
       " 2021-10-01 02:00:00  722  c\n",
       " 2021-10-01 03:00:00  723  a\n",
       " 2021-10-01 04:00:00  724  d\n",
       " ...                  ... ..\n",
       " 2021-10-10 19:00:00  955  a\n",
       " 2021-10-10 20:00:00  956  d\n",
       " 2021-10-10 21:00:00  957  d\n",
       " 2021-10-10 22:00:00  958  b\n",
       " 2021-10-10 23:00:00  959  e\n",
       " \n",
       " [240 rows x 2 columns]),\n",
       " ('frompandas-33946d5e46faffe611c6bc08f15bacda',\n",
       "  4): DataNode(                        a  b\n",
       " 2021-10-11 00:00:00   960  a\n",
       " 2021-10-11 01:00:00   961  b\n",
       " 2021-10-11 02:00:00   962  c\n",
       " 2021-10-11 03:00:00   963  a\n",
       " 2021-10-11 04:00:00   964  d\n",
       " ...                   ... ..\n",
       " 2021-10-20 19:00:00  1195  a\n",
       " 2021-10-20 20:00:00  1196  d\n",
       " 2021-10-20 21:00:00  1197  d\n",
       " 2021-10-20 22:00:00  1198  b\n",
       " 2021-10-20 23:00:00  1199  e\n",
       " \n",
       " [240 rows x 2 columns]),\n",
       " ('frompandas-33946d5e46faffe611c6bc08f15bacda',\n",
       "  5): DataNode(                        a  b\n",
       " 2021-10-21 00:00:00  1200  a\n",
       " 2021-10-21 01:00:00  1201  b\n",
       " 2021-10-21 02:00:00  1202  c\n",
       " 2021-10-21 03:00:00  1203  a\n",
       " 2021-10-21 04:00:00  1204  d\n",
       " ...                   ... ..\n",
       " 2021-10-30 19:00:00  1435  a\n",
       " 2021-10-30 20:00:00  1436  d\n",
       " 2021-10-30 21:00:00  1437  d\n",
       " 2021-10-30 22:00:00  1438  b\n",
       " 2021-10-30 23:00:00  1439  e\n",
       " \n",
       " [240 rows x 2 columns]),\n",
       " ('frompandas-33946d5e46faffe611c6bc08f15bacda',\n",
       "  6): DataNode(                        a  b\n",
       " 2021-10-31 00:00:00  1440  a\n",
       " 2021-10-31 01:00:00  1441  b\n",
       " 2021-10-31 02:00:00  1442  c\n",
       " 2021-10-31 03:00:00  1443  a\n",
       " 2021-10-31 04:00:00  1444  d\n",
       " ...                   ... ..\n",
       " 2021-11-09 19:00:00  1675  a\n",
       " 2021-11-09 20:00:00  1676  d\n",
       " 2021-11-09 21:00:00  1677  d\n",
       " 2021-11-09 22:00:00  1678  b\n",
       " 2021-11-09 23:00:00  1679  e\n",
       " \n",
       " [240 rows x 2 columns]),\n",
       " ('frompandas-33946d5e46faffe611c6bc08f15bacda',\n",
       "  7): DataNode(                        a  b\n",
       " 2021-11-10 00:00:00  1680  a\n",
       " 2021-11-10 01:00:00  1681  b\n",
       " 2021-11-10 02:00:00  1682  c\n",
       " 2021-11-10 03:00:00  1683  a\n",
       " 2021-11-10 04:00:00  1684  d\n",
       " ...                   ... ..\n",
       " 2021-11-19 19:00:00  1915  a\n",
       " 2021-11-19 20:00:00  1916  d\n",
       " 2021-11-19 21:00:00  1917  d\n",
       " 2021-11-19 22:00:00  1918  b\n",
       " 2021-11-19 23:00:00  1919  e\n",
       " \n",
       " [240 rows x 2 columns]),\n",
       " ('frompandas-33946d5e46faffe611c6bc08f15bacda',\n",
       "  8): DataNode(                        a  b\n",
       " 2021-11-20 00:00:00  1920  a\n",
       " 2021-11-20 01:00:00  1921  b\n",
       " 2021-11-20 02:00:00  1922  c\n",
       " 2021-11-20 03:00:00  1923  a\n",
       " 2021-11-20 04:00:00  1924  d\n",
       " ...                   ... ..\n",
       " 2021-11-29 19:00:00  2155  a\n",
       " 2021-11-29 20:00:00  2156  d\n",
       " 2021-11-29 21:00:00  2157  d\n",
       " 2021-11-29 22:00:00  2158  b\n",
       " 2021-11-29 23:00:00  2159  e\n",
       " \n",
       " [240 rows x 2 columns]),\n",
       " ('frompandas-33946d5e46faffe611c6bc08f15bacda',\n",
       "  9): DataNode(                        a  b\n",
       " 2021-11-30 00:00:00  2160  a\n",
       " 2021-11-30 01:00:00  2161  b\n",
       " 2021-11-30 02:00:00  2162  c\n",
       " 2021-11-30 03:00:00  2163  a\n",
       " 2021-11-30 04:00:00  2164  d\n",
       " ...                   ... ..\n",
       " 2021-12-09 19:00:00  2395  a\n",
       " 2021-12-09 20:00:00  2396  d\n",
       " 2021-12-09 21:00:00  2397  d\n",
       " 2021-12-09 22:00:00  2398  b\n",
       " 2021-12-09 23:00:00  2399  e\n",
       " \n",
       " [240 rows x 2 columns])}"
      ]
     },
     "execution_count": 11,
     "metadata": {},
     "output_type": "execute_result"
    }
   ],
   "execution_count": 11
  },
  {
   "metadata": {
    "ExecuteTime": {
     "end_time": "2025-01-24T00:32:00.722374Z",
     "start_time": "2025-01-24T00:32:00.529Z"
    }
   },
   "cell_type": "code",
   "source": "result.visualize()",
   "id": "71c925398e5c84de",
   "outputs": [
    {
     "data": {
      "image/svg+xml": "<?xml version=\"1.0\" encoding=\"UTF-8\" standalone=\"no\"?>\n<!DOCTYPE svg PUBLIC \"-//W3C//DTD SVG 1.1//EN\"\n \"http://www.w3.org/Graphics/SVG/1.1/DTD/svg11.dtd\">\n<!-- Generated by graphviz version 2.43.0 (0)\n -->\n<!-- Title: %3 Pages: 1 -->\n<svg width=\"241pt\" height=\"332pt\"\n viewBox=\"0.00 0.00 241.00 332.00\" xmlns=\"http://www.w3.org/2000/svg\" xmlns:xlink=\"http://www.w3.org/1999/xlink\">\n<g id=\"graph0\" class=\"graph\" transform=\"scale(1 1) rotate(0) translate(4 328)\">\n<title>%3</title>\n<polygon fill=\"white\" stroke=\"transparent\" points=\"-4,4 -4,-328 237,-328 237,4 -4,4\"/>\n<!-- &#45;6389018880149779860 -->\n<g id=\"node1\" class=\"node\">\n<title>&#45;6389018880149779860</title>\n<polygon fill=\"none\" stroke=\"black\" points=\"222.5,-324 10.5,-324 10.5,-288 222.5,-288 222.5,-324\"/>\n<text text-anchor=\"middle\" x=\"116.5\" y=\"-301\" font-family=\"Helvetica,sans-Serif\" font-size=\"20.00\">Sub(CumSum, 100)</text>\n</g>\n<!-- &#45;8268481951930138635 -->\n<g id=\"node2\" class=\"node\">\n<title>&#45;8268481951930138635</title>\n<polygon fill=\"none\" stroke=\"black\" points=\"227,-252 6,-252 6,-216 227,-216 227,-252\"/>\n<text text-anchor=\"middle\" x=\"116.5\" y=\"-229\" font-family=\"Helvetica,sans-Serif\" font-size=\"20.00\">CumSum(Projection)</text>\n</g>\n<!-- &#45;8268481951930138635&#45;&gt;&#45;6389018880149779860 -->\n<g id=\"edge1\" class=\"edge\">\n<title>&#45;8268481951930138635&#45;&gt;&#45;6389018880149779860</title>\n<path fill=\"none\" stroke=\"black\" d=\"M116.5,-252.3C116.5,-260.02 116.5,-269.29 116.5,-277.89\"/>\n<polygon fill=\"black\" stroke=\"black\" points=\"113,-277.9 116.5,-287.9 120,-277.9 113,-277.9\"/>\n</g>\n<!-- 1140029118545884952 -->\n<g id=\"node3\" class=\"node\">\n<title>1140029118545884952</title>\n<polygon fill=\"none\" stroke=\"black\" points=\"233,-180 0,-180 0,-144 233,-144 233,-180\"/>\n<text text-anchor=\"middle\" x=\"116.5\" y=\"-157\" font-family=\"Helvetica,sans-Serif\" font-size=\"20.00\">Projection(LocSlice, a)</text>\n</g>\n<!-- 1140029118545884952&#45;&gt;&#45;8268481951930138635 -->\n<g id=\"edge2\" class=\"edge\">\n<title>1140029118545884952&#45;&gt;&#45;8268481951930138635</title>\n<path fill=\"none\" stroke=\"black\" d=\"M116.5,-180.3C116.5,-188.02 116.5,-197.29 116.5,-205.89\"/>\n<polygon fill=\"black\" stroke=\"black\" points=\"113,-205.9 116.5,-215.9 120,-205.9 113,-205.9\"/>\n</g>\n<!-- 5004930590775712364 -->\n<g id=\"node4\" class=\"node\">\n<title>5004930590775712364</title>\n<polygon fill=\"none\" stroke=\"black\" points=\"232.5,-108 0.5,-108 0.5,-72 232.5,-72 232.5,-108\"/>\n<text text-anchor=\"middle\" x=\"116.5\" y=\"-85\" font-family=\"Helvetica,sans-Serif\" font-size=\"20.00\">LocSlice(FromPandas)</text>\n</g>\n<!-- 5004930590775712364&#45;&gt;1140029118545884952 -->\n<g id=\"edge3\" class=\"edge\">\n<title>5004930590775712364&#45;&gt;1140029118545884952</title>\n<path fill=\"none\" stroke=\"black\" d=\"M116.5,-108.3C116.5,-116.02 116.5,-125.29 116.5,-133.89\"/>\n<polygon fill=\"black\" stroke=\"black\" points=\"113,-133.9 116.5,-143.9 120,-133.9 113,-133.9\"/>\n</g>\n<!-- 4522555418871360391 -->\n<g id=\"node5\" class=\"node\">\n<title>4522555418871360391</title>\n<polygon fill=\"none\" stroke=\"black\" points=\"185,-36 48,-36 48,0 185,0 185,-36\"/>\n<text text-anchor=\"middle\" x=\"116.5\" y=\"-13\" font-family=\"Helvetica,sans-Serif\" font-size=\"20.00\">FromPandas</text>\n</g>\n<!-- 4522555418871360391&#45;&gt;5004930590775712364 -->\n<g id=\"edge4\" class=\"edge\">\n<title>4522555418871360391&#45;&gt;5004930590775712364</title>\n<path fill=\"none\" stroke=\"black\" d=\"M116.5,-36.3C116.5,-44.02 116.5,-53.29 116.5,-61.89\"/>\n<polygon fill=\"black\" stroke=\"black\" points=\"113,-61.9 116.5,-71.9 120,-61.9 113,-61.9\"/>\n</g>\n</g>\n</svg>\n",
      "text/plain": [
       "<graphviz.graphs.Digraph at 0x77ff31c41730>"
      ]
     },
     "execution_count": 12,
     "metadata": {},
     "output_type": "execute_result"
    }
   ],
   "execution_count": 12
  },
  {
   "metadata": {
    "ExecuteTime": {
     "end_time": "2025-01-24T00:39:43.193374Z",
     "start_time": "2025-01-24T00:39:43.177303Z"
    }
   },
   "cell_type": "code",
   "source": [
    "import dask\n",
    "\n",
    "@dask.delayed\n",
    "def inc(x):\n",
    "   return x + 1\n",
    "\n",
    "@dask.delayed\n",
    "def add(x, y):\n",
    "   return x + y\n",
    "\n",
    "a = inc(1)       # no work has happened yet\n",
    "b = inc(2)       # no work has happened yet\n",
    "c = add(a, b)    # no work has happened yet\n",
    "\n",
    "c = c.compute()  # This triggers all of the above computations\n",
    "c"
   ],
   "id": "e8edb641c9ce700c",
   "outputs": [
    {
     "data": {
      "text/plain": [
       "5"
      ]
     },
     "execution_count": 14,
     "metadata": {},
     "output_type": "execute_result"
    }
   ],
   "execution_count": 14
  },
  {
   "metadata": {
    "ExecuteTime": {
     "end_time": "2025-01-24T00:40:14.102272Z",
     "start_time": "2025-01-24T00:40:12.625283Z"
    }
   },
   "cell_type": "code",
   "source": [
    "from dask.distributed import Client\n",
    "\n",
    "client = Client()\n",
    "\n",
    "def inc(x):\n",
    "   return x + 1\n",
    "\n",
    "def add(x, y):\n",
    "   return x + y\n",
    "\n",
    "a = client.submit(inc, 1)     # work starts immediately\n",
    "b = client.submit(inc, 2)     # work starts immediately\n",
    "c = client.submit(add, a, b)  # work starts immediately\n",
    "\n",
    "c = c.result()                # block until work finishes, then gather result\n",
    "c"
   ],
   "id": "8cc1dd5b694001a1",
   "outputs": [
    {
     "name": "stderr",
     "output_type": "stream",
     "text": [
      "/home/carlos/PycharmProjects/cbnetwork/.venv/lib/python3.12/site-packages/distributed/node.py:187: UserWarning: Port 8787 is already in use.\n",
      "Perhaps you already have a cluster running?\n",
      "Hosting the HTTP server on port 40979 instead\n",
      "  warnings.warn(\n"
     ]
    },
    {
     "data": {
      "text/plain": [
       "5"
      ]
     },
     "execution_count": 16,
     "metadata": {},
     "output_type": "execute_result"
    }
   ],
   "execution_count": 16
  },
  {
   "metadata": {
    "ExecuteTime": {
     "end_time": "2025-01-24T00:41:03.758625Z",
     "start_time": "2025-01-24T00:41:02.095998Z"
    }
   },
   "cell_type": "code",
   "source": [
    "from dask.distributed import Client\n",
    "\n",
    "client = Client()\n",
    "client"
   ],
   "id": "beea969430559449",
   "outputs": [
    {
     "name": "stderr",
     "output_type": "stream",
     "text": [
      "/home/carlos/PycharmProjects/cbnetwork/.venv/lib/python3.12/site-packages/distributed/node.py:187: UserWarning: Port 8787 is already in use.\n",
      "Perhaps you already have a cluster running?\n",
      "Hosting the HTTP server on port 38693 instead\n",
      "  warnings.warn(\n"
     ]
    },
    {
     "data": {
      "text/plain": [
       "<Client: 'tcp://127.0.0.1:37459' processes=4 threads=4, memory=7.69 GiB>"
      ],
      "text/html": [
       "<div>\n",
       "    <div style=\"width: 24px; height: 24px; background-color: #e1e1e1; border: 3px solid #9D9D9D; border-radius: 5px; position: absolute;\"> </div>\n",
       "    <div style=\"margin-left: 48px;\">\n",
       "        <h3 style=\"margin-bottom: 0px;\">Client</h3>\n",
       "        <p style=\"color: #9D9D9D; margin-bottom: 0px;\">Client-e30381ed-d9eb-11ef-97fa-fc4dd42e6f73</p>\n",
       "        <table style=\"width: 100%; text-align: left;\">\n",
       "\n",
       "        <tr>\n",
       "        \n",
       "            <td style=\"text-align: left;\"><strong>Connection method:</strong> Cluster object</td>\n",
       "            <td style=\"text-align: left;\"><strong>Cluster type:</strong> distributed.LocalCluster</td>\n",
       "        \n",
       "        </tr>\n",
       "\n",
       "        \n",
       "            <tr>\n",
       "                <td style=\"text-align: left;\">\n",
       "                    <strong>Dashboard: </strong> <a href=\"http://127.0.0.1:38693/status\" target=\"_blank\">http://127.0.0.1:38693/status</a>\n",
       "                </td>\n",
       "                <td style=\"text-align: left;\"></td>\n",
       "            </tr>\n",
       "        \n",
       "\n",
       "        </table>\n",
       "\n",
       "        \n",
       "\n",
       "        \n",
       "            <details>\n",
       "            <summary style=\"margin-bottom: 20px;\"><h3 style=\"display: inline;\">Cluster Info</h3></summary>\n",
       "            <div class=\"jp-RenderedHTMLCommon jp-RenderedHTML jp-mod-trusted jp-OutputArea-output\">\n",
       "    <div style=\"width: 24px; height: 24px; background-color: #e1e1e1; border: 3px solid #9D9D9D; border-radius: 5px; position: absolute;\">\n",
       "    </div>\n",
       "    <div style=\"margin-left: 48px;\">\n",
       "        <h3 style=\"margin-bottom: 0px; margin-top: 0px;\">LocalCluster</h3>\n",
       "        <p style=\"color: #9D9D9D; margin-bottom: 0px;\">e4d8f4cf</p>\n",
       "        <table style=\"width: 100%; text-align: left;\">\n",
       "            <tr>\n",
       "                <td style=\"text-align: left;\">\n",
       "                    <strong>Dashboard:</strong> <a href=\"http://127.0.0.1:38693/status\" target=\"_blank\">http://127.0.0.1:38693/status</a>\n",
       "                </td>\n",
       "                <td style=\"text-align: left;\">\n",
       "                    <strong>Workers:</strong> 4\n",
       "                </td>\n",
       "            </tr>\n",
       "            <tr>\n",
       "                <td style=\"text-align: left;\">\n",
       "                    <strong>Total threads:</strong> 4\n",
       "                </td>\n",
       "                <td style=\"text-align: left;\">\n",
       "                    <strong>Total memory:</strong> 7.69 GiB\n",
       "                </td>\n",
       "            </tr>\n",
       "            \n",
       "            <tr>\n",
       "    <td style=\"text-align: left;\"><strong>Status:</strong> running</td>\n",
       "    <td style=\"text-align: left;\"><strong>Using processes:</strong> True</td>\n",
       "</tr>\n",
       "\n",
       "            \n",
       "        </table>\n",
       "\n",
       "        <details>\n",
       "            <summary style=\"margin-bottom: 20px;\">\n",
       "                <h3 style=\"display: inline;\">Scheduler Info</h3>\n",
       "            </summary>\n",
       "\n",
       "            <div style=\"\">\n",
       "    <div>\n",
       "        <div style=\"width: 24px; height: 24px; background-color: #FFF7E5; border: 3px solid #FF6132; border-radius: 5px; position: absolute;\"> </div>\n",
       "        <div style=\"margin-left: 48px;\">\n",
       "            <h3 style=\"margin-bottom: 0px;\">Scheduler</h3>\n",
       "            <p style=\"color: #9D9D9D; margin-bottom: 0px;\">Scheduler-c12c79a1-5330-40a1-bb1b-fad195879029</p>\n",
       "            <table style=\"width: 100%; text-align: left;\">\n",
       "                <tr>\n",
       "                    <td style=\"text-align: left;\">\n",
       "                        <strong>Comm:</strong> tcp://127.0.0.1:37459\n",
       "                    </td>\n",
       "                    <td style=\"text-align: left;\">\n",
       "                        <strong>Workers:</strong> 4\n",
       "                    </td>\n",
       "                </tr>\n",
       "                <tr>\n",
       "                    <td style=\"text-align: left;\">\n",
       "                        <strong>Dashboard:</strong> <a href=\"http://127.0.0.1:38693/status\" target=\"_blank\">http://127.0.0.1:38693/status</a>\n",
       "                    </td>\n",
       "                    <td style=\"text-align: left;\">\n",
       "                        <strong>Total threads:</strong> 4\n",
       "                    </td>\n",
       "                </tr>\n",
       "                <tr>\n",
       "                    <td style=\"text-align: left;\">\n",
       "                        <strong>Started:</strong> Just now\n",
       "                    </td>\n",
       "                    <td style=\"text-align: left;\">\n",
       "                        <strong>Total memory:</strong> 7.69 GiB\n",
       "                    </td>\n",
       "                </tr>\n",
       "            </table>\n",
       "        </div>\n",
       "    </div>\n",
       "\n",
       "    <details style=\"margin-left: 48px;\">\n",
       "        <summary style=\"margin-bottom: 20px;\">\n",
       "            <h3 style=\"display: inline;\">Workers</h3>\n",
       "        </summary>\n",
       "\n",
       "        \n",
       "        <div style=\"margin-bottom: 20px;\">\n",
       "            <div style=\"width: 24px; height: 24px; background-color: #DBF5FF; border: 3px solid #4CC9FF; border-radius: 5px; position: absolute;\"> </div>\n",
       "            <div style=\"margin-left: 48px;\">\n",
       "            <details>\n",
       "                <summary>\n",
       "                    <h4 style=\"margin-bottom: 0px; display: inline;\">Worker: 0</h4>\n",
       "                </summary>\n",
       "                <table style=\"width: 100%; text-align: left;\">\n",
       "                    <tr>\n",
       "                        <td style=\"text-align: left;\">\n",
       "                            <strong>Comm: </strong> tcp://127.0.0.1:46029\n",
       "                        </td>\n",
       "                        <td style=\"text-align: left;\">\n",
       "                            <strong>Total threads: </strong> 1\n",
       "                        </td>\n",
       "                    </tr>\n",
       "                    <tr>\n",
       "                        <td style=\"text-align: left;\">\n",
       "                            <strong>Dashboard: </strong> <a href=\"http://127.0.0.1:45525/status\" target=\"_blank\">http://127.0.0.1:45525/status</a>\n",
       "                        </td>\n",
       "                        <td style=\"text-align: left;\">\n",
       "                            <strong>Memory: </strong> 1.92 GiB\n",
       "                        </td>\n",
       "                    </tr>\n",
       "                    <tr>\n",
       "                        <td style=\"text-align: left;\">\n",
       "                            <strong>Nanny: </strong> tcp://127.0.0.1:40789\n",
       "                        </td>\n",
       "                        <td style=\"text-align: left;\"></td>\n",
       "                    </tr>\n",
       "                    <tr>\n",
       "                        <td colspan=\"2\" style=\"text-align: left;\">\n",
       "                            <strong>Local directory: </strong> /tmp/dask-scratch-space/worker-3o9wziwq\n",
       "                        </td>\n",
       "                    </tr>\n",
       "\n",
       "                    \n",
       "\n",
       "                    \n",
       "\n",
       "                </table>\n",
       "            </details>\n",
       "            </div>\n",
       "        </div>\n",
       "        \n",
       "        <div style=\"margin-bottom: 20px;\">\n",
       "            <div style=\"width: 24px; height: 24px; background-color: #DBF5FF; border: 3px solid #4CC9FF; border-radius: 5px; position: absolute;\"> </div>\n",
       "            <div style=\"margin-left: 48px;\">\n",
       "            <details>\n",
       "                <summary>\n",
       "                    <h4 style=\"margin-bottom: 0px; display: inline;\">Worker: 1</h4>\n",
       "                </summary>\n",
       "                <table style=\"width: 100%; text-align: left;\">\n",
       "                    <tr>\n",
       "                        <td style=\"text-align: left;\">\n",
       "                            <strong>Comm: </strong> tcp://127.0.0.1:44493\n",
       "                        </td>\n",
       "                        <td style=\"text-align: left;\">\n",
       "                            <strong>Total threads: </strong> 1\n",
       "                        </td>\n",
       "                    </tr>\n",
       "                    <tr>\n",
       "                        <td style=\"text-align: left;\">\n",
       "                            <strong>Dashboard: </strong> <a href=\"http://127.0.0.1:41249/status\" target=\"_blank\">http://127.0.0.1:41249/status</a>\n",
       "                        </td>\n",
       "                        <td style=\"text-align: left;\">\n",
       "                            <strong>Memory: </strong> 1.92 GiB\n",
       "                        </td>\n",
       "                    </tr>\n",
       "                    <tr>\n",
       "                        <td style=\"text-align: left;\">\n",
       "                            <strong>Nanny: </strong> tcp://127.0.0.1:38501\n",
       "                        </td>\n",
       "                        <td style=\"text-align: left;\"></td>\n",
       "                    </tr>\n",
       "                    <tr>\n",
       "                        <td colspan=\"2\" style=\"text-align: left;\">\n",
       "                            <strong>Local directory: </strong> /tmp/dask-scratch-space/worker-6sqdcb4w\n",
       "                        </td>\n",
       "                    </tr>\n",
       "\n",
       "                    \n",
       "\n",
       "                    \n",
       "\n",
       "                </table>\n",
       "            </details>\n",
       "            </div>\n",
       "        </div>\n",
       "        \n",
       "        <div style=\"margin-bottom: 20px;\">\n",
       "            <div style=\"width: 24px; height: 24px; background-color: #DBF5FF; border: 3px solid #4CC9FF; border-radius: 5px; position: absolute;\"> </div>\n",
       "            <div style=\"margin-left: 48px;\">\n",
       "            <details>\n",
       "                <summary>\n",
       "                    <h4 style=\"margin-bottom: 0px; display: inline;\">Worker: 2</h4>\n",
       "                </summary>\n",
       "                <table style=\"width: 100%; text-align: left;\">\n",
       "                    <tr>\n",
       "                        <td style=\"text-align: left;\">\n",
       "                            <strong>Comm: </strong> tcp://127.0.0.1:46095\n",
       "                        </td>\n",
       "                        <td style=\"text-align: left;\">\n",
       "                            <strong>Total threads: </strong> 1\n",
       "                        </td>\n",
       "                    </tr>\n",
       "                    <tr>\n",
       "                        <td style=\"text-align: left;\">\n",
       "                            <strong>Dashboard: </strong> <a href=\"http://127.0.0.1:33319/status\" target=\"_blank\">http://127.0.0.1:33319/status</a>\n",
       "                        </td>\n",
       "                        <td style=\"text-align: left;\">\n",
       "                            <strong>Memory: </strong> 1.92 GiB\n",
       "                        </td>\n",
       "                    </tr>\n",
       "                    <tr>\n",
       "                        <td style=\"text-align: left;\">\n",
       "                            <strong>Nanny: </strong> tcp://127.0.0.1:37797\n",
       "                        </td>\n",
       "                        <td style=\"text-align: left;\"></td>\n",
       "                    </tr>\n",
       "                    <tr>\n",
       "                        <td colspan=\"2\" style=\"text-align: left;\">\n",
       "                            <strong>Local directory: </strong> /tmp/dask-scratch-space/worker-4afa755i\n",
       "                        </td>\n",
       "                    </tr>\n",
       "\n",
       "                    \n",
       "\n",
       "                    \n",
       "\n",
       "                </table>\n",
       "            </details>\n",
       "            </div>\n",
       "        </div>\n",
       "        \n",
       "        <div style=\"margin-bottom: 20px;\">\n",
       "            <div style=\"width: 24px; height: 24px; background-color: #DBF5FF; border: 3px solid #4CC9FF; border-radius: 5px; position: absolute;\"> </div>\n",
       "            <div style=\"margin-left: 48px;\">\n",
       "            <details>\n",
       "                <summary>\n",
       "                    <h4 style=\"margin-bottom: 0px; display: inline;\">Worker: 3</h4>\n",
       "                </summary>\n",
       "                <table style=\"width: 100%; text-align: left;\">\n",
       "                    <tr>\n",
       "                        <td style=\"text-align: left;\">\n",
       "                            <strong>Comm: </strong> tcp://127.0.0.1:41653\n",
       "                        </td>\n",
       "                        <td style=\"text-align: left;\">\n",
       "                            <strong>Total threads: </strong> 1\n",
       "                        </td>\n",
       "                    </tr>\n",
       "                    <tr>\n",
       "                        <td style=\"text-align: left;\">\n",
       "                            <strong>Dashboard: </strong> <a href=\"http://127.0.0.1:33847/status\" target=\"_blank\">http://127.0.0.1:33847/status</a>\n",
       "                        </td>\n",
       "                        <td style=\"text-align: left;\">\n",
       "                            <strong>Memory: </strong> 1.92 GiB\n",
       "                        </td>\n",
       "                    </tr>\n",
       "                    <tr>\n",
       "                        <td style=\"text-align: left;\">\n",
       "                            <strong>Nanny: </strong> tcp://127.0.0.1:45285\n",
       "                        </td>\n",
       "                        <td style=\"text-align: left;\"></td>\n",
       "                    </tr>\n",
       "                    <tr>\n",
       "                        <td colspan=\"2\" style=\"text-align: left;\">\n",
       "                            <strong>Local directory: </strong> /tmp/dask-scratch-space/worker-k3z76zw6\n",
       "                        </td>\n",
       "                    </tr>\n",
       "\n",
       "                    \n",
       "\n",
       "                    \n",
       "\n",
       "                </table>\n",
       "            </details>\n",
       "            </div>\n",
       "        </div>\n",
       "        \n",
       "\n",
       "    </details>\n",
       "</div>\n",
       "\n",
       "        </details>\n",
       "    </div>\n",
       "</div>\n",
       "            </details>\n",
       "        \n",
       "\n",
       "    </div>\n",
       "</div>"
      ]
     },
     "execution_count": 17,
     "metadata": {},
     "output_type": "execute_result"
    }
   ],
   "execution_count": 17
  },
  {
   "metadata": {
    "ExecuteTime": {
     "end_time": "2025-01-24T00:41:31.068312Z",
     "start_time": "2025-01-24T00:41:31.060875Z"
    }
   },
   "cell_type": "code",
   "source": "client.dashboard_link",
   "id": "978a2fb202601757",
   "outputs": [
    {
     "data": {
      "text/plain": [
       "'http://127.0.0.1:38693/status'"
      ]
     },
     "execution_count": 18,
     "metadata": {},
     "output_type": "execute_result"
    }
   ],
   "execution_count": 18
  },
  {
   "metadata": {
    "ExecuteTime": {
     "end_time": "2025-01-27T00:45:09.319039Z",
     "start_time": "2025-01-27T00:45:05.279651Z"
    }
   },
   "cell_type": "code",
   "source": [
    "from dask.distributed import Client\n",
    "\n",
    "client = Client(n_workers=2, threads_per_worker=2, memory_limit=\"1GB\")\n",
    "client"
   ],
   "id": "3b84c7201922611f",
   "outputs": [
    {
     "name": "stderr",
     "output_type": "stream",
     "text": [
      "/home/carlos/PycharmProjects/cbnetwork/.venv/lib/python3.12/site-packages/distributed/node.py:187: UserWarning: Port 8787 is already in use.\n",
      "Perhaps you already have a cluster running?\n",
      "Hosting the HTTP server on port 43315 instead\n",
      "  warnings.warn(\n"
     ]
    },
    {
     "data": {
      "text/plain": [
       "<Client: 'tcp://127.0.0.1:40507' processes=2 threads=4, memory=1.86 GiB>"
      ],
      "text/html": [
       "<div>\n",
       "    <div style=\"width: 24px; height: 24px; background-color: #e1e1e1; border: 3px solid #9D9D9D; border-radius: 5px; position: absolute;\"> </div>\n",
       "    <div style=\"margin-left: 48px;\">\n",
       "        <h3 style=\"margin-bottom: 0px;\">Client</h3>\n",
       "        <p style=\"color: #9D9D9D; margin-bottom: 0px;\">Client-f3e365b5-dc47-11ef-bfdc-fc4dd42e6f73</p>\n",
       "        <table style=\"width: 100%; text-align: left;\">\n",
       "\n",
       "        <tr>\n",
       "        \n",
       "            <td style=\"text-align: left;\"><strong>Connection method:</strong> Cluster object</td>\n",
       "            <td style=\"text-align: left;\"><strong>Cluster type:</strong> distributed.LocalCluster</td>\n",
       "        \n",
       "        </tr>\n",
       "\n",
       "        \n",
       "            <tr>\n",
       "                <td style=\"text-align: left;\">\n",
       "                    <strong>Dashboard: </strong> <a href=\"http://127.0.0.1:43315/status\" target=\"_blank\">http://127.0.0.1:43315/status</a>\n",
       "                </td>\n",
       "                <td style=\"text-align: left;\"></td>\n",
       "            </tr>\n",
       "        \n",
       "\n",
       "        </table>\n",
       "\n",
       "        \n",
       "\n",
       "        \n",
       "            <details>\n",
       "            <summary style=\"margin-bottom: 20px;\"><h3 style=\"display: inline;\">Cluster Info</h3></summary>\n",
       "            <div class=\"jp-RenderedHTMLCommon jp-RenderedHTML jp-mod-trusted jp-OutputArea-output\">\n",
       "    <div style=\"width: 24px; height: 24px; background-color: #e1e1e1; border: 3px solid #9D9D9D; border-radius: 5px; position: absolute;\">\n",
       "    </div>\n",
       "    <div style=\"margin-left: 48px;\">\n",
       "        <h3 style=\"margin-bottom: 0px; margin-top: 0px;\">LocalCluster</h3>\n",
       "        <p style=\"color: #9D9D9D; margin-bottom: 0px;\">a9f184ec</p>\n",
       "        <table style=\"width: 100%; text-align: left;\">\n",
       "            <tr>\n",
       "                <td style=\"text-align: left;\">\n",
       "                    <strong>Dashboard:</strong> <a href=\"http://127.0.0.1:43315/status\" target=\"_blank\">http://127.0.0.1:43315/status</a>\n",
       "                </td>\n",
       "                <td style=\"text-align: left;\">\n",
       "                    <strong>Workers:</strong> 2\n",
       "                </td>\n",
       "            </tr>\n",
       "            <tr>\n",
       "                <td style=\"text-align: left;\">\n",
       "                    <strong>Total threads:</strong> 4\n",
       "                </td>\n",
       "                <td style=\"text-align: left;\">\n",
       "                    <strong>Total memory:</strong> 1.86 GiB\n",
       "                </td>\n",
       "            </tr>\n",
       "            \n",
       "            <tr>\n",
       "    <td style=\"text-align: left;\"><strong>Status:</strong> running</td>\n",
       "    <td style=\"text-align: left;\"><strong>Using processes:</strong> True</td>\n",
       "</tr>\n",
       "\n",
       "            \n",
       "        </table>\n",
       "\n",
       "        <details>\n",
       "            <summary style=\"margin-bottom: 20px;\">\n",
       "                <h3 style=\"display: inline;\">Scheduler Info</h3>\n",
       "            </summary>\n",
       "\n",
       "            <div style=\"\">\n",
       "    <div>\n",
       "        <div style=\"width: 24px; height: 24px; background-color: #FFF7E5; border: 3px solid #FF6132; border-radius: 5px; position: absolute;\"> </div>\n",
       "        <div style=\"margin-left: 48px;\">\n",
       "            <h3 style=\"margin-bottom: 0px;\">Scheduler</h3>\n",
       "            <p style=\"color: #9D9D9D; margin-bottom: 0px;\">Scheduler-9b10e1ca-6af2-4d5d-ba1f-b27bbdc2d688</p>\n",
       "            <table style=\"width: 100%; text-align: left;\">\n",
       "                <tr>\n",
       "                    <td style=\"text-align: left;\">\n",
       "                        <strong>Comm:</strong> tcp://127.0.0.1:40507\n",
       "                    </td>\n",
       "                    <td style=\"text-align: left;\">\n",
       "                        <strong>Workers:</strong> 2\n",
       "                    </td>\n",
       "                </tr>\n",
       "                <tr>\n",
       "                    <td style=\"text-align: left;\">\n",
       "                        <strong>Dashboard:</strong> <a href=\"http://127.0.0.1:43315/status\" target=\"_blank\">http://127.0.0.1:43315/status</a>\n",
       "                    </td>\n",
       "                    <td style=\"text-align: left;\">\n",
       "                        <strong>Total threads:</strong> 4\n",
       "                    </td>\n",
       "                </tr>\n",
       "                <tr>\n",
       "                    <td style=\"text-align: left;\">\n",
       "                        <strong>Started:</strong> Just now\n",
       "                    </td>\n",
       "                    <td style=\"text-align: left;\">\n",
       "                        <strong>Total memory:</strong> 1.86 GiB\n",
       "                    </td>\n",
       "                </tr>\n",
       "            </table>\n",
       "        </div>\n",
       "    </div>\n",
       "\n",
       "    <details style=\"margin-left: 48px;\">\n",
       "        <summary style=\"margin-bottom: 20px;\">\n",
       "            <h3 style=\"display: inline;\">Workers</h3>\n",
       "        </summary>\n",
       "\n",
       "        \n",
       "        <div style=\"margin-bottom: 20px;\">\n",
       "            <div style=\"width: 24px; height: 24px; background-color: #DBF5FF; border: 3px solid #4CC9FF; border-radius: 5px; position: absolute;\"> </div>\n",
       "            <div style=\"margin-left: 48px;\">\n",
       "            <details>\n",
       "                <summary>\n",
       "                    <h4 style=\"margin-bottom: 0px; display: inline;\">Worker: 0</h4>\n",
       "                </summary>\n",
       "                <table style=\"width: 100%; text-align: left;\">\n",
       "                    <tr>\n",
       "                        <td style=\"text-align: left;\">\n",
       "                            <strong>Comm: </strong> tcp://127.0.0.1:39985\n",
       "                        </td>\n",
       "                        <td style=\"text-align: left;\">\n",
       "                            <strong>Total threads: </strong> 2\n",
       "                        </td>\n",
       "                    </tr>\n",
       "                    <tr>\n",
       "                        <td style=\"text-align: left;\">\n",
       "                            <strong>Dashboard: </strong> <a href=\"http://127.0.0.1:38899/status\" target=\"_blank\">http://127.0.0.1:38899/status</a>\n",
       "                        </td>\n",
       "                        <td style=\"text-align: left;\">\n",
       "                            <strong>Memory: </strong> 0.93 GiB\n",
       "                        </td>\n",
       "                    </tr>\n",
       "                    <tr>\n",
       "                        <td style=\"text-align: left;\">\n",
       "                            <strong>Nanny: </strong> tcp://127.0.0.1:35863\n",
       "                        </td>\n",
       "                        <td style=\"text-align: left;\"></td>\n",
       "                    </tr>\n",
       "                    <tr>\n",
       "                        <td colspan=\"2\" style=\"text-align: left;\">\n",
       "                            <strong>Local directory: </strong> /tmp/dask-scratch-space/worker-wzjwy0cb\n",
       "                        </td>\n",
       "                    </tr>\n",
       "\n",
       "                    \n",
       "\n",
       "                    \n",
       "\n",
       "                </table>\n",
       "            </details>\n",
       "            </div>\n",
       "        </div>\n",
       "        \n",
       "        <div style=\"margin-bottom: 20px;\">\n",
       "            <div style=\"width: 24px; height: 24px; background-color: #DBF5FF; border: 3px solid #4CC9FF; border-radius: 5px; position: absolute;\"> </div>\n",
       "            <div style=\"margin-left: 48px;\">\n",
       "            <details>\n",
       "                <summary>\n",
       "                    <h4 style=\"margin-bottom: 0px; display: inline;\">Worker: 1</h4>\n",
       "                </summary>\n",
       "                <table style=\"width: 100%; text-align: left;\">\n",
       "                    <tr>\n",
       "                        <td style=\"text-align: left;\">\n",
       "                            <strong>Comm: </strong> tcp://127.0.0.1:39881\n",
       "                        </td>\n",
       "                        <td style=\"text-align: left;\">\n",
       "                            <strong>Total threads: </strong> 2\n",
       "                        </td>\n",
       "                    </tr>\n",
       "                    <tr>\n",
       "                        <td style=\"text-align: left;\">\n",
       "                            <strong>Dashboard: </strong> <a href=\"http://127.0.0.1:38051/status\" target=\"_blank\">http://127.0.0.1:38051/status</a>\n",
       "                        </td>\n",
       "                        <td style=\"text-align: left;\">\n",
       "                            <strong>Memory: </strong> 0.93 GiB\n",
       "                        </td>\n",
       "                    </tr>\n",
       "                    <tr>\n",
       "                        <td style=\"text-align: left;\">\n",
       "                            <strong>Nanny: </strong> tcp://127.0.0.1:42425\n",
       "                        </td>\n",
       "                        <td style=\"text-align: left;\"></td>\n",
       "                    </tr>\n",
       "                    <tr>\n",
       "                        <td colspan=\"2\" style=\"text-align: left;\">\n",
       "                            <strong>Local directory: </strong> /tmp/dask-scratch-space/worker-rays1z8n\n",
       "                        </td>\n",
       "                    </tr>\n",
       "\n",
       "                    \n",
       "\n",
       "                    \n",
       "\n",
       "                </table>\n",
       "            </details>\n",
       "            </div>\n",
       "        </div>\n",
       "        \n",
       "\n",
       "    </details>\n",
       "</div>\n",
       "\n",
       "        </details>\n",
       "    </div>\n",
       "</div>\n",
       "            </details>\n",
       "        \n",
       "\n",
       "    </div>\n",
       "</div>"
      ]
     },
     "execution_count": 1,
     "metadata": {},
     "output_type": "execute_result"
    }
   ],
   "execution_count": 1
  },
  {
   "metadata": {
    "ExecuteTime": {
     "end_time": "2025-01-27T00:45:50.233899Z",
     "start_time": "2025-01-27T00:45:50.218612Z"
    }
   },
   "cell_type": "code",
   "source": [
    "import dask\n",
    "df = dask.datasets.timeseries()"
   ],
   "id": "d535dde81c65772",
   "outputs": [],
   "execution_count": 5
  },
  {
   "metadata": {
    "ExecuteTime": {
     "end_time": "2025-01-27T00:46:06.720559Z",
     "start_time": "2025-01-27T00:46:06.715350Z"
    }
   },
   "cell_type": "code",
   "source": "df.dtypes",
   "id": "e94d308fdb16f9de",
   "outputs": [
    {
     "data": {
      "text/plain": [
       "name    string[pyarrow]\n",
       "id                int64\n",
       "x               float64\n",
       "y               float64\n",
       "dtype: object"
      ]
     },
     "execution_count": 7,
     "metadata": {},
     "output_type": "execute_result"
    }
   ],
   "execution_count": 7
  }
 ],
 "metadata": {
  "kernelspec": {
   "display_name": "Python 3",
   "language": "python",
   "name": "python3"
  },
  "language_info": {
   "codemirror_mode": {
    "name": "ipython",
    "version": 2
   },
   "file_extension": ".py",
   "mimetype": "text/x-python",
   "name": "python",
   "nbconvert_exporter": "python",
   "pygments_lexer": "ipython2",
   "version": "2.7.6"
  }
 },
 "nbformat": 4,
 "nbformat_minor": 5
}
