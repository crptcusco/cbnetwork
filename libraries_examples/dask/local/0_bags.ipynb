{
 "cells": [
  {
   "metadata": {},
   "cell_type": "markdown",
   "source": "# Start Dask Client for Dashboard",
   "id": "e1d753857c4a4726"
  },
  {
   "cell_type": "code",
   "id": "initial_id",
   "metadata": {
    "collapsed": true,
    "ExecuteTime": {
     "end_time": "2025-01-26T22:43:43.888421Z",
     "start_time": "2025-01-26T22:43:40.093648Z"
    }
   },
   "source": [
    "from dask.distributed import Client, progress\n",
    "client = Client(n_workers=4, threads_per_worker=1)\n",
    "client"
   ],
   "outputs": [
    {
     "name": "stderr",
     "output_type": "stream",
     "text": [
      "/home/carlos/PycharmProjects/cbnetwork/.venv/lib/python3.12/site-packages/distributed/node.py:187: UserWarning: Port 8787 is already in use.\n",
      "Perhaps you already have a cluster running?\n",
      "Hosting the HTTP server on port 33683 instead\n",
      "  warnings.warn(\n"
     ]
    },
    {
     "data": {
      "text/plain": [
       "<Client: 'tcp://127.0.0.1:36867' processes=4 threads=4, memory=7.69 GiB>"
      ],
      "text/html": [
       "<div>\n",
       "    <div style=\"width: 24px; height: 24px; background-color: #e1e1e1; border: 3px solid #9D9D9D; border-radius: 5px; position: absolute;\"> </div>\n",
       "    <div style=\"margin-left: 48px;\">\n",
       "        <h3 style=\"margin-bottom: 0px;\">Client</h3>\n",
       "        <p style=\"color: #9D9D9D; margin-bottom: 0px;\">Client-fd611f9e-dc36-11ef-82be-fc4dd42e6f73</p>\n",
       "        <table style=\"width: 100%; text-align: left;\">\n",
       "\n",
       "        <tr>\n",
       "        \n",
       "            <td style=\"text-align: left;\"><strong>Connection method:</strong> Cluster object</td>\n",
       "            <td style=\"text-align: left;\"><strong>Cluster type:</strong> distributed.LocalCluster</td>\n",
       "        \n",
       "        </tr>\n",
       "\n",
       "        \n",
       "            <tr>\n",
       "                <td style=\"text-align: left;\">\n",
       "                    <strong>Dashboard: </strong> <a href=\"http://127.0.0.1:33683/status\" target=\"_blank\">http://127.0.0.1:33683/status</a>\n",
       "                </td>\n",
       "                <td style=\"text-align: left;\"></td>\n",
       "            </tr>\n",
       "        \n",
       "\n",
       "        </table>\n",
       "\n",
       "        \n",
       "\n",
       "        \n",
       "            <details>\n",
       "            <summary style=\"margin-bottom: 20px;\"><h3 style=\"display: inline;\">Cluster Info</h3></summary>\n",
       "            <div class=\"jp-RenderedHTMLCommon jp-RenderedHTML jp-mod-trusted jp-OutputArea-output\">\n",
       "    <div style=\"width: 24px; height: 24px; background-color: #e1e1e1; border: 3px solid #9D9D9D; border-radius: 5px; position: absolute;\">\n",
       "    </div>\n",
       "    <div style=\"margin-left: 48px;\">\n",
       "        <h3 style=\"margin-bottom: 0px; margin-top: 0px;\">LocalCluster</h3>\n",
       "        <p style=\"color: #9D9D9D; margin-bottom: 0px;\">623ca4c0</p>\n",
       "        <table style=\"width: 100%; text-align: left;\">\n",
       "            <tr>\n",
       "                <td style=\"text-align: left;\">\n",
       "                    <strong>Dashboard:</strong> <a href=\"http://127.0.0.1:33683/status\" target=\"_blank\">http://127.0.0.1:33683/status</a>\n",
       "                </td>\n",
       "                <td style=\"text-align: left;\">\n",
       "                    <strong>Workers:</strong> 4\n",
       "                </td>\n",
       "            </tr>\n",
       "            <tr>\n",
       "                <td style=\"text-align: left;\">\n",
       "                    <strong>Total threads:</strong> 4\n",
       "                </td>\n",
       "                <td style=\"text-align: left;\">\n",
       "                    <strong>Total memory:</strong> 7.69 GiB\n",
       "                </td>\n",
       "            </tr>\n",
       "            \n",
       "            <tr>\n",
       "    <td style=\"text-align: left;\"><strong>Status:</strong> running</td>\n",
       "    <td style=\"text-align: left;\"><strong>Using processes:</strong> True</td>\n",
       "</tr>\n",
       "\n",
       "            \n",
       "        </table>\n",
       "\n",
       "        <details>\n",
       "            <summary style=\"margin-bottom: 20px;\">\n",
       "                <h3 style=\"display: inline;\">Scheduler Info</h3>\n",
       "            </summary>\n",
       "\n",
       "            <div style=\"\">\n",
       "    <div>\n",
       "        <div style=\"width: 24px; height: 24px; background-color: #FFF7E5; border: 3px solid #FF6132; border-radius: 5px; position: absolute;\"> </div>\n",
       "        <div style=\"margin-left: 48px;\">\n",
       "            <h3 style=\"margin-bottom: 0px;\">Scheduler</h3>\n",
       "            <p style=\"color: #9D9D9D; margin-bottom: 0px;\">Scheduler-85aedfa5-6612-42b9-a5db-796ac375905e</p>\n",
       "            <table style=\"width: 100%; text-align: left;\">\n",
       "                <tr>\n",
       "                    <td style=\"text-align: left;\">\n",
       "                        <strong>Comm:</strong> tcp://127.0.0.1:36867\n",
       "                    </td>\n",
       "                    <td style=\"text-align: left;\">\n",
       "                        <strong>Workers:</strong> 4\n",
       "                    </td>\n",
       "                </tr>\n",
       "                <tr>\n",
       "                    <td style=\"text-align: left;\">\n",
       "                        <strong>Dashboard:</strong> <a href=\"http://127.0.0.1:33683/status\" target=\"_blank\">http://127.0.0.1:33683/status</a>\n",
       "                    </td>\n",
       "                    <td style=\"text-align: left;\">\n",
       "                        <strong>Total threads:</strong> 4\n",
       "                    </td>\n",
       "                </tr>\n",
       "                <tr>\n",
       "                    <td style=\"text-align: left;\">\n",
       "                        <strong>Started:</strong> Just now\n",
       "                    </td>\n",
       "                    <td style=\"text-align: left;\">\n",
       "                        <strong>Total memory:</strong> 7.69 GiB\n",
       "                    </td>\n",
       "                </tr>\n",
       "            </table>\n",
       "        </div>\n",
       "    </div>\n",
       "\n",
       "    <details style=\"margin-left: 48px;\">\n",
       "        <summary style=\"margin-bottom: 20px;\">\n",
       "            <h3 style=\"display: inline;\">Workers</h3>\n",
       "        </summary>\n",
       "\n",
       "        \n",
       "        <div style=\"margin-bottom: 20px;\">\n",
       "            <div style=\"width: 24px; height: 24px; background-color: #DBF5FF; border: 3px solid #4CC9FF; border-radius: 5px; position: absolute;\"> </div>\n",
       "            <div style=\"margin-left: 48px;\">\n",
       "            <details>\n",
       "                <summary>\n",
       "                    <h4 style=\"margin-bottom: 0px; display: inline;\">Worker: 0</h4>\n",
       "                </summary>\n",
       "                <table style=\"width: 100%; text-align: left;\">\n",
       "                    <tr>\n",
       "                        <td style=\"text-align: left;\">\n",
       "                            <strong>Comm: </strong> tcp://127.0.0.1:37143\n",
       "                        </td>\n",
       "                        <td style=\"text-align: left;\">\n",
       "                            <strong>Total threads: </strong> 1\n",
       "                        </td>\n",
       "                    </tr>\n",
       "                    <tr>\n",
       "                        <td style=\"text-align: left;\">\n",
       "                            <strong>Dashboard: </strong> <a href=\"http://127.0.0.1:40817/status\" target=\"_blank\">http://127.0.0.1:40817/status</a>\n",
       "                        </td>\n",
       "                        <td style=\"text-align: left;\">\n",
       "                            <strong>Memory: </strong> 1.92 GiB\n",
       "                        </td>\n",
       "                    </tr>\n",
       "                    <tr>\n",
       "                        <td style=\"text-align: left;\">\n",
       "                            <strong>Nanny: </strong> tcp://127.0.0.1:36335\n",
       "                        </td>\n",
       "                        <td style=\"text-align: left;\"></td>\n",
       "                    </tr>\n",
       "                    <tr>\n",
       "                        <td colspan=\"2\" style=\"text-align: left;\">\n",
       "                            <strong>Local directory: </strong> /tmp/dask-scratch-space/worker-ftm597ly\n",
       "                        </td>\n",
       "                    </tr>\n",
       "\n",
       "                    \n",
       "\n",
       "                    \n",
       "\n",
       "                </table>\n",
       "            </details>\n",
       "            </div>\n",
       "        </div>\n",
       "        \n",
       "        <div style=\"margin-bottom: 20px;\">\n",
       "            <div style=\"width: 24px; height: 24px; background-color: #DBF5FF; border: 3px solid #4CC9FF; border-radius: 5px; position: absolute;\"> </div>\n",
       "            <div style=\"margin-left: 48px;\">\n",
       "            <details>\n",
       "                <summary>\n",
       "                    <h4 style=\"margin-bottom: 0px; display: inline;\">Worker: 1</h4>\n",
       "                </summary>\n",
       "                <table style=\"width: 100%; text-align: left;\">\n",
       "                    <tr>\n",
       "                        <td style=\"text-align: left;\">\n",
       "                            <strong>Comm: </strong> tcp://127.0.0.1:38761\n",
       "                        </td>\n",
       "                        <td style=\"text-align: left;\">\n",
       "                            <strong>Total threads: </strong> 1\n",
       "                        </td>\n",
       "                    </tr>\n",
       "                    <tr>\n",
       "                        <td style=\"text-align: left;\">\n",
       "                            <strong>Dashboard: </strong> <a href=\"http://127.0.0.1:39819/status\" target=\"_blank\">http://127.0.0.1:39819/status</a>\n",
       "                        </td>\n",
       "                        <td style=\"text-align: left;\">\n",
       "                            <strong>Memory: </strong> 1.92 GiB\n",
       "                        </td>\n",
       "                    </tr>\n",
       "                    <tr>\n",
       "                        <td style=\"text-align: left;\">\n",
       "                            <strong>Nanny: </strong> tcp://127.0.0.1:33181\n",
       "                        </td>\n",
       "                        <td style=\"text-align: left;\"></td>\n",
       "                    </tr>\n",
       "                    <tr>\n",
       "                        <td colspan=\"2\" style=\"text-align: left;\">\n",
       "                            <strong>Local directory: </strong> /tmp/dask-scratch-space/worker-c79k6mc0\n",
       "                        </td>\n",
       "                    </tr>\n",
       "\n",
       "                    \n",
       "\n",
       "                    \n",
       "\n",
       "                </table>\n",
       "            </details>\n",
       "            </div>\n",
       "        </div>\n",
       "        \n",
       "        <div style=\"margin-bottom: 20px;\">\n",
       "            <div style=\"width: 24px; height: 24px; background-color: #DBF5FF; border: 3px solid #4CC9FF; border-radius: 5px; position: absolute;\"> </div>\n",
       "            <div style=\"margin-left: 48px;\">\n",
       "            <details>\n",
       "                <summary>\n",
       "                    <h4 style=\"margin-bottom: 0px; display: inline;\">Worker: 2</h4>\n",
       "                </summary>\n",
       "                <table style=\"width: 100%; text-align: left;\">\n",
       "                    <tr>\n",
       "                        <td style=\"text-align: left;\">\n",
       "                            <strong>Comm: </strong> tcp://127.0.0.1:36377\n",
       "                        </td>\n",
       "                        <td style=\"text-align: left;\">\n",
       "                            <strong>Total threads: </strong> 1\n",
       "                        </td>\n",
       "                    </tr>\n",
       "                    <tr>\n",
       "                        <td style=\"text-align: left;\">\n",
       "                            <strong>Dashboard: </strong> <a href=\"http://127.0.0.1:45187/status\" target=\"_blank\">http://127.0.0.1:45187/status</a>\n",
       "                        </td>\n",
       "                        <td style=\"text-align: left;\">\n",
       "                            <strong>Memory: </strong> 1.92 GiB\n",
       "                        </td>\n",
       "                    </tr>\n",
       "                    <tr>\n",
       "                        <td style=\"text-align: left;\">\n",
       "                            <strong>Nanny: </strong> tcp://127.0.0.1:41153\n",
       "                        </td>\n",
       "                        <td style=\"text-align: left;\"></td>\n",
       "                    </tr>\n",
       "                    <tr>\n",
       "                        <td colspan=\"2\" style=\"text-align: left;\">\n",
       "                            <strong>Local directory: </strong> /tmp/dask-scratch-space/worker-nv6tqpaq\n",
       "                        </td>\n",
       "                    </tr>\n",
       "\n",
       "                    \n",
       "\n",
       "                    \n",
       "\n",
       "                </table>\n",
       "            </details>\n",
       "            </div>\n",
       "        </div>\n",
       "        \n",
       "        <div style=\"margin-bottom: 20px;\">\n",
       "            <div style=\"width: 24px; height: 24px; background-color: #DBF5FF; border: 3px solid #4CC9FF; border-radius: 5px; position: absolute;\"> </div>\n",
       "            <div style=\"margin-left: 48px;\">\n",
       "            <details>\n",
       "                <summary>\n",
       "                    <h4 style=\"margin-bottom: 0px; display: inline;\">Worker: 3</h4>\n",
       "                </summary>\n",
       "                <table style=\"width: 100%; text-align: left;\">\n",
       "                    <tr>\n",
       "                        <td style=\"text-align: left;\">\n",
       "                            <strong>Comm: </strong> tcp://127.0.0.1:45509\n",
       "                        </td>\n",
       "                        <td style=\"text-align: left;\">\n",
       "                            <strong>Total threads: </strong> 1\n",
       "                        </td>\n",
       "                    </tr>\n",
       "                    <tr>\n",
       "                        <td style=\"text-align: left;\">\n",
       "                            <strong>Dashboard: </strong> <a href=\"http://127.0.0.1:37281/status\" target=\"_blank\">http://127.0.0.1:37281/status</a>\n",
       "                        </td>\n",
       "                        <td style=\"text-align: left;\">\n",
       "                            <strong>Memory: </strong> 1.92 GiB\n",
       "                        </td>\n",
       "                    </tr>\n",
       "                    <tr>\n",
       "                        <td style=\"text-align: left;\">\n",
       "                            <strong>Nanny: </strong> tcp://127.0.0.1:35433\n",
       "                        </td>\n",
       "                        <td style=\"text-align: left;\"></td>\n",
       "                    </tr>\n",
       "                    <tr>\n",
       "                        <td colspan=\"2\" style=\"text-align: left;\">\n",
       "                            <strong>Local directory: </strong> /tmp/dask-scratch-space/worker-d141eceu\n",
       "                        </td>\n",
       "                    </tr>\n",
       "\n",
       "                    \n",
       "\n",
       "                    \n",
       "\n",
       "                </table>\n",
       "            </details>\n",
       "            </div>\n",
       "        </div>\n",
       "        \n",
       "\n",
       "    </details>\n",
       "</div>\n",
       "\n",
       "        </details>\n",
       "    </div>\n",
       "</div>\n",
       "            </details>\n",
       "        \n",
       "\n",
       "    </div>\n",
       "</div>"
      ]
     },
     "execution_count": 1,
     "metadata": {},
     "output_type": "execute_result"
    }
   ],
   "execution_count": 1
  },
  {
   "metadata": {
    "ExecuteTime": {
     "end_time": "2025-01-26T22:52:32.238497Z",
     "start_time": "2025-01-26T22:52:31.233976Z"
    }
   },
   "cell_type": "code",
   "source": [
    "import dask\n",
    "import json\n",
    "import os\n",
    "\n",
    "os.makedirs('data', exist_ok=True)              # Create data/ directory\n",
    "\n",
    "b = dask.datasets.make_people()                 # Make records of people\n",
    "b.map(json.dumps).to_textfiles('data/*.json')   # Encode as JSON, write to disk"
   ],
   "id": "a38adf81bab7c7db",
   "outputs": [
    {
     "data": {
      "text/plain": [
       "['/home/carlos/PycharmProjects/cbnetwork/libraries_examples/dask/local/data/0.json',\n",
       " '/home/carlos/PycharmProjects/cbnetwork/libraries_examples/dask/local/data/1.json',\n",
       " '/home/carlos/PycharmProjects/cbnetwork/libraries_examples/dask/local/data/2.json',\n",
       " '/home/carlos/PycharmProjects/cbnetwork/libraries_examples/dask/local/data/3.json',\n",
       " '/home/carlos/PycharmProjects/cbnetwork/libraries_examples/dask/local/data/4.json',\n",
       " '/home/carlos/PycharmProjects/cbnetwork/libraries_examples/dask/local/data/5.json',\n",
       " '/home/carlos/PycharmProjects/cbnetwork/libraries_examples/dask/local/data/6.json',\n",
       " '/home/carlos/PycharmProjects/cbnetwork/libraries_examples/dask/local/data/7.json',\n",
       " '/home/carlos/PycharmProjects/cbnetwork/libraries_examples/dask/local/data/8.json',\n",
       " '/home/carlos/PycharmProjects/cbnetwork/libraries_examples/dask/local/data/9.json']"
      ]
     },
     "execution_count": 3,
     "metadata": {},
     "output_type": "execute_result"
    }
   ],
   "execution_count": 3
  },
  {
   "metadata": {},
   "cell_type": "markdown",
   "source": "# Read JSON data",
   "id": "b045cad2fff36a2a"
  },
  {
   "metadata": {
    "ExecuteTime": {
     "end_time": "2025-01-26T22:53:09.927769Z",
     "start_time": "2025-01-26T22:53:09.795537Z"
    }
   },
   "cell_type": "code",
   "source": "!head -n 2 data/0.json",
   "id": "75da1ce8417ab224",
   "outputs": [
    {
     "name": "stdout",
     "output_type": "stream",
     "text": [
      "{\"age\": 1, \"name\": [\"Jeromy\", \"Jordan\"], \"occupation\": \"Horticultural Consultant\", \"telephone\": \"+1-239-070-6832\", \"address\": {\"address\": \"28 Lee Square\", \"city\": \"Redondo Beach\"}, \"credit-card\": {\"number\": \"4305 7922 0181 3652\", \"expiration-date\": \"10/19\"}}\r\n",
      "{\"age\": 38, \"name\": [\"Porsha\", \"O'brien\"], \"occupation\": \"Medical Consultant\", \"telephone\": \"+1-201-354-9454\", \"address\": {\"address\": \"1222 Escondido Expressway\", \"city\": \"Bellaire\"}, \"credit-card\": {\"number\": \"4508 6491 2587 5776\", \"expiration-date\": \"05/24\"}}\r\n"
     ]
    }
   ],
   "execution_count": 4
  },
  {
   "metadata": {},
   "cell_type": "markdown",
   "source": "",
   "id": "f50feb1a2d9efd7e"
  },
  {
   "metadata": {
    "ExecuteTime": {
     "end_time": "2025-01-26T22:53:29.591865Z",
     "start_time": "2025-01-26T22:53:29.580188Z"
    }
   },
   "cell_type": "code",
   "source": [
    "import dask.bag as db\n",
    "import json\n",
    "\n",
    "b = db.read_text('data/*.json').map(json.loads)\n",
    "b"
   ],
   "id": "f2b77c366fe8eaca",
   "outputs": [
    {
     "data": {
      "text/plain": [
       "dask.bag<loads, npartitions=10>"
      ]
     },
     "execution_count": 5,
     "metadata": {},
     "output_type": "execute_result"
    }
   ],
   "execution_count": 5
  },
  {
   "metadata": {
    "ExecuteTime": {
     "end_time": "2025-01-26T22:53:38.831105Z",
     "start_time": "2025-01-26T22:53:38.788526Z"
    }
   },
   "cell_type": "code",
   "source": "b.take(2)",
   "id": "4758db033cc55d13",
   "outputs": [
    {
     "data": {
      "text/plain": [
       "({'age': 1,\n",
       "  'name': ['Jeromy', 'Jordan'],\n",
       "  'occupation': 'Horticultural Consultant',\n",
       "  'telephone': '+1-239-070-6832',\n",
       "  'address': {'address': '28 Lee Square', 'city': 'Redondo Beach'},\n",
       "  'credit-card': {'number': '4305 7922 0181 3652',\n",
       "   'expiration-date': '10/19'}},\n",
       " {'age': 38,\n",
       "  'name': ['Porsha', \"O'brien\"],\n",
       "  'occupation': 'Medical Consultant',\n",
       "  'telephone': '+1-201-354-9454',\n",
       "  'address': {'address': '1222 Escondido Expressway', 'city': 'Bellaire'},\n",
       "  'credit-card': {'number': '4508 6491 2587 5776',\n",
       "   'expiration-date': '05/24'}})"
      ]
     },
     "execution_count": 6,
     "metadata": {},
     "output_type": "execute_result"
    }
   ],
   "execution_count": 6
  },
  {
   "metadata": {},
   "cell_type": "markdown",
   "source": "# Map, Filter, Aggregate",
   "id": "95679f33b9fec99b"
  },
  {
   "metadata": {
    "ExecuteTime": {
     "end_time": "2025-01-26T23:02:01.453280Z",
     "start_time": "2025-01-26T23:02:01.429100Z"
    }
   },
   "cell_type": "code",
   "source": "b.filter(lambda record: record['age'] > 30).take(2)  # Select only people over 30",
   "id": "3503458e278fdb16",
   "outputs": [
    {
     "data": {
      "text/plain": [
       "({'age': 38,\n",
       "  'name': ['Porsha', \"O'brien\"],\n",
       "  'occupation': 'Medical Consultant',\n",
       "  'telephone': '+1-201-354-9454',\n",
       "  'address': {'address': '1222 Escondido Expressway', 'city': 'Bellaire'},\n",
       "  'credit-card': {'number': '4508 6491 2587 5776',\n",
       "   'expiration-date': '05/24'}},\n",
       " {'age': 60,\n",
       "  'name': ['Jessia', 'Mclean'],\n",
       "  'occupation': 'Caretaker',\n",
       "  'telephone': '+1-764-835-6634',\n",
       "  'address': {'address': '136 Storey Canyon', 'city': 'Santa Monica'},\n",
       "  'credit-card': {'number': '5507 3917 1578 9947',\n",
       "   'expiration-date': '02/23'}})"
      ]
     },
     "execution_count": 7,
     "metadata": {},
     "output_type": "execute_result"
    }
   ],
   "execution_count": 7
  },
  {
   "metadata": {
    "ExecuteTime": {
     "end_time": "2025-01-26T23:02:36.787891Z",
     "start_time": "2025-01-26T23:02:36.764128Z"
    }
   },
   "cell_type": "code",
   "source": "b.map(lambda record: record['occupation']).take(2)  # Select the occupation field",
   "id": "c665fcc7f5df9fd2",
   "outputs": [
    {
     "data": {
      "text/plain": [
       "('Horticultural Consultant', 'Medical Consultant')"
      ]
     },
     "execution_count": 8,
     "metadata": {},
     "output_type": "execute_result"
    }
   ],
   "execution_count": 8
  },
  {
   "metadata": {
    "ExecuteTime": {
     "end_time": "2025-01-26T23:02:51.818641Z",
     "start_time": "2025-01-26T23:02:51.711665Z"
    }
   },
   "cell_type": "code",
   "source": "b.count().compute()",
   "id": "9d5879a93d6e63eb",
   "outputs": [
    {
     "data": {
      "text/plain": [
       "10000"
      ]
     },
     "execution_count": 9,
     "metadata": {},
     "output_type": "execute_result"
    }
   ],
   "execution_count": 9
  },
  {
   "metadata": {},
   "cell_type": "markdown",
   "source": "# Chain computations",
   "id": "72f37f16d71359a1"
  },
  {
   "metadata": {
    "ExecuteTime": {
     "end_time": "2025-01-26T23:17:55.348732Z",
     "start_time": "2025-01-26T23:17:55.341103Z"
    }
   },
   "cell_type": "code",
   "source": [
    "result = (b.filter(lambda record: record['age'] > 30)\n",
    "           .map(lambda record: record['occupation'])\n",
    "           .frequencies(sort=True)\n",
    "           .topk(10, key=1))\n",
    "result"
   ],
   "id": "df0c22e1fe97bd3e",
   "outputs": [
    {
     "data": {
      "text/plain": [
       "dask.bag<topk-aggregate, npartitions=1>"
      ]
     },
     "execution_count": 10,
     "metadata": {},
     "output_type": "execute_result"
    }
   ],
   "execution_count": 10
  },
  {
   "metadata": {
    "ExecuteTime": {
     "end_time": "2025-01-26T23:18:51.831199Z",
     "start_time": "2025-01-26T23:18:51.644067Z"
    }
   },
   "cell_type": "code",
   "source": "result.compute()",
   "id": "58ee39ff924590c1",
   "outputs": [
    {
     "data": {
      "text/plain": [
       "[('Mineralologist', 16),\n",
       " ('Potter', 16),\n",
       " ('Stud Hand', 16),\n",
       " ('Valve Technician', 15),\n",
       " ('Press Operator', 15),\n",
       " ('Marine Consultant', 15),\n",
       " ('Dealer', 15),\n",
       " ('Masseur', 15),\n",
       " ('Staff Nurse', 14),\n",
       " ('Transcriber', 14)]"
      ]
     },
     "execution_count": 11,
     "metadata": {},
     "output_type": "execute_result"
    }
   ],
   "execution_count": 11
  },
  {
   "metadata": {},
   "cell_type": "markdown",
   "source": "# Transform and Store",
   "id": "bb667e2b35f3517d"
  },
  {
   "metadata": {
    "ExecuteTime": {
     "end_time": "2025-01-26T23:20:01.175382Z",
     "start_time": "2025-01-26T23:20:00.931217Z"
    }
   },
   "cell_type": "code",
   "source": [
    "(b.filter(lambda record: record['age'] > 30)  # Select records of interest\n",
    "  .map(json.dumps)                            # Convert Python objects to text\n",
    "  .to_textfiles('data/processed.*.json'))"
   ],
   "id": "db9d32bb3b3a6edc",
   "outputs": [
    {
     "data": {
      "text/plain": [
       "['/home/carlos/PycharmProjects/cbnetwork/libraries_examples/dask/local/data/processed.0.json',\n",
       " '/home/carlos/PycharmProjects/cbnetwork/libraries_examples/dask/local/data/processed.1.json',\n",
       " '/home/carlos/PycharmProjects/cbnetwork/libraries_examples/dask/local/data/processed.2.json',\n",
       " '/home/carlos/PycharmProjects/cbnetwork/libraries_examples/dask/local/data/processed.3.json',\n",
       " '/home/carlos/PycharmProjects/cbnetwork/libraries_examples/dask/local/data/processed.4.json',\n",
       " '/home/carlos/PycharmProjects/cbnetwork/libraries_examples/dask/local/data/processed.5.json',\n",
       " '/home/carlos/PycharmProjects/cbnetwork/libraries_examples/dask/local/data/processed.6.json',\n",
       " '/home/carlos/PycharmProjects/cbnetwork/libraries_examples/dask/local/data/processed.7.json',\n",
       " '/home/carlos/PycharmProjects/cbnetwork/libraries_examples/dask/local/data/processed.8.json',\n",
       " '/home/carlos/PycharmProjects/cbnetwork/libraries_examples/dask/local/data/processed.9.json']"
      ]
     },
     "execution_count": 12,
     "metadata": {},
     "output_type": "execute_result"
    }
   ],
   "execution_count": 12
  },
  {
   "metadata": {},
   "cell_type": "code",
   "outputs": [],
   "execution_count": null,
   "source": "",
   "id": "4cc8723609422842"
  },
  {
   "metadata": {},
   "cell_type": "markdown",
   "source": "# Convert to Dask Dataframes",
   "id": "a190072431712c78"
  },
  {
   "metadata": {
    "ExecuteTime": {
     "end_time": "2025-01-26T23:21:56.586435Z",
     "start_time": "2025-01-26T23:21:56.563103Z"
    }
   },
   "cell_type": "code",
   "source": "b.take(1)",
   "id": "1f15ad8983444d12",
   "outputs": [
    {
     "data": {
      "text/plain": [
       "({'age': 1,\n",
       "  'name': ['Jeromy', 'Jordan'],\n",
       "  'occupation': 'Horticultural Consultant',\n",
       "  'telephone': '+1-239-070-6832',\n",
       "  'address': {'address': '28 Lee Square', 'city': 'Redondo Beach'},\n",
       "  'credit-card': {'number': '4305 7922 0181 3652',\n",
       "   'expiration-date': '10/19'}},)"
      ]
     },
     "execution_count": 13,
     "metadata": {},
     "output_type": "execute_result"
    }
   ],
   "execution_count": 13
  },
  {
   "metadata": {
    "ExecuteTime": {
     "end_time": "2025-01-26T23:22:26.883178Z",
     "start_time": "2025-01-26T23:22:26.851775Z"
    }
   },
   "cell_type": "code",
   "source": [
    "def flatten(record):\n",
    "    return {\n",
    "        'age': record['age'],\n",
    "        'occupation': record['occupation'],\n",
    "        'telephone': record['telephone'],\n",
    "        'credit-card-number': record['credit-card']['number'],\n",
    "        'credit-card-expiration': record['credit-card']['expiration-date'],\n",
    "        'name': ' '.join(record['name']),\n",
    "        'street-address': record['address']['address'],\n",
    "        'city': record['address']['city']\n",
    "    }\n",
    "\n",
    "b.map(flatten).take(1)"
   ],
   "id": "bae45d9f65015a2d",
   "outputs": [
    {
     "data": {
      "text/plain": [
       "({'age': 1,\n",
       "  'occupation': 'Horticultural Consultant',\n",
       "  'telephone': '+1-239-070-6832',\n",
       "  'credit-card-number': '4305 7922 0181 3652',\n",
       "  'credit-card-expiration': '10/19',\n",
       "  'name': 'Jeromy Jordan',\n",
       "  'street-address': '28 Lee Square',\n",
       "  'city': 'Redondo Beach'},)"
      ]
     },
     "execution_count": 14,
     "metadata": {},
     "output_type": "execute_result"
    }
   ],
   "execution_count": 14
  },
  {
   "metadata": {
    "ExecuteTime": {
     "end_time": "2025-01-26T23:22:46.422126Z",
     "start_time": "2025-01-26T23:22:45.704385Z"
    }
   },
   "cell_type": "code",
   "source": [
    "df = b.map(flatten).to_dataframe()\n",
    "df.head()"
   ],
   "id": "329ffdbed17c8eb1",
   "outputs": [
    {
     "data": {
      "text/plain": [
       "   age                occupation        telephone   credit-card-number  \\\n",
       "0    1  Horticultural Consultant  +1-239-070-6832  4305 7922 0181 3652   \n",
       "1   38        Medical Consultant  +1-201-354-9454  4508 6491 2587 5776   \n",
       "2   60                 Caretaker  +1-764-835-6634  5507 3917 1578 9947   \n",
       "3   81                  Preacher     +13312648010  4763 3961 5554 5966   \n",
       "4   76        Airport Controller     +12819619334  4160 2801 0380 8172   \n",
       "\n",
       "  credit-card-expiration              name             street-address  \\\n",
       "0                  10/19     Jeromy Jordan              28 Lee Square   \n",
       "1                  05/24    Porsha O'brien  1222 Escondido Expressway   \n",
       "2                  02/23     Jessia Mclean          136 Storey Canyon   \n",
       "3                  10/17      Noah Burgess         1334 Greely Rapids   \n",
       "4                  10/25  Garfield Leonard             1266 Hale Cove   \n",
       "\n",
       "            city  \n",
       "0  Redondo Beach  \n",
       "1       Bellaire  \n",
       "2   Santa Monica  \n",
       "3         Hudson  \n",
       "4     Morristown  "
      ],
      "text/html": [
       "<div>\n",
       "<style scoped>\n",
       "    .dataframe tbody tr th:only-of-type {\n",
       "        vertical-align: middle;\n",
       "    }\n",
       "\n",
       "    .dataframe tbody tr th {\n",
       "        vertical-align: top;\n",
       "    }\n",
       "\n",
       "    .dataframe thead th {\n",
       "        text-align: right;\n",
       "    }\n",
       "</style>\n",
       "<table border=\"1\" class=\"dataframe\">\n",
       "  <thead>\n",
       "    <tr style=\"text-align: right;\">\n",
       "      <th></th>\n",
       "      <th>age</th>\n",
       "      <th>occupation</th>\n",
       "      <th>telephone</th>\n",
       "      <th>credit-card-number</th>\n",
       "      <th>credit-card-expiration</th>\n",
       "      <th>name</th>\n",
       "      <th>street-address</th>\n",
       "      <th>city</th>\n",
       "    </tr>\n",
       "  </thead>\n",
       "  <tbody>\n",
       "    <tr>\n",
       "      <th>0</th>\n",
       "      <td>1</td>\n",
       "      <td>Horticultural Consultant</td>\n",
       "      <td>+1-239-070-6832</td>\n",
       "      <td>4305 7922 0181 3652</td>\n",
       "      <td>10/19</td>\n",
       "      <td>Jeromy Jordan</td>\n",
       "      <td>28 Lee Square</td>\n",
       "      <td>Redondo Beach</td>\n",
       "    </tr>\n",
       "    <tr>\n",
       "      <th>1</th>\n",
       "      <td>38</td>\n",
       "      <td>Medical Consultant</td>\n",
       "      <td>+1-201-354-9454</td>\n",
       "      <td>4508 6491 2587 5776</td>\n",
       "      <td>05/24</td>\n",
       "      <td>Porsha O'brien</td>\n",
       "      <td>1222 Escondido Expressway</td>\n",
       "      <td>Bellaire</td>\n",
       "    </tr>\n",
       "    <tr>\n",
       "      <th>2</th>\n",
       "      <td>60</td>\n",
       "      <td>Caretaker</td>\n",
       "      <td>+1-764-835-6634</td>\n",
       "      <td>5507 3917 1578 9947</td>\n",
       "      <td>02/23</td>\n",
       "      <td>Jessia Mclean</td>\n",
       "      <td>136 Storey Canyon</td>\n",
       "      <td>Santa Monica</td>\n",
       "    </tr>\n",
       "    <tr>\n",
       "      <th>3</th>\n",
       "      <td>81</td>\n",
       "      <td>Preacher</td>\n",
       "      <td>+13312648010</td>\n",
       "      <td>4763 3961 5554 5966</td>\n",
       "      <td>10/17</td>\n",
       "      <td>Noah Burgess</td>\n",
       "      <td>1334 Greely Rapids</td>\n",
       "      <td>Hudson</td>\n",
       "    </tr>\n",
       "    <tr>\n",
       "      <th>4</th>\n",
       "      <td>76</td>\n",
       "      <td>Airport Controller</td>\n",
       "      <td>+12819619334</td>\n",
       "      <td>4160 2801 0380 8172</td>\n",
       "      <td>10/25</td>\n",
       "      <td>Garfield Leonard</td>\n",
       "      <td>1266 Hale Cove</td>\n",
       "      <td>Morristown</td>\n",
       "    </tr>\n",
       "  </tbody>\n",
       "</table>\n",
       "</div>"
      ]
     },
     "execution_count": 15,
     "metadata": {},
     "output_type": "execute_result"
    }
   ],
   "execution_count": 15
  },
  {
   "metadata": {
    "ExecuteTime": {
     "end_time": "2025-01-26T23:23:32.577202Z",
     "start_time": "2025-01-26T23:23:31.660530Z"
    }
   },
   "cell_type": "code",
   "source": "df[df.age > 30].occupation.value_counts().nlargest(10).compute()",
   "id": "204bea60873be749",
   "outputs": [
    {
     "data": {
      "text/plain": [
       "occupation\n",
       "Mineralologist              16\n",
       "Stud Hand                   16\n",
       "Potter                      16\n",
       "Dealer                      15\n",
       "Press Operator              15\n",
       "Marine Consultant           15\n",
       "Valve Technician            15\n",
       "Masseur                     15\n",
       "Administration Assistant    14\n",
       "Loans Manager               14\n",
       "Name: count, dtype: int64"
      ]
     },
     "execution_count": 16,
     "metadata": {},
     "output_type": "execute_result"
    }
   ],
   "execution_count": 16
  }
 ],
 "metadata": {
  "kernelspec": {
   "display_name": "Python 3",
   "language": "python",
   "name": "python3"
  },
  "language_info": {
   "codemirror_mode": {
    "name": "ipython",
    "version": 2
   },
   "file_extension": ".py",
   "mimetype": "text/x-python",
   "name": "python",
   "nbconvert_exporter": "python",
   "pygments_lexer": "ipython2",
   "version": "2.7.6"
  }
 },
 "nbformat": 4,
 "nbformat_minor": 5
}
