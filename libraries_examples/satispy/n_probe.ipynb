{
 "cells": [
  {
   "cell_type": "code",
   "execution_count": 5,
   "id": "initial_id",
   "metadata": {
    "collapsed": true,
    "ExecuteTime": {
     "end_time": "2024-03-12T19:44:56.077434Z",
     "start_time": "2024-03-12T19:44:56.056587Z"
    }
   },
   "outputs": [
    {
     "name": "stdout",
     "output_type": "stream",
     "text": [
      "Found a solution:\n",
      "v1 True\n",
      "v2 False\n",
      "v3 True\n"
     ]
    }
   ],
   "source": [
    "from satispy import Variable, Cnf\n",
    "from satispy.solver import Minisat\n",
    "\n",
    "v1 = Variable('v1')\n",
    "v2 = Variable('v2')\n",
    "v3 = Variable('v3')\n",
    "\n",
    "exp = v1 & v2 | v3\n",
    "\n",
    "solver = Minisat()\n",
    "\n",
    "solution = solver.solve(exp)\n",
    "\n",
    "if solution.success:\n",
    "    print(\"Found a solution:\")\n",
    "    print(v1, solution[v1])\n",
    "    print(v2, solution[v2])\n",
    "    print(v3, solution[v3])\n",
    "else:\n",
    "    print(\"The expression cannot be satisfied\")\n",
    "    "
   ]
  },
  {
   "cell_type": "code",
   "outputs": [
    {
     "ename": "ImportError",
     "evalue": "cannot import name 'CnfFromString' from 'satispy' (/home/carlos/Projects/cbnetwork/venv/lib/python3.10/site-packages/satispy/__init__.py)",
     "output_type": "error",
     "traceback": [
      "\u001B[0;31m---------------------------------------------------------------------------\u001B[0m",
      "\u001B[0;31mImportError\u001B[0m                               Traceback (most recent call last)",
      "Cell \u001B[0;32mIn[6], line 1\u001B[0m\n\u001B[0;32m----> 1\u001B[0m \u001B[38;5;28;01mfrom\u001B[39;00m \u001B[38;5;21;01msatispy\u001B[39;00m \u001B[38;5;28;01mimport\u001B[39;00m CnfFromString\n\u001B[1;32m      2\u001B[0m \u001B[38;5;28;01mfrom\u001B[39;00m \u001B[38;5;21;01msatispy\u001B[39;00m\u001B[38;5;21;01m.\u001B[39;00m\u001B[38;5;21;01msolver\u001B[39;00m \u001B[38;5;28;01mimport\u001B[39;00m Minisat\n\u001B[1;32m      4\u001B[0m exp, symbols \u001B[38;5;241m=\u001B[39m CnfFromString\u001B[38;5;241m.\u001B[39mcreate(\u001B[38;5;124m\"\u001B[39m\u001B[38;5;124mv1 & v2 | v3\u001B[39m\u001B[38;5;124m\"\u001B[39m)\n",
      "\u001B[0;31mImportError\u001B[0m: cannot import name 'CnfFromString' from 'satispy' (/home/carlos/Projects/cbnetwork/venv/lib/python3.10/site-packages/satispy/__init__.py)"
     ]
    }
   ],
   "source": [
    "# # from satispy import CnfFromString\n",
    "# from satispy import CnfFromString\n",
    "# from satispy.solver import Minisat\n",
    "# \n",
    "# exp, symbols = CnfFromString.create(\"v1 & v2 | v3\")\n",
    "# \n",
    "# solver = Minisat()\n",
    "# \n",
    "# solution = solver.solve(exp)\n",
    "# \n",
    "# if solution.success:\n",
    "#     print(\"Found a solution:\")\n",
    "#     for symbol_name in symbols.keys():\n",
    "#         print(\"%s is %s\" % (symbol_name, solution[symbols[symbol_name]]))\n",
    "# else:\n",
    "#     print(\"The expression cannot be satisfied\")\n",
    "    "
   ],
   "metadata": {
    "collapsed": false,
    "ExecuteTime": {
     "end_time": "2024-03-12T19:44:56.375624Z",
     "start_time": "2024-03-12T19:44:56.080906Z"
    }
   },
   "id": "c136557f4a6c9abf",
   "execution_count": 6
  }
 ],
 "metadata": {
  "kernelspec": {
   "display_name": "Python 3",
   "language": "python",
   "name": "python3"
  },
  "language_info": {
   "codemirror_mode": {
    "name": "ipython",
    "version": 2
   },
   "file_extension": ".py",
   "mimetype": "text/x-python",
   "name": "python",
   "nbconvert_exporter": "python",
   "pygments_lexer": "ipython2",
   "version": "2.7.6"
  }
 },
 "nbformat": 4,
 "nbformat_minor": 5
}
