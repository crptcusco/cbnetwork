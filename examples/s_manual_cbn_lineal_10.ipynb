{
 "cells": [
  {
   "cell_type": "code",
   "execution_count": 1,
   "id": "initial_id",
   "metadata": {
    "collapsed": true,
    "ExecuteTime": {
     "end_time": "2023-10-28T14:30:26.195593320Z",
     "start_time": "2023-10-28T14:30:25.588781099Z"
    }
   },
   "outputs": [],
   "source": [
    "# import libraries\n",
    "from classes.cbnetwork import CBN\n",
    "from classes.directededge import DirectedEdge\n",
    "from classes.internalvariable import InternalVariable\n",
    "from classes.localnetwork import LocalNetwork"
   ]
  },
  {
   "cell_type": "markdown",
   "source": [
    "# LINEAL CBN MANUAL SCRIPT EXAMPLE"
   ],
   "metadata": {
    "collapsed": false
   },
   "id": "5052e0fcbdad1f43"
  },
  {
   "cell_type": "code",
   "execution_count": 2,
   "outputs": [
    {
     "name": "stdout",
     "output_type": "stream",
     "text": [
      "Local Network 1\n",
      "Variables intern :  [1, 2, 3, 4, 5]\n",
      "Local Network 2\n",
      "Variables intern :  [6, 7, 8, 9, 10]\n",
      "Local Network 3\n",
      "Variables intern :  [11, 12, 13, 14, 15]\n",
      "Local Network 4\n",
      "Variables intern :  [16, 17, 18, 19, 20]\n",
      "Local Network 5\n",
      "Variables intern :  [21, 22, 23, 24, 25]\n",
      "Local Network 6\n",
      "Variables intern :  [26, 27, 28, 29, 30]\n",
      "Local Network 7\n",
      "Variables intern :  [31, 32, 33, 34, 35]\n",
      "Local Network 8\n",
      "Variables intern :  [36, 37, 38, 39, 40]\n",
      "Local Network 9\n",
      "Variables intern :  [41, 42, 43, 44, 45]\n",
      "Local Network 10\n",
      "Variables intern :  [46, 47, 48, 49, 50]\n"
     ]
    }
   ],
   "source": [
    "# pass the parameters\n",
    "l_local_networks = []\n",
    "l_directed_edges = []\n",
    "\n",
    "n_local_networks = 10\n",
    "n_variables = 5\n",
    "# l_index_local_networks = list(range(1, n_local_networks))\n",
    "\n",
    "\n",
    "# generate the variables 5 per network in sequence\n",
    "d_network_variables = {i: list(range(n_variables*(i-1)+1, n_variables *i+1)) for i in range(1, 11)}\n",
    "\n",
    "# generate the edges of the linear CBN\n",
    "l_edges = [(1, 2), (2, 3), (3, 4), (5, 6), (7, 8), (9, 10)]\n",
    "\n",
    "# generate the networks\n",
    "for i_local_net in d_network_variables.keys():\n",
    "    # generate the Local network\n",
    "    o_local_network = LocalNetwork(i_local_net, d_network_variables[i_local_net])\n",
    "    l_local_networks.append(o_local_network)\n",
    "    # Show the networks\n",
    "    o_local_network.show()"
   ],
   "metadata": {
    "collapsed": false,
    "ExecuteTime": {
     "end_time": "2023-10-28T14:30:26.237835424Z",
     "start_time": "2023-10-28T14:30:26.204569252Z"
    }
   },
   "id": "53f9b8afb6d8eacc"
  },
  {
   "cell_type": "code",
   "execution_count": 3,
   "outputs": [
    {
     "name": "stdout",
     "output_type": "stream",
     "text": [
      " 4 ∨ 5 \n",
      "MESSAGE: Input Local Network: 1\n",
      "MESSAGE: Network Output: 2\n",
      "MESSAGE: Variables: [4, 5]\n",
      "MESSAGE: Name Variable: 51\n",
      "MESSAGE: Coupling Function:  4 ∨ 5 \n",
      "MESSAGE: Truth Table: {'11': '1', '10': '1', '01': '1', '00': '0'}\n",
      "MESSAGE: Kind of coupling function 2  -  not compute\n",
      " 4 ∨ 5 \n"
     ]
    },
    {
     "ename": "SyntaxError",
     "evalue": "Unexpected character '4' (<string>)",
     "output_type": "error",
     "traceback": [
      "Traceback \u001B[0;36m(most recent call last)\u001B[0m:\n",
      "\u001B[0m  File \u001B[1;32m~/Documents/RESEARCH CODE/cbnetwork/venv/lib/python3.10/site-packages/IPython/core/interactiveshell.py:3526\u001B[0m in \u001B[1;35mrun_code\u001B[0m\n    exec(code_obj, self.user_global_ns, self.user_ns)\u001B[0m\n",
      "\u001B[0m  Cell \u001B[1;32mIn[3], line 9\u001B[0m\n    o_directed_edge = DirectedEdge(t_edge[0], t_edge[1], [x + cont_output_variable for x in l_output_variables], index_variable_signal , coupling_function)\u001B[0m\n",
      "\u001B[0m  File \u001B[1;32m~/Documents/RESEARCH CODE/cbnetwork/classes/directededge.py:20\u001B[0m in \u001B[1;35m__init__\u001B[0m\n    self.true_table = self.process_true_table()\u001B[0m\n",
      "\u001B[0m  File \u001B[1;32m~/Documents/RESEARCH CODE/cbnetwork/classes/directededge.py:212\u001B[0m in \u001B[1;35mprocess_true_table\u001B[0m\n    if evaluate(parse(aux_acoplament_function), aux_dictionary):\u001B[0m\n",
      "\u001B[0m  File \u001B[1;32m~/Documents/RESEARCH CODE/cbnetwork/classes/directededge.py:92\u001B[0m in \u001B[1;35mparse\u001B[0m\n    token = next(tokens)  # The current token.\u001B[0m\n",
      "\u001B[0;36m  File \u001B[0;32m~/Documents/RESEARCH CODE/cbnetwork/classes/directededge.py:61\u001B[0;36m in \u001B[0;35mtokenize\u001B[0;36m\n\u001B[0;31m    raise SyntaxError(\"Unexpected character {!r}\".format(error))\u001B[0;36m\n",
      "\u001B[0;36m  File \u001B[0;32m<string>\u001B[0;36m\u001B[0m\n\u001B[0;31mSyntaxError\u001B[0m\u001B[0;31m:\u001B[0m Unexpected character '4'\n"
     ]
    }
   ],
   "source": [
    "# generate the directed edges\n",
    "cont_output_variable = 0\n",
    "index_variable_signal = (n_local_networks * n_variables) + 1\n",
    "for t_edge in l_edges:\n",
    "    l_output_variables = [4,5]\n",
    "    # generate coupling function\n",
    "    coupling_function = \" \" + \" ∨ \".join(map(str, l_output_variables)) + \" \"\n",
    "    print(coupling_function)\n",
    "    o_directed_edge = DirectedEdge(t_edge[0], t_edge[1], [x + cont_output_variable for x in l_output_variables], index_variable_signal , coupling_function)\n",
    "    cont_output_variable += 5\n",
    "    index_variable_signal += 1\n",
    "    o_directed_edge.show()"
   ],
   "metadata": {
    "collapsed": false,
    "ExecuteTime": {
     "end_time": "2023-10-28T14:30:26.336616631Z",
     "start_time": "2023-10-28T14:30:26.217235807Z"
    }
   },
   "id": "b5f6831e0f3d0a2a"
  },
  {
   "cell_type": "code",
   "execution_count": null,
   "outputs": [],
   "source": [
    "\n",
    "# l_directed_edges.append(o_directed_edge1)\n",
    "# l_directed_edges.append(o_directed_edge2)\n",
    "# l_directed_edges.append(o_directed_edge3)\n",
    "# l_directed_edges.append(o_directed_edge4)\n",
    "#\n",
    "#\n",
    "# d_variable_cnf_function = {1: [[2, 3], [1, -15]],\n",
    "#                            2: [[1, 15]],\n",
    "#                            3: [[3, -1, 15]],\n",
    "#                            4: [[-5, 6, 7]],\n",
    "#                            5: [[6, -7, -16]],\n",
    "#                            6: [[-4, -5, 16]],\n",
    "#                            7: [[-5, 16, 7]],\n",
    "#                            8: [[9, 10, 17]],\n",
    "#                            9: [[8, 18]],\n",
    "#                            10: [[8, 9]],\n",
    "#                            11: [[-12, 13]],\n",
    "#                            12: [[11, 13]],\n",
    "#                            13: [[14, -11, 12]],\n",
    "#                            14: [[11, -12]]}\n",
    "#\n",
    "# # generating the local network dynamic\n",
    "# for o_local_network in l_local_networks:\n",
    "#     l_input_signals = DirectedEdge.find_input_edges_by_network_index(o_local_network.index, l_directed_edges)\n",
    "#     o_local_network.process_input_signals(l_input_signals)\n",
    "#     for i_local_variable in o_local_network.l_var_intern:\n",
    "#         o_variable_model = InternalVariable(i_local_variable, d_variable_cnf_function[i_local_variable])\n",
    "#         o_local_network.des_funct_variables.append(o_variable_model)\n",
    "#\n",
    "#\n",
    "# print(l_local_networks)\n",
    "#\n",
    "# # generating the CBN network\n",
    "# o_cbn = CBN(l_local_networks, l_directed_edges)\n",
    "#\n",
    "# # Find attractors\n",
    "# o_cbn.find_attractors()\n",
    "#\n",
    "# # show attractors\n",
    "# o_cbn.show_attractors()\n",
    "#\n",
    "# # # generate the global scenes\n",
    "# # o_cbn.generate_global_scenes()\n",
    "#\n",
    "# # # Show global attractors\n",
    "# # o_cbn.show_global_scenes()\n",
    "#\n",
    "# # find the compatible pairs\n",
    "# o_cbn.find_compatible_pairs()\n",
    "#\n",
    "# # show attractor pairs\n",
    "# o_cbn.show_attractor_pairs()\n",
    "#\n",
    "# # # show graph with networkx\n",
    "# # o_cbn.generate_graph()\n",
    "#\n",
    "# # # show attractors\n",
    "# # o_cbn.show_attractors()\n",
    "#\n",
    "# # Find attractors fields\n",
    "# # o_cbn.find_attractor_fields()\n",
    "#\n",
    "# # Show attractor fields\n",
    "# # o_cbn.show_attractors_fields()\n",
    "#\n",
    "# print(\"==============================\")\n",
    "# print(\"MESSAGE:\", \"END SCRIPT EXAMPLE\")\n"
   ],
   "metadata": {
    "collapsed": false,
    "ExecuteTime": {
     "start_time": "2023-10-28T14:30:26.228740622Z"
    }
   },
   "id": "56b03e301d797efe"
  }
 ],
 "metadata": {
  "kernelspec": {
   "display_name": "Python 3",
   "language": "python",
   "name": "python3"
  },
  "language_info": {
   "codemirror_mode": {
    "name": "ipython",
    "version": 2
   },
   "file_extension": ".py",
   "mimetype": "text/x-python",
   "name": "python",
   "nbconvert_exporter": "python",
   "pygments_lexer": "ipython2",
   "version": "2.7.6"
  }
 },
 "nbformat": 4,
 "nbformat_minor": 5
}
