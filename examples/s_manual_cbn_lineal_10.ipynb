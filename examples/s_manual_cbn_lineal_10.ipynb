{
 "cells": [
  {
   "cell_type": "code",
   "execution_count": null,
   "id": "initial_id",
   "metadata": {
    "collapsed": true,
    "is_executing": true
   },
   "outputs": [],
   "source": [
    "# import libraries\n",
    "from classes.cbnetwork import CBN\n",
    "from classes.directededge import DirectedEdge\n",
    "from classes.internalvariable import InternalVariable\n",
    "from classes.localnetwork import LocalNetwork"
   ]
  },
  {
   "cell_type": "markdown",
   "source": [
    "# LINEAL CBN MANUAL SCRIPT EXAMPLE"
   ],
   "metadata": {
    "collapsed": false
   },
   "id": "5052e0fcbdad1f43"
  },
  {
   "cell_type": "code",
   "execution_count": null,
   "outputs": [],
   "source": [
    "# pass the parameters\n",
    "l_local_networks = []\n",
    "l_directed_edges = []\n",
    "\n",
    "n_local_networks = 10\n",
    "n_variables = 5\n",
    "# l_index_local_networks = list(range(1, n_local_networks))\n",
    "\n",
    "\n",
    "# generate the variables 5 per network in sequence\n",
    "d_network_variables = {i: list(range(n_variables*(i-1)+1, n_variables *i+1)) for i in range(1, 11)}\n",
    "\n",
    "# generate the edges of the linear CBN\n",
    "l_edges = [(1, 2), (2, 3), (3, 4), (5, 6), (7, 8), (9, 10)]\n",
    "\n",
    "# generate the networks\n",
    "for i_local_net in d_network_variables.keys():\n",
    "    # generate the Local network\n",
    "    o_local_network = LocalNetwork(i_local_net, d_network_variables[i_local_net])\n",
    "    l_local_networks.append(o_local_network)\n",
    "    # Show the networks\n",
    "    o_local_network.show()"
   ],
   "metadata": {
    "collapsed": false,
    "is_executing": true
   },
   "id": "53f9b8afb6d8eacc"
  },
  {
   "cell_type": "code",
   "execution_count": null,
   "outputs": [],
   "source": [
    "# generate the directed edges\n",
    "cont_output_variable = 0\n",
    "index_variable_signal = (n_local_networks * n_variables) + 1\n",
    "for t_edge in l_edges:\n",
    "    l_output_variables = [4,5]\n",
    "    # generate coupling function\n",
    "    coupling_function = \" \" + \" ∨ \".join(map(str, l_output_variables)) + \" \"\n",
    "    print(coupling_function)\n",
    "    o_directed_edge = DirectedEdge(t_edge[0], t_edge[1], [x + cont_output_variable for x in l_output_variables], index_variable_signal , coupling_function)\n",
    "    cont_output_variable += 5\n",
    "    index_variable_signal += 1\n",
    "    o_directed_edge.show()"
   ],
   "metadata": {
    "collapsed": false,
    "is_executing": true
   },
   "id": "b5f6831e0f3d0a2a"
  },
  {
   "cell_type": "code",
   "execution_count": null,
   "outputs": [],
   "source": [
    "\n",
    "# l_directed_edges.append(o_directed_edge1)\n",
    "# l_directed_edges.append(o_directed_edge2)\n",
    "# l_directed_edges.append(o_directed_edge3)\n",
    "# l_directed_edges.append(o_directed_edge4)\n",
    "#\n",
    "#\n",
    "# d_variable_cnf_function = {1: [[2, 3], [1, -15]],\n",
    "#                            2: [[1, 15]],\n",
    "#                            3: [[3, -1, 15]],\n",
    "#                            4: [[-5, 6, 7]],\n",
    "#                            5: [[6, -7, -16]],\n",
    "#                            6: [[-4, -5, 16]],\n",
    "#                            7: [[-5, 16, 7]],\n",
    "#                            8: [[9, 10, 17]],\n",
    "#                            9: [[8, 18]],\n",
    "#                            10: [[8, 9]],\n",
    "#                            11: [[-12, 13]],\n",
    "#                            12: [[11, 13]],\n",
    "#                            13: [[14, -11, 12]],\n",
    "#                            14: [[11, -12]]}\n",
    "#\n",
    "# # generating the local network dynamic\n",
    "# for o_local_network in l_local_networks:\n",
    "#     l_input_signals = DirectedEdge.find_input_edges_by_network_index(o_local_network.index, l_directed_edges)\n",
    "#     o_local_network.process_input_signals(l_input_signals)\n",
    "#     for i_local_variable in o_local_network.l_var_intern:\n",
    "#         o_variable_model = InternalVariable(i_local_variable, d_variable_cnf_function[i_local_variable])\n",
    "#         o_local_network.des_funct_variables.append(o_variable_model)\n",
    "#\n",
    "#\n",
    "# print(l_local_networks)\n",
    "#\n",
    "# # generating the CBN network\n",
    "# o_cbn = CBN(l_local_networks, l_directed_edges)\n",
    "#\n",
    "# # Find attractors\n",
    "# o_cbn.find_attractors()\n",
    "#\n",
    "# # show attractors\n",
    "# o_cbn.show_attractors()\n",
    "#\n",
    "# # # generate the global scenes\n",
    "# # o_cbn.generate_global_scenes()\n",
    "#\n",
    "# # # Show global attractors\n",
    "# # o_cbn.show_global_scenes()\n",
    "#\n",
    "# # find the compatible pairs\n",
    "# o_cbn.find_compatible_pairs()\n",
    "#\n",
    "# # show attractor pairs\n",
    "# o_cbn.show_attractor_pairs()\n",
    "#\n",
    "# # # show graph with networkx\n",
    "# # o_cbn.generate_graph()\n",
    "#\n",
    "# # # show attractors\n",
    "# # o_cbn.show_attractors()\n",
    "#\n",
    "# # Find attractors fields\n",
    "# # o_cbn.find_attractor_fields()\n",
    "#\n",
    "# # Show attractor fields\n",
    "# # o_cbn.show_attractors_fields()\n",
    "#\n",
    "# print(\"==============================\")\n",
    "# print(\"MESSAGE:\", \"END SCRIPT EXAMPLE\")\n"
   ],
   "metadata": {
    "collapsed": false,
    "is_executing": true
   },
   "id": "56b03e301d797efe"
  }
 ],
 "metadata": {
  "kernelspec": {
   "display_name": "Python 3",
   "language": "python",
   "name": "python3"
  },
  "language_info": {
   "codemirror_mode": {
    "name": "ipython",
    "version": 2
   },
   "file_extension": ".py",
   "mimetype": "text/x-python",
   "name": "python",
   "nbconvert_exporter": "python",
   "pygments_lexer": "ipython2",
   "version": "2.7.6"
  }
 },
 "nbformat": 4,
 "nbformat_minor": 5
}
