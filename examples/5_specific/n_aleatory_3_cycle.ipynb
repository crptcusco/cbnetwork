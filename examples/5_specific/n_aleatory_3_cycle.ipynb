{
 "cells": [
  {
   "cell_type": "markdown",
   "source": [
    "# Example Aleatory Binomial CBN"
   ],
   "metadata": {
    "collapsed": false
   },
   "id": "98edf35f0c1e37ce"
  },
  {
   "cell_type": "code",
   "execution_count": null,
   "id": "initial_id",
   "metadata": {
    "collapsed": true,
    "jupyter": {
     "outputs_hidden": true
    }
   },
   "outputs": [],
   "source": [
    "# import libraries\n",
    "from classes.cbnetwork import CBN\n",
    "\n",
    "# List of the Allowed Topologies\n",
    "CBN.show_allowed_topologies()"
   ]
  },
  {
   "cell_type": "markdown",
   "source": [
    "# Generate a CBN with the parameters"
   ],
   "metadata": {
    "collapsed": false
   },
   "id": "c7e553965b14e9fc"
  },
  {
   "cell_type": "code",
   "execution_count": null,
   "id": "db2c35ef85dd5be9",
   "metadata": {
    "collapsed": false
   },
   "outputs": [],
   "source": [
    "# pass the parameters\n",
    "n_local_networks = 6\n",
    "n_var_network = 5\n",
    "n_output_variables = 2\n",
    "n_clauses_function = 2\n",
    "v_topology = 3\n",
    "\n",
    "o_cbn = CBN.generate_cbn(n_local_networks=n_local_networks, n_var_network=n_var_network, v_topology=v_topology,\n",
    "                         n_output_variables=n_output_variables)"
   ]
  },
  {
   "cell_type": "markdown",
   "source": [
    "# Find attractors"
   ],
   "metadata": {
    "collapsed": false
   },
   "id": "192536d1a14c38fb"
  },
  {
   "cell_type": "code",
   "execution_count": null,
   "outputs": [],
   "source": [
    "o_cbn.find_local_attractors_optimized()"
   ],
   "metadata": {
    "collapsed": false
   },
   "id": "f6645145812950cb"
  },
  {
   "cell_type": "markdown",
   "source": [
    "# find the compatible pairs"
   ],
   "metadata": {
    "collapsed": false
   },
   "id": "1d9fcf7f303f8bd3"
  },
  {
   "cell_type": "code",
   "execution_count": null,
   "outputs": [],
   "source": [
    "o_cbn.find_compatible_pairs()"
   ],
   "metadata": {
    "collapsed": false
   },
   "id": "1860f80c3dc4e5f7"
  },
  {
   "cell_type": "code",
   "execution_count": null,
   "id": "a2aa24594dc247a6",
   "metadata": {
    "collapsed": false
   },
   "outputs": [],
   "source": [
    "o_cbn.show_cbn_graph()"
   ]
  },
  {
   "cell_type": "code",
   "execution_count": null,
   "id": "6f9f71ece5a2d92",
   "metadata": {
    "collapsed": false
   },
   "outputs": [],
   "source": [
    "o_cbn.show_attractors()"
   ]
  },
  {
   "cell_type": "code",
   "execution_count": null,
   "outputs": [],
   "source": [
    "o_cbn.show_coupled_signals_kind()"
   ],
   "metadata": {
    "collapsed": false
   },
   "id": "9fed9d85fb68edee"
  },
  {
   "cell_type": "code",
   "execution_count": null,
   "outputs": [],
   "source": [
    "o_cbn.find_compatible_pairs()\n",
    "o_cbn.show_attractor_pairs()"
   ],
   "metadata": {
    "collapsed": false
   },
   "id": "808934adedd8c4be"
  },
  {
   "cell_type": "code",
   "execution_count": null,
   "outputs": [],
   "source": [
    "o_cbn.find_attractor_fields()"
   ],
   "metadata": {
    "collapsed": false
   },
   "id": "78a7ff3b8a4bbab5"
  },
  {
   "cell_type": "code",
   "execution_count": null,
   "outputs": [],
   "source": [
    "o_cbn.show_attractors_fields()"
   ],
   "metadata": {
    "collapsed": false
   },
   "id": "6882543423abf9cf"
  }
 ],
 "metadata": {
  "kernelspec": {
   "display_name": "Python 3 (ipykernel)",
   "language": "python",
   "name": "python3"
  },
  "language_info": {
   "codemirror_mode": {
    "name": "ipython",
    "version": 3
   },
   "file_extension": ".py",
   "mimetype": "text/x-python",
   "name": "python",
   "nbconvert_exporter": "python",
   "pygments_lexer": "ipython3",
   "version": "3.10.12"
  }
 },
 "nbformat": 4,
 "nbformat_minor": 5
}
