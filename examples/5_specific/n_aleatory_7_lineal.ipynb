{
 "cells": [
  {
   "cell_type": "markdown",
   "source": [
    "# LINEAL CBN ALEATORY SCRIPT EXAMPLE"
   ],
   "metadata": {
    "collapsed": false
   },
   "id": "d62edaf34878bbd1"
  },
  {
   "cell_type": "code",
   "execution_count": 7,
   "id": "initial_id",
   "metadata": {
    "collapsed": true,
    "ExecuteTime": {
     "end_time": "2024-01-22T19:32:40.782349835Z",
     "start_time": "2024-01-22T19:32:40.709105566Z"
    }
   },
   "source": [
    "# import libraries\n",
    "from classes.cbnetwork import CBN\n",
    "from classes.directededge import DirectedEdge\n",
    "from classes.internalvariable import InternalVariable\n",
    "from classes.localnetwork import LocalNetwork\n",
    "\n",
    "# pass the parameters\n",
    "n_local_networks = 6\n",
    "n_var_network = 5\n",
    "n_output_variables = 2\n",
    "n_clauses_function = 2\n",
    "v_topology = 7"
   ],
   "outputs": []
  },
  {
   "cell_type": "markdown",
   "source": [
    "# show available topologies"
   ],
   "metadata": {
    "collapsed": false
   },
   "id": "1741d0f7c8907448"
  },
  {
   "cell_type": "code",
   "execution_count": 8,
   "source": [
    "CBN.show_allowed_topologies()"
   ],
   "metadata": {
    "collapsed": false,
    "ExecuteTime": {
     "end_time": "2024-01-22T19:32:40.802387533Z",
     "start_time": "2024-01-22T19:32:40.785007318Z"
    }
   },
   "id": "555129af85610558",
   "outputs": []
  },
  {
   "cell_type": "code",
   "execution_count": 9,
   "source": [
    "# create a Coupled Boolean Network with the parameters\n",
    "o_cbn = CBN.generate_cbn(n_local_networks=n_local_networks,\n",
    "                         n_var_network=n_var_network, \n",
    "                         v_topology=v_topology,\n",
    "                         n_output_variables=n_output_variables)"
   ],
   "metadata": {
    "collapsed": false,
    "ExecuteTime": {
     "end_time": "2024-01-22T19:32:40.839409931Z",
     "start_time": "2024-01-22T19:32:40.793069861Z"
    }
   },
   "id": "b0106a5b246f9ec7",
   "outputs": []
  },
  {
   "cell_type": "code",
   "execution_count": 10,
   "source": [
    "# show the kind of the edges\n",
    "o_cbn.show_directed_edges()"
   ],
   "metadata": {
    "collapsed": false,
    "ExecuteTime": {
     "end_time": "2024-01-22T19:32:40.858440439Z",
     "start_time": "2024-01-22T19:32:40.839566307Z"
    }
   },
   "id": "ed5d41878294d32a",
   "outputs": []
  },
  {
   "cell_type": "code",
   "execution_count": 11,
   "source": [
    "for o_directed_edge in o_cbn.l_directed_edges:\n",
    "    print(o_directed_edge.output_local_network, \"->\", o_directed_edge.input_local_network)"
   ],
   "metadata": {
    "collapsed": false,
    "ExecuteTime": {
     "end_time": "2024-01-22T19:32:40.867246519Z",
     "start_time": "2024-01-22T19:32:40.857605061Z"
    }
   },
   "id": "c2569b5a0cd451a8",
   "outputs": []
  },
  {
   "cell_type": "code",
   "execution_count": 12,
   "source": [
    "# Find attractors\n",
    "o_cbn.find_local_attractors_optimized()"
   ],
   "metadata": {
    "collapsed": false,
    "ExecuteTime": {
     "end_time": "2024-01-22T19:32:41.257834778Z",
     "start_time": "2024-01-22T19:32:40.862658328Z"
    }
   },
   "id": "f78a7796e4c7080c",
   "outputs": []
  },
  {
   "cell_type": "code",
   "execution_count": 13,
   "source": [
    "# show attractors\n",
    "o_cbn.show_attractors()"
   ],
   "metadata": {
    "collapsed": false,
    "ExecuteTime": {
     "end_time": "2024-01-22T19:32:41.298535328Z",
     "start_time": "2024-01-22T19:32:41.253582597Z"
    }
   },
   "id": "a93a682dc3b0b54b",
   "outputs": []
  },
  {
   "cell_type": "code",
   "execution_count": 14,
   "source": [
    "o_cbn.find_compatible_pairs()"
   ],
   "metadata": {
    "collapsed": false,
    "ExecuteTime": {
     "end_time": "2024-01-22T19:32:41.299492930Z",
     "start_time": "2024-01-22T19:32:41.297718597Z"
    }
   },
   "id": "935d732230514e33",
   "outputs": []
  },
  {
   "cell_type": "code",
   "execution_count": 15,
   "source": [
    "o_cbn.show_attractor_pairs()"
   ],
   "metadata": {
    "collapsed": false,
    "ExecuteTime": {
     "end_time": "2024-01-22T19:32:41.358723012Z",
     "start_time": "2024-01-22T19:32:41.298004390Z"
    }
   },
   "id": "1eb862985f5e4960",
   "outputs": []
  },
  {
   "cell_type": "code",
   "execution_count": 16,
   "source": [
    "o_cbn.show_directed_edges()"
   ],
   "metadata": {
    "collapsed": false,
    "ExecuteTime": {
     "end_time": "2024-01-22T19:32:41.359762119Z",
     "start_time": "2024-01-22T19:32:41.342167838Z"
    }
   },
   "id": "c151571aab794d6d",
   "outputs": []
  },
  {
   "cell_type": "code",
   "execution_count": 17,
   "source": [
    "# show the kind of every coupled signal\n",
    "o_cbn.show_coupled_signals_kind()"
   ],
   "metadata": {
    "collapsed": false,
    "ExecuteTime": {
     "end_time": "2024-01-22T19:32:41.360669714Z",
     "start_time": "2024-01-22T19:32:41.342574737Z"
    }
   },
   "id": "8ced149d8f108e38",
   "outputs": []
  },
  {
   "cell_type": "code",
   "execution_count": 18,
   "source": [
    "o_cbn.show_cbn_graph()"
   ],
   "metadata": {
    "collapsed": false,
    "ExecuteTime": {
     "end_time": "2024-01-22T19:32:42.029431789Z",
     "start_time": "2024-01-22T19:32:41.342919686Z"
    }
   },
   "id": "140a047b82dc7f0a",
   "outputs": []
  }
 ],
 "metadata": {
  "kernelspec": {
   "display_name": "Python 3",
   "language": "python",
   "name": "python3"
  },
  "language_info": {
   "codemirror_mode": {
    "name": "ipython",
    "version": 2
   },
   "file_extension": ".py",
   "mimetype": "text/x-python",
   "name": "python",
   "nbconvert_exporter": "python",
   "pygments_lexer": "ipython2",
   "version": "2.7.6"
  }
 },
 "nbformat": 4,
 "nbformat_minor": 5
}
