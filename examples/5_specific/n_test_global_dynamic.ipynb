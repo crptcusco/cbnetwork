{
 "cells": [
  {
   "cell_type": "code",
   "id": "initial_id",
   "metadata": {
    "collapsed": true
   },
   "source": [
    "from classes.cbnetwork import CBN \n",
    "\n",
    "# CONSTANTS\n",
    "V_TOPOLOGY = 4\n",
    "N_LOCAL_NETWORKS = 5\n",
    "N_VAR_NETWORK = 5\n",
    "N_INPUT_VARIABLES = 2\n",
    "N_OUTPUT_VARIABLES = 2\n",
    "\n",
    "# create a linear CBN with aleatory elements\n",
    "o_cbn = CBN.generate_aleatory_cbn_by_topology(n_local_networks=N_LOCAL_NETWORKS, n_var_network=N_VAR_NETWORK,\n",
    "                                              v_topology=V_TOPOLOGY, n_output_variables=N_OUTPUT_VARIABLES,\n",
    "                                              n_input_variables=N_INPUT_VARIABLES)\n",
    "\n",
    "o_cbn.show_description()"
   ],
   "outputs": [],
   "execution_count": null
  }
 ],
 "metadata": {
  "kernelspec": {
   "display_name": "Python 3",
   "language": "python",
   "name": "python3"
  },
  "language_info": {
   "codemirror_mode": {
    "name": "ipython",
    "version": 2
   },
   "file_extension": ".py",
   "mimetype": "text/x-python",
   "name": "python",
   "nbconvert_exporter": "python",
   "pygments_lexer": "ipython2",
   "version": "2.7.6"
  }
 },
 "nbformat": 4,
 "nbformat_minor": 5
}
