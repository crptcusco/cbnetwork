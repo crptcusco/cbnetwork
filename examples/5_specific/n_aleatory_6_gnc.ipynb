{
 "cells": [
  {
   "cell_type": "markdown",
   "source": [
    "# CBN ALEATORY EXAMPLE"
   ],
   "metadata": {
    "collapsed": false
   },
   "id": "165c804c863d23e4"
  },
  {
   "cell_type": "code",
   "execution_count": null,
   "outputs": [],
   "source": [
    "# import libraries\n",
    "from classes.cbnetwork import CBN"
   ],
   "metadata": {
    "collapsed": false
   },
   "id": "2bb0a29c40d28d85"
  },
  {
   "cell_type": "code",
   "execution_count": null,
   "outputs": [],
   "source": [
    "CBN.show_allowed_topologies()"
   ],
   "metadata": {
    "collapsed": false
   },
   "id": "c629f0a0c2e864bb"
  },
  {
   "cell_type": "markdown",
   "source": [
    "# Generating the CBN"
   ],
   "metadata": {
    "collapsed": false
   },
   "id": "c5ef82aa7904bc68"
  },
  {
   "cell_type": "code",
   "execution_count": null,
   "id": "initial_id",
   "metadata": {
    "collapsed": true
   },
   "outputs": [],
   "source": [
    "# pass the parameters\n",
    "n_local_networks = 6\n",
    "n_var_network = 5\n",
    "n_output_variables = 2\n",
    "n_clauses_function = 2\n",
    "v_topology = 6\n",
    "\n",
    "# create a Coupled Boolean Network with the parameters\n",
    "o_cbn = CBN.generate_cbn(n_local_networks=n_local_networks, n_var_network=n_var_network, v_topology=v_topology,\n",
    "                         n_output_variables=n_output_variables, n_clauses_function=n_clauses_function)"
   ]
  },
  {
   "cell_type": "code",
   "execution_count": null,
   "outputs": [],
   "source": [
    "o_cbn.show_cbn_graph()"
   ],
   "metadata": {
    "collapsed": false
   },
   "id": "ae4970441ef9954e"
  },
  {
   "cell_type": "code",
   "execution_count": null,
   "outputs": [],
   "source": [
    "# find local network attractors\n",
    "o_cbn.find_attractors()"
   ],
   "metadata": {
    "collapsed": false
   },
   "id": "c21ebdc9f42e4f89"
  },
  {
   "cell_type": "code",
   "execution_count": null,
   "outputs": [],
   "source": [
    "# find the compatible pairs\n",
    "o_cbn.find_compatible_pairs()"
   ],
   "metadata": {
    "collapsed": false
   },
   "id": "921ebc25cf107adf"
  },
  {
   "cell_type": "code",
   "execution_count": null,
   "outputs": [],
   "source": [
    "# show the kind of every coupled signal\n",
    "o_cbn.show_coupled_signals_kind()"
   ],
   "metadata": {
    "collapsed": false
   },
   "id": "1d9b790e1154fd7a"
  }
 ],
 "metadata": {
  "kernelspec": {
   "display_name": "Python 3",
   "language": "python",
   "name": "python3"
  },
  "language_info": {
   "codemirror_mode": {
    "name": "ipython",
    "version": 2
   },
   "file_extension": ".py",
   "mimetype": "text/x-python",
   "name": "python",
   "nbconvert_exporter": "python",
   "pygments_lexer": "ipython2",
   "version": "2.7.6"
  }
 },
 "nbformat": 4,
 "nbformat_minor": 5
}
