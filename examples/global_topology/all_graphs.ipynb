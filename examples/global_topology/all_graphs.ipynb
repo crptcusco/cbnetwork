{
 "cells": [
  {
   "metadata": {},
   "cell_type": "markdown",
   "source": "# All Allowed Topologies by GlobalTopology",
   "id": "4fe029acbb2bae4a"
  },
  {
   "cell_type": "code",
   "id": "initial_id",
   "metadata": {
    "collapsed": true,
    "ExecuteTime": {
     "end_time": "2024-07-29T02:19:51.817742Z",
     "start_time": "2024-07-29T02:19:51.145907Z"
    }
   },
   "source": [
    "from classes.globaltopology import GlobalTopology\n",
    "from classes.cbnetwork import CBN\n",
    "\n",
    "GlobalTopology.show_allowed_topologies()"
   ],
   "outputs": [
    {
     "name": "stdout",
     "output_type": "stream",
     "text": [
      "1 : [[6]]\n",
      "2 : [[-1, 2, 5], [-6]]\n",
      "3 : [[-4, 5], [-1], [-6]]\n",
      "4 : [[-2, -1, 3], [-6]]\n",
      "5 : [[6], [-4], [-5, -2, 1]]\n",
      "==================================================\n",
      "LIST OF ALLOWED TOPOLOGIES OF DIRECTED GRAPHS\n",
      "1 - complete\n",
      "2 - aleatory_fixed_2_input_edges\n",
      "3 - cycle\n",
      "4 - path\n",
      "5 - aleatory_gn\n",
      "6 - aleatory_gnc\n"
     ]
    }
   ],
   "execution_count": 1
  },
  {
   "metadata": {},
   "cell_type": "markdown",
   "source": "## Complete Directed Graph",
   "id": "a35c2b549aabd305"
  },
  {
   "metadata": {
    "ExecuteTime": {
     "end_time": "2024-07-29T02:19:52.166433Z",
     "start_time": "2024-07-29T02:19:51.820277Z"
    }
   },
   "cell_type": "code",
   "source": [
    "N_NODES = 6\n",
    "N_EDGES = None\n",
    "V_TOPOLOGY = 1\n",
    "\n",
    "o_CBNTopology = GlobalTopology.generate_sample_topology(v_topology=V_TOPOLOGY, n_nodes=N_NODES, n_edges=N_EDGES)\n",
    "o_CBNTopology.plot_topology()"
   ],
   "id": "d0b6d02c60b9ed77",
   "outputs": [
    {
     "ename": "TypeError",
     "evalue": "__init__() got an unexpected keyword argument 'n_nodes'",
     "output_type": "error",
     "traceback": [
      "\u001B[0;31m---------------------------------------------------------------------------\u001B[0m",
      "\u001B[0;31mTypeError\u001B[0m                                 Traceback (most recent call last)",
      "Cell \u001B[0;32mIn[2], line 5\u001B[0m\n\u001B[1;32m      2\u001B[0m N_EDGES \u001B[38;5;241m=\u001B[39m \u001B[38;5;28;01mNone\u001B[39;00m\n\u001B[1;32m      3\u001B[0m V_TOPOLOGY \u001B[38;5;241m=\u001B[39m \u001B[38;5;241m1\u001B[39m\n\u001B[0;32m----> 5\u001B[0m o_CBNTopology \u001B[38;5;241m=\u001B[39m \u001B[43mGlobalTopology\u001B[49m\u001B[43m(\u001B[49m\u001B[43mn_nodes\u001B[49m\u001B[38;5;241;43m=\u001B[39;49m\u001B[43mN_NODES\u001B[49m\u001B[43m,\u001B[49m\u001B[43m \u001B[49m\u001B[43mn_edges\u001B[49m\u001B[38;5;241;43m=\u001B[39;49m\u001B[43mN_EDGES\u001B[49m\u001B[43m,\u001B[49m\u001B[43m \u001B[49m\u001B[43mv_topology\u001B[49m\u001B[38;5;241;43m=\u001B[39;49m\u001B[43mV_TOPOLOGY\u001B[49m\u001B[43m)\u001B[49m\n\u001B[1;32m      6\u001B[0m o_CBNTopology\u001B[38;5;241m.\u001B[39mgenerate_networkx_graph()\n\u001B[1;32m      7\u001B[0m o_CBNTopology\u001B[38;5;241m.\u001B[39mplot_topology()\n",
      "\u001B[0;31mTypeError\u001B[0m: __init__() got an unexpected keyword argument 'n_nodes'"
     ]
    }
   ],
   "execution_count": 2
  },
  {
   "metadata": {},
   "cell_type": "markdown",
   "source": "## Fixed Aleatory Directed Graph",
   "id": "744c345a7eaddb47"
  },
  {
   "metadata": {
    "ExecuteTime": {
     "end_time": "2024-07-29T02:19:52.169920Z",
     "start_time": "2024-07-29T02:19:52.169342Z"
    }
   },
   "cell_type": "code",
   "source": [
    "N_NODES = 6\n",
    "N_EDGES = 6\n",
    "V_TOPOLOGY = 2\n",
    "\n",
    "o_CBNTopology = GlobalTopology(n_nodes=N_NODES, n_edges=N_EDGES, v_topology=V_TOPOLOGY)\n",
    "o_CBNTopology.generate_networkx_graph()\n",
    "o_CBNTopology.plot_topology()"
   ],
   "id": "f114075c632f30d2",
   "outputs": [],
   "execution_count": null
  },
  {
   "metadata": {},
   "cell_type": "markdown",
   "source": "# Circular Directed Graph",
   "id": "b657e014a7274eee"
  },
  {
   "metadata": {},
   "cell_type": "code",
   "source": [
    "N_NODES = 6\n",
    "N_EDGES = None\n",
    "V_TOPOLOGY = 3\n",
    "\n",
    "o_CBNTopology = GlobalTopology(n_nodes=N_NODES, n_edges=N_EDGES, v_topology=V_TOPOLOGY)\n",
    "o_CBNTopology.generate_networkx_graph()\n",
    "o_CBNTopology.plot_topology()"
   ],
   "id": "b8e2e44bc91c617c",
   "outputs": [],
   "execution_count": null
  },
  {
   "metadata": {},
   "cell_type": "markdown",
   "source": "# Linear Directed Graph (Path)",
   "id": "28edeedf4f603265"
  },
  {
   "metadata": {},
   "cell_type": "code",
   "source": [
    "N_NODES = 6\n",
    "N_EDGES = None\n",
    "V_TOPOLOGY = 4\n",
    "\n",
    "o_CBNTopology = GlobalTopology(n_nodes=N_NODES, n_edges=N_EDGES, v_topology=V_TOPOLOGY)\n",
    "o_CBNTopology.generate_networkx_graph()\n",
    "o_CBNTopology.plot_topology()"
   ],
   "id": "d477c5d50dc5f568",
   "outputs": [],
   "execution_count": null
  },
  {
   "metadata": {},
   "cell_type": "markdown",
   "source": "## Gn Directed Graph (Networkx)",
   "id": "b0f0f1eeaf76dedd"
  },
  {
   "metadata": {},
   "cell_type": "code",
   "source": [
    "N_NODES = 6\n",
    "N_EDGES = None\n",
    "V_TOPOLOGY = 5\n",
    "\n",
    "o_CBNTopology = GlobalTopology(n_nodes=N_NODES, n_edges=N_EDGES, v_topology=V_TOPOLOGY)\n",
    "o_CBNTopology.generate_networkx_graph()\n",
    "o_CBNTopology.plot_topology()"
   ],
   "id": "7a7f8f3640de7164",
   "outputs": [],
   "execution_count": null
  },
  {
   "metadata": {},
   "cell_type": "markdown",
   "source": "## Gnc Directed Graph (Networkx)",
   "id": "b237072f6f702e15"
  },
  {
   "metadata": {},
   "cell_type": "code",
   "source": [
    "N_NODES = 6\n",
    "N_EDGES = None\n",
    "V_TOPOLOGY = 6\n",
    "\n",
    "o_CBNTopology = GlobalTopology(n_nodes=N_NODES, n_edges=N_EDGES, v_topology=V_TOPOLOGY)\n",
    "o_CBNTopology.generate_networkx_graph()\n",
    "o_CBNTopology.plot_topology()"
   ],
   "id": "558174c484af51d4",
   "outputs": [],
   "execution_count": null
  }
 ],
 "metadata": {
  "kernelspec": {
   "display_name": "Python 3",
   "language": "python",
   "name": "python3"
  },
  "language_info": {
   "codemirror_mode": {
    "name": "ipython",
    "version": 2
   },
   "file_extension": ".py",
   "mimetype": "text/x-python",
   "name": "python",
   "nbconvert_exporter": "python",
   "pygments_lexer": "ipython2",
   "version": "2.7.6"
  }
 },
 "nbformat": 4,
 "nbformat_minor": 5
}
