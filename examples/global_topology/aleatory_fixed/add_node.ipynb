{
 "cells": [
  {
   "cell_type": "code",
   "execution_count": null,
   "id": "initial_id",
   "metadata": {
    "collapsed": true
   },
   "outputs": [],
   "source": [
    "from matplotlib import pyplot as plt\n",
    "from classes.localtemplates import LocalNetworkTemplate\n",
    "from classes.globaltopology import GlobalTopology\n",
    "from classes.cbnetwork import CBN\n",
    "from classes.globaltopology import AleatoryFixedDigraph\n",
    "\n",
    "# Parameters\n",
    "N_LOCAL_NETWORKS = 6\n",
    "N_VARS_NETWORK = 5\n",
    "V_TOPOLOGY = 2\n",
    "N_EDGES = 7\n",
    "N_INPUT_VARS = 2\n",
    "N_OUTPUT_VARS = 2\n",
    "N_MAX_CLAUSES = 2\n",
    "N_MAX_LITERALS = 2\n",
    "base_graph = None\n",
    "\n",
    "# GENERATE THE LOCAL NETWORK TEMPLATE\n",
    "o_template = LocalNetworkTemplate(v_topology=V_TOPOLOGY,\n",
    "                                  n_vars_network=N_VARS_NETWORK,\n",
    "                                  n_input_variables=N_INPUT_VARS,\n",
    "                                  n_output_variables=N_OUTPUT_VARS,\n",
    "                                  n_max_of_clauses=N_MAX_CLAUSES,\n",
    "                                  n_max_of_literals=N_MAX_LITERALS)\n",
    "\n",
    "o_base_graph = None\n",
    "for n_edges in range(N_LOCAL_NETWORKS-1, N_EDGES + 5):\n",
    "    # GENERATE THE GLOBAL TOPOLOGY\n",
    "    if o_base_graph is None:\n",
    "        o_global_topology = AleatoryFixedDigraph(n_nodes=N_LOCAL_NETWORKS, n_edges=n_edges)\n",
    "    else:\n",
    "        o_global_topology = AleatoryFixedDigraph(n_nodes=N_LOCAL_NETWORKS, n_edges=n_edges,\n",
    "                                                 o_base_global_topology=o_base_graph)\n",
    "    \n",
    "    o_base_graph = o_global_topology\n",
    "    print(o_base_graph.get_edges())\n",
    "\n",
    "    # Create a new figure and axis for each plot\n",
    "    fig, ax = plt.subplots()\n",
    "    o_global_topology.plot_topology(ax=ax)\n",
    "    plt.show()\n"
   ]
  }
 ],
 "metadata": {
  "kernelspec": {
   "display_name": "Python 3",
   "language": "python",
   "name": "python3"
  },
  "language_info": {
   "codemirror_mode": {
    "name": "ipython",
    "version": 2
   },
   "file_extension": ".py",
   "mimetype": "text/x-python",
   "name": "python",
   "nbconvert_exporter": "python",
   "pygments_lexer": "ipython2",
   "version": "2.7.6"
  }
 },
 "nbformat": 4,
 "nbformat_minor": 5
}
