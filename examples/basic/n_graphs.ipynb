{
 "cells": [
  {
   "metadata": {},
   "cell_type": "markdown",
   "source": "# GENERATED COUPLED BOOLEAN NETWORK EXAMPLE",
   "id": "956a72b6ee964086"
  },
  {
   "cell_type": "code",
   "id": "initial_id",
   "metadata": {
    "collapsed": true,
    "ExecuteTime": {
     "end_time": "2024-06-06T01:03:07.135866Z",
     "start_time": "2024-06-06T01:03:06.521370Z"
    }
   },
   "source": [
    "# local imports\n",
    "from classes.cbnetwork import CBN\n",
    "from classes.globaltopology import GlobalTopology"
   ],
   "outputs": [],
   "execution_count": 1
  },
  {
   "metadata": {},
   "cell_type": "markdown",
   "source": "## Supported Topologies",
   "id": "9de4a919c6537e00"
  },
  {
   "metadata": {
    "ExecuteTime": {
     "end_time": "2024-06-06T01:03:07.146638Z",
     "start_time": "2024-06-06T01:03:07.138752Z"
    }
   },
   "cell_type": "code",
   "source": [
    "# show the kinds of topologies supported\n",
    "GlobalTopology.show_allowed_topologies()"
   ],
   "id": "21631b3242d5fa5a",
   "outputs": [
    {
     "name": "stdout",
     "output_type": "stream",
     "text": [
      "==================================================\n",
      "LIST OF ALLOWED TOPOLOGIES\n",
      "1 - complete_graph\n",
      "2 - binomial_tree\n",
      "3 - cycle_graph\n",
      "4 - path_graph\n",
      "5 - gn_graph\n",
      "6 - gnc_graph\n",
      "7 - linear_graph\n",
      "8 - aleatory_digraph\n"
     ]
    }
   ],
   "execution_count": 2
  },
  {
   "metadata": {},
   "cell_type": "markdown",
   "source": "## CBN Parameters and Creation",
   "id": "6accb355e684b13f"
  },
  {
   "metadata": {
    "ExecuteTime": {
     "end_time": "2024-06-06T01:03:07.157269Z",
     "start_time": "2024-06-06T01:03:07.148858Z"
    }
   },
   "cell_type": "code",
   "source": [
    "# parameters\n",
    "n_local_networks = 6\n",
    "n_var_network = 5\n",
    "n_output_variables = 2\n",
    "n_clauses_function = 2\n",
    "v_topology = 8\n",
    "\n",
    "GlobalTopology.show_allowed_topologies()"
   ],
   "id": "44c898f4cd864e8",
   "outputs": [
    {
     "name": "stdout",
     "output_type": "stream",
     "text": [
      "==================================================\n",
      "LIST OF ALLOWED TOPOLOGIES\n",
      "1 - complete_graph\n",
      "2 - binomial_tree\n",
      "3 - cycle_graph\n",
      "4 - path_graph\n",
      "5 - gn_graph\n",
      "6 - gnc_graph\n",
      "7 - linear_graph\n",
      "8 - aleatory_digraph\n"
     ]
    }
   ],
   "execution_count": 3
  },
  {
   "metadata": {
    "ExecuteTime": {
     "end_time": "2024-06-06T01:03:07.592515Z",
     "start_time": "2024-06-06T01:03:07.160743Z"
    }
   },
   "cell_type": "code",
   "source": [
    "o_cbn = CBN.generate_aleatory_cbn_by_topology(n_local_networks=n_local_networks,\n",
    "                                              n_var_network=n_var_network,\n",
    "                                              v_topology=v_topology,\n",
    "                                              n_output_variables=n_output_variables)"
   ],
   "id": "3c126f307f64820a",
   "outputs": [
    {
     "name": "stdout",
     "output_type": "stream",
     "text": [
      "**************************************************\n",
      "CBN GENERATION\n"
     ]
    },
    {
     "ename": "TypeError",
     "evalue": "'<' not supported between instances of 'int' and 'NoneType'",
     "output_type": "error",
     "traceback": [
      "\u001B[0;31m---------------------------------------------------------------------------\u001B[0m",
      "\u001B[0;31mTypeError\u001B[0m                                 Traceback (most recent call last)",
      "Cell \u001B[0;32mIn[4], line 1\u001B[0m\n\u001B[0;32m----> 1\u001B[0m o_cbn \u001B[38;5;241m=\u001B[39m \u001B[43mCBN\u001B[49m\u001B[38;5;241;43m.\u001B[39;49m\u001B[43mgenerate_aleatory_cbn_by_topology\u001B[49m\u001B[43m(\u001B[49m\u001B[43mn_local_networks\u001B[49m\u001B[38;5;241;43m=\u001B[39;49m\u001B[43mn_local_networks\u001B[49m\u001B[43m,\u001B[49m\n\u001B[1;32m      2\u001B[0m \u001B[43m                                              \u001B[49m\u001B[43mn_var_network\u001B[49m\u001B[38;5;241;43m=\u001B[39;49m\u001B[43mn_var_network\u001B[49m\u001B[43m,\u001B[49m\n\u001B[1;32m      3\u001B[0m \u001B[43m                                              \u001B[49m\u001B[43mv_topology\u001B[49m\u001B[38;5;241;43m=\u001B[39;49m\u001B[43mv_topology\u001B[49m\u001B[43m,\u001B[49m\n\u001B[1;32m      4\u001B[0m \u001B[43m                                              \u001B[49m\u001B[43mn_output_variables\u001B[49m\u001B[38;5;241;43m=\u001B[39;49m\u001B[43mn_output_variables\u001B[49m\u001B[43m)\u001B[49m\n",
      "File \u001B[0;32m~/Projects/cbnetwork/classes/cbnetwork.py:162\u001B[0m, in \u001B[0;36mCBN.generate_aleatory_cbn_by_topology\u001B[0;34m(n_local_networks, n_var_network, v_topology, n_output_variables, n_input_variables)\u001B[0m\n\u001B[1;32m    160\u001B[0m \u001B[38;5;66;03m# generate the CBN topology\u001B[39;00m\n\u001B[1;32m    161\u001B[0m o_global_topology \u001B[38;5;241m=\u001B[39m GlobalTopology(n_nodes\u001B[38;5;241m=\u001B[39mn_local_networks,v_topology\u001B[38;5;241m=\u001B[39mv_topology)\n\u001B[0;32m--> 162\u001B[0m \u001B[43mo_global_topology\u001B[49m\u001B[38;5;241;43m.\u001B[39;49m\u001B[43mgenerate_networkx_graph\u001B[49m\u001B[43m(\u001B[49m\u001B[43m)\u001B[49m\n\u001B[1;32m    163\u001B[0m l_relations \u001B[38;5;241m=\u001B[39m o_global_topology\u001B[38;5;241m.\u001B[39mget_edges()\n\u001B[1;32m    165\u001B[0m \u001B[38;5;66;03m# search the last variable from the local network variables\u001B[39;00m\n",
      "File \u001B[0;32m~/Projects/cbnetwork/classes/globaltopology.py:86\u001B[0m, in \u001B[0;36mGlobalTopology.generate_networkx_graph\u001B[0;34m(self)\u001B[0m\n\u001B[1;32m     84\u001B[0m     o_graph \u001B[38;5;241m=\u001B[39m \u001B[38;5;28mself\u001B[39m\u001B[38;5;241m.\u001B[39mgenerate_linear_digraph()\n\u001B[1;32m     85\u001B[0m \u001B[38;5;28;01melse\u001B[39;00m:\n\u001B[0;32m---> 86\u001B[0m     o_graph \u001B[38;5;241m=\u001B[39m \u001B[38;5;28;43mself\u001B[39;49m\u001B[38;5;241;43m.\u001B[39;49m\u001B[43mgenerate_aleatory_digraph\u001B[49m\u001B[43m(\u001B[49m\u001B[43m)\u001B[49m\n\u001B[1;32m     88\u001B[0m \u001B[38;5;66;03m# Renaming the label of the nodes for beginning in 1\u001B[39;00m\n\u001B[1;32m     89\u001B[0m mapping \u001B[38;5;241m=\u001B[39m {node: node \u001B[38;5;241m+\u001B[39m \u001B[38;5;241m1\u001B[39m \u001B[38;5;28;01mfor\u001B[39;00m node \u001B[38;5;129;01min\u001B[39;00m o_graph\u001B[38;5;241m.\u001B[39mnodes()}\n",
      "File \u001B[0;32m~/Projects/cbnetwork/classes/globaltopology.py:128\u001B[0m, in \u001B[0;36mGlobalTopology.generate_aleatory_digraph\u001B[0;34m(self)\u001B[0m\n\u001B[1;32m    125\u001B[0m     G\u001B[38;5;241m.\u001B[39madd_edge(u, i)\n\u001B[1;32m    127\u001B[0m \u001B[38;5;66;03m# Add additional edges randomly while ensuring no more than two incoming edges per node\u001B[39;00m\n\u001B[0;32m--> 128\u001B[0m \u001B[38;5;28;01mwhile\u001B[39;00m \u001B[43mG\u001B[49m\u001B[38;5;241;43m.\u001B[39;49m\u001B[43mnumber_of_edges\u001B[49m\u001B[43m(\u001B[49m\u001B[43m)\u001B[49m\u001B[43m \u001B[49m\u001B[38;5;241;43m<\u001B[39;49m\u001B[43m \u001B[49m\u001B[38;5;28;43mself\u001B[39;49m\u001B[38;5;241;43m.\u001B[39;49m\u001B[43mn_max_edges\u001B[49m:\n\u001B[1;32m    129\u001B[0m     u \u001B[38;5;241m=\u001B[39m random\u001B[38;5;241m.\u001B[39mrandint(\u001B[38;5;241m0\u001B[39m, \u001B[38;5;28mself\u001B[39m\u001B[38;5;241m.\u001B[39mn_nodes \u001B[38;5;241m-\u001B[39m \u001B[38;5;241m1\u001B[39m)\n\u001B[1;32m    130\u001B[0m     v \u001B[38;5;241m=\u001B[39m random\u001B[38;5;241m.\u001B[39mrandint(\u001B[38;5;241m0\u001B[39m, \u001B[38;5;28mself\u001B[39m\u001B[38;5;241m.\u001B[39mn_nodes \u001B[38;5;241m-\u001B[39m \u001B[38;5;241m1\u001B[39m)\n",
      "\u001B[0;31mTypeError\u001B[0m: '<' not supported between instances of 'int' and 'NoneType'"
     ]
    }
   ],
   "execution_count": 4
  },
  {
   "metadata": {},
   "cell_type": "markdown",
   "source": "## Plot Gobal Graph",
   "id": "8336ffd660f4c54c"
  },
  {
   "metadata": {},
   "cell_type": "code",
   "source": "o_cbn.o_global_topology.plot_topology()",
   "id": "54ea5392c6006800",
   "outputs": [],
   "execution_count": null
  },
  {
   "metadata": {},
   "cell_type": "markdown",
   "source": "## Find Stable Attractor Fields",
   "id": "5e0439e32bfd40ce"
  },
  {
   "metadata": {},
   "cell_type": "markdown",
   "source": "",
   "id": "deb4420c23e496be"
  },
  {
   "metadata": {},
   "cell_type": "code",
   "source": [
    "o_cbn.find_local_attractors_sequential()\n",
    "# o_cbn.show_attractors()\n",
    "\n",
    "o_cbn.find_compatible_pairs()\n",
    "# o_cbn.show_attractor_pairs()\n",
    "\n",
    "o_cbn.mount_stable_attractor_fields()\n",
    "# o_cbn.show_attractors_fields()"
   ],
   "id": "35bdee7459f5c38",
   "outputs": [],
   "execution_count": null
  },
  {
   "metadata": {},
   "cell_type": "code",
   "source": [
    "# show kind of coupling signals\n",
    "o_cbn.show_coupled_signals_kind()"
   ],
   "id": "3f67ec568486fe7a",
   "outputs": [],
   "execution_count": null
  }
 ],
 "metadata": {
  "kernelspec": {
   "display_name": "Python 3",
   "language": "python",
   "name": "python3"
  },
  "language_info": {
   "codemirror_mode": {
    "name": "ipython",
    "version": 2
   },
   "file_extension": ".py",
   "mimetype": "text/x-python",
   "name": "python",
   "nbconvert_exporter": "python",
   "pygments_lexer": "ipython2",
   "version": "2.7.6"
  }
 },
 "nbformat": 4,
 "nbformat_minor": 5
}
