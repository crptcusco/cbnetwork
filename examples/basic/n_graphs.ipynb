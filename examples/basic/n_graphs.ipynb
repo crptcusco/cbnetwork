{
 "cells": [
  {
   "metadata": {},
   "cell_type": "markdown",
   "source": "# GENERATED COUPLED BOOLEAN NETWORK EXAMPLE",
   "id": "956a72b6ee964086"
  },
  {
   "cell_type": "code",
   "id": "initial_id",
   "metadata": {
    "collapsed": true
   },
   "source": [
    "# local imports\n",
    "from classes.cbnetwork import CBN"
   ],
   "outputs": [],
   "execution_count": null
  },
  {
   "metadata": {},
   "cell_type": "markdown",
   "source": "## Supported Topologies",
   "id": "9de4a919c6537e00"
  },
  {
   "metadata": {},
   "cell_type": "code",
   "source": [
    "# show the kinds of topologies supported\n",
    "CBN.show_allowed_topologies()"
   ],
   "id": "21631b3242d5fa5a",
   "outputs": [],
   "execution_count": null
  },
  {
   "metadata": {},
   "cell_type": "markdown",
   "source": "## CBN Parameters and Creation",
   "id": "6accb355e684b13f"
  },
  {
   "metadata": {},
   "cell_type": "code",
   "source": [
    "# parameters\n",
    "n_local_networks = 6\n",
    "n_var_network = 5\n",
    "n_output_variables = 2\n",
    "n_clauses_function = 2\n",
    "v_topology = 3\n",
    "\n",
    "o_cbn = CBN.generate_aleatory_cbn_by_topology(n_local_networks=n_local_networks,\n",
    "                                              n_var_network=n_var_network,\n",
    "                                              v_topology=v_topology,\n",
    "                                              n_output_variables=n_output_variables)"
   ],
   "id": "44c898f4cd864e8",
   "outputs": [],
   "execution_count": null
  },
  {
   "metadata": {},
   "cell_type": "markdown",
   "source": "## Plot Gobal Graph",
   "id": "8336ffd660f4c54c"
  },
  {
   "metadata": {},
   "cell_type": "code",
   "source": "o_cbn.plot_global_graph()",
   "id": "54ea5392c6006800",
   "outputs": [],
   "execution_count": null
  },
  {
   "metadata": {},
   "cell_type": "markdown",
   "source": "## Find Stable Attractor Fields",
   "id": "5e0439e32bfd40ce"
  },
  {
   "metadata": {},
   "cell_type": "markdown",
   "source": "",
   "id": "deb4420c23e496be"
  },
  {
   "metadata": {},
   "cell_type": "code",
   "source": [
    "o_cbn.find_local_attractors_optimized()\n",
    "# o_cbn.show_attractors()\n",
    "\n",
    "o_cbn.find_compatible_pairs()\n",
    "# o_cbn.show_attractor_pairs()\n",
    "\n",
    "o_cbn.find_stable_attractor_fields()\n",
    "# o_cbn.show_attractors_fields()"
   ],
   "id": "35bdee7459f5c38",
   "outputs": [],
   "execution_count": null
  },
  {
   "metadata": {},
   "cell_type": "code",
   "source": [
    "# show kind of coupling signals\n",
    "o_cbn.show_coupled_signals_kind()"
   ],
   "id": "3f67ec568486fe7a",
   "outputs": [],
   "execution_count": null
  }
 ],
 "metadata": {
  "kernelspec": {
   "display_name": "Python 3",
   "language": "python",
   "name": "python3"
  },
  "language_info": {
   "codemirror_mode": {
    "name": "ipython",
    "version": 2
   },
   "file_extension": ".py",
   "mimetype": "text/x-python",
   "name": "python",
   "nbconvert_exporter": "python",
   "pygments_lexer": "ipython2",
   "version": "2.7.6"
  }
 },
 "nbformat": 4,
 "nbformat_minor": 5
}
