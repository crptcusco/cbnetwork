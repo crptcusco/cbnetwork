{
 "cells": [
  {
   "metadata": {},
   "cell_type": "markdown",
   "source": "# GENERATED COUPLED BOOLEAN NETWORK EXAMPLE",
   "id": "956a72b6ee964086"
  },
  {
   "cell_type": "code",
   "id": "initial_id",
   "metadata": {
    "collapsed": true,
    "ExecuteTime": {
     "end_time": "2024-06-07T00:20:52.646604Z",
     "start_time": "2024-06-07T00:20:51.980004Z"
    }
   },
   "source": [
    "# local imports\n",
    "from classes.cbnetwork import CBN\n",
    "from classes.globaltopology import GlobalTopology"
   ],
   "outputs": [],
   "execution_count": 1
  },
  {
   "metadata": {},
   "cell_type": "markdown",
   "source": "## Supported Topologies",
   "id": "9de4a919c6537e00"
  },
  {
   "metadata": {
    "ExecuteTime": {
     "end_time": "2024-06-07T00:20:52.654949Z",
     "start_time": "2024-06-07T00:20:52.648978Z"
    }
   },
   "cell_type": "code",
   "source": [
    "# show the kinds of topologies supported\n",
    "GlobalTopology.show_allowed_topologies()"
   ],
   "id": "21631b3242d5fa5a",
   "outputs": [
    {
     "name": "stdout",
     "output_type": "stream",
     "text": [
      "==================================================\n",
      "LIST OF ALLOWED TOPOLOGIES\n",
      "1 - complete_graph\n",
      "2 - aleatory_digraph\n",
      "3 - cycle_graph\n",
      "4 - path_graph\n",
      "5 - gn_graph\n",
      "6 - gnc_graph\n"
     ]
    }
   ],
   "execution_count": 2
  },
  {
   "metadata": {},
   "cell_type": "markdown",
   "source": "## CBN Parameters and Creation",
   "id": "6accb355e684b13f"
  },
  {
   "metadata": {
    "ExecuteTime": {
     "end_time": "2024-06-07T00:20:52.668655Z",
     "start_time": "2024-06-07T00:20:52.657231Z"
    }
   },
   "cell_type": "code",
   "source": [
    "from classes.localtemplates import AleatoryTemplate\n",
    "\n",
    "# parameters\n",
    "n_local_networks = 6\n",
    "n_var_network = 12\n",
    "n_output_variables = 2\n",
    "n_input_variables = 2\n",
    "n_clauses_function = 2\n",
    "v_topology = 2\n",
    "n_edges = 2\n",
    "\n",
    "o_local_template = AleatoryTemplate.generate_aleatory_template(n_var_network=n_var_network,\n",
    "                                                               n_input_variables=n_input_variables,\n",
    "                                                               n_output_variables=n_output_variables,\n",
    "                                                               v_topology=v_topology)\n",
    "\n",
    "o_cbn = CBN.generate_aleatory_cbn_by_topology(n_local_networks=n_local_networks, n_var_network=n_var_network,\n",
    "                                              v_topology=v_topology, n_output_variables=n_output_variables,\n",
    "                                              n_input_variables=n_input_variables, local_template=o_local_template,\n",
    "                                              n_edges=n_edges)"
   ],
   "id": "44c898f4cd864e8",
   "outputs": [
    {
     "name": "stdout",
     "output_type": "stream",
     "text": [
      "**************************************************\n",
      "CBN GENERATION\n"
     ]
    }
   ],
   "execution_count": 3
  },
  {
   "metadata": {},
   "cell_type": "markdown",
   "source": "## Plot Global Graph",
   "id": "8336ffd660f4c54c"
  },
  {
   "metadata": {
    "ExecuteTime": {
     "end_time": "2024-06-07T00:20:52.910047Z",
     "start_time": "2024-06-07T00:20:52.670454Z"
    }
   },
   "cell_type": "code",
   "source": "o_cbn.plot_topology()",
   "id": "54ea5392c6006800",
   "outputs": [
    {
     "data": {
      "text/plain": [
       "<Figure size 640x480 with 1 Axes>"
      ],
      "image/png": "[encoded data removed]"
     },
     "metadata": {},
     "output_type": "display_data"
    }
   ],
   "execution_count": 4
  },
  {
   "metadata": {},
   "cell_type": "markdown",
   "source": "## Find Stable Attractor Fields",
   "id": "5e0439e32bfd40ce"
  },
  {
   "metadata": {},
   "cell_type": "markdown",
   "source": "",
   "id": "deb4420c23e496be"
  },
  {
   "metadata": {
    "ExecuteTime": {
     "end_time": "2024-06-07T00:20:53.546010Z",
     "start_time": "2024-06-07T00:20:52.913377Z"
    }
   },
   "cell_type": "code",
   "source": [
    "o_cbn.find_local_attractors_sequential()\n",
    "# o_cbn.show_attractors()\n",
    "\n",
    "o_cbn.find_compatible_pairs()\n",
    "# o_cbn.show_attractor_pairs()\n",
    "\n",
    "o_cbn.mount_stable_attractor_fields()\n",
    "# o_cbn.show_attractors_fields()"
   ],
   "id": "35bdee7459f5c38",
   "outputs": [
    {
     "name": "stdout",
     "output_type": "stream",
     "text": [
      "**************************************************\n",
      "FIND LOCAL ATTRACTORS\n",
      "--------------------------------------------------\n",
      "FIND ATTRACTORS FOR NETWORK: 1\n",
      "--------------------------------------------------\n",
      "Network: 1  Local Scene: None\n"
     ]
    },
    {
     "ename": "KeyError",
     "evalue": "<satispy.cnf.Variable object at 0x71ed6616cfd0>",
     "output_type": "error",
     "traceback": [
      "\u001B[0;31m---------------------------------------------------------------------------\u001B[0m",
      "\u001B[0;31mKeyError\u001B[0m                                  Traceback (most recent call last)",
      "Cell \u001B[0;32mIn[5], line 1\u001B[0m\n\u001B[0;32m----> 1\u001B[0m \u001B[43mo_cbn\u001B[49m\u001B[38;5;241;43m.\u001B[39;49m\u001B[43mfind_local_attractors_sequential\u001B[49m\u001B[43m(\u001B[49m\u001B[43m)\u001B[49m\n\u001B[1;32m      2\u001B[0m \u001B[38;5;66;03m# o_cbn.show_attractors()\u001B[39;00m\n\u001B[1;32m      4\u001B[0m o_cbn\u001B[38;5;241m.\u001B[39mfind_compatible_pairs()\n",
      "File \u001B[0;32m~/Projects/cbnetwork/classes/cbnetwork.py:233\u001B[0m, in \u001B[0;36mCBN.find_local_attractors_sequential\u001B[0;34m(self)\u001B[0m\n\u001B[1;32m    229\u001B[0m     o_local_network \u001B[38;5;241m=\u001B[39m LocalNetwork\u001B[38;5;241m.\u001B[39mfind_local_attractors(o_local_network\u001B[38;5;241m=\u001B[39mo_local_network,\n\u001B[1;32m    230\u001B[0m                                                          l_local_scenes\u001B[38;5;241m=\u001B[39ml_local_scenes)\n\u001B[1;32m    231\u001B[0m \u001B[38;5;28;01melse\u001B[39;00m:\n\u001B[1;32m    232\u001B[0m     \u001B[38;5;66;03m# calculate the attractors for local network without coupling signals\u001B[39;00m\n\u001B[0;32m--> 233\u001B[0m     o_local_network \u001B[38;5;241m=\u001B[39m \u001B[43mLocalNetwork\u001B[49m\u001B[38;5;241;43m.\u001B[39;49m\u001B[43mfind_local_attractors\u001B[49m\u001B[43m(\u001B[49m\u001B[43mo_local_network\u001B[49m\u001B[38;5;241;43m=\u001B[39;49m\u001B[43mo_local_network\u001B[49m\u001B[43m,\u001B[49m\n\u001B[1;32m    234\u001B[0m \u001B[43m                                                         \u001B[49m\u001B[43ml_local_scenes\u001B[49m\u001B[38;5;241;43m=\u001B[39;49m\u001B[43ml_local_scenes\u001B[49m\u001B[43m)\u001B[49m\n\u001B[1;32m    236\u001B[0m \u001B[38;5;66;03m# Update the coupling signals to analyzed\u001B[39;00m\n\u001B[1;32m    237\u001B[0m \u001B[38;5;28mself\u001B[39m\u001B[38;5;241m.\u001B[39mprocess_kind_signal(o_local_network)\n",
      "File \u001B[0;32m~/Projects/cbnetwork/classes/localnetwork.py:67\u001B[0m, in \u001B[0;36mLocalNetwork.find_local_attractors\u001B[0;34m(o_local_network, l_local_scenes)\u001B[0m\n\u001B[1;32m     65\u001B[0m \u001B[38;5;28;01mif\u001B[39;00m l_local_scenes \u001B[38;5;129;01mis\u001B[39;00m \u001B[38;5;28;01mNone\u001B[39;00m:\n\u001B[1;32m     66\u001B[0m     o_local_scene \u001B[38;5;241m=\u001B[39m LocalScene(index\u001B[38;5;241m=\u001B[39m\u001B[38;5;241m1\u001B[39m)\n\u001B[0;32m---> 67\u001B[0m     o_local_scene\u001B[38;5;241m.\u001B[39ml_attractors \u001B[38;5;241m=\u001B[39m \u001B[43mLocalNetwork\u001B[49m\u001B[38;5;241;43m.\u001B[39;49m\u001B[43mfind_local_scene_attractors\u001B[49m\u001B[43m(\u001B[49m\u001B[43mo_local_network\u001B[49m\u001B[38;5;241;43m=\u001B[39;49m\u001B[43mo_local_network\u001B[49m\u001B[43m,\u001B[49m\n\u001B[1;32m     68\u001B[0m \u001B[43m                                                                          \u001B[49m\u001B[43mscene\u001B[49m\u001B[38;5;241;43m=\u001B[39;49m\u001B[38;5;28;43;01mNone\u001B[39;49;00m\u001B[43m)\u001B[49m\n\u001B[1;32m     69\u001B[0m     o_local_network\u001B[38;5;241m.\u001B[39ml_local_scenes\u001B[38;5;241m.\u001B[39mappend(o_local_scene)\n\u001B[1;32m     71\u001B[0m     o_local_network\u001B[38;5;241m.\u001B[39mcount_attractor \u001B[38;5;241m=\u001B[39m \u001B[38;5;28mlen\u001B[39m(o_local_scene\u001B[38;5;241m.\u001B[39ml_attractors)\n",
      "File \u001B[0;32m~/Projects/cbnetwork/classes/localnetwork.py:252\u001B[0m, in \u001B[0;36mLocalNetwork.find_local_scene_attractors\u001B[0;34m(o_local_network, scene)\u001B[0m\n\u001B[1;32m    250\u001B[0m         m_response_sat\u001B[38;5;241m.\u001B[39mappend([])\n\u001B[1;32m    251\u001B[0m         \u001B[38;5;28;01mfor\u001B[39;00m i \u001B[38;5;129;01min\u001B[39;00m o_local_network\u001B[38;5;241m.\u001B[39ml_var_total:\n\u001B[0;32m--> 252\u001B[0m             m_response_sat[j]\u001B[38;5;241m.\u001B[39mappend(\u001B[43mo_solution\u001B[49m\u001B[43m[\u001B[49m\u001B[43mo_local_network\u001B[49m\u001B[38;5;241;43m.\u001B[39;49m\u001B[43mdic_var_cnf\u001B[49m\u001B[43m[\u001B[49m\u001B[38;5;124;43mf\u001B[39;49m\u001B[38;5;124;43m'\u001B[39;49m\u001B[38;5;132;43;01m{\u001B[39;49;00m\u001B[43mi\u001B[49m\u001B[38;5;132;43;01m}\u001B[39;49;00m\u001B[38;5;124;43m_\u001B[39;49m\u001B[38;5;132;43;01m{\u001B[39;49;00m\u001B[43mj\u001B[49m\u001B[38;5;132;43;01m}\u001B[39;49;00m\u001B[38;5;124;43m'\u001B[39;49m\u001B[43m]\u001B[49m\u001B[43m]\u001B[49m)\n\u001B[1;32m    254\u001B[0m m_aux_sat \u001B[38;5;241m=\u001B[39m []\n\u001B[1;32m    255\u001B[0m \u001B[38;5;28;01mif\u001B[39;00m \u001B[38;5;28mlen\u001B[39m(m_response_sat) \u001B[38;5;241m!=\u001B[39m \u001B[38;5;241m0\u001B[39m:\n\u001B[1;32m    256\u001B[0m     \u001B[38;5;66;03m# TRANSFORM BOOLEAN TO MATRIZ BOOLEAN RESPONSE\u001B[39;00m\n",
      "File \u001B[0;32m~/Projects/cbnetwork/venv/lib/python3.10/site-packages/satispy/solution.py:8\u001B[0m, in \u001B[0;36mSolution.__getitem__\u001B[0;34m(self, i)\u001B[0m\n\u001B[1;32m      7\u001B[0m \u001B[38;5;28;01mdef\u001B[39;00m \u001B[38;5;21m__getitem__\u001B[39m(\u001B[38;5;28mself\u001B[39m, i):\n\u001B[0;32m----> 8\u001B[0m     \u001B[38;5;28;01mreturn\u001B[39;00m \u001B[38;5;28;43mself\u001B[39;49m\u001B[38;5;241;43m.\u001B[39;49m\u001B[43mvarmap\u001B[49m\u001B[43m[\u001B[49m\u001B[43mi\u001B[49m\u001B[43m]\u001B[49m\n",
      "\u001B[0;31mKeyError\u001B[0m: <satispy.cnf.Variable object at 0x71ed6616cfd0>"
     ]
    }
   ],
   "execution_count": 5
  },
  {
   "metadata": {},
   "cell_type": "code",
   "source": [
    "# show kind of coupling signals\n",
    "o_cbn.show_coupled_signals_kind()"
   ],
   "id": "3f67ec568486fe7a",
   "outputs": [],
   "execution_count": null
  }
 ],
 "metadata": {
  "kernelspec": {
   "display_name": "Python 3",
   "language": "python",
   "name": "python3"
  },
  "language_info": {
   "codemirror_mode": {
    "name": "ipython",
    "version": 2
   },
   "file_extension": ".py",
   "mimetype": "text/x-python",
   "name": "python",
   "nbconvert_exporter": "python",
   "pygments_lexer": "ipython2",
   "version": "2.7.6"
  }
 },
 "nbformat": 4,
 "nbformat_minor": 5
}
