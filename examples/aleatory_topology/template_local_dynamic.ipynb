{
 "cells": [
  {
   "metadata": {},
   "cell_type": "markdown",
   "source": "# GENERATED COUPLED BOOLEAN NETWORK EXAMPLE",
   "id": "956a72b6ee964086"
  },
  {
   "cell_type": "code",
   "id": "initial_id",
   "metadata": {
    "collapsed": true,
    "ExecuteTime": {
     "end_time": "2024-06-12T16:10:55.404005Z",
     "start_time": "2024-06-12T16:10:55.401591Z"
    }
   },
   "source": [
    "# local imports\n",
    "from classes.cbnetwork import CBN\n",
    "from classes.globaltopology import GlobalTopology"
   ],
   "outputs": [],
   "execution_count": 19
  },
  {
   "metadata": {},
   "cell_type": "markdown",
   "source": "## Supported Topologies",
   "id": "9de4a919c6537e00"
  },
  {
   "metadata": {
    "ExecuteTime": {
     "end_time": "2024-06-12T16:10:55.443713Z",
     "start_time": "2024-06-12T16:10:55.440633Z"
    }
   },
   "cell_type": "code",
   "source": [
    "# show the kinds of topologies supported\n",
    "GlobalTopology.show_allowed_topologies()"
   ],
   "id": "21631b3242d5fa5a",
   "outputs": [
    {
     "name": "stdout",
     "output_type": "stream",
     "text": [
      "==================================================\n",
      "LIST OF ALLOWED TOPOLOGIES\n",
      "1 - complete_graph\n",
      "2 - aleatory_digraph\n",
      "3 - cycle_graph\n",
      "4 - path_graph\n",
      "5 - gn_graph\n",
      "6 - gnc_graph\n"
     ]
    }
   ],
   "execution_count": 20
  },
  {
   "metadata": {},
   "cell_type": "markdown",
   "source": "## CBN Parameters ",
   "id": "6accb355e684b13f"
  },
  {
   "metadata": {
    "ExecuteTime": {
     "end_time": "2024-06-12T16:10:55.470928Z",
     "start_time": "2024-06-12T16:10:55.467905Z"
    }
   },
   "cell_type": "code",
   "source": [
    "from classes.localtemplates import AleatoryTemplate\n",
    "\n",
    "# parameters\n",
    "n_local_networks = 6\n",
    "n_edges = 7\n",
    "n_var_network = 5\n",
    "n_output_variables = 2\n",
    "n_input_variables = 2\n",
    "n_clauses_function = 2\n",
    "v_topology = 2"
   ],
   "id": "44c898f4cd864e8",
   "outputs": [],
   "execution_count": 21
  },
  {
   "metadata": {},
   "cell_type": "markdown",
   "source": "# Generate the local Template",
   "id": "e3234b732fe3e096"
  },
  {
   "metadata": {
    "ExecuteTime": {
     "end_time": "2024-06-12T16:10:55.512920Z",
     "start_time": "2024-06-12T16:10:55.509234Z"
    }
   },
   "cell_type": "code",
   "source": [
    "o_local_template = AleatoryTemplate.generate_aleatory_template(n_var_network=n_var_network,\n",
    "                                                               n_input_variables=n_input_variables,\n",
    "                                                               n_output_variables=n_output_variables,\n",
    "                                                               v_topology=v_topology)\n",
    "\n",
    "o_local_template.show()"
   ],
   "id": "7835dd8d1b458c33",
   "outputs": [
    {
     "name": "stdout",
     "output_type": "stream",
     "text": [
      "Template for Aleatory CBNs\n",
      "--------------------------------------------------------------------------------\n",
      "Local dynamic:\n",
      "6 : [[11], [-10, -9], [-8, -7, 9]]\n",
      "7 : [[-9, -6, 10], [-10, -7, 8]]\n",
      "8 : [[-10], [-7]]\n",
      "9 : [[-8, 6], [-8], [-7, 9]]\n",
      "10 : [[-11], [-10], [-9, -6, 7]]\n",
      "Output variables for coupling signal: [1, 5]\n"
     ]
    }
   ],
   "execution_count": 22
  },
  {
   "metadata": {},
   "cell_type": "markdown",
   "source": "## Generate the CBN from Topology an Local Template",
   "id": "30842a7f43be8d3a"
  },
  {
   "metadata": {
    "ExecuteTime": {
     "end_time": "2024-06-12T16:10:55.522617Z",
     "start_time": "2024-06-12T16:10:55.514170Z"
    }
   },
   "cell_type": "code",
   "source": [
    "o_cbn = CBN.generate_aleatory_cbn_by_topology(n_local_networks=n_local_networks,\n",
    "                                              n_var_network=n_var_network,\n",
    "                                              v_topology=v_topology,\n",
    "                                              n_output_variables=n_output_variables,\n",
    "                                              n_input_variables=n_input_variables, \n",
    "                                              local_template=o_local_template,\n",
    "                                              n_edges=n_edges)"
   ],
   "id": "be196877d052fc2d",
   "outputs": [
    {
     "name": "stdout",
     "output_type": "stream",
     "text": [
      "**************************************************\n",
      "CBN GENERATION\n",
      "--------------------------------------------------\n",
      "Local Network: 1\n",
      "--------------------------------------------------\n",
      "Local Variable index: 1\n",
      "Template Variable index: 6\n",
      "Template Function: [[11], [-10, -9], [-8, -7, 9]]\n",
      "Local Variable Index: 1\n",
      "CNF Function: [[35], [-5, -4], [-3, -2, 4]]\n",
      "--------------------------------------------------\n",
      "Local Variable index: 2\n",
      "Template Variable index: 7\n",
      "Template Function: [[-9, -6, 10], [-10, -7, 8]]\n",
      "Local Variable Index: 2\n",
      "CNF Function: [[-4, -1, 5], [-5, -2, 3]]\n",
      "--------------------------------------------------\n",
      "Local Variable index: 3\n",
      "Template Variable index: 8\n",
      "Template Function: [[-10], [-7]]\n",
      "Local Variable Index: 3\n",
      "CNF Function: [[-5], [-2]]\n",
      "--------------------------------------------------\n",
      "Local Variable index: 4\n",
      "Template Variable index: 9\n",
      "Template Function: [[-8, 6], [-8], [-7, 9]]\n",
      "Local Variable Index: 4\n",
      "CNF Function: [[-3, 1], [-3], [-2, 4]]\n",
      "--------------------------------------------------\n",
      "Local Variable index: 5\n",
      "Template Variable index: 10\n",
      "Template Function: [[-11], [-10], [-9, -6, 7]]\n",
      "Local Variable Index: 5\n",
      "CNF Function: [[35], [-5], [-4, -1, 2]]\n",
      "Local network created : 1\n",
      "--------------------------------------------------\n",
      "--------------------------------------------------\n",
      "Local Network: 2\n",
      "--------------------------------------------------\n",
      "Local Variable index: 6\n",
      "Template Variable index: 6\n",
      "Template Function: [[11], [-10, -9], [-8, -7, 9]]\n",
      "Local Variable Index: 6\n",
      "CNF Function: [[31], [-10, -9], [-8, -7, 9]]\n",
      "--------------------------------------------------\n",
      "Local Variable index: 7\n",
      "Template Variable index: 7\n",
      "Template Function: [[-9, -6, 10], [-10, -7, 8]]\n",
      "Local Variable Index: 7\n",
      "CNF Function: [[-9, -6, 10], [-10, -7, 8]]\n",
      "--------------------------------------------------\n",
      "Local Variable index: 8\n",
      "Template Variable index: 8\n",
      "Template Function: [[-10], [-7]]\n",
      "Local Variable Index: 8\n",
      "CNF Function: [[-10], [-7]]\n",
      "--------------------------------------------------\n",
      "Local Variable index: 9\n",
      "Template Variable index: 9\n",
      "Template Function: [[-8, 6], [-8], [-7, 9]]\n",
      "Local Variable Index: 9\n",
      "CNF Function: [[-8, 6], [-8], [-7, 9]]\n",
      "--------------------------------------------------\n",
      "Local Variable index: 10\n",
      "Template Variable index: 10\n",
      "Template Function: [[-11], [-10], [-9, -6, 7]]\n",
      "Local Variable Index: 10\n",
      "CNF Function: [[31], [-10], [-9, -6, 7]]\n",
      "Local network created : 2\n",
      "--------------------------------------------------\n",
      "--------------------------------------------------\n",
      "Local Network: 3\n",
      "--------------------------------------------------\n",
      "Local Variable index: 11\n",
      "Template Variable index: 6\n",
      "Template Function: [[11], [-10, -9], [-8, -7, 9]]\n",
      "Local Variable Index: 11\n",
      "CNF Function: [[32, 36], [-15, -14], [-13, -12, 14]]\n",
      "--------------------------------------------------\n",
      "Local Variable index: 12\n",
      "Template Variable index: 7\n",
      "Template Function: [[-9, -6, 10], [-10, -7, 8]]\n",
      "Local Variable Index: 12\n",
      "CNF Function: [[-14, -11, 15], [-15, -12, 13]]\n",
      "--------------------------------------------------\n",
      "Local Variable index: 13\n",
      "Template Variable index: 8\n",
      "Template Function: [[-10], [-7]]\n",
      "Local Variable Index: 13\n",
      "CNF Function: [[-15], [-12]]\n",
      "--------------------------------------------------\n",
      "Local Variable index: 14\n",
      "Template Variable index: 9\n",
      "Template Function: [[-8, 6], [-8], [-7, 9]]\n",
      "Local Variable Index: 14\n",
      "CNF Function: [[-13, 11], [-13], [-12, 14]]\n",
      "--------------------------------------------------\n",
      "Local Variable index: 15\n",
      "Template Variable index: 10\n",
      "Template Function: [[-11], [-10], [-9, -6, 7]]\n",
      "Local Variable Index: 15\n",
      "CNF Function: [[32, 36], [-15], [-14, -11, 12]]\n",
      "Local network created : 3\n",
      "--------------------------------------------------\n",
      "--------------------------------------------------\n",
      "Local Network: 4\n",
      "--------------------------------------------------\n",
      "Local Variable index: 16\n",
      "Template Variable index: 6\n",
      "Template Function: [[11], [-10, -9], [-8, -7, 9]]\n",
      "Local Variable Index: 16\n",
      "CNF Function: [[34], [-20, -19], [-18, -17, 19]]\n",
      "--------------------------------------------------\n",
      "Local Variable index: 17\n",
      "Template Variable index: 7\n",
      "Template Function: [[-9, -6, 10], [-10, -7, 8]]\n",
      "Local Variable Index: 17\n",
      "CNF Function: [[-19, -16, 20], [-20, -17, 18]]\n",
      "--------------------------------------------------\n",
      "Local Variable index: 18\n",
      "Template Variable index: 8\n",
      "Template Function: [[-10], [-7]]\n",
      "Local Variable Index: 18\n",
      "CNF Function: [[-20], [-17]]\n",
      "--------------------------------------------------\n",
      "Local Variable index: 19\n",
      "Template Variable index: 9\n",
      "Template Function: [[-8, 6], [-8], [-7, 9]]\n",
      "Local Variable Index: 19\n",
      "CNF Function: [[-18, 16], [-18], [-17, 19]]\n",
      "--------------------------------------------------\n",
      "Local Variable index: 20\n",
      "Template Variable index: 10\n",
      "Template Function: [[-11], [-10], [-9, -6, 7]]\n",
      "Local Variable Index: 20\n",
      "CNF Function: [[34], [-20], [-19, -16, 17]]\n",
      "Local network created : 4\n",
      "--------------------------------------------------\n",
      "--------------------------------------------------\n",
      "Local Network: 5\n",
      "--------------------------------------------------\n",
      "Local Variable index: 21\n",
      "Template Variable index: 6\n",
      "Template Function: [[11], [-10, -9], [-8, -7, 9]]\n",
      "Local Variable Index: 21\n",
      "CNF Function: [[33], [-25, -24], [-23, -22, 24]]\n",
      "--------------------------------------------------\n",
      "Local Variable index: 22\n",
      "Template Variable index: 7\n",
      "Template Function: [[-9, -6, 10], [-10, -7, 8]]\n",
      "Local Variable Index: 22\n",
      "CNF Function: [[-24, -21, 25], [-25, -22, 23]]\n",
      "--------------------------------------------------\n",
      "Local Variable index: 23\n",
      "Template Variable index: 8\n",
      "Template Function: [[-10], [-7]]\n",
      "Local Variable Index: 23\n",
      "CNF Function: [[-25], [-22]]\n",
      "--------------------------------------------------\n",
      "Local Variable index: 24\n",
      "Template Variable index: 9\n",
      "Template Function: [[-8, 6], [-8], [-7, 9]]\n",
      "Local Variable Index: 24\n",
      "CNF Function: [[-23, 21], [-23], [-22, 24]]\n",
      "--------------------------------------------------\n",
      "Local Variable index: 25\n",
      "Template Variable index: 10\n",
      "Template Function: [[-11], [-10], [-9, -6, 7]]\n",
      "Local Variable Index: 25\n",
      "CNF Function: [[33], [-25], [-24, -21, 22]]\n",
      "Local network created : 5\n",
      "--------------------------------------------------\n",
      "--------------------------------------------------\n",
      "Local Network: 6\n",
      "--------------------------------------------------\n",
      "Local Variable index: 26\n",
      "Template Variable index: 6\n",
      "Template Function: [[11], [-10, -9], [-8, -7, 9]]\n",
      "Local Variable Index: 26\n",
      "CNF Function: [[37], [-30, -29], [-28, -27, 29]]\n",
      "--------------------------------------------------\n",
      "Local Variable index: 27\n",
      "Template Variable index: 7\n",
      "Template Function: [[-9, -6, 10], [-10, -7, 8]]\n",
      "Local Variable Index: 27\n",
      "CNF Function: [[-29, -26, 30], [-30, -27, 28]]\n",
      "--------------------------------------------------\n",
      "Local Variable index: 28\n",
      "Template Variable index: 8\n",
      "Template Function: [[-10], [-7]]\n",
      "Local Variable Index: 28\n",
      "CNF Function: [[-30], [-27]]\n",
      "--------------------------------------------------\n",
      "Local Variable index: 29\n",
      "Template Variable index: 9\n",
      "Template Function: [[-8, 6], [-8], [-7, 9]]\n",
      "Local Variable Index: 29\n",
      "CNF Function: [[-28, 26], [-28], [-27, 29]]\n",
      "--------------------------------------------------\n",
      "Local Variable index: 30\n",
      "Template Variable index: 10\n",
      "Template Function: [[-11], [-10], [-9, -6, 7]]\n",
      "Local Variable Index: 30\n",
      "CNF Function: [[37], [-30], [-29, -26, 27]]\n",
      "Local network created : 6\n",
      "--------------------------------------------------\n",
      "--------------------------------------------------\n",
      "Local Network: 1\n",
      "Internal Variables:  [1, 2, 3, 4, 5]\n",
      "External Variables:  [35]\n",
      "Total Variables:  [1, 2, 3, 4, 5, 35]\n",
      "Variable Index: 1 -> CNF :[[35], [-5, -4], [-3, -2, 4]]\n",
      "Variable Index: 2 -> CNF :[[-4, -1, 5], [-5, -2, 3]]\n",
      "Variable Index: 3 -> CNF :[[-5], [-2]]\n",
      "Variable Index: 4 -> CNF :[[-3, 1], [-3], [-2, 4]]\n",
      "Variable Index: 5 -> CNF :[[35], [-5], [-4, -1, 2]]\n",
      "--------------------------------------------------\n",
      "Local Network: 2\n",
      "Internal Variables:  [6, 7, 8, 9, 10]\n",
      "External Variables:  [31]\n",
      "Total Variables:  [6, 7, 8, 9, 10, 31]\n",
      "Variable Index: 6 -> CNF :[[31], [-10, -9], [-8, -7, 9]]\n",
      "Variable Index: 7 -> CNF :[[-9, -6, 10], [-10, -7, 8]]\n",
      "Variable Index: 8 -> CNF :[[-10], [-7]]\n",
      "Variable Index: 9 -> CNF :[[-8, 6], [-8], [-7, 9]]\n",
      "Variable Index: 10 -> CNF :[[31], [-10], [-9, -6, 7]]\n",
      "--------------------------------------------------\n",
      "Local Network: 3\n",
      "Internal Variables:  [11, 12, 13, 14, 15]\n",
      "External Variables:  [32, 36]\n",
      "Total Variables:  [11, 12, 13, 14, 15, 32, 36]\n",
      "Variable Index: 11 -> CNF :[[32, 36], [-15, -14], [-13, -12, 14]]\n",
      "Variable Index: 12 -> CNF :[[-14, -11, 15], [-15, -12, 13]]\n",
      "Variable Index: 13 -> CNF :[[-15], [-12]]\n",
      "Variable Index: 14 -> CNF :[[-13, 11], [-13], [-12, 14]]\n",
      "Variable Index: 15 -> CNF :[[32, 36], [-15], [-14, -11, 12]]\n",
      "--------------------------------------------------\n",
      "Local Network: 4\n",
      "Internal Variables:  [16, 17, 18, 19, 20]\n",
      "External Variables:  [34]\n",
      "Total Variables:  [16, 17, 18, 19, 20, 34]\n",
      "Variable Index: 16 -> CNF :[[34], [-20, -19], [-18, -17, 19]]\n",
      "Variable Index: 17 -> CNF :[[-19, -16, 20], [-20, -17, 18]]\n",
      "Variable Index: 18 -> CNF :[[-20], [-17]]\n",
      "Variable Index: 19 -> CNF :[[-18, 16], [-18], [-17, 19]]\n",
      "Variable Index: 20 -> CNF :[[34], [-20], [-19, -16, 17]]\n",
      "--------------------------------------------------\n",
      "Local Network: 5\n",
      "Internal Variables:  [21, 22, 23, 24, 25]\n",
      "External Variables:  [33]\n",
      "Total Variables:  [21, 22, 23, 24, 25, 33]\n",
      "Variable Index: 21 -> CNF :[[33], [-25, -24], [-23, -22, 24]]\n",
      "Variable Index: 22 -> CNF :[[-24, -21, 25], [-25, -22, 23]]\n",
      "Variable Index: 23 -> CNF :[[-25], [-22]]\n",
      "Variable Index: 24 -> CNF :[[-23, 21], [-23], [-22, 24]]\n",
      "Variable Index: 25 -> CNF :[[33], [-25], [-24, -21, 22]]\n",
      "--------------------------------------------------\n",
      "Local Network: 6\n",
      "Internal Variables:  [26, 27, 28, 29, 30]\n",
      "External Variables:  [37]\n",
      "Total Variables:  [26, 27, 28, 29, 30, 37]\n",
      "Variable Index: 26 -> CNF :[[37], [-30, -29], [-28, -27, 29]]\n",
      "Variable Index: 27 -> CNF :[[-29, -26, 30], [-30, -27, 28]]\n",
      "Variable Index: 28 -> CNF :[[-30], [-27]]\n",
      "Variable Index: 29 -> CNF :[[-28, 26], [-28], [-27, 29]]\n",
      "Variable Index: 30 -> CNF :[[37], [-30], [-29, -26, 27]]\n"
     ]
    }
   ],
   "execution_count": 23
  },
  {
   "metadata": {
    "ExecuteTime": {
     "end_time": "2024-06-12T16:10:55.531684Z",
     "start_time": "2024-06-12T16:10:55.527134Z"
    }
   },
   "cell_type": "code",
   "source": "len(o_cbn.o_global_topology.o_graph.edges())",
   "id": "ac54e092cc7fca42",
   "outputs": [
    {
     "data": {
      "text/plain": [
       "7"
      ]
     },
     "execution_count": 24,
     "metadata": {},
     "output_type": "execute_result"
    }
   ],
   "execution_count": 24
  },
  {
   "metadata": {},
   "cell_type": "markdown",
   "source": "## Plot Global Graph",
   "id": "8336ffd660f4c54c"
  },
  {
   "metadata": {
    "ExecuteTime": {
     "end_time": "2024-06-12T16:10:55.687238Z",
     "start_time": "2024-06-12T16:10:55.533128Z"
    }
   },
   "cell_type": "code",
   "source": "o_cbn.plot_topology()",
   "id": "54ea5392c6006800",
   "outputs": [
    {
     "data": {
      "text/plain": [
       "<Figure size 640x480 with 1 Axes>"
      ],
      "image/png": "[encoded data removed]"
     },
     "metadata": {},
     "output_type": "display_data"
    }
   ],
   "execution_count": 25
  },
  {
   "metadata": {},
   "cell_type": "markdown",
   "source": "## Find Stable Attractor Fields",
   "id": "5e0439e32bfd40ce"
  },
  {
   "metadata": {},
   "cell_type": "markdown",
   "source": "",
   "id": "deb4420c23e496be"
  },
  {
   "metadata": {
    "ExecuteTime": {
     "end_time": "2024-06-12T16:10:55.981880Z",
     "start_time": "2024-06-12T16:10:55.688696Z"
    }
   },
   "cell_type": "code",
   "source": [
    "o_cbn.find_local_attractors_sequential()\n",
    "# o_cbn.show_attractors()\n",
    "\n",
    "o_cbn.find_compatible_pairs()\n",
    "# o_cbn.show_attractor_pairs()\n",
    "\n",
    "o_cbn.mount_stable_attractor_fields()\n",
    "# o_cbn.show_attractors_fields()"
   ],
   "id": "35bdee7459f5c38",
   "outputs": [
    {
     "name": "stdout",
     "output_type": "stream",
     "text": [
      "**************************************************\n",
      "FIND LOCAL ATTRACTORS\n",
      "--------------------------------------------------\n",
      "FIND ATTRACTORS FOR NETWORK: 1\n",
      "--------------------------------------------------\n",
      "Network: 1  Local Scene: 0\n",
      "end find attractors\n",
      "--------------------------------------------------\n",
      "Network: 1  Local Scene: 1\n",
      "end find attractors\n",
      "INFO:  the output signal is restricted\n",
      "INFO:  the output signal is restricted\n",
      "INFO:  the output signal is restricted\n",
      "--------------------------------------------------\n",
      "FIND ATTRACTORS FOR NETWORK: 2\n",
      "--------------------------------------------------\n",
      "Network: 2  Local Scene: 0\n",
      "end find attractors\n",
      "--------------------------------------------------\n",
      "Network: 2  Local Scene: 1\n",
      "end find attractors\n",
      "INFO:  the output signal is restricted\n",
      "INFO:  the output signal is restricted\n",
      "--------------------------------------------------\n",
      "FIND ATTRACTORS FOR NETWORK: 3\n",
      "--------------------------------------------------\n",
      "Network: 3  Local Scene: 00\n",
      "end find attractors\n",
      "--------------------------------------------------\n",
      "Network: 3  Local Scene: 01\n",
      "end find attractors\n",
      "--------------------------------------------------\n",
      "Network: 3  Local Scene: 10\n",
      "end find attractors\n",
      "--------------------------------------------------\n",
      "Network: 3  Local Scene: 11\n",
      "end find attractors\n",
      "--------------------------------------------------\n",
      "FIND ATTRACTORS FOR NETWORK: 4\n",
      "--------------------------------------------------\n",
      "Network: 4  Local Scene: 0\n",
      "end find attractors\n",
      "--------------------------------------------------\n",
      "Network: 4  Local Scene: 1\n",
      "end find attractors\n",
      "INFO:  the output signal is restricted\n",
      "--------------------------------------------------\n",
      "FIND ATTRACTORS FOR NETWORK: 5\n",
      "--------------------------------------------------\n",
      "Network: 5  Local Scene: 0\n",
      "end find attractors\n",
      "--------------------------------------------------\n",
      "Network: 5  Local Scene: 1\n",
      "end find attractors\n",
      "INFO:  the output signal is restricted\n",
      "--------------------------------------------------\n",
      "FIND ATTRACTORS FOR NETWORK: 6\n",
      "--------------------------------------------------\n",
      "Network: 6  Local Scene: 0\n",
      "end find attractors\n",
      "--------------------------------------------------\n",
      "Network: 6  Local Scene: 1\n",
      "end find attractors\n",
      "Number of local attractors: 21\n",
      "--------------------------------------------------\n",
      "END FIND LOCAL ATTRACTORS\n",
      "**************************************************\n",
      "FIND COMPATIBLE ATTRACTOR PAIRS\n",
      "Number of attractor pairs: 32\n",
      "--------------------------------------------------\n",
      "END FIND ATTRACTOR PAIRS\n",
      "**************************************************\n",
      "FIND ATTRACTOR FIELDS\n",
      "Number of attractor fields found: 64\n",
      "--------------------------------------------------\n",
      "END MOUNT ATTRACTOR FIELDS\n"
     ]
    }
   ],
   "execution_count": 26
  },
  {
   "metadata": {
    "ExecuteTime": {
     "end_time": "2024-06-12T16:10:55.986434Z",
     "start_time": "2024-06-12T16:10:55.983127Z"
    }
   },
   "cell_type": "code",
   "source": [
    "# show kind of coupling signals\n",
    "o_cbn.show_coupled_signals_kind()"
   ],
   "id": "3f67ec568486fe7a",
   "outputs": [
    {
     "name": "stdout",
     "output_type": "stream",
     "text": [
      "=================================================\n",
      "SHOW THE COUPLED SIGNALS KINDS\n",
      "SIGNAL: 31 RELATION: 1 -> 2 KIND: 1 - RESTRICTED\n",
      "SIGNAL: 32 RELATION: 1 -> 3 KIND: 1 - RESTRICTED\n",
      "SIGNAL: 33 RELATION: 1 -> 5 KIND: 1 - RESTRICTED\n",
      "SIGNAL: 34 RELATION: 2 -> 4 KIND: 1 - RESTRICTED\n",
      "SIGNAL: 35 RELATION: 2 -> 1 KIND: 1 - RESTRICTED\n",
      "SIGNAL: 36 RELATION: 4 -> 3 KIND: 1 - RESTRICTED\n",
      "SIGNAL: 37 RELATION: 5 -> 6 KIND: 1 - RESTRICTED\n",
      "Number of restricted signals : 7\n"
     ]
    }
   ],
   "execution_count": 27
  }
 ],
 "metadata": {
  "kernelspec": {
   "display_name": "Python 3",
   "language": "python",
   "name": "python3"
  },
  "language_info": {
   "codemirror_mode": {
    "name": "ipython",
    "version": 2
   },
   "file_extension": ".py",
   "mimetype": "text/x-python",
   "name": "python",
   "nbconvert_exporter": "python",
   "pygments_lexer": "ipython2",
   "version": "2.7.6"
  }
 },
 "nbformat": 4,
 "nbformat_minor": 5
}
