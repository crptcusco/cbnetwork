{
 "cells": [
  {
   "metadata": {},
   "cell_type": "markdown",
   "source": "# GENERATED COUPLED BOOLEAN NETWORK EXAMPLE",
   "id": "956a72b6ee964086"
  },
  {
   "cell_type": "code",
   "id": "initial_id",
   "metadata": {
    "collapsed": true,
    "ExecuteTime": {
     "end_time": "2024-06-07T19:41:35.837405Z",
     "start_time": "2024-06-07T19:41:35.248468Z"
    }
   },
   "source": [
    "# local imports\n",
    "from classes.cbnetwork import CBN\n",
    "from classes.globaltopology import GlobalTopology"
   ],
   "outputs": [],
   "execution_count": 1
  },
  {
   "metadata": {},
   "cell_type": "markdown",
   "source": "## Supported Topologies",
   "id": "9de4a919c6537e00"
  },
  {
   "metadata": {
    "ExecuteTime": {
     "end_time": "2024-06-07T19:41:35.845392Z",
     "start_time": "2024-06-07T19:41:35.839445Z"
    }
   },
   "cell_type": "code",
   "source": [
    "# show the kinds of topologies supported\n",
    "GlobalTopology.show_allowed_topologies()"
   ],
   "id": "21631b3242d5fa5a",
   "outputs": [
    {
     "name": "stdout",
     "output_type": "stream",
     "text": [
      "==================================================\n",
      "LIST OF ALLOWED TOPOLOGIES\n",
      "1 - complete_graph\n",
      "2 - aleatory_digraph\n",
      "3 - cycle_graph\n",
      "4 - path_graph\n",
      "5 - gn_graph\n",
      "6 - gnc_graph\n"
     ]
    }
   ],
   "execution_count": 2
  },
  {
   "metadata": {},
   "cell_type": "markdown",
   "source": "## CBN Parameters ",
   "id": "6accb355e684b13f"
  },
  {
   "metadata": {
    "ExecuteTime": {
     "end_time": "2024-06-07T19:41:35.860383Z",
     "start_time": "2024-06-07T19:41:35.847579Z"
    }
   },
   "cell_type": "code",
   "source": [
    "from classes.localtemplates import AleatoryTemplate\n",
    "\n",
    "# parameters\n",
    "n_local_networks = 6\n",
    "n_edges = 6\n",
    "n_var_network = 5\n",
    "n_output_variables = 2\n",
    "n_input_variables = 2\n",
    "n_clauses_function = 2\n",
    "v_topology = 2"
   ],
   "id": "44c898f4cd864e8",
   "outputs": [],
   "execution_count": 3
  },
  {
   "metadata": {},
   "cell_type": "markdown",
   "source": "# Generate the local Template",
   "id": "e3234b732fe3e096"
  },
  {
   "metadata": {
    "ExecuteTime": {
     "end_time": "2024-06-07T19:41:35.866820Z",
     "start_time": "2024-06-07T19:41:35.862341Z"
    }
   },
   "cell_type": "code",
   "source": [
    "o_local_template = AleatoryTemplate.generate_aleatory_template(n_var_network=n_var_network,\n",
    "                                                               n_input_variables=n_input_variables,\n",
    "                                                               n_output_variables=n_output_variables,\n",
    "                                                               v_topology=v_topology)\n",
    "\n",
    "o_local_template.show()"
   ],
   "id": "7835dd8d1b458c33",
   "outputs": [
    {
     "name": "stdout",
     "output_type": "stream",
     "text": [
      "Template for Aleatory CBNs\n",
      "--------------------------------------------------------------------------------\n",
      "Local dynamic:\n",
      "6 : [[6, 8, 10], [-8, -7, 9]]\n",
      "7 : [[11], [6], [-7, 6, 8]]\n",
      "8 : [[10]]\n",
      "9 : [[11], [7, 9], [6, 8, 10], [-8, 6]]\n",
      "10 : [[7, 9], [6, 8, 10]]\n",
      "Output variables for coupling signal: [1, 2]\n"
     ]
    }
   ],
   "execution_count": 4
  },
  {
   "metadata": {},
   "cell_type": "markdown",
   "source": "## Generate the CBN from Topology an Local Template",
   "id": "30842a7f43be8d3a"
  },
  {
   "metadata": {
    "ExecuteTime": {
     "end_time": "2024-06-07T19:41:36.269012Z",
     "start_time": "2024-06-07T19:41:35.869979Z"
    }
   },
   "cell_type": "code",
   "source": [
    "o_cbn = CBN.generate_aleatory_cbn_by_topology(n_local_networks=n_local_networks,\n",
    "                                              n_var_network=n_var_network,\n",
    "                                              v_topology=v_topology,\n",
    "                                              n_output_variables=n_output_variables,\n",
    "                                              n_input_variables=n_input_variables, \n",
    "                                              local_template=o_local_template,\n",
    "                                              n_edges=n_edges)"
   ],
   "id": "be196877d052fc2d",
   "outputs": [
    {
     "name": "stdout",
     "output_type": "stream",
     "text": [
      "**************************************************\n",
      "CBN GENERATION\n"
     ]
    },
    {
     "ename": "TypeError",
     "evalue": "AleatoryTemplate.generate_cbn_from_template() missing 1 required positional argument: 'n_edges'",
     "output_type": "error",
     "traceback": [
      "\u001B[0;31m---------------------------------------------------------------------------\u001B[0m",
      "\u001B[0;31mTypeError\u001B[0m                                 Traceback (most recent call last)",
      "Cell \u001B[0;32mIn[5], line 1\u001B[0m\n\u001B[0;32m----> 1\u001B[0m o_cbn \u001B[38;5;241m=\u001B[39m \u001B[43mCBN\u001B[49m\u001B[38;5;241;43m.\u001B[39;49m\u001B[43mgenerate_aleatory_cbn_by_topology\u001B[49m\u001B[43m(\u001B[49m\u001B[43mn_local_networks\u001B[49m\u001B[38;5;241;43m=\u001B[39;49m\u001B[43mn_local_networks\u001B[49m\u001B[43m,\u001B[49m\n\u001B[1;32m      2\u001B[0m \u001B[43m                                              \u001B[49m\u001B[43mn_var_network\u001B[49m\u001B[38;5;241;43m=\u001B[39;49m\u001B[43mn_var_network\u001B[49m\u001B[43m,\u001B[49m\n\u001B[1;32m      3\u001B[0m \u001B[43m                                              \u001B[49m\u001B[43mv_topology\u001B[49m\u001B[38;5;241;43m=\u001B[39;49m\u001B[43mv_topology\u001B[49m\u001B[43m,\u001B[49m\n\u001B[1;32m      4\u001B[0m \u001B[43m                                              \u001B[49m\u001B[43mn_output_variables\u001B[49m\u001B[38;5;241;43m=\u001B[39;49m\u001B[43mn_output_variables\u001B[49m\u001B[43m,\u001B[49m\n\u001B[1;32m      5\u001B[0m \u001B[43m                                              \u001B[49m\u001B[43mn_input_variables\u001B[49m\u001B[38;5;241;43m=\u001B[39;49m\u001B[43mn_input_variables\u001B[49m\u001B[43m,\u001B[49m\u001B[43m \u001B[49m\n\u001B[1;32m      6\u001B[0m \u001B[43m                                              \u001B[49m\u001B[43mlocal_template\u001B[49m\u001B[38;5;241;43m=\u001B[39;49m\u001B[43mo_local_template\u001B[49m\u001B[43m,\u001B[49m\n\u001B[1;32m      7\u001B[0m \u001B[43m                                              \u001B[49m\u001B[43mn_edges\u001B[49m\u001B[38;5;241;43m=\u001B[39;49m\u001B[43mn_edges\u001B[49m\u001B[43m)\u001B[49m\n",
      "File \u001B[0;32m~/Projects/cbnetwork/classes/cbnetwork.py:190\u001B[0m, in \u001B[0;36mCBN.generate_aleatory_cbn_by_topology\u001B[0;34m(n_local_networks, n_var_network, v_topology, n_output_variables, n_input_variables, n_edges, local_template)\u001B[0m\n\u001B[1;32m    186\u001B[0m     \u001B[38;5;28;01mreturn\u001B[39;00m o_cbn\n\u001B[1;32m    188\u001B[0m \u001B[38;5;66;03m# if you have a template we use the template for the variables dynamics\u001B[39;00m\n\u001B[1;32m    189\u001B[0m \u001B[38;5;28;01melse\u001B[39;00m:\n\u001B[0;32m--> 190\u001B[0m     o_cbn \u001B[38;5;241m=\u001B[39m \u001B[43mlocal_template\u001B[49m\u001B[38;5;241;43m.\u001B[39;49m\u001B[43mgenerate_cbn_from_template\u001B[49m\u001B[43m(\u001B[49m\u001B[43mv_topology\u001B[49m\u001B[38;5;241;43m=\u001B[39;49m\u001B[43mv_topology\u001B[49m\u001B[43m,\u001B[49m\u001B[43m \u001B[49m\u001B[43mn_local_networks\u001B[49m\u001B[38;5;241;43m=\u001B[39;49m\u001B[43mn_local_networks\u001B[49m\u001B[43m)\u001B[49m\n\u001B[1;32m    191\u001B[0m     \u001B[38;5;28;01mreturn\u001B[39;00m o_cbn\n",
      "\u001B[0;31mTypeError\u001B[0m: AleatoryTemplate.generate_cbn_from_template() missing 1 required positional argument: 'n_edges'"
     ]
    }
   ],
   "execution_count": 5
  },
  {
   "metadata": {},
   "cell_type": "markdown",
   "source": "## Plot Global Graph",
   "id": "8336ffd660f4c54c"
  },
  {
   "metadata": {},
   "cell_type": "code",
   "source": "o_cbn.plot_topology()",
   "id": "54ea5392c6006800",
   "outputs": [],
   "execution_count": null
  },
  {
   "metadata": {},
   "cell_type": "markdown",
   "source": "## Find Stable Attractor Fields",
   "id": "5e0439e32bfd40ce"
  },
  {
   "metadata": {},
   "cell_type": "markdown",
   "source": "",
   "id": "deb4420c23e496be"
  },
  {
   "metadata": {},
   "cell_type": "code",
   "source": [
    "o_cbn.find_local_attractors_sequential()\n",
    "# o_cbn.show_attractors()\n",
    "\n",
    "o_cbn.find_compatible_pairs()\n",
    "# o_cbn.show_attractor_pairs()\n",
    "\n",
    "o_cbn.mount_stable_attractor_fields()\n",
    "# o_cbn.show_attractors_fields()"
   ],
   "id": "35bdee7459f5c38",
   "outputs": [],
   "execution_count": null
  },
  {
   "metadata": {},
   "cell_type": "code",
   "source": [
    "# show kind of coupling signals\n",
    "o_cbn.show_coupled_signals_kind()"
   ],
   "id": "3f67ec568486fe7a",
   "outputs": [],
   "execution_count": null
  }
 ],
 "metadata": {
  "kernelspec": {
   "display_name": "Python 3",
   "language": "python",
   "name": "python3"
  },
  "language_info": {
   "codemirror_mode": {
    "name": "ipython",
    "version": 2
   },
   "file_extension": ".py",
   "mimetype": "text/x-python",
   "name": "python",
   "nbconvert_exporter": "python",
   "pygments_lexer": "ipython2",
   "version": "2.7.6"
  }
 },
 "nbformat": 4,
 "nbformat_minor": 5
}
