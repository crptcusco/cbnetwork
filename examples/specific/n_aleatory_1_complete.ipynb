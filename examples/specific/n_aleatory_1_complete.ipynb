{
 "cells": [
  {
   "cell_type": "markdown",
   "source": [
    "# Example Aleatory Complete CBN"
   ],
   "metadata": {
    "collapsed": false
   },
   "id": "98edf35f0c1e37ce"
  },
  {
   "cell_type": "code",
   "id": "initial_id",
   "metadata": {
    "collapsed": true,
    "jupyter": {
     "outputs_hidden": true
    },
    "ExecuteTime": {
     "end_time": "2024-06-06T18:23:25.562720Z",
     "start_time": "2024-06-06T18:23:25.558156Z"
    }
   },
   "source": [
    "# import libraries\n",
    "from classes.cbnetwork import CBN\n",
    "from classes.globaltopology import GlobalTopology\n",
    "\n",
    "# List of the Allowed Topologies\n",
    "GlobalTopology.show_allowed_topologies()"
   ],
   "outputs": [
    {
     "name": "stdout",
     "output_type": "stream",
     "text": [
      "==================================================\n",
      "LIST OF ALLOWED TOPOLOGIES\n",
      "1 - complete_graph\n",
      "2 - binomial_tree\n",
      "3 - cycle_graph\n",
      "4 - path_graph\n",
      "5 - gn_graph\n",
      "6 - gnc_graph\n",
      "7 - linear_graph\n",
      "8 - aleatory_digraph\n"
     ]
    }
   ],
   "execution_count": 2
  },
  {
   "cell_type": "markdown",
   "source": [
    "# Generate a CBN with the parameters"
   ],
   "metadata": {
    "collapsed": false
   },
   "id": "c7e553965b14e9fc"
  },
  {
   "cell_type": "code",
   "id": "db2c35ef85dd5be9",
   "metadata": {
    "collapsed": false,
    "ExecuteTime": {
     "end_time": "2024-06-06T18:23:25.662161Z",
     "start_time": "2024-06-06T18:23:25.631255Z"
    }
   },
   "source": [
    "# pass the parameters\n",
    "n_local_networks = 6\n",
    "n_var_network = 5\n",
    "n_output_variables = 2\n",
    "n_clauses_function = 2\n",
    "v_topology = 1\n",
    "\n",
    "o_cbn = CBN.generate_cbn(n_local_networks=n_local_networks, n_var_network=n_var_network, v_topology=v_topology,\n",
    "                         n_output_variables=n_output_variables, n_clauses_function=n_clauses_function)"
   ],
   "outputs": [
    {
     "ename": "AttributeError",
     "evalue": "type object 'CBN' has no attribute 'generate_cbn'",
     "output_type": "error",
     "traceback": [
      "\u001B[0;31m---------------------------------------------------------------------------\u001B[0m",
      "\u001B[0;31mAttributeError\u001B[0m                            Traceback (most recent call last)",
      "Cell \u001B[0;32mIn[3], line 8\u001B[0m\n\u001B[1;32m      5\u001B[0m n_clauses_function \u001B[38;5;241m=\u001B[39m \u001B[38;5;241m2\u001B[39m\n\u001B[1;32m      6\u001B[0m v_topology \u001B[38;5;241m=\u001B[39m \u001B[38;5;241m1\u001B[39m\n\u001B[0;32m----> 8\u001B[0m o_cbn \u001B[38;5;241m=\u001B[39m \u001B[43mCBN\u001B[49m\u001B[38;5;241;43m.\u001B[39;49m\u001B[43mgenerate_cbn\u001B[49m(n_local_networks\u001B[38;5;241m=\u001B[39mn_local_networks, n_var_network\u001B[38;5;241m=\u001B[39mn_var_network, v_topology\u001B[38;5;241m=\u001B[39mv_topology,\n\u001B[1;32m      9\u001B[0m                          n_output_variables\u001B[38;5;241m=\u001B[39mn_output_variables, n_clauses_function\u001B[38;5;241m=\u001B[39mn_clauses_function)\n",
      "\u001B[0;31mAttributeError\u001B[0m: type object 'CBN' has no attribute 'generate_cbn'"
     ]
    }
   ],
   "execution_count": 3
  },
  {
   "cell_type": "markdown",
   "source": [
    "# Find local network attractors"
   ],
   "metadata": {
    "collapsed": false
   },
   "id": "192536d1a14c38fb"
  },
  {
   "cell_type": "code",
   "source": [
    "o_cbn.find_local_attractors_optimized()"
   ],
   "metadata": {
    "collapsed": false
   },
   "id": "f6645145812950cb",
   "outputs": [],
   "execution_count": null
  },
  {
   "cell_type": "markdown",
   "source": [
    "# find the compatible pairs"
   ],
   "metadata": {
    "collapsed": false
   },
   "id": "1d9fcf7f303f8bd3"
  },
  {
   "cell_type": "code",
   "source": [
    "o_cbn.find_compatible_pairs()"
   ],
   "metadata": {
    "collapsed": false
   },
   "id": "1860f80c3dc4e5f7",
   "outputs": [],
   "execution_count": null
  },
  {
   "cell_type": "code",
   "id": "a2aa24594dc247a6",
   "metadata": {
    "collapsed": false,
    "ExecuteTime": {
     "end_time": "2024-06-06T18:23:25.691015Z",
     "start_time": "2024-06-06T18:23:25.672784Z"
    }
   },
   "source": [
    "o_cbn.show_cbn_graph()"
   ],
   "outputs": [
    {
     "ename": "NameError",
     "evalue": "name 'o_cbn' is not defined",
     "output_type": "error",
     "traceback": [
      "\u001B[0;31m---------------------------------------------------------------------------\u001B[0m",
      "\u001B[0;31mNameError\u001B[0m                                 Traceback (most recent call last)",
      "Cell \u001B[0;32mIn[4], line 1\u001B[0m\n\u001B[0;32m----> 1\u001B[0m \u001B[43mo_cbn\u001B[49m\u001B[38;5;241m.\u001B[39mshow_cbn_graph()\n",
      "\u001B[0;31mNameError\u001B[0m: name 'o_cbn' is not defined"
     ]
    }
   ],
   "execution_count": 4
  },
  {
   "cell_type": "code",
   "id": "6f9f71ece5a2d92",
   "metadata": {
    "collapsed": false
   },
   "source": [
    "o_cbn.show_attractors()"
   ],
   "outputs": [],
   "execution_count": null
  },
  {
   "cell_type": "code",
   "source": [
    "o_cbn.show_coupled_signals_kind()"
   ],
   "metadata": {
    "collapsed": false
   },
   "id": "9fed9d85fb68edee",
   "outputs": [],
   "execution_count": null
  },
  {
   "cell_type": "code",
   "source": [
    "# find the compatible pairs\n",
    "o_cbn.find_compatible_pairs()\n",
    "o_cbn.show_attractor_pairs()"
   ],
   "metadata": {
    "collapsed": false,
    "ExecuteTime": {
     "end_time": "2024-06-06T18:23:25.723783Z",
     "start_time": "2024-06-06T18:23:25.703098Z"
    }
   },
   "id": "3555d4dd3935ac7e",
   "outputs": [
    {
     "ename": "NameError",
     "evalue": "name 'o_cbn' is not defined",
     "output_type": "error",
     "traceback": [
      "\u001B[0;31m---------------------------------------------------------------------------\u001B[0m",
      "\u001B[0;31mNameError\u001B[0m                                 Traceback (most recent call last)",
      "Cell \u001B[0;32mIn[5], line 2\u001B[0m\n\u001B[1;32m      1\u001B[0m \u001B[38;5;66;03m# find the compatible pairs\u001B[39;00m\n\u001B[0;32m----> 2\u001B[0m \u001B[43mo_cbn\u001B[49m\u001B[38;5;241m.\u001B[39mfind_compatible_pairs()\n\u001B[1;32m      3\u001B[0m o_cbn\u001B[38;5;241m.\u001B[39mshow_attractor_pairs()\n",
      "\u001B[0;31mNameError\u001B[0m: name 'o_cbn' is not defined"
     ]
    }
   ],
   "execution_count": 5
  },
  {
   "cell_type": "code",
   "source": [
    "# Find attractor fields\n",
    "o_cbn.find_attractor_fields()\n",
    "o_cbn.show_attractors_fields()\n",
    "#"
   ],
   "metadata": {
    "collapsed": false,
    "ExecuteTime": {
     "end_time": "2024-06-06T18:23:25.725811Z",
     "start_time": "2024-06-06T18:23:25.725587Z"
    }
   },
   "id": "d780959ed969e574",
   "outputs": [],
   "execution_count": null
  }
 ],
 "metadata": {
  "kernelspec": {
   "display_name": "Python 3 (ipykernel)",
   "language": "python",
   "name": "python3"
  },
  "language_info": {
   "codemirror_mode": {
    "name": "ipython",
    "version": 3
   },
   "file_extension": ".py",
   "mimetype": "text/x-python",
   "name": "python",
   "nbconvert_exporter": "python",
   "pygments_lexer": "ipython3",
   "version": "3.10.12"
  }
 },
 "nbformat": 4,
 "nbformat_minor": 5
}
