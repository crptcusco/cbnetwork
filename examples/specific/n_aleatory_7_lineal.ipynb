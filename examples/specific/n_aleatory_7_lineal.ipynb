{
 "cells": [
  {
   "cell_type": "markdown",
   "source": [
    "# LINEAL CBN ALEATORY SCRIPT EXAMPLE"
   ],
   "metadata": {
    "collapsed": false
   },
   "id": "d62edaf34878bbd1"
  },
  {
   "cell_type": "code",
   "execution_count": 7,
   "id": "initial_id",
   "metadata": {
    "collapsed": true,
    "ExecuteTime": {
     "end_time": "2024-01-22T19:32:40.782349835Z",
     "start_time": "2024-01-22T19:32:40.709105566Z"
    }
   },
   "outputs": [],
   "source": [
    "# import libraries\n",
    "from classes.cbnetwork import CBN\n",
    "from classes.directededge import DirectedEdge\n",
    "from classes.internalvariable import InternalVariable\n",
    "from classes.localnetwork import LocalNetwork\n",
    "\n",
    "# pass the parameters\n",
    "n_local_networks = 6\n",
    "n_var_network = 5\n",
    "n_output_variables = 2\n",
    "n_clauses_function = 2\n",
    "v_topology = 7"
   ]
  },
  {
   "cell_type": "markdown",
   "source": [
    "# show available topologies"
   ],
   "metadata": {
    "collapsed": false
   },
   "id": "1741d0f7c8907448"
  },
  {
   "cell_type": "code",
   "execution_count": 8,
   "outputs": [
    {
     "name": "stdout",
     "output_type": "stream",
     "text": [
      "1 - complete_graph\n",
      "2 - binomial_tree\n",
      "3 - cycle_graph\n",
      "4 - path_graph\n",
      "5 - gn_graph\n",
      "6 - gnc_graph\n",
      "7 - linear_graph\n"
     ]
    }
   ],
   "source": [
    "CBN.show_allowed_topologies()"
   ],
   "metadata": {
    "collapsed": false,
    "ExecuteTime": {
     "end_time": "2024-01-22T19:32:40.802387533Z",
     "start_time": "2024-01-22T19:32:40.785007318Z"
    }
   },
   "id": "555129af85610558"
  },
  {
   "cell_type": "code",
   "execution_count": 9,
   "outputs": [
    {
     "name": "stdout",
     "output_type": "stream",
     "text": [
      "Local network created : 1\n",
      "-------------------------------------------------\n",
      "Local network created : 2\n",
      "-------------------------------------------------\n",
      "Local network created : 3\n",
      "-------------------------------------------------\n",
      "Local network created : 4\n",
      "-------------------------------------------------\n",
      "Local network created : 5\n",
      "-------------------------------------------------\n",
      "Local network created : 6\n",
      "-------------------------------------------------\n"
     ]
    }
   ],
   "source": [
    "# create a Coupled Boolean Network with the parameters\n",
    "o_cbn = CBN.generate_cbn(n_local_networks=n_local_networks,\n",
    "                         n_var_network=n_var_network, \n",
    "                         v_topology=v_topology,\n",
    "                         n_output_variables=n_output_variables)"
   ],
   "metadata": {
    "collapsed": false,
    "ExecuteTime": {
     "end_time": "2024-01-22T19:32:40.839409931Z",
     "start_time": "2024-01-22T19:32:40.793069861Z"
    }
   },
   "id": "b0106a5b246f9ec7"
  },
  {
   "cell_type": "code",
   "execution_count": 10,
   "outputs": [
    {
     "name": "stdout",
     "output_type": "stream",
     "text": [
      "=================================================\n",
      "SHOW THE DIRECTED EDGES OF THE CBN\n",
      "-------------------------------------------------\n",
      "Edge: 2 -> 3 , Index: 31\n",
      "Variables: [8, 7] , Coupling Function:  8 ∨ 7 \n",
      "Truth table: {'11': '1', '10': '1', '01': '1', '00': '0'}\n",
      "Kind signal: 2 - NOT COMPUTE\n",
      "-------------------------------------------------\n",
      "Edge: 3 -> 4 , Index: 32\n",
      "Variables: [13, 11] , Coupling Function:  13 ∨ 11 \n",
      "Truth table: {'11': '1', '10': '1', '01': '1', '00': '0'}\n",
      "Kind signal: 2 - NOT COMPUTE\n",
      "-------------------------------------------------\n",
      "Edge: 4 -> 5 , Index: 33\n",
      "Variables: [18, 20] , Coupling Function:  18 ∨ 20 \n",
      "Truth table: {'11': '1', '10': '1', '01': '1', '00': '0'}\n",
      "Kind signal: 2 - NOT COMPUTE\n",
      "-------------------------------------------------\n",
      "Edge: 5 -> 6 , Index: 34\n",
      "Variables: [23, 25] , Coupling Function:  23 ∨ 25 \n",
      "Truth table: {'11': '1', '10': '1', '01': '1', '00': '0'}\n",
      "Kind signal: 2 - NOT COMPUTE\n"
     ]
    }
   ],
   "source": [
    "# show the kind of the edges\n",
    "o_cbn.show_directed_edges()"
   ],
   "metadata": {
    "collapsed": false,
    "ExecuteTime": {
     "end_time": "2024-01-22T19:32:40.858440439Z",
     "start_time": "2024-01-22T19:32:40.839566307Z"
    }
   },
   "id": "ed5d41878294d32a"
  },
  {
   "cell_type": "code",
   "execution_count": 11,
   "outputs": [
    {
     "name": "stdout",
     "output_type": "stream",
     "text": [
      "2 -> 3\n",
      "3 -> 4\n",
      "4 -> 5\n",
      "5 -> 6\n"
     ]
    }
   ],
   "source": [
    "for o_directed_edge in o_cbn.l_directed_edges:\n",
    "    print(o_directed_edge.output_local_network, \"->\", o_directed_edge.input_local_network)"
   ],
   "metadata": {
    "collapsed": false,
    "ExecuteTime": {
     "end_time": "2024-01-22T19:32:40.867246519Z",
     "start_time": "2024-01-22T19:32:40.857605061Z"
    }
   },
   "id": "c2569b5a0cd451a8"
  },
  {
   "cell_type": "code",
   "execution_count": 12,
   "outputs": [
    {
     "name": "stdout",
     "output_type": "stream",
     "text": [
      "=================================================\n",
      "FIND ATTRACTORS USING OPTIMIZED METHOD\n",
      "-------------------------------------------------\n",
      "FIND ATTRACTORS FOR NETWORK: 1\n",
      "-------------------------------------------------\n",
      "Network: 1  Local Scene: None\n",
      "end find attractors\n",
      "Local Network updated\n",
      "-------------------------------------------------\n",
      "FIND ATTRACTORS FOR NETWORK: 2\n",
      "-------------------------------------------------\n",
      "Network: 2  Local Scene: None\n",
      "end find attractors\n",
      "-------------------------------------------------\n",
      "FIND ATTRACTORS FOR NETWORK: 3\n",
      "-------------------------------------------------\n",
      "Network: 3  Local Scene: 0\n",
      "end find attractors\n",
      "-------------------------------------------------\n",
      "Network: 3  Local Scene: 1\n",
      "end find attractors\n",
      "-------------------------------------------------\n",
      "FIND ATTRACTORS FOR NETWORK: 6\n",
      "-------------------------------------------------\n",
      "Network: 6  Local Scene: 0\n",
      "end find attractors\n",
      "-------------------------------------------------\n",
      "Network: 6  Local Scene: 1\n",
      "end find attractors\n",
      "-------------------------------------------------\n",
      "FIND ATTRACTORS FOR NETWORK: 5\n",
      "-------------------------------------------------\n",
      "Network: 5  Local Scene: 0\n",
      "end find attractors\n",
      "-------------------------------------------------\n",
      "Network: 5  Local Scene: 1\n",
      "end find attractors\n",
      "-------------------------------------------------\n",
      "FIND ATTRACTORS FOR NETWORK: 4\n",
      "-------------------------------------------------\n",
      "Network: 4  Local Scene: 0\n",
      "end find attractors\n",
      "-------------------------------------------------\n",
      "Network: 4  Local Scene: 1\n",
      "end find attractors\n",
      "ALL THE ATTRACTORS ARE COMPUTED\n"
     ]
    }
   ],
   "source": [
    "# Find attractors\n",
    "o_cbn.find_local_attractors_optimized()"
   ],
   "metadata": {
    "collapsed": false,
    "ExecuteTime": {
     "end_time": "2024-01-22T19:32:41.257834778Z",
     "start_time": "2024-01-22T19:32:40.862658328Z"
    }
   },
   "id": "f78a7796e4c7080c"
  },
  {
   "cell_type": "code",
   "execution_count": 13,
   "outputs": [
    {
     "name": "stdout",
     "output_type": "stream",
     "text": [
      "=================================================\n",
      "Network: 1\n",
      "-------------------------------------------------\n",
      "Network: 1 - Scene: None\n",
      "Attractors number: 3\n",
      "-------------------------------------------------\n",
      "['1', '0', '1', '1', '0']\n",
      "-------------------------------------------------\n",
      "['0', '0', '0', '0', '0']\n",
      "-------------------------------------------------\n",
      "['1', '1', '1', '1', '1']\n",
      "=================================================\n",
      "Network: 2\n",
      "-------------------------------------------------\n",
      "Network: 2 - Scene: None\n",
      "Attractors number: 3\n",
      "-------------------------------------------------\n",
      "['1', '0', '1', '1', '1']\n",
      "-------------------------------------------------\n",
      "['0', '0', '0', '0', '0']\n",
      "-------------------------------------------------\n",
      "['1', '1', '1', '1', '1']\n",
      "=================================================\n",
      "Network: 3\n",
      "-------------------------------------------------\n",
      "Network: 3 - Scene: ('0',)\n",
      "Attractors number: 2\n",
      "-------------------------------------------------\n",
      "['0', '0', '0', '0', '0', '0']\n",
      "-------------------------------------------------\n",
      "['0', '0', '1', '1', '1', '0']\n",
      "-------------------------------------------------\n",
      "Network: 3 - Scene: ('1',)\n",
      "Attractors number: 1\n",
      "-------------------------------------------------\n",
      "['1', '1', '1', '1', '1', '1']\n",
      "=================================================\n",
      "Network: 4\n",
      "-------------------------------------------------\n",
      "Network: 4 - Scene: ('0',)\n",
      "Attractors number: 7\n",
      "-------------------------------------------------\n",
      "['0', '0', '0', '0', '0', '0']\n",
      "-------------------------------------------------\n",
      "['0', '0', '0', '0', '1', '0']\n",
      "-------------------------------------------------\n",
      "['0', '0', '1', '1', '1', '0']\n",
      "-------------------------------------------------\n",
      "['0', '0', '1', '1', '0', '0']\n",
      "-------------------------------------------------\n",
      "['1', '0', '0', '0', '1', '0']\n",
      "['0', '1', '0', '0', '1', '0']\n",
      "-------------------------------------------------\n",
      "['1', '0', '1', '1', '1', '0']\n",
      "['0', '1', '1', '1', '1', '0']\n",
      "-------------------------------------------------\n",
      "['1', '1', '1', '1', '1', '0']\n",
      "-------------------------------------------------\n",
      "Network: 4 - Scene: ('1',)\n",
      "Attractors number: 7\n",
      "-------------------------------------------------\n",
      "['0', '0', '0', '0', '0', '1']\n",
      "-------------------------------------------------\n",
      "['0', '0', '0', '0', '1', '1']\n",
      "-------------------------------------------------\n",
      "['0', '0', '1', '1', '1', '1']\n",
      "-------------------------------------------------\n",
      "['0', '0', '1', '1', '0', '1']\n",
      "-------------------------------------------------\n",
      "['1', '0', '0', '0', '1', '1']\n",
      "['0', '1', '0', '0', '1', '1']\n",
      "-------------------------------------------------\n",
      "['1', '0', '1', '1', '1', '1']\n",
      "['0', '1', '1', '1', '1', '1']\n",
      "-------------------------------------------------\n",
      "['1', '1', '1', '1', '1', '1']\n",
      "=================================================\n",
      "Network: 5\n",
      "-------------------------------------------------\n",
      "Network: 5 - Scene: ('0',)\n",
      "Attractors number: 5\n",
      "-------------------------------------------------\n",
      "['0', '0', '0', '1', '0', '0']\n",
      "-------------------------------------------------\n",
      "['0', '0', '0', '0', '0', '0']\n",
      "-------------------------------------------------\n",
      "['1', '1', '1', '1', '0', '0']\n",
      "-------------------------------------------------\n",
      "['0', '1', '1', '1', '0', '0']\n",
      "['1', '0', '0', '1', '0', '0']\n",
      "-------------------------------------------------\n",
      "['1', '1', '1', '1', '1', '0']\n",
      "-------------------------------------------------\n",
      "Network: 5 - Scene: ('1',)\n",
      "Attractors number: 7\n",
      "-------------------------------------------------\n",
      "['0', '0', '0', '0', '0', '1']\n",
      "-------------------------------------------------\n",
      "['0', '1', '0', '1', '0', '1']\n",
      "-------------------------------------------------\n",
      "['0', '1', '0', '1', '1', '1']\n",
      "-------------------------------------------------\n",
      "['1', '1', '0', '1', '0', '1']\n",
      "['0', '1', '1', '1', '0', '1']\n",
      "-------------------------------------------------\n",
      "['0', '1', '1', '1', '1', '1']\n",
      "['1', '1', '0', '1', '1', '1']\n",
      "-------------------------------------------------\n",
      "['1', '1', '1', '1', '0', '1']\n",
      "-------------------------------------------------\n",
      "['1', '1', '1', '1', '1', '1']\n",
      "=================================================\n",
      "Network: 6\n",
      "-------------------------------------------------\n",
      "Network: 6 - Scene: ('0',)\n",
      "Attractors number: 5\n",
      "-------------------------------------------------\n",
      "['0', '0', '0', '1', '0', '0']\n",
      "-------------------------------------------------\n",
      "['0', '0', '0', '0', '0', '0']\n",
      "-------------------------------------------------\n",
      "['1', '1', '1', '1', '1', '0']\n",
      "-------------------------------------------------\n",
      "['1', '0', '0', '1', '0', '0']\n",
      "-------------------------------------------------\n",
      "['0', '0', '0', '1', '1', '0']\n",
      "-------------------------------------------------\n",
      "Network: 6 - Scene: ('1',)\n",
      "Attractors number: 3\n",
      "-------------------------------------------------\n",
      "['1', '1', '1', '1', '1', '1']\n",
      "-------------------------------------------------\n",
      "['0', '0', '0', '0', '0', '1']\n",
      "-------------------------------------------------\n",
      "['0', '0', '0', '1', '1', '1']\n"
     ]
    }
   ],
   "source": [
    "# show attractors\n",
    "o_cbn.show_attractors()"
   ],
   "metadata": {
    "collapsed": false,
    "ExecuteTime": {
     "end_time": "2024-01-22T19:32:41.298535328Z",
     "start_time": "2024-01-22T19:32:41.253582597Z"
    }
   },
   "id": "a93a682dc3b0b54b"
  },
  {
   "cell_type": "code",
   "execution_count": 14,
   "outputs": [
    {
     "name": "stdout",
     "output_type": "stream",
     "text": [
      "=================================================\n",
      "FIND COMPATIBLE ATTRACTOR PAIRS\n",
      "END FIND ATTRACTOR PAIRS\n"
     ]
    }
   ],
   "source": [
    "o_cbn.find_compatible_pairs()"
   ],
   "metadata": {
    "collapsed": false,
    "ExecuteTime": {
     "end_time": "2024-01-22T19:32:41.299492930Z",
     "start_time": "2024-01-22T19:32:41.297718597Z"
    }
   },
   "id": "935d732230514e33"
  },
  {
   "cell_type": "code",
   "execution_count": 15,
   "outputs": [
    {
     "name": "stdout",
     "output_type": "stream",
     "text": [
      "=================================================\n",
      "LIST OF THE COMPATIBLE ATTRACTOR PAIRS\n",
      "-------------------------------------------------\n",
      "Edge:  2 -> 3\n",
      "-------------------------------------------------\n",
      "Coupling Variable: 31 Scene: 0\n",
      "Net. Index: 2 , Attrac. Index: 2 , States:[0,0,0,0,0,]\n",
      "Net. Index: 3 , Attrac. Index: 1 , States:[0,0,0,0,0,0,]\n",
      "Net. Index: 2 , Attrac. Index: 2 , States:[0,0,0,0,0,]\n",
      "Net. Index: 3 , Attrac. Index: 2 , States:[0,0,1,1,1,0,]\n",
      "-------------------------------------------------\n",
      "Coupling Variable: 31 Scene: 1\n",
      "Net. Index: 2 , Attrac. Index: 1 , States:[1,0,1,1,1,]\n",
      "Net. Index: 3 , Attrac. Index: 1 , States:[1,1,1,1,1,1,]\n",
      "Net. Index: 2 , Attrac. Index: 3 , States:[1,1,1,1,1,]\n",
      "Net. Index: 3 , Attrac. Index: 1 , States:[1,1,1,1,1,1,]\n",
      "-------------------------------------------------\n",
      "Edge:  3 -> 4\n",
      "-------------------------------------------------\n",
      "Coupling Variable: 32 Scene: 0\n",
      "Net. Index: 3 , Attrac. Index: 1 , States:[0,0,0,0,0,0,]\n",
      "Net. Index: 4 , Attrac. Index: 1 , States:[0,0,0,0,0,0,]\n",
      "Net. Index: 3 , Attrac. Index: 1 , States:[0,0,0,0,0,0,]\n",
      "Net. Index: 4 , Attrac. Index: 2 , States:[0,0,0,0,1,0,]\n",
      "Net. Index: 3 , Attrac. Index: 1 , States:[0,0,0,0,0,0,]\n",
      "Net. Index: 4 , Attrac. Index: 3 , States:[0,0,1,1,1,0,]\n",
      "Net. Index: 3 , Attrac. Index: 1 , States:[0,0,0,0,0,0,]\n",
      "Net. Index: 4 , Attrac. Index: 4 , States:[0,0,1,1,0,0,]\n",
      "Net. Index: 3 , Attrac. Index: 1 , States:[0,0,0,0,0,0,]\n",
      "Net. Index: 4 , Attrac. Index: 5 , States:[1,0,0,0,1,0,][0,1,0,0,1,0,]\n",
      "Net. Index: 3 , Attrac. Index: 1 , States:[0,0,0,0,0,0,]\n",
      "Net. Index: 4 , Attrac. Index: 6 , States:[1,0,1,1,1,0,][0,1,1,1,1,0,]\n",
      "Net. Index: 3 , Attrac. Index: 1 , States:[0,0,0,0,0,0,]\n",
      "Net. Index: 4 , Attrac. Index: 7 , States:[1,1,1,1,1,0,]\n",
      "-------------------------------------------------\n",
      "Coupling Variable: 32 Scene: 1\n",
      "Net. Index: 3 , Attrac. Index: 2 , States:[0,0,1,1,1,0,]\n",
      "Net. Index: 4 , Attrac. Index: 1 , States:[0,0,0,0,0,1,]\n",
      "Net. Index: 3 , Attrac. Index: 2 , States:[0,0,1,1,1,0,]\n",
      "Net. Index: 4 , Attrac. Index: 2 , States:[0,0,0,0,1,1,]\n",
      "Net. Index: 3 , Attrac. Index: 2 , States:[0,0,1,1,1,0,]\n",
      "Net. Index: 4 , Attrac. Index: 3 , States:[0,0,1,1,1,1,]\n",
      "Net. Index: 3 , Attrac. Index: 2 , States:[0,0,1,1,1,0,]\n",
      "Net. Index: 4 , Attrac. Index: 4 , States:[0,0,1,1,0,1,]\n",
      "Net. Index: 3 , Attrac. Index: 2 , States:[0,0,1,1,1,0,]\n",
      "Net. Index: 4 , Attrac. Index: 5 , States:[1,0,0,0,1,1,][0,1,0,0,1,1,]\n",
      "Net. Index: 3 , Attrac. Index: 2 , States:[0,0,1,1,1,0,]\n",
      "Net. Index: 4 , Attrac. Index: 6 , States:[1,0,1,1,1,1,][0,1,1,1,1,1,]\n",
      "Net. Index: 3 , Attrac. Index: 2 , States:[0,0,1,1,1,0,]\n",
      "Net. Index: 4 , Attrac. Index: 7 , States:[1,1,1,1,1,1,]\n",
      "Net. Index: 3 , Attrac. Index: 1 , States:[1,1,1,1,1,1,]\n",
      "Net. Index: 4 , Attrac. Index: 1 , States:[0,0,0,0,0,1,]\n",
      "Net. Index: 3 , Attrac. Index: 1 , States:[1,1,1,1,1,1,]\n",
      "Net. Index: 4 , Attrac. Index: 2 , States:[0,0,0,0,1,1,]\n",
      "Net. Index: 3 , Attrac. Index: 1 , States:[1,1,1,1,1,1,]\n",
      "Net. Index: 4 , Attrac. Index: 3 , States:[0,0,1,1,1,1,]\n",
      "Net. Index: 3 , Attrac. Index: 1 , States:[1,1,1,1,1,1,]\n",
      "Net. Index: 4 , Attrac. Index: 4 , States:[0,0,1,1,0,1,]\n",
      "Net. Index: 3 , Attrac. Index: 1 , States:[1,1,1,1,1,1,]\n",
      "Net. Index: 4 , Attrac. Index: 5 , States:[1,0,0,0,1,1,][0,1,0,0,1,1,]\n",
      "Net. Index: 3 , Attrac. Index: 1 , States:[1,1,1,1,1,1,]\n",
      "Net. Index: 4 , Attrac. Index: 6 , States:[1,0,1,1,1,1,][0,1,1,1,1,1,]\n",
      "Net. Index: 3 , Attrac. Index: 1 , States:[1,1,1,1,1,1,]\n",
      "Net. Index: 4 , Attrac. Index: 7 , States:[1,1,1,1,1,1,]\n",
      "-------------------------------------------------\n",
      "Edge:  4 -> 5\n",
      "-------------------------------------------------\n",
      "Coupling Variable: 33 Scene: 0\n",
      "Net. Index: 4 , Attrac. Index: 1 , States:[0,0,0,0,0,0,]\n",
      "Net. Index: 5 , Attrac. Index: 1 , States:[0,0,0,1,0,0,]\n",
      "Net. Index: 4 , Attrac. Index: 1 , States:[0,0,0,0,0,0,]\n",
      "Net. Index: 5 , Attrac. Index: 2 , States:[0,0,0,0,0,0,]\n",
      "Net. Index: 4 , Attrac. Index: 1 , States:[0,0,0,0,0,0,]\n",
      "Net. Index: 5 , Attrac. Index: 3 , States:[1,1,1,1,0,0,]\n",
      "Net. Index: 4 , Attrac. Index: 1 , States:[0,0,0,0,0,0,]\n",
      "Net. Index: 5 , Attrac. Index: 4 , States:[0,1,1,1,0,0,][1,0,0,1,0,0,]\n",
      "Net. Index: 4 , Attrac. Index: 1 , States:[0,0,0,0,0,0,]\n",
      "Net. Index: 5 , Attrac. Index: 5 , States:[1,1,1,1,1,0,]\n",
      "Net. Index: 4 , Attrac. Index: 1 , States:[0,0,0,0,0,1,]\n",
      "Net. Index: 5 , Attrac. Index: 1 , States:[0,0,0,1,0,0,]\n",
      "Net. Index: 4 , Attrac. Index: 1 , States:[0,0,0,0,0,1,]\n",
      "Net. Index: 5 , Attrac. Index: 2 , States:[0,0,0,0,0,0,]\n",
      "Net. Index: 4 , Attrac. Index: 1 , States:[0,0,0,0,0,1,]\n",
      "Net. Index: 5 , Attrac. Index: 3 , States:[1,1,1,1,0,0,]\n",
      "Net. Index: 4 , Attrac. Index: 1 , States:[0,0,0,0,0,1,]\n",
      "Net. Index: 5 , Attrac. Index: 4 , States:[0,1,1,1,0,0,][1,0,0,1,0,0,]\n",
      "Net. Index: 4 , Attrac. Index: 1 , States:[0,0,0,0,0,1,]\n",
      "Net. Index: 5 , Attrac. Index: 5 , States:[1,1,1,1,1,0,]\n",
      "-------------------------------------------------\n",
      "Coupling Variable: 33 Scene: 1\n",
      "Net. Index: 4 , Attrac. Index: 2 , States:[0,0,0,0,1,0,]\n",
      "Net. Index: 5 , Attrac. Index: 1 , States:[0,0,0,0,0,1,]\n",
      "Net. Index: 4 , Attrac. Index: 2 , States:[0,0,0,0,1,0,]\n",
      "Net. Index: 5 , Attrac. Index: 2 , States:[0,1,0,1,0,1,]\n",
      "Net. Index: 4 , Attrac. Index: 2 , States:[0,0,0,0,1,0,]\n",
      "Net. Index: 5 , Attrac. Index: 3 , States:[0,1,0,1,1,1,]\n",
      "Net. Index: 4 , Attrac. Index: 2 , States:[0,0,0,0,1,0,]\n",
      "Net. Index: 5 , Attrac. Index: 4 , States:[1,1,0,1,0,1,][0,1,1,1,0,1,]\n",
      "Net. Index: 4 , Attrac. Index: 2 , States:[0,0,0,0,1,0,]\n",
      "Net. Index: 5 , Attrac. Index: 5 , States:[0,1,1,1,1,1,][1,1,0,1,1,1,]\n",
      "Net. Index: 4 , Attrac. Index: 2 , States:[0,0,0,0,1,0,]\n",
      "Net. Index: 5 , Attrac. Index: 6 , States:[1,1,1,1,0,1,]\n",
      "Net. Index: 4 , Attrac. Index: 2 , States:[0,0,0,0,1,0,]\n",
      "Net. Index: 5 , Attrac. Index: 7 , States:[1,1,1,1,1,1,]\n",
      "Net. Index: 4 , Attrac. Index: 3 , States:[0,0,1,1,1,0,]\n",
      "Net. Index: 5 , Attrac. Index: 1 , States:[0,0,0,0,0,1,]\n",
      "Net. Index: 4 , Attrac. Index: 3 , States:[0,0,1,1,1,0,]\n",
      "Net. Index: 5 , Attrac. Index: 2 , States:[0,1,0,1,0,1,]\n",
      "Net. Index: 4 , Attrac. Index: 3 , States:[0,0,1,1,1,0,]\n",
      "Net. Index: 5 , Attrac. Index: 3 , States:[0,1,0,1,1,1,]\n",
      "Net. Index: 4 , Attrac. Index: 3 , States:[0,0,1,1,1,0,]\n",
      "Net. Index: 5 , Attrac. Index: 4 , States:[1,1,0,1,0,1,][0,1,1,1,0,1,]\n",
      "Net. Index: 4 , Attrac. Index: 3 , States:[0,0,1,1,1,0,]\n",
      "Net. Index: 5 , Attrac. Index: 5 , States:[0,1,1,1,1,1,][1,1,0,1,1,1,]\n",
      "Net. Index: 4 , Attrac. Index: 3 , States:[0,0,1,1,1,0,]\n",
      "Net. Index: 5 , Attrac. Index: 6 , States:[1,1,1,1,0,1,]\n",
      "Net. Index: 4 , Attrac. Index: 3 , States:[0,0,1,1,1,0,]\n",
      "Net. Index: 5 , Attrac. Index: 7 , States:[1,1,1,1,1,1,]\n",
      "Net. Index: 4 , Attrac. Index: 4 , States:[0,0,1,1,0,0,]\n",
      "Net. Index: 5 , Attrac. Index: 1 , States:[0,0,0,0,0,1,]\n",
      "Net. Index: 4 , Attrac. Index: 4 , States:[0,0,1,1,0,0,]\n",
      "Net. Index: 5 , Attrac. Index: 2 , States:[0,1,0,1,0,1,]\n",
      "Net. Index: 4 , Attrac. Index: 4 , States:[0,0,1,1,0,0,]\n",
      "Net. Index: 5 , Attrac. Index: 3 , States:[0,1,0,1,1,1,]\n",
      "Net. Index: 4 , Attrac. Index: 4 , States:[0,0,1,1,0,0,]\n",
      "Net. Index: 5 , Attrac. Index: 4 , States:[1,1,0,1,0,1,][0,1,1,1,0,1,]\n",
      "Net. Index: 4 , Attrac. Index: 4 , States:[0,0,1,1,0,0,]\n",
      "Net. Index: 5 , Attrac. Index: 5 , States:[0,1,1,1,1,1,][1,1,0,1,1,1,]\n",
      "Net. Index: 4 , Attrac. Index: 4 , States:[0,0,1,1,0,0,]\n",
      "Net. Index: 5 , Attrac. Index: 6 , States:[1,1,1,1,0,1,]\n",
      "Net. Index: 4 , Attrac. Index: 4 , States:[0,0,1,1,0,0,]\n",
      "Net. Index: 5 , Attrac. Index: 7 , States:[1,1,1,1,1,1,]\n",
      "Net. Index: 4 , Attrac. Index: 5 , States:[1,0,0,0,1,0,][0,1,0,0,1,0,]\n",
      "Net. Index: 5 , Attrac. Index: 1 , States:[0,0,0,0,0,1,]\n",
      "Net. Index: 4 , Attrac. Index: 5 , States:[1,0,0,0,1,0,][0,1,0,0,1,0,]\n",
      "Net. Index: 5 , Attrac. Index: 2 , States:[0,1,0,1,0,1,]\n",
      "Net. Index: 4 , Attrac. Index: 5 , States:[1,0,0,0,1,0,][0,1,0,0,1,0,]\n",
      "Net. Index: 5 , Attrac. Index: 3 , States:[0,1,0,1,1,1,]\n",
      "Net. Index: 4 , Attrac. Index: 5 , States:[1,0,0,0,1,0,][0,1,0,0,1,0,]\n",
      "Net. Index: 5 , Attrac. Index: 4 , States:[1,1,0,1,0,1,][0,1,1,1,0,1,]\n",
      "Net. Index: 4 , Attrac. Index: 5 , States:[1,0,0,0,1,0,][0,1,0,0,1,0,]\n",
      "Net. Index: 5 , Attrac. Index: 5 , States:[0,1,1,1,1,1,][1,1,0,1,1,1,]\n",
      "Net. Index: 4 , Attrac. Index: 5 , States:[1,0,0,0,1,0,][0,1,0,0,1,0,]\n",
      "Net. Index: 5 , Attrac. Index: 6 , States:[1,1,1,1,0,1,]\n",
      "Net. Index: 4 , Attrac. Index: 5 , States:[1,0,0,0,1,0,][0,1,0,0,1,0,]\n",
      "Net. Index: 5 , Attrac. Index: 7 , States:[1,1,1,1,1,1,]\n",
      "Net. Index: 4 , Attrac. Index: 6 , States:[1,0,1,1,1,0,][0,1,1,1,1,0,]\n",
      "Net. Index: 5 , Attrac. Index: 1 , States:[0,0,0,0,0,1,]\n",
      "Net. Index: 4 , Attrac. Index: 6 , States:[1,0,1,1,1,0,][0,1,1,1,1,0,]\n",
      "Net. Index: 5 , Attrac. Index: 2 , States:[0,1,0,1,0,1,]\n",
      "Net. Index: 4 , Attrac. Index: 6 , States:[1,0,1,1,1,0,][0,1,1,1,1,0,]\n",
      "Net. Index: 5 , Attrac. Index: 3 , States:[0,1,0,1,1,1,]\n",
      "Net. Index: 4 , Attrac. Index: 6 , States:[1,0,1,1,1,0,][0,1,1,1,1,0,]\n",
      "Net. Index: 5 , Attrac. Index: 4 , States:[1,1,0,1,0,1,][0,1,1,1,0,1,]\n",
      "Net. Index: 4 , Attrac. Index: 6 , States:[1,0,1,1,1,0,][0,1,1,1,1,0,]\n",
      "Net. Index: 5 , Attrac. Index: 5 , States:[0,1,1,1,1,1,][1,1,0,1,1,1,]\n",
      "Net. Index: 4 , Attrac. Index: 6 , States:[1,0,1,1,1,0,][0,1,1,1,1,0,]\n",
      "Net. Index: 5 , Attrac. Index: 6 , States:[1,1,1,1,0,1,]\n",
      "Net. Index: 4 , Attrac. Index: 6 , States:[1,0,1,1,1,0,][0,1,1,1,1,0,]\n",
      "Net. Index: 5 , Attrac. Index: 7 , States:[1,1,1,1,1,1,]\n",
      "Net. Index: 4 , Attrac. Index: 7 , States:[1,1,1,1,1,0,]\n",
      "Net. Index: 5 , Attrac. Index: 1 , States:[0,0,0,0,0,1,]\n",
      "Net. Index: 4 , Attrac. Index: 7 , States:[1,1,1,1,1,0,]\n",
      "Net. Index: 5 , Attrac. Index: 2 , States:[0,1,0,1,0,1,]\n",
      "Net. Index: 4 , Attrac. Index: 7 , States:[1,1,1,1,1,0,]\n",
      "Net. Index: 5 , Attrac. Index: 3 , States:[0,1,0,1,1,1,]\n",
      "Net. Index: 4 , Attrac. Index: 7 , States:[1,1,1,1,1,0,]\n",
      "Net. Index: 5 , Attrac. Index: 4 , States:[1,1,0,1,0,1,][0,1,1,1,0,1,]\n",
      "Net. Index: 4 , Attrac. Index: 7 , States:[1,1,1,1,1,0,]\n",
      "Net. Index: 5 , Attrac. Index: 5 , States:[0,1,1,1,1,1,][1,1,0,1,1,1,]\n",
      "Net. Index: 4 , Attrac. Index: 7 , States:[1,1,1,1,1,0,]\n",
      "Net. Index: 5 , Attrac. Index: 6 , States:[1,1,1,1,0,1,]\n",
      "Net. Index: 4 , Attrac. Index: 7 , States:[1,1,1,1,1,0,]\n",
      "Net. Index: 5 , Attrac. Index: 7 , States:[1,1,1,1,1,1,]\n",
      "Net. Index: 4 , Attrac. Index: 2 , States:[0,0,0,0,1,1,]\n",
      "Net. Index: 5 , Attrac. Index: 1 , States:[0,0,0,0,0,1,]\n",
      "Net. Index: 4 , Attrac. Index: 2 , States:[0,0,0,0,1,1,]\n",
      "Net. Index: 5 , Attrac. Index: 2 , States:[0,1,0,1,0,1,]\n",
      "Net. Index: 4 , Attrac. Index: 2 , States:[0,0,0,0,1,1,]\n",
      "Net. Index: 5 , Attrac. Index: 3 , States:[0,1,0,1,1,1,]\n",
      "Net. Index: 4 , Attrac. Index: 2 , States:[0,0,0,0,1,1,]\n",
      "Net. Index: 5 , Attrac. Index: 4 , States:[1,1,0,1,0,1,][0,1,1,1,0,1,]\n",
      "Net. Index: 4 , Attrac. Index: 2 , States:[0,0,0,0,1,1,]\n",
      "Net. Index: 5 , Attrac. Index: 5 , States:[0,1,1,1,1,1,][1,1,0,1,1,1,]\n",
      "Net. Index: 4 , Attrac. Index: 2 , States:[0,0,0,0,1,1,]\n",
      "Net. Index: 5 , Attrac. Index: 6 , States:[1,1,1,1,0,1,]\n",
      "Net. Index: 4 , Attrac. Index: 2 , States:[0,0,0,0,1,1,]\n",
      "Net. Index: 5 , Attrac. Index: 7 , States:[1,1,1,1,1,1,]\n",
      "Net. Index: 4 , Attrac. Index: 3 , States:[0,0,1,1,1,1,]\n",
      "Net. Index: 5 , Attrac. Index: 1 , States:[0,0,0,0,0,1,]\n",
      "Net. Index: 4 , Attrac. Index: 3 , States:[0,0,1,1,1,1,]\n",
      "Net. Index: 5 , Attrac. Index: 2 , States:[0,1,0,1,0,1,]\n",
      "Net. Index: 4 , Attrac. Index: 3 , States:[0,0,1,1,1,1,]\n",
      "Net. Index: 5 , Attrac. Index: 3 , States:[0,1,0,1,1,1,]\n",
      "Net. Index: 4 , Attrac. Index: 3 , States:[0,0,1,1,1,1,]\n",
      "Net. Index: 5 , Attrac. Index: 4 , States:[1,1,0,1,0,1,][0,1,1,1,0,1,]\n",
      "Net. Index: 4 , Attrac. Index: 3 , States:[0,0,1,1,1,1,]\n",
      "Net. Index: 5 , Attrac. Index: 5 , States:[0,1,1,1,1,1,][1,1,0,1,1,1,]\n",
      "Net. Index: 4 , Attrac. Index: 3 , States:[0,0,1,1,1,1,]\n",
      "Net. Index: 5 , Attrac. Index: 6 , States:[1,1,1,1,0,1,]\n",
      "Net. Index: 4 , Attrac. Index: 3 , States:[0,0,1,1,1,1,]\n",
      "Net. Index: 5 , Attrac. Index: 7 , States:[1,1,1,1,1,1,]\n",
      "Net. Index: 4 , Attrac. Index: 4 , States:[0,0,1,1,0,1,]\n",
      "Net. Index: 5 , Attrac. Index: 1 , States:[0,0,0,0,0,1,]\n",
      "Net. Index: 4 , Attrac. Index: 4 , States:[0,0,1,1,0,1,]\n",
      "Net. Index: 5 , Attrac. Index: 2 , States:[0,1,0,1,0,1,]\n",
      "Net. Index: 4 , Attrac. Index: 4 , States:[0,0,1,1,0,1,]\n",
      "Net. Index: 5 , Attrac. Index: 3 , States:[0,1,0,1,1,1,]\n",
      "Net. Index: 4 , Attrac. Index: 4 , States:[0,0,1,1,0,1,]\n",
      "Net. Index: 5 , Attrac. Index: 4 , States:[1,1,0,1,0,1,][0,1,1,1,0,1,]\n",
      "Net. Index: 4 , Attrac. Index: 4 , States:[0,0,1,1,0,1,]\n",
      "Net. Index: 5 , Attrac. Index: 5 , States:[0,1,1,1,1,1,][1,1,0,1,1,1,]\n",
      "Net. Index: 4 , Attrac. Index: 4 , States:[0,0,1,1,0,1,]\n",
      "Net. Index: 5 , Attrac. Index: 6 , States:[1,1,1,1,0,1,]\n",
      "Net. Index: 4 , Attrac. Index: 4 , States:[0,0,1,1,0,1,]\n",
      "Net. Index: 5 , Attrac. Index: 7 , States:[1,1,1,1,1,1,]\n",
      "Net. Index: 4 , Attrac. Index: 5 , States:[1,0,0,0,1,1,][0,1,0,0,1,1,]\n",
      "Net. Index: 5 , Attrac. Index: 1 , States:[0,0,0,0,0,1,]\n",
      "Net. Index: 4 , Attrac. Index: 5 , States:[1,0,0,0,1,1,][0,1,0,0,1,1,]\n",
      "Net. Index: 5 , Attrac. Index: 2 , States:[0,1,0,1,0,1,]\n",
      "Net. Index: 4 , Attrac. Index: 5 , States:[1,0,0,0,1,1,][0,1,0,0,1,1,]\n",
      "Net. Index: 5 , Attrac. Index: 3 , States:[0,1,0,1,1,1,]\n",
      "Net. Index: 4 , Attrac. Index: 5 , States:[1,0,0,0,1,1,][0,1,0,0,1,1,]\n",
      "Net. Index: 5 , Attrac. Index: 4 , States:[1,1,0,1,0,1,][0,1,1,1,0,1,]\n",
      "Net. Index: 4 , Attrac. Index: 5 , States:[1,0,0,0,1,1,][0,1,0,0,1,1,]\n",
      "Net. Index: 5 , Attrac. Index: 5 , States:[0,1,1,1,1,1,][1,1,0,1,1,1,]\n",
      "Net. Index: 4 , Attrac. Index: 5 , States:[1,0,0,0,1,1,][0,1,0,0,1,1,]\n",
      "Net. Index: 5 , Attrac. Index: 6 , States:[1,1,1,1,0,1,]\n",
      "Net. Index: 4 , Attrac. Index: 5 , States:[1,0,0,0,1,1,][0,1,0,0,1,1,]\n",
      "Net. Index: 5 , Attrac. Index: 7 , States:[1,1,1,1,1,1,]\n",
      "Net. Index: 4 , Attrac. Index: 6 , States:[1,0,1,1,1,1,][0,1,1,1,1,1,]\n",
      "Net. Index: 5 , Attrac. Index: 1 , States:[0,0,0,0,0,1,]\n",
      "Net. Index: 4 , Attrac. Index: 6 , States:[1,0,1,1,1,1,][0,1,1,1,1,1,]\n",
      "Net. Index: 5 , Attrac. Index: 2 , States:[0,1,0,1,0,1,]\n",
      "Net. Index: 4 , Attrac. Index: 6 , States:[1,0,1,1,1,1,][0,1,1,1,1,1,]\n",
      "Net. Index: 5 , Attrac. Index: 3 , States:[0,1,0,1,1,1,]\n",
      "Net. Index: 4 , Attrac. Index: 6 , States:[1,0,1,1,1,1,][0,1,1,1,1,1,]\n",
      "Net. Index: 5 , Attrac. Index: 4 , States:[1,1,0,1,0,1,][0,1,1,1,0,1,]\n",
      "Net. Index: 4 , Attrac. Index: 6 , States:[1,0,1,1,1,1,][0,1,1,1,1,1,]\n",
      "Net. Index: 5 , Attrac. Index: 5 , States:[0,1,1,1,1,1,][1,1,0,1,1,1,]\n",
      "Net. Index: 4 , Attrac. Index: 6 , States:[1,0,1,1,1,1,][0,1,1,1,1,1,]\n",
      "Net. Index: 5 , Attrac. Index: 6 , States:[1,1,1,1,0,1,]\n",
      "Net. Index: 4 , Attrac. Index: 6 , States:[1,0,1,1,1,1,][0,1,1,1,1,1,]\n",
      "Net. Index: 5 , Attrac. Index: 7 , States:[1,1,1,1,1,1,]\n",
      "Net. Index: 4 , Attrac. Index: 7 , States:[1,1,1,1,1,1,]\n",
      "Net. Index: 5 , Attrac. Index: 1 , States:[0,0,0,0,0,1,]\n",
      "Net. Index: 4 , Attrac. Index: 7 , States:[1,1,1,1,1,1,]\n",
      "Net. Index: 5 , Attrac. Index: 2 , States:[0,1,0,1,0,1,]\n",
      "Net. Index: 4 , Attrac. Index: 7 , States:[1,1,1,1,1,1,]\n",
      "Net. Index: 5 , Attrac. Index: 3 , States:[0,1,0,1,1,1,]\n",
      "Net. Index: 4 , Attrac. Index: 7 , States:[1,1,1,1,1,1,]\n",
      "Net. Index: 5 , Attrac. Index: 4 , States:[1,1,0,1,0,1,][0,1,1,1,0,1,]\n",
      "Net. Index: 4 , Attrac. Index: 7 , States:[1,1,1,1,1,1,]\n",
      "Net. Index: 5 , Attrac. Index: 5 , States:[0,1,1,1,1,1,][1,1,0,1,1,1,]\n",
      "Net. Index: 4 , Attrac. Index: 7 , States:[1,1,1,1,1,1,]\n",
      "Net. Index: 5 , Attrac. Index: 6 , States:[1,1,1,1,0,1,]\n",
      "Net. Index: 4 , Attrac. Index: 7 , States:[1,1,1,1,1,1,]\n",
      "Net. Index: 5 , Attrac. Index: 7 , States:[1,1,1,1,1,1,]\n",
      "-------------------------------------------------\n",
      "Edge:  5 -> 6\n",
      "-------------------------------------------------\n",
      "Coupling Variable: 34 Scene: 0\n",
      "Net. Index: 5 , Attrac. Index: 1 , States:[0,0,0,1,0,0,]\n",
      "Net. Index: 6 , Attrac. Index: 1 , States:[0,0,0,1,0,0,]\n",
      "Net. Index: 5 , Attrac. Index: 1 , States:[0,0,0,1,0,0,]\n",
      "Net. Index: 6 , Attrac. Index: 2 , States:[0,0,0,0,0,0,]\n",
      "Net. Index: 5 , Attrac. Index: 1 , States:[0,0,0,1,0,0,]\n",
      "Net. Index: 6 , Attrac. Index: 3 , States:[1,1,1,1,1,0,]\n",
      "Net. Index: 5 , Attrac. Index: 1 , States:[0,0,0,1,0,0,]\n",
      "Net. Index: 6 , Attrac. Index: 4 , States:[1,0,0,1,0,0,]\n",
      "Net. Index: 5 , Attrac. Index: 1 , States:[0,0,0,1,0,0,]\n",
      "Net. Index: 6 , Attrac. Index: 5 , States:[0,0,0,1,1,0,]\n",
      "Net. Index: 5 , Attrac. Index: 2 , States:[0,0,0,0,0,0,]\n",
      "Net. Index: 6 , Attrac. Index: 1 , States:[0,0,0,1,0,0,]\n",
      "Net. Index: 5 , Attrac. Index: 2 , States:[0,0,0,0,0,0,]\n",
      "Net. Index: 6 , Attrac. Index: 2 , States:[0,0,0,0,0,0,]\n",
      "Net. Index: 5 , Attrac. Index: 2 , States:[0,0,0,0,0,0,]\n",
      "Net. Index: 6 , Attrac. Index: 3 , States:[1,1,1,1,1,0,]\n",
      "Net. Index: 5 , Attrac. Index: 2 , States:[0,0,0,0,0,0,]\n",
      "Net. Index: 6 , Attrac. Index: 4 , States:[1,0,0,1,0,0,]\n",
      "Net. Index: 5 , Attrac. Index: 2 , States:[0,0,0,0,0,0,]\n",
      "Net. Index: 6 , Attrac. Index: 5 , States:[0,0,0,1,1,0,]\n",
      "Net. Index: 5 , Attrac. Index: 1 , States:[0,0,0,0,0,1,]\n",
      "Net. Index: 6 , Attrac. Index: 1 , States:[0,0,0,1,0,0,]\n",
      "Net. Index: 5 , Attrac. Index: 1 , States:[0,0,0,0,0,1,]\n",
      "Net. Index: 6 , Attrac. Index: 2 , States:[0,0,0,0,0,0,]\n",
      "Net. Index: 5 , Attrac. Index: 1 , States:[0,0,0,0,0,1,]\n",
      "Net. Index: 6 , Attrac. Index: 3 , States:[1,1,1,1,1,0,]\n",
      "Net. Index: 5 , Attrac. Index: 1 , States:[0,0,0,0,0,1,]\n",
      "Net. Index: 6 , Attrac. Index: 4 , States:[1,0,0,1,0,0,]\n",
      "Net. Index: 5 , Attrac. Index: 1 , States:[0,0,0,0,0,1,]\n",
      "Net. Index: 6 , Attrac. Index: 5 , States:[0,0,0,1,1,0,]\n",
      "Net. Index: 5 , Attrac. Index: 2 , States:[0,1,0,1,0,1,]\n",
      "Net. Index: 6 , Attrac. Index: 1 , States:[0,0,0,1,0,0,]\n",
      "Net. Index: 5 , Attrac. Index: 2 , States:[0,1,0,1,0,1,]\n",
      "Net. Index: 6 , Attrac. Index: 2 , States:[0,0,0,0,0,0,]\n",
      "Net. Index: 5 , Attrac. Index: 2 , States:[0,1,0,1,0,1,]\n",
      "Net. Index: 6 , Attrac. Index: 3 , States:[1,1,1,1,1,0,]\n",
      "Net. Index: 5 , Attrac. Index: 2 , States:[0,1,0,1,0,1,]\n",
      "Net. Index: 6 , Attrac. Index: 4 , States:[1,0,0,1,0,0,]\n",
      "Net. Index: 5 , Attrac. Index: 2 , States:[0,1,0,1,0,1,]\n",
      "Net. Index: 6 , Attrac. Index: 5 , States:[0,0,0,1,1,0,]\n",
      "-------------------------------------------------\n",
      "Coupling Variable: 34 Scene: 1\n",
      "Net. Index: 5 , Attrac. Index: 3 , States:[1,1,1,1,0,0,]\n",
      "Net. Index: 6 , Attrac. Index: 1 , States:[1,1,1,1,1,1,]\n",
      "Net. Index: 5 , Attrac. Index: 3 , States:[1,1,1,1,0,0,]\n",
      "Net. Index: 6 , Attrac. Index: 2 , States:[0,0,0,0,0,1,]\n",
      "Net. Index: 5 , Attrac. Index: 3 , States:[1,1,1,1,0,0,]\n",
      "Net. Index: 6 , Attrac. Index: 3 , States:[0,0,0,1,1,1,]\n",
      "Net. Index: 5 , Attrac. Index: 5 , States:[1,1,1,1,1,0,]\n",
      "Net. Index: 6 , Attrac. Index: 1 , States:[1,1,1,1,1,1,]\n",
      "Net. Index: 5 , Attrac. Index: 5 , States:[1,1,1,1,1,0,]\n",
      "Net. Index: 6 , Attrac. Index: 2 , States:[0,0,0,0,0,1,]\n",
      "Net. Index: 5 , Attrac. Index: 5 , States:[1,1,1,1,1,0,]\n",
      "Net. Index: 6 , Attrac. Index: 3 , States:[0,0,0,1,1,1,]\n",
      "Net. Index: 5 , Attrac. Index: 3 , States:[0,1,0,1,1,1,]\n",
      "Net. Index: 6 , Attrac. Index: 1 , States:[1,1,1,1,1,1,]\n",
      "Net. Index: 5 , Attrac. Index: 3 , States:[0,1,0,1,1,1,]\n",
      "Net. Index: 6 , Attrac. Index: 2 , States:[0,0,0,0,0,1,]\n",
      "Net. Index: 5 , Attrac. Index: 3 , States:[0,1,0,1,1,1,]\n",
      "Net. Index: 6 , Attrac. Index: 3 , States:[0,0,0,1,1,1,]\n",
      "Net. Index: 5 , Attrac. Index: 5 , States:[0,1,1,1,1,1,][1,1,0,1,1,1,]\n",
      "Net. Index: 6 , Attrac. Index: 1 , States:[1,1,1,1,1,1,]\n",
      "Net. Index: 5 , Attrac. Index: 5 , States:[0,1,1,1,1,1,][1,1,0,1,1,1,]\n",
      "Net. Index: 6 , Attrac. Index: 2 , States:[0,0,0,0,0,1,]\n",
      "Net. Index: 5 , Attrac. Index: 5 , States:[0,1,1,1,1,1,][1,1,0,1,1,1,]\n",
      "Net. Index: 6 , Attrac. Index: 3 , States:[0,0,0,1,1,1,]\n",
      "Net. Index: 5 , Attrac. Index: 6 , States:[1,1,1,1,0,1,]\n",
      "Net. Index: 6 , Attrac. Index: 1 , States:[1,1,1,1,1,1,]\n",
      "Net. Index: 5 , Attrac. Index: 6 , States:[1,1,1,1,0,1,]\n",
      "Net. Index: 6 , Attrac. Index: 2 , States:[0,0,0,0,0,1,]\n",
      "Net. Index: 5 , Attrac. Index: 6 , States:[1,1,1,1,0,1,]\n",
      "Net. Index: 6 , Attrac. Index: 3 , States:[0,0,0,1,1,1,]\n",
      "Net. Index: 5 , Attrac. Index: 7 , States:[1,1,1,1,1,1,]\n",
      "Net. Index: 6 , Attrac. Index: 1 , States:[1,1,1,1,1,1,]\n",
      "Net. Index: 5 , Attrac. Index: 7 , States:[1,1,1,1,1,1,]\n",
      "Net. Index: 6 , Attrac. Index: 2 , States:[0,0,0,0,0,1,]\n",
      "Net. Index: 5 , Attrac. Index: 7 , States:[1,1,1,1,1,1,]\n",
      "Net. Index: 6 , Attrac. Index: 3 , States:[0,0,0,1,1,1,]\n"
     ]
    }
   ],
   "source": [
    "o_cbn.show_attractor_pairs()"
   ],
   "metadata": {
    "collapsed": false,
    "ExecuteTime": {
     "end_time": "2024-01-22T19:32:41.358723012Z",
     "start_time": "2024-01-22T19:32:41.298004390Z"
    }
   },
   "id": "1eb862985f5e4960"
  },
  {
   "cell_type": "code",
   "execution_count": 16,
   "outputs": [
    {
     "name": "stdout",
     "output_type": "stream",
     "text": [
      "=================================================\n",
      "SHOW THE DIRECTED EDGES OF THE CBN\n",
      "-------------------------------------------------\n",
      "Edge: 2 -> 3 , Index: 31\n",
      "Variables: [8, 7] , Coupling Function:  8 ∨ 7 \n",
      "Truth table: {'11': '1', '10': '1', '01': '1', '00': '0'}\n",
      "Kind signal: 3 - STABLE\n",
      "-------------------------------------------------\n",
      "Edge: 3 -> 4 , Index: 32\n",
      "Variables: [13, 11] , Coupling Function:  13 ∨ 11 \n",
      "Truth table: {'11': '1', '10': '1', '01': '1', '00': '0'}\n",
      "Kind signal: 3 - STABLE\n",
      "-------------------------------------------------\n",
      "Edge: 4 -> 5 , Index: 33\n",
      "Variables: [18, 20] , Coupling Function:  18 ∨ 20 \n",
      "Truth table: {'11': '1', '10': '1', '01': '1', '00': '0'}\n",
      "Kind signal: 3 - STABLE\n",
      "-------------------------------------------------\n",
      "Edge: 5 -> 6 , Index: 34\n",
      "Variables: [23, 25] , Coupling Function:  23 ∨ 25 \n",
      "Truth table: {'11': '1', '10': '1', '01': '1', '00': '0'}\n",
      "Kind signal: 3 - STABLE\n"
     ]
    }
   ],
   "source": [
    "o_cbn.show_directed_edges()"
   ],
   "metadata": {
    "collapsed": false,
    "ExecuteTime": {
     "end_time": "2024-01-22T19:32:41.359762119Z",
     "start_time": "2024-01-22T19:32:41.342167838Z"
    }
   },
   "id": "c151571aab794d6d"
  },
  {
   "cell_type": "code",
   "execution_count": 17,
   "outputs": [
    {
     "name": "stdout",
     "output_type": "stream",
     "text": [
      "=================================================\n",
      "SHOW THE COUPLED SIGNALS KINDS\n",
      "SIGNAL: 31 RELATION: 2 -> 3 KIND: 3 - STABLE\n",
      "SIGNAL: 32 RELATION: 3 -> 4 KIND: 3 - STABLE\n",
      "SIGNAL: 33 RELATION: 4 -> 5 KIND: 3 - STABLE\n",
      "SIGNAL: 34 RELATION: 5 -> 6 KIND: 3 - STABLE\n",
      "Number of restricted signals : 0\n"
     ]
    }
   ],
   "source": [
    "# show the kind of every coupled signal\n",
    "o_cbn.show_coupled_signals_kind()"
   ],
   "metadata": {
    "collapsed": false,
    "ExecuteTime": {
     "end_time": "2024-01-22T19:32:41.360669714Z",
     "start_time": "2024-01-22T19:32:41.342574737Z"
    }
   },
   "id": "8ced149d8f108e38"
  },
  {
   "cell_type": "code",
   "execution_count": 18,
   "outputs": [
    {
     "data": {
      "text/plain": "<Figure size 640x480 with 1 Axes>",
      "image/png": "[encoded data removed]"
     },
     "metadata": {},
     "output_type": "display_data"
    }
   ],
   "source": [
    "o_cbn.show_cbn_graph()"
   ],
   "metadata": {
    "collapsed": false,
    "ExecuteTime": {
     "end_time": "2024-01-22T19:32:42.029431789Z",
     "start_time": "2024-01-22T19:32:41.342919686Z"
    }
   },
   "id": "140a047b82dc7f0a"
  }
 ],
 "metadata": {
  "kernelspec": {
   "display_name": "Python 3",
   "language": "python",
   "name": "python3"
  },
  "language_info": {
   "codemirror_mode": {
    "name": "ipython",
    "version": 2
   },
   "file_extension": ".py",
   "mimetype": "text/x-python",
   "name": "python",
   "nbconvert_exporter": "python",
   "pygments_lexer": "ipython2",
   "version": "2.7.6"
  }
 },
 "nbformat": 4,
 "nbformat_minor": 5
}
