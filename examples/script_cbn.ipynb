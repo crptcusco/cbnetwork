{
 "cells": [
  {
   "cell_type": "code",
   "execution_count": null,
   "id": "initial_id",
   "metadata": {
    "collapsed": true,
    "is_executing": true
   },
   "outputs": [],
   "source": [
    "# import libraries\n",
    "from classes.cbnetwork import CBN\n",
    "\n",
    "print(\"CBN script example\")\n",
    "print(\"List of the Allowed Topologies\")\n",
    "print(CBN.show_allowed_topologies())\n",
    "\n",
    "# pass the parameters\n",
    "n_local_networks = 5\n",
    "n_var_network = 5\n",
    "# n_relations = 2\n",
    "# relations_fixed = True\n",
    "n_output_variables = 2\n",
    "n_clauses_function = 2\n",
    "v_topology = 2\n",
    "\n",
    "# create a Coupled Boolean Network with the parameters\n",
    "o_cbn = CBN.generate_cbn(n_local_networks=n_local_networks,\n",
    "                         n_var_network=n_var_network,\n",
    "                         v_topology=v_topology,\n",
    "                         n_output_variables=n_output_variables,\n",
    "                         n_clauses_function=n_clauses_function)\n",
    "\n",
    "o_cbn.generate_graph()\n",
    "print(\"Grafico Creado\")\n",
    "\n",
    "# Find attractors\n",
    "# l_attractors = o_cbn.find_attractors()\n",
    "# Find attractors fields\n",
    "# o_cbn.find_attractor_fields()\n",
    "\n",
    "# Show attractor fields\n",
    "# o_cbn.show_attractors_fields()\n",
    "\n",
    "print(\"END\")"
   ]
  },
  {
   "cell_type": "code",
   "execution_count": null,
   "outputs": [],
   "source": [],
   "metadata": {
    "collapsed": false,
    "is_executing": true
   },
   "id": "9ad09c8ea05d1304"
  }
 ],
 "metadata": {
  "kernelspec": {
   "display_name": "Python 3",
   "language": "python",
   "name": "python3"
  },
  "language_info": {
   "codemirror_mode": {
    "name": "ipython",
    "version": 2
   },
   "file_extension": ".py",
   "mimetype": "text/x-python",
   "name": "python",
   "nbconvert_exporter": "python",
   "pygments_lexer": "ipython2",
   "version": "2.7.6"
  }
 },
 "nbformat": 4,
 "nbformat_minor": 5
}
