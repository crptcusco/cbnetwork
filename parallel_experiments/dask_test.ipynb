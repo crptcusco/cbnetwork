{
 "cells": [
  {
   "cell_type": "code",
   "execution_count": null,
   "id": "initial_id",
   "metadata": {
    "collapsed": true
   },
   "outputs": [],
   "source": [
    "VP = 12 # number of elements LOAD, number of threads\n",
    "\n",
    "# initial the dask Client\n",
    "from dask.distributed import Client\n",
    "# Esto inicia el cliente y el tablero\n",
    "client = Client(n_workers=12, threads_per_worker=1)\n",
    "# Te muestra el enlace al tablero\n",
    "print(client.dashboard_link)"
   ]
  },
  {
   "metadata": {},
   "cell_type": "code",
   "outputs": [],
   "execution_count": null,
   "source": [
    "# external imports\n",
    "import copy\n",
    "\n",
    "# local imports\n",
    "from classes.cbnetwork import CBN\n",
    "from classes.globaltopology import GlobalTopology\n",
    "from classes.localtemplates import LocalNetworkTemplate\n",
    "\n",
    "# pass the parameters\n",
    "N_LOCAL_NETWORKS = 20\n",
    "N_VARS_NETWORK = 20\n",
    "N_OUTPUT_VARS = 2\n",
    "N_INPUT_VARS = 2\n",
    "V_TOPOLOGY = 2\n",
    "N_MAX_CLAUSES = 2\n",
    "N_MAX_LITERALS = 2\n",
    "\n",
    "# GENERATE THE LOCAL NETWORK TEMPLATE\n",
    "o_template = LocalNetworkTemplate(n_vars_network=N_VARS_NETWORK, n_input_variables=N_INPUT_VARS,\n",
    "                                  n_output_variables=N_OUTPUT_VARS, n_max_of_clauses=N_MAX_CLAUSES,\n",
    "                                  n_max_of_literals=N_MAX_LITERALS, v_topology=V_TOPOLOGY)\n",
    "\n",
    "# GENERATE THE GLOBAL TOPOLOGY\n",
    "o_global_topology = GlobalTopology.generate_sample_topology(v_topology=V_TOPOLOGY,\n",
    "                                                            n_nodes=N_LOCAL_NETWORKS)\n",
    "\n",
    "# generate aleatory CBN by topology\n",
    "o_cbn = CBN.generate_cbn_from_template(v_topology=V_TOPOLOGY,\n",
    "                                       n_local_networks=N_LOCAL_NETWORKS,\n",
    "                                       n_vars_network=N_VARS_NETWORK,\n",
    "                                       o_template=o_template,\n",
    "                                       l_global_edges=o_global_topology.l_edges)\n",
    "\n",
    "# Crear copias profundas del objeto original\n",
    "o_cbn1 = copy.deepcopy(o_cbn) # Serial\n",
    "o_cbn2 = copy.deepcopy(o_cbn) # Dask parallel simple\n",
    "o_cbn3 = copy.deepcopy(o_cbn) # Dask parallel with weights"
   ],
   "id": "f0afa437208313e3"
  },
  {
   "metadata": {},
   "cell_type": "code",
   "outputs": [],
   "execution_count": null,
   "source": "",
   "id": "6244ba04b952bba7"
  },
  {
   "metadata": {},
   "cell_type": "code",
   "outputs": [],
   "execution_count": null,
   "source": "o_cbn2.dask_find_compatible_pairs()",
   "id": "f153ecba232c59b7"
  },
  {
   "metadata": {},
   "cell_type": "code",
   "outputs": [],
   "execution_count": null,
   "source": "o_cbn1.show_attractor_pairs()",
   "id": "60cca1f67a791a2"
  }
 ],
 "metadata": {
  "kernelspec": {
   "display_name": "Python 3",
   "language": "python",
   "name": "python3"
  },
  "language_info": {
   "codemirror_mode": {
    "name": "ipython",
    "version": 2
   },
   "file_extension": ".py",
   "mimetype": "text/x-python",
   "name": "python",
   "nbconvert_exporter": "python",
   "pygments_lexer": "ipython2",
   "version": "2.7.6"
  }
 },
 "nbformat": 4,
 "nbformat_minor": 5
}
