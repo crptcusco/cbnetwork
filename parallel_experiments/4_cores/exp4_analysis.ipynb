{
 "cells": [
  {
   "metadata": {},
   "cell_type": "markdown",
   "source": "# Experiment 4",
   "id": "483e781db1425328"
  },
  {
   "metadata": {},
   "cell_type": "markdown",
   "source": "This experiment explore the growth of local networks in CBN with Linear topology. Its important see what happened with the Linear CBN with more local networks",
   "id": "a0236efa9bdf6edb"
  },
  {
   "metadata": {
    "collapsed": true,
    "ExecuteTime": {
     "end_time": "2025-03-23T16:38:00.486474Z",
     "start_time": "2025-03-23T16:38:00.476296Z"
    }
   },
   "cell_type": "code",
   "source": [
    "import pandas as pd\n",
    "import numpy as np\n",
    "import matplotlib.pyplot as plt\n",
    "\n",
    "# Load the dataset\n",
    "df = pd.read_csv(\"outputs/exp4_cores_1024_5/data.csv\")\n",
    "# df = pd.read_csv(\"outputs/exp4_cores_1024_500/data.csv\")\n",
    "df.keys()"
   ],
   "id": "initial_id",
   "outputs": [
    {
     "data": {
      "text/plain": [
       "Index(['i_sample', 'n_cores', 'step', 'method', 'execution_time'], dtype='object')"
      ]
     },
     "execution_count": 6,
     "metadata": {},
     "output_type": "execute_result"
    }
   ],
   "execution_count": 6
  },
  {
   "metadata": {
    "ExecuteTime": {
     "end_time": "2025-03-23T16:38:00.560215Z",
     "start_time": "2025-03-23T16:38:00.547121Z"
    }
   },
   "cell_type": "code",
   "source": "df",
   "id": "8c0136878c6b0154",
   "outputs": [
    {
     "data": {
      "text/plain": [
       "     i_sample  n_cores  step  method  execution_time\n",
       "0           1        2     1       1       80.390894\n",
       "1           1        2     1       2       39.703291\n",
       "2           1        2     1       3       39.813354\n",
       "3           1        2     2       1        1.100743\n",
       "4           1        2     2       2        2.070339\n",
       "..        ...      ...   ...     ...             ...\n",
       "205         5       24     1       2        4.789140\n",
       "206         5       24     1       3        4.768669\n",
       "207         5       24     2       1        1.003681\n",
       "208         5       24     2       2       18.100467\n",
       "209         5       24     2       3       19.261140\n",
       "\n",
       "[210 rows x 5 columns]"
      ],
      "text/html": [
       "<div>\n",
       "<style scoped>\n",
       "    .dataframe tbody tr th:only-of-type {\n",
       "        vertical-align: middle;\n",
       "    }\n",
       "\n",
       "    .dataframe tbody tr th {\n",
       "        vertical-align: top;\n",
       "    }\n",
       "\n",
       "    .dataframe thead th {\n",
       "        text-align: right;\n",
       "    }\n",
       "</style>\n",
       "<table border=\"1\" class=\"dataframe\">\n",
       "  <thead>\n",
       "    <tr style=\"text-align: right;\">\n",
       "      <th></th>\n",
       "      <th>i_sample</th>\n",
       "      <th>n_cores</th>\n",
       "      <th>step</th>\n",
       "      <th>method</th>\n",
       "      <th>execution_time</th>\n",
       "    </tr>\n",
       "  </thead>\n",
       "  <tbody>\n",
       "    <tr>\n",
       "      <th>0</th>\n",
       "      <td>1</td>\n",
       "      <td>2</td>\n",
       "      <td>1</td>\n",
       "      <td>1</td>\n",
       "      <td>80.390894</td>\n",
       "    </tr>\n",
       "    <tr>\n",
       "      <th>1</th>\n",
       "      <td>1</td>\n",
       "      <td>2</td>\n",
       "      <td>1</td>\n",
       "      <td>2</td>\n",
       "      <td>39.703291</td>\n",
       "    </tr>\n",
       "    <tr>\n",
       "      <th>2</th>\n",
       "      <td>1</td>\n",
       "      <td>2</td>\n",
       "      <td>1</td>\n",
       "      <td>3</td>\n",
       "      <td>39.813354</td>\n",
       "    </tr>\n",
       "    <tr>\n",
       "      <th>3</th>\n",
       "      <td>1</td>\n",
       "      <td>2</td>\n",
       "      <td>2</td>\n",
       "      <td>1</td>\n",
       "      <td>1.100743</td>\n",
       "    </tr>\n",
       "    <tr>\n",
       "      <th>4</th>\n",
       "      <td>1</td>\n",
       "      <td>2</td>\n",
       "      <td>2</td>\n",
       "      <td>2</td>\n",
       "      <td>2.070339</td>\n",
       "    </tr>\n",
       "    <tr>\n",
       "      <th>...</th>\n",
       "      <td>...</td>\n",
       "      <td>...</td>\n",
       "      <td>...</td>\n",
       "      <td>...</td>\n",
       "      <td>...</td>\n",
       "    </tr>\n",
       "    <tr>\n",
       "      <th>205</th>\n",
       "      <td>5</td>\n",
       "      <td>24</td>\n",
       "      <td>1</td>\n",
       "      <td>2</td>\n",
       "      <td>4.789140</td>\n",
       "    </tr>\n",
       "    <tr>\n",
       "      <th>206</th>\n",
       "      <td>5</td>\n",
       "      <td>24</td>\n",
       "      <td>1</td>\n",
       "      <td>3</td>\n",
       "      <td>4.768669</td>\n",
       "    </tr>\n",
       "    <tr>\n",
       "      <th>207</th>\n",
       "      <td>5</td>\n",
       "      <td>24</td>\n",
       "      <td>2</td>\n",
       "      <td>1</td>\n",
       "      <td>1.003681</td>\n",
       "    </tr>\n",
       "    <tr>\n",
       "      <th>208</th>\n",
       "      <td>5</td>\n",
       "      <td>24</td>\n",
       "      <td>2</td>\n",
       "      <td>2</td>\n",
       "      <td>18.100467</td>\n",
       "    </tr>\n",
       "    <tr>\n",
       "      <th>209</th>\n",
       "      <td>5</td>\n",
       "      <td>24</td>\n",
       "      <td>2</td>\n",
       "      <td>3</td>\n",
       "      <td>19.261140</td>\n",
       "    </tr>\n",
       "  </tbody>\n",
       "</table>\n",
       "<p>210 rows × 5 columns</p>\n",
       "</div>"
      ]
     },
     "execution_count": 7,
     "metadata": {},
     "output_type": "execute_result"
    }
   ],
   "execution_count": 7
  },
  {
   "metadata": {},
   "cell_type": "markdown",
   "source": "## General Statistics",
   "id": "e59b9fdba9210b34"
  },
  {
   "metadata": {},
   "cell_type": "markdown",
   "source": "### Statistics",
   "id": "5a522b1dee06c79e"
  },
  {
   "metadata": {
    "ExecuteTime": {
     "end_time": "2025-03-23T16:38:00.668083Z",
     "start_time": "2025-03-23T16:38:00.653755Z"
    }
   },
   "cell_type": "code",
   "source": [
    "mean_times = df.groupby(['step', 'method', 'n_cores'])['execution_time'].mean().reset_index()\n",
    "table = mean_times.pivot(index=['step', 'method'], columns='n_cores', values='execution_time')\n",
    "table"
   ],
   "id": "66b6baaad4ee86fa",
   "outputs": [
    {
     "data": {
      "text/plain": [
       "n_cores             2          4          8          12         16         20  \\\n",
       "step method                                                                     \n",
       "1    1       82.141447  73.763226  68.700362  75.799297  92.874763  74.632302   \n",
       "     2       41.865079  17.961555   9.117695   7.252354   8.049711   6.710323   \n",
       "     3       41.495453  17.821881   8.667192   7.397263   7.876885   6.308710   \n",
       "2    1        1.189218   1.190102   1.005164   0.993321   1.028424   0.996328   \n",
       "     2        2.610364   4.613299   5.209079   8.535742  16.018892  15.935516   \n",
       "     3        2.722369   4.830712   5.682662   8.883140  16.297947  16.059553   \n",
       "\n",
       "n_cores             24  \n",
       "step method             \n",
       "1    1       86.670466  \n",
       "     2        7.175631  \n",
       "     3        7.283570  \n",
       "2    1        0.999526  \n",
       "     2       21.085039  \n",
       "     3       21.784458  "
      ],
      "text/html": [
       "<div>\n",
       "<style scoped>\n",
       "    .dataframe tbody tr th:only-of-type {\n",
       "        vertical-align: middle;\n",
       "    }\n",
       "\n",
       "    .dataframe tbody tr th {\n",
       "        vertical-align: top;\n",
       "    }\n",
       "\n",
       "    .dataframe thead th {\n",
       "        text-align: right;\n",
       "    }\n",
       "</style>\n",
       "<table border=\"1\" class=\"dataframe\">\n",
       "  <thead>\n",
       "    <tr style=\"text-align: right;\">\n",
       "      <th></th>\n",
       "      <th>n_cores</th>\n",
       "      <th>2</th>\n",
       "      <th>4</th>\n",
       "      <th>8</th>\n",
       "      <th>12</th>\n",
       "      <th>16</th>\n",
       "      <th>20</th>\n",
       "      <th>24</th>\n",
       "    </tr>\n",
       "    <tr>\n",
       "      <th>step</th>\n",
       "      <th>method</th>\n",
       "      <th></th>\n",
       "      <th></th>\n",
       "      <th></th>\n",
       "      <th></th>\n",
       "      <th></th>\n",
       "      <th></th>\n",
       "      <th></th>\n",
       "    </tr>\n",
       "  </thead>\n",
       "  <tbody>\n",
       "    <tr>\n",
       "      <th rowspan=\"3\" valign=\"top\">1</th>\n",
       "      <th>1</th>\n",
       "      <td>82.141447</td>\n",
       "      <td>73.763226</td>\n",
       "      <td>68.700362</td>\n",
       "      <td>75.799297</td>\n",
       "      <td>92.874763</td>\n",
       "      <td>74.632302</td>\n",
       "      <td>86.670466</td>\n",
       "    </tr>\n",
       "    <tr>\n",
       "      <th>2</th>\n",
       "      <td>41.865079</td>\n",
       "      <td>17.961555</td>\n",
       "      <td>9.117695</td>\n",
       "      <td>7.252354</td>\n",
       "      <td>8.049711</td>\n",
       "      <td>6.710323</td>\n",
       "      <td>7.175631</td>\n",
       "    </tr>\n",
       "    <tr>\n",
       "      <th>3</th>\n",
       "      <td>41.495453</td>\n",
       "      <td>17.821881</td>\n",
       "      <td>8.667192</td>\n",
       "      <td>7.397263</td>\n",
       "      <td>7.876885</td>\n",
       "      <td>6.308710</td>\n",
       "      <td>7.283570</td>\n",
       "    </tr>\n",
       "    <tr>\n",
       "      <th rowspan=\"3\" valign=\"top\">2</th>\n",
       "      <th>1</th>\n",
       "      <td>1.189218</td>\n",
       "      <td>1.190102</td>\n",
       "      <td>1.005164</td>\n",
       "      <td>0.993321</td>\n",
       "      <td>1.028424</td>\n",
       "      <td>0.996328</td>\n",
       "      <td>0.999526</td>\n",
       "    </tr>\n",
       "    <tr>\n",
       "      <th>2</th>\n",
       "      <td>2.610364</td>\n",
       "      <td>4.613299</td>\n",
       "      <td>5.209079</td>\n",
       "      <td>8.535742</td>\n",
       "      <td>16.018892</td>\n",
       "      <td>15.935516</td>\n",
       "      <td>21.085039</td>\n",
       "    </tr>\n",
       "    <tr>\n",
       "      <th>3</th>\n",
       "      <td>2.722369</td>\n",
       "      <td>4.830712</td>\n",
       "      <td>5.682662</td>\n",
       "      <td>8.883140</td>\n",
       "      <td>16.297947</td>\n",
       "      <td>16.059553</td>\n",
       "      <td>21.784458</td>\n",
       "    </tr>\n",
       "  </tbody>\n",
       "</table>\n",
       "</div>"
      ]
     },
     "execution_count": 8,
     "metadata": {},
     "output_type": "execute_result"
    }
   ],
   "execution_count": 8
  },
  {
   "metadata": {
    "ExecuteTime": {
     "end_time": "2025-03-23T16:38:00.762503Z",
     "start_time": "2025-03-23T16:38:00.742657Z"
    }
   },
   "cell_type": "code",
   "source": [
    "import pandas as pd\n",
    "\n",
    "# Calcular tiempos medios de ejecución agrupados por step, method\n",
    "mean_times = df.groupby(['step', 'method','n_cores'])['execution_time'].mean().reset_index()\n",
    "\n",
    "# Ordenar y pivotar la tabla\n",
    "mean_times = mean_times.sort_values(by=['step', 'method','n_cores'])\n",
    "table = mean_times.pivot(index=['step', 'method'], columns='n_cores', values='execution_time')\n",
    "\n",
    "# Convertir el índice en columnas y renombrar\n",
    "table_reset = table.reset_index().rename(columns={'step': 'Stage', 'method': 'Method'})\n",
    "\n",
    "# Lista de columnas\n",
    "cols = table_reset.columns.tolist()\n",
    "n_bool_cols = len(cols) - 2\n",
    "\n",
    "# Definir formato de columnas para LaTeX\n",
    "col_format = \"c|l|\" + \"r|\" * n_bool_cols\n",
    "col_format = col_format.rstrip(\"|\")\n",
    "\n",
    "latex_str = \"\\\\begin{tabular}{\" + col_format + \"}\\n\\\\hline\\n\"\n",
    "latex_str += \" &  & \\\\multicolumn{\" + str(n_bool_cols) + \"}{c}{\\\\textbf{\\\\# of Cores}} \\\\\\\\ \\\\hline\\n\"\n",
    "latex_str += \"{\\\\bf Stage} & {\\\\bf Method} \" + \" & \".join([f\"{{\\\\bf {col}}}\" for col in cols[2:]]) + \" \\\\\\\\ \\\\hline\\n\"\n",
    "\n",
    "# Agrupar por Stage para combinar las celdas de esa columna\n",
    "grouped = table_reset.groupby(\"Stage\")\n",
    "for stage, group in grouped:\n",
    "    n_rows = group.shape[0]\n",
    "    first = True\n",
    "    for _, row in group.iterrows():\n",
    "        stage_cell = f\"\\\\multirow{{{n_rows}}}{{*}}{{Step {int(stage)}}}\" if first else \"\"\n",
    "        first = False\n",
    "        row_line = f\"{stage_cell} & {row['Method']}\"\n",
    "\n",
    "        # Recorrer columnas de redes locales\n",
    "        for col in cols[2:]:\n",
    "            val = row[col]\n",
    "            cell = f\"{val:.4f}s\" if not pd.isna(val) else \"--\"\n",
    "            row_line += \" & \" + cell\n",
    "\n",
    "        row_line += \" \\\\\\\\\"\n",
    "        latex_str += row_line + \"\\n\"\n",
    "\n",
    "    latex_str += \"\\\\hline\\n\"\n",
    "\n",
    "latex_str += \"\\\\end{tabular}\"\n",
    "\n",
    "print(latex_str)\n"
   ],
   "id": "1e7f53afad69e978",
   "outputs": [
    {
     "name": "stdout",
     "output_type": "stream",
     "text": [
      "\\begin{tabular}{c|l|r|r|r|r|r|r|r}\n",
      "\\hline\n",
      " &  & \\multicolumn{7}{c}{\\textbf{\\# of Cores}} \\\\ \\hline\n",
      "{\\bf Stage} & {\\bf Method} {\\bf 2} & {\\bf 4} & {\\bf 8} & {\\bf 12} & {\\bf 16} & {\\bf 20} & {\\bf 24} \\\\ \\hline\n",
      "\\multirow{3}{*}{Step 1} & 1.0 & 82.1414s & 73.7632s & 68.7004s & 75.7993s & 92.8748s & 74.6323s & 86.6705s \\\\\n",
      " & 2.0 & 41.8651s & 17.9616s & 9.1177s & 7.2524s & 8.0497s & 6.7103s & 7.1756s \\\\\n",
      " & 3.0 & 41.4955s & 17.8219s & 8.6672s & 7.3973s & 7.8769s & 6.3087s & 7.2836s \\\\\n",
      "\\hline\n",
      "\\multirow{3}{*}{Step 2} & 1.0 & 1.1892s & 1.1901s & 1.0052s & 0.9933s & 1.0284s & 0.9963s & 0.9995s \\\\\n",
      " & 2.0 & 2.6104s & 4.6133s & 5.2091s & 8.5357s & 16.0189s & 15.9355s & 21.0850s \\\\\n",
      " & 3.0 & 2.7224s & 4.8307s & 5.6827s & 8.8831s & 16.2979s & 16.0596s & 21.7845s \\\\\n",
      "\\hline\n",
      "\\end{tabular}\n"
     ]
    }
   ],
   "execution_count": 9
  },
  {
   "metadata": {},
   "cell_type": "markdown",
   "source": "### Boxplots and Violin Plots",
   "id": "b4919dca1dff44a2"
  },
  {
   "metadata": {
    "ExecuteTime": {
     "end_time": "2025-03-23T16:38:01.071058Z",
     "start_time": "2025-03-23T16:38:00.969971Z"
    }
   },
   "cell_type": "code",
   "source": [
    "# Unique values for steps and methods\n",
    "steps = sorted(df['step'].unique())\n",
    "methods = df['method'].unique()\n",
    "n_local_networks_values = sorted(df['n_local_networks'].unique())\n",
    "\n",
    "# Plot boxplots and violin plots\n",
    "for step in steps:\n",
    "    fig, ax = plt.subplots(figsize=(15, 7))\n",
    "    positions = np.arange(len(n_local_networks_values))  # X positions\n",
    "    width = 0.2  # Width of each box/violin\n",
    "\n",
    "    # Boxplots\n",
    "    for i, method in enumerate(methods):\n",
    "        data = [df[(df['step'] == step) & (df['method'] == method) & (df['n_local_networks'] == n)]\n",
    "                ['execution_time'].dropna() for n in n_local_networks_values]\n",
    "        ax.boxplot(data, positions=positions + i * width - width, widths=width, patch_artist=True,\n",
    "                   boxprops=dict(facecolor=f\"C{i}\"), medianprops=dict(color='black'))\n",
    "\n",
    "    # Violin plots\n",
    "    for i, method in enumerate(methods):\n",
    "        data = [df[(df['step'] == step) & (df['method'] == method) & (df['n_local_networks'] == n)]\n",
    "                ['execution_time'].dropna().values for n in n_local_networks_values]\n",
    "        parts = ax.violinplot(data, positions=positions + i * width - width, widths=width, showmeans=False,\n",
    "                              showextrema=False, showmedians=False)\n",
    "        for pc in parts['bodies']:\n",
    "            pc.set_facecolor(f\"C{i}\")\n",
    "            pc.set_alpha(0.6)\n",
    "\n",
    "    ax.set_xticks(positions)\n",
    "    ax.set_xticklabels(n_local_networks_values)\n",
    "    ax.set_xlabel(\"Number of Local Networks\")\n",
    "    ax.set_ylabel(\"Execution Time\")\n",
    "    ax.set_title(f\"Execution Time Distribution - Step {step}\")\n",
    "    ax.legend([plt.Rectangle((0, 0), 1, 1, color=f\"C{i}\") for i in range(len(methods))], methods, title=\"Method\")\n",
    "\n",
    "    # Para el paso 3, usar escala logarítmica en el eje y\n",
    "    if step == 2:\n",
    "        ax.set_yscale('log')\n",
    "\n",
    "    plt.show()\n"
   ],
   "id": "bf43dda497a67cb4",
   "outputs": [
    {
     "ename": "KeyError",
     "evalue": "'n_local_networks'",
     "output_type": "error",
     "traceback": [
      "\u001B[31m---------------------------------------------------------------------------\u001B[39m",
      "\u001B[31mKeyError\u001B[39m                                  Traceback (most recent call last)",
      "\u001B[36mFile \u001B[39m\u001B[32m~/PycharmProjects/cbnetwork/venv/lib/python3.12/site-packages/pandas/core/indexes/base.py:3805\u001B[39m, in \u001B[36mIndex.get_loc\u001B[39m\u001B[34m(self, key)\u001B[39m\n\u001B[32m   3804\u001B[39m \u001B[38;5;28;01mtry\u001B[39;00m:\n\u001B[32m-> \u001B[39m\u001B[32m3805\u001B[39m     \u001B[38;5;28;01mreturn\u001B[39;00m \u001B[38;5;28;43mself\u001B[39;49m\u001B[43m.\u001B[49m\u001B[43m_engine\u001B[49m\u001B[43m.\u001B[49m\u001B[43mget_loc\u001B[49m\u001B[43m(\u001B[49m\u001B[43mcasted_key\u001B[49m\u001B[43m)\u001B[49m\n\u001B[32m   3806\u001B[39m \u001B[38;5;28;01mexcept\u001B[39;00m \u001B[38;5;167;01mKeyError\u001B[39;00m \u001B[38;5;28;01mas\u001B[39;00m err:\n",
      "\u001B[36mFile \u001B[39m\u001B[32mindex.pyx:167\u001B[39m, in \u001B[36mpandas._libs.index.IndexEngine.get_loc\u001B[39m\u001B[34m()\u001B[39m\n",
      "\u001B[36mFile \u001B[39m\u001B[32mindex.pyx:196\u001B[39m, in \u001B[36mpandas._libs.index.IndexEngine.get_loc\u001B[39m\u001B[34m()\u001B[39m\n",
      "\u001B[36mFile \u001B[39m\u001B[32mpandas/_libs/hashtable_class_helper.pxi:7081\u001B[39m, in \u001B[36mpandas._libs.hashtable.PyObjectHashTable.get_item\u001B[39m\u001B[34m()\u001B[39m\n",
      "\u001B[36mFile \u001B[39m\u001B[32mpandas/_libs/hashtable_class_helper.pxi:7089\u001B[39m, in \u001B[36mpandas._libs.hashtable.PyObjectHashTable.get_item\u001B[39m\u001B[34m()\u001B[39m\n",
      "\u001B[31mKeyError\u001B[39m: 'n_local_networks'",
      "\nThe above exception was the direct cause of the following exception:\n",
      "\u001B[31mKeyError\u001B[39m                                  Traceback (most recent call last)",
      "\u001B[36mCell\u001B[39m\u001B[36m \u001B[39m\u001B[32mIn[10]\u001B[39m\u001B[32m, line 4\u001B[39m\n\u001B[32m      2\u001B[39m steps = \u001B[38;5;28msorted\u001B[39m(df[\u001B[33m'\u001B[39m\u001B[33mstep\u001B[39m\u001B[33m'\u001B[39m].unique())\n\u001B[32m      3\u001B[39m methods = df[\u001B[33m'\u001B[39m\u001B[33mmethod\u001B[39m\u001B[33m'\u001B[39m].unique()\n\u001B[32m----> \u001B[39m\u001B[32m4\u001B[39m n_local_networks_values = \u001B[38;5;28msorted\u001B[39m(\u001B[43mdf\u001B[49m\u001B[43m[\u001B[49m\u001B[33;43m'\u001B[39;49m\u001B[33;43mn_local_networks\u001B[39;49m\u001B[33;43m'\u001B[39;49m\u001B[43m]\u001B[49m.unique())\n\u001B[32m      6\u001B[39m \u001B[38;5;66;03m# Plot boxplots and violin plots\u001B[39;00m\n\u001B[32m      7\u001B[39m \u001B[38;5;28;01mfor\u001B[39;00m step \u001B[38;5;129;01min\u001B[39;00m steps:\n",
      "\u001B[36mFile \u001B[39m\u001B[32m~/PycharmProjects/cbnetwork/venv/lib/python3.12/site-packages/pandas/core/frame.py:4102\u001B[39m, in \u001B[36mDataFrame.__getitem__\u001B[39m\u001B[34m(self, key)\u001B[39m\n\u001B[32m   4100\u001B[39m \u001B[38;5;28;01mif\u001B[39;00m \u001B[38;5;28mself\u001B[39m.columns.nlevels > \u001B[32m1\u001B[39m:\n\u001B[32m   4101\u001B[39m     \u001B[38;5;28;01mreturn\u001B[39;00m \u001B[38;5;28mself\u001B[39m._getitem_multilevel(key)\n\u001B[32m-> \u001B[39m\u001B[32m4102\u001B[39m indexer = \u001B[38;5;28;43mself\u001B[39;49m\u001B[43m.\u001B[49m\u001B[43mcolumns\u001B[49m\u001B[43m.\u001B[49m\u001B[43mget_loc\u001B[49m\u001B[43m(\u001B[49m\u001B[43mkey\u001B[49m\u001B[43m)\u001B[49m\n\u001B[32m   4103\u001B[39m \u001B[38;5;28;01mif\u001B[39;00m is_integer(indexer):\n\u001B[32m   4104\u001B[39m     indexer = [indexer]\n",
      "\u001B[36mFile \u001B[39m\u001B[32m~/PycharmProjects/cbnetwork/venv/lib/python3.12/site-packages/pandas/core/indexes/base.py:3812\u001B[39m, in \u001B[36mIndex.get_loc\u001B[39m\u001B[34m(self, key)\u001B[39m\n\u001B[32m   3807\u001B[39m     \u001B[38;5;28;01mif\u001B[39;00m \u001B[38;5;28misinstance\u001B[39m(casted_key, \u001B[38;5;28mslice\u001B[39m) \u001B[38;5;129;01mor\u001B[39;00m (\n\u001B[32m   3808\u001B[39m         \u001B[38;5;28misinstance\u001B[39m(casted_key, abc.Iterable)\n\u001B[32m   3809\u001B[39m         \u001B[38;5;129;01mand\u001B[39;00m \u001B[38;5;28many\u001B[39m(\u001B[38;5;28misinstance\u001B[39m(x, \u001B[38;5;28mslice\u001B[39m) \u001B[38;5;28;01mfor\u001B[39;00m x \u001B[38;5;129;01min\u001B[39;00m casted_key)\n\u001B[32m   3810\u001B[39m     ):\n\u001B[32m   3811\u001B[39m         \u001B[38;5;28;01mraise\u001B[39;00m InvalidIndexError(key)\n\u001B[32m-> \u001B[39m\u001B[32m3812\u001B[39m     \u001B[38;5;28;01mraise\u001B[39;00m \u001B[38;5;167;01mKeyError\u001B[39;00m(key) \u001B[38;5;28;01mfrom\u001B[39;00m\u001B[38;5;250m \u001B[39m\u001B[34;01merr\u001B[39;00m\n\u001B[32m   3813\u001B[39m \u001B[38;5;28;01mexcept\u001B[39;00m \u001B[38;5;167;01mTypeError\u001B[39;00m:\n\u001B[32m   3814\u001B[39m     \u001B[38;5;66;03m# If we have a listlike key, _check_indexing_error will raise\u001B[39;00m\n\u001B[32m   3815\u001B[39m     \u001B[38;5;66;03m#  InvalidIndexError. Otherwise we fall through and re-raise\u001B[39;00m\n\u001B[32m   3816\u001B[39m     \u001B[38;5;66;03m#  the TypeError.\u001B[39;00m\n\u001B[32m   3817\u001B[39m     \u001B[38;5;28mself\u001B[39m._check_indexing_error(key)\n",
      "\u001B[31mKeyError\u001B[39m: 'n_local_networks'"
     ]
    }
   ],
   "execution_count": 10
  },
  {
   "metadata": {},
   "cell_type": "markdown",
   "source": "### Histograms",
   "id": "994c5a056a26508f"
  },
  {
   "metadata": {
    "ExecuteTime": {
     "end_time": "2025-03-23T16:38:01.222733700Z",
     "start_time": "2025-03-20T17:15:16.049072Z"
    }
   },
   "cell_type": "code",
   "source": [
    "# Create boxplots and violin plots for execution times grouped by step and method\n",
    "unique_steps = df['step'].unique()\n",
    "unique_methods = df['method'].unique()\n",
    "unique_n_local_networks = sorted(df['n_local_networks'].unique())\n",
    "\n",
    "# Create histograms for mean execution times per step\n",
    "for step in unique_steps:\n",
    "    fig, ax = plt.subplots(figsize=(10, 6))\n",
    "    data_step = mean_times[mean_times['step'] == step]\n",
    "\n",
    "    width = 0.3  # Width of each bar\n",
    "    positions = np.arange(len(unique_n_local_networks))\n",
    "\n",
    "    for i, method in enumerate(unique_methods):\n",
    "        means = [data_step[(data_step['n_local_networks'] == n) & (data_step['method'] == method)]['execution_time'].values[0] if not data_step[(data_step['n_local_networks'] == n) & (data_step['method'] == method)].empty else 0 for n in unique_n_local_networks]\n",
    "        ax.bar(positions + i * width, means, width=width, label=method, color=f\"C{i}\")\n",
    "\n",
    "    ax.set_xticks(positions + width)\n",
    "    ax.set_xticklabels(unique_n_local_networks)\n",
    "    ax.set_xlabel(\"Number of Local Networks\")\n",
    "    ax.set_ylabel(\"Mean Execution Time\")\n",
    "    ax.set_title(f\"Mean Execution Time - Step {step}\")\n",
    "    ax.legend()\n",
    "    plt.show()\n"
   ],
   "id": "20dc8bef8f0def5c",
   "outputs": [
    {
     "data": {
      "text/plain": [
       "<Figure size 1000x600 with 1 Axes>"
      ],
      "image/png": "[encoded data removed]"
     },
     "metadata": {},
     "output_type": "display_data"
    },
    {
     "data": {
      "text/plain": [
       "<Figure size 1000x600 with 1 Axes>"
      ],
      "image/png": "[encoded data removed]"
     },
     "metadata": {},
     "output_type": "display_data"
    },
    {
     "data": {
      "text/plain": [
       "<Figure size 1000x600 with 1 Axes>"
      ],
      "image/png": "[encoded data removed]"
     },
     "metadata": {},
     "output_type": "display_data"
    }
   ],
   "execution_count": 12
  }
 ],
 "metadata": {
  "kernelspec": {
   "display_name": "Python 3",
   "language": "python",
   "name": "python3"
  },
  "language_info": {
   "codemirror_mode": {
    "name": "ipython",
    "version": 2
   },
   "file_extension": ".py",
   "mimetype": "text/x-python",
   "name": "python",
   "nbconvert_exporter": "python",
   "pygments_lexer": "ipython2",
   "version": "2.7.6"
  }
 },
 "nbformat": 4,
 "nbformat_minor": 5
}
