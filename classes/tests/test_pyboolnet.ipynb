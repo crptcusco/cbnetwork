{
 "cells": [
  {
   "cell_type": "code",
   "execution_count": 35,
   "id": "initial_id",
   "metadata": {
    "collapsed": true,
    "ExecuteTime": {
     "end_time": "2023-10-04T01:05:01.812923110Z",
     "start_time": "2023-10-04T01:05:01.768422926Z"
    }
   },
   "outputs": [
    {
     "name": "stdout",
     "output_type": "stream",
     "text": [
      "{'v1': [[{'v1': 1}], [{'v1': 0}]], 'v2': [[], [{}]], 'v3': [[{'v1': 1, 'v3': 0}, {'v2': 0}], [{'v2': 1, 'v3': 1}, {'v1': 0, 'v2': 1}]]}\n"
     ]
    }
   ],
   "source": [
    "from pyboolnet.file_exchange import bnet2primes, primes2bnet\n",
    "from pyboolnet.prime_implicants import find_constants, create_variables\n",
    "from pyboolnet.repository import get_primes\n",
    "from pyboolnet.state_transition_graphs import primes2stg\n",
    "from pyboolnet.attractors import compute_attractors_tarjan\n",
    "\n",
    "bnet = \"\"\"\n",
    "v1,    !v1\n",
    "v2,    1\n",
    "v3,    v2 & (!v1 | v3)\n",
    "\"\"\"\n",
    "\n",
    "primes = bnet2primes(bnet)\n",
    "print (primes)"
   ]
  },
  {
   "cell_type": "code",
   "execution_count": 36,
   "outputs": [
    {
     "name": "stdout",
     "output_type": "stream",
     "text": [
      "{'v2': 1}\n"
     ]
    }
   ],
   "source": [
    "# finding nodes\n",
    "const = find_constants(primes)\n",
    "print(const)"
   ],
   "metadata": {
    "collapsed": false,
    "ExecuteTime": {
     "end_time": "2023-10-04T01:05:01.813754771Z",
     "start_time": "2023-10-04T01:05:01.812505022Z"
    }
   },
   "id": "a3acf80488b06b2f"
  },
  {
   "cell_type": "code",
   "execution_count": 37,
   "outputs": [
    {
     "data": {
      "text/plain": "<networkx.classes.digraph.DiGraph at 0x7f50f410f550>"
     },
     "execution_count": 37,
     "metadata": {},
     "output_type": "execute_result"
    }
   ],
   "source": [
    "stg = primes2stg(primes, \"synchronous\")\n",
    "steady, cyclic = compute_attractors_tarjan(stg)\n",
    "stg"
   ],
   "metadata": {
    "collapsed": false,
    "ExecuteTime": {
     "end_time": "2023-10-04T01:05:01.815415884Z",
     "start_time": "2023-10-04T01:05:01.812730568Z"
    }
   },
   "id": "9f5954888b3fab09"
  },
  {
   "cell_type": "code",
   "execution_count": 38,
   "outputs": [
    {
     "data": {
      "text/plain": "[]"
     },
     "execution_count": 38,
     "metadata": {},
     "output_type": "execute_result"
    }
   ],
   "source": [
    "steady"
   ],
   "metadata": {
    "collapsed": false,
    "ExecuteTime": {
     "end_time": "2023-10-04T01:05:01.888895535Z",
     "start_time": "2023-10-04T01:05:01.815923877Z"
    }
   },
   "id": "65334657725eb493"
  },
  {
   "cell_type": "code",
   "execution_count": 39,
   "outputs": [
    {
     "data": {
      "text/plain": "[{'011', '111'}]"
     },
     "execution_count": 39,
     "metadata": {},
     "output_type": "execute_result"
    }
   ],
   "source": [
    "cyclic"
   ],
   "metadata": {
    "collapsed": false,
    "ExecuteTime": {
     "end_time": "2023-10-04T01:05:01.903408609Z",
     "start_time": "2023-10-04T01:05:01.836314887Z"
    }
   },
   "id": "66d65af00bfca25e"
  },
  {
   "cell_type": "code",
   "execution_count": 40,
   "outputs": [
    {
     "name": "stdout",
     "output_type": "stream",
     "text": [
      "v2,   \n",
      "\n",
      "v1,   !v1\n",
      "v3,   v2 & v3 | !v1 & v2\n",
      "v4,   v4 | v2\n",
      "\n",
      "v5,   !v1 & !v2 & v3 | !v1 & v2 & !v3 | v1 & !v2 & !v3\n"
     ]
    }
   ],
   "source": [
    "# modifying networks\n",
    "create_variables(primes, {\"v4\": \"v4 | v2\"})\n",
    "create_variables(primes, {\"v5\": lambda v1, v2, v3: v1 + v2 + v3 == 1})\n",
    "print(primes2bnet(primes))"
   ],
   "metadata": {
    "collapsed": false,
    "ExecuteTime": {
     "end_time": "2023-10-04T01:05:01.904893187Z",
     "start_time": "2023-10-04T01:05:01.854580793Z"
    }
   },
   "id": "4ecfc6a697b3594d"
  },
  {
   "cell_type": "code",
   "execution_count": 41,
   "outputs": [
    {
     "name": "stdout",
     "output_type": "stream",
     "text": [
      "DNA_damage,          DNA_damage\n",
      "EGFR_stimulus,       EGFR_stimulus\n",
      "FGFR3_stimulus,      FGFR3_stimulus\n",
      "Growth_inhibitors,   Growth_inhibitors\n",
      "\n",
      "AKT,                 PI3K\n",
      "ATM_high,            ATM_medium & DNA_damage & E2F1_medium\n",
      "ATM_medium,          ATM_high & ATM_medium | DNA_damage\n",
      "Apoptosis_high,      Apoptosis_medium & E2F1_high & E2F1_medium\n",
      "Apoptosis_medium,    E2F1_high & E2F1_medium | Apoptosis_high & Apoptosis_medium | TP53\n",
      "CDC25A,              !CHEK1_2_medium & E2F3_medium & !RBL2 | !CHEK1_2_medium & E2F1_medium & !RBL2\n",
      "CHEK1_2_high,        ATM_medium & CHEK1_2_medium & E2F1_medium\n",
      "CHEK1_2_medium,      CHEK1_2_high & CHEK1_2_medium | ATM_medium\n",
      "CyclinA,             CDC25A & E2F3_medium & !RBL2 & !p21CIP | CDC25A & E2F1_medium & !RBL2 & !p21CIP\n",
      "CyclinD1,            RAS & !p16INK4a & !p21CIP | AKT & !p16INK4a & !p21CIP\n",
      "CyclinE1,            CDC25A & E2F3_medium & !RBL2 & !p21CIP | CDC25A & E2F1_medium & !RBL2 & !p21CIP\n",
      "E2F1_high,           ATM_high & ATM_medium & CHEK1_2_high & CHEK1_2_medium & E2F1_medium & E2F3_high & E2F3_medium & !RB1 & !RBL2 | ATM_high & ATM_medium & CHEK1_2_high & CHEK1_2_medium & E2F1_medium & RAS & !RB1 & !RBL2\n",
      "E2F1_medium,         RAS & !RB1 & !RBL2 | E2F3_medium & !RB1 & !RBL2 | E2F1_high & E2F1_medium\n",
      "E2F3_high,           CHEK1_2_high & CHEK1_2_medium & E2F3_medium & RAS & !RB1\n",
      "E2F3_medium,         RAS & !RB1 | E2F3_high & E2F3_medium\n",
      "EGFR,                !FGFR3 & !GRB2 & SPRY | EGFR_stimulus & !FGFR3 & !GRB2\n",
      "FGFR3,               !EGFR & FGFR3_stimulus & !GRB2\n",
      "GRB2,                FGFR3 & !GRB2 & !SPRY | EGFR\n",
      "MDM2,                !ATM_medium & !RB1 & TP53 & !p14ARF | AKT & !ATM_medium & !RB1 & !p14ARF\n",
      "PI3K,                GRB2 & !PTEN & RAS\n",
      "PTEN,                TP53\n",
      "RAS,                 GRB2 | FGFR3 | EGFR\n",
      "RB1,                 !CyclinA & !CyclinD1 & !CyclinE1 & !p16INK4a\n",
      "RBL2,                !CyclinD1 & !CyclinE1\n",
      "SPRY,                RAS\n",
      "TP53,                E2F1_high & E2F1_medium & !MDM2 | ATM_medium & CHEK1_2_medium & !MDM2\n",
      "p14ARF,              E2F1_medium\n",
      "p16INK4a,            Growth_inhibitors & !RB1\n",
      "p21CIP,              !AKT & !CyclinE1 & TP53 | !AKT & !CyclinE1 & Growth_inhibitors\n",
      "\n",
      "Growth_arrest,       p21CIP | RBL2 | RB1\n",
      "Proliferation,       CyclinE1 | CyclinA\n"
     ]
    }
   ],
   "source": [
    "# reading from the repository\n",
    "primes = get_primes(\"remy_tumorigenesis\")\n",
    "print(primes2bnet(primes))"
   ],
   "metadata": {
    "collapsed": false,
    "ExecuteTime": {
     "end_time": "2023-10-04T01:05:03.766778713Z",
     "start_time": "2023-10-04T01:05:01.893481637Z"
    }
   },
   "id": "a019ffb179727f2c"
  }
 ],
 "metadata": {
  "kernelspec": {
   "display_name": "Python 3",
   "language": "python",
   "name": "python3"
  },
  "language_info": {
   "codemirror_mode": {
    "name": "ipython",
    "version": 2
   },
   "file_extension": ".py",
   "mimetype": "text/x-python",
   "name": "python",
   "nbconvert_exporter": "python",
   "pygments_lexer": "ipython2",
   "version": "2.7.6"
  }
 },
 "nbformat": 4,
 "nbformat_minor": 5
}
