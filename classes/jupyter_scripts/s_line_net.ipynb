{
 "cells": [
  {
   "cell_type": "code",
   "execution_count": null,
   "id": "initial_id",
   "metadata": {
    "collapsed": true
   },
   "outputs": [],
   "source": [
    "# import libraries\n",
    "from classes.cbnetwork import CBN\n",
    "\n",
    "# pass the parameters\n",
    "n_local_networks = 6\n",
    "n_var_network = 5\n",
    "# n_relations = 2\n",
    "# relations_fixed = True\n",
    "n_output_variables = 2\n",
    "n_clauses_function = 2\n",
    "v_topology = 6\n",
    "\n",
    "# create a Coupled Boolean Network with the parameters\n",
    "o_cbn = CBN.generate_cbn(n_local_networks=n_local_networks, n_var_network=n_var_network, v_topology=v_topology,\n",
    "                         n_output_variables=n_output_variables, n_clauses_function=n_clauses_function)\n",
    "\n",
    "# Find attractors\n",
    "o_cbn.find_attractors()\n",
    "\n",
    "# generate the global scenes\n",
    "o_cbn.generate_global_scenes()\n",
    "# o_cbn.show_global_scenes()\n",
    "\n",
    "# find the compatible pairs\n",
    "o_cbn.find_compatible_pairs()"
   ]
  }
 ],
 "metadata": {
  "kernelspec": {
   "display_name": "Python 3",
   "language": "python",
   "name": "python3"
  },
  "language_info": {
   "codemirror_mode": {
    "name": "ipython",
    "version": 2
   },
   "file_extension": ".py",
   "mimetype": "text/x-python",
   "name": "python",
   "nbconvert_exporter": "python",
   "pygments_lexer": "ipython2",
   "version": "2.7.6"
  }
 },
 "nbformat": 4,
 "nbformat_minor": 5
}
