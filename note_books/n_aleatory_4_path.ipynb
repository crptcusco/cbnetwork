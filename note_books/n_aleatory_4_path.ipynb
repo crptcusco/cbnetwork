{
 "cells": [
  {
   "cell_type": "markdown",
   "source": [
    "# Example Aleatory Binomial CBN"
   ],
   "metadata": {
    "collapsed": false
   },
   "id": "98edf35f0c1e37ce"
  },
  {
   "cell_type": "code",
   "execution_count": 15,
   "id": "initial_id",
   "metadata": {
    "collapsed": true,
    "jupyter": {
     "outputs_hidden": true
    },
    "ExecuteTime": {
     "end_time": "2023-12-22T23:23:11.464983096Z",
     "start_time": "2023-12-22T23:23:11.456837011Z"
    }
   },
   "outputs": [
    {
     "name": "stdout",
     "output_type": "stream",
     "text": [
      "1 - complete_graph\n",
      "2 - binomial_tree\n",
      "3 - cycle_graph\n",
      "4 - path_graph\n",
      "5 - gn_graph\n",
      "6 - gnc_graph\n",
      "7 - linear_graph\n"
     ]
    }
   ],
   "source": [
    "# import libraries\n",
    "from classes.cbnetwork import CBN\n",
    "\n",
    "# List of the Allowed Topologies\n",
    "CBN.show_allowed_topologies()"
   ]
  },
  {
   "cell_type": "markdown",
   "source": [
    "# Generate a CBN with the parameters"
   ],
   "metadata": {
    "collapsed": false
   },
   "id": "c7e553965b14e9fc"
  },
  {
   "cell_type": "code",
   "execution_count": 16,
   "id": "db2c35ef85dd5be9",
   "metadata": {
    "collapsed": false,
    "ExecuteTime": {
     "end_time": "2023-12-22T23:23:11.494470122Z",
     "start_time": "2023-12-22T23:23:11.463780054Z"
    }
   },
   "outputs": [
    {
     "name": "stdout",
     "output_type": "stream",
     "text": [
      "Internal Variable 1 created\n",
      "Internal Variable 2 created\n",
      "Internal Variable 3 created\n",
      "Internal Variable 4 created\n",
      "Internal Variable 5 created\n",
      "Local network created : 1\n",
      "-------------------------------------------------\n",
      "Internal Variable 6 created\n",
      "Internal Variable 7 created\n",
      "Internal Variable 8 created\n",
      "Internal Variable 9 created\n",
      "Internal Variable 10 created\n",
      "Local network created : 2\n",
      "-------------------------------------------------\n",
      "Internal Variable 11 created\n",
      "Internal Variable 12 created\n",
      "Internal Variable 13 created\n",
      "Internal Variable 14 created\n",
      "Internal Variable 15 created\n",
      "Local network created : 3\n",
      "-------------------------------------------------\n",
      "Internal Variable 16 created\n",
      "Internal Variable 17 created\n",
      "Internal Variable 18 created\n",
      "Internal Variable 19 created\n",
      "Internal Variable 20 created\n",
      "Local network created : 4\n",
      "-------------------------------------------------\n",
      "Internal Variable 21 created\n",
      "Internal Variable 22 created\n",
      "Internal Variable 23 created\n",
      "Internal Variable 24 created\n",
      "Internal Variable 25 created\n",
      "Local network created : 5\n",
      "-------------------------------------------------\n",
      "CBN generated\n"
     ]
    }
   ],
   "source": [
    "# pass the parameters\n",
    "n_local_networks = 6\n",
    "n_var_network = 5\n",
    "n_output_variables = 2\n",
    "n_clauses_function = 2\n",
    "v_topology = 4\n",
    "\n",
    "o_cbn = CBN.generate_cbn(n_local_networks=n_local_networks, n_var_network=n_var_network, v_topology=v_topology,\n",
    "                         n_output_variables=n_output_variables, n_clauses_function=n_clauses_function)"
   ]
  },
  {
   "cell_type": "markdown",
   "source": [
    "# Find attractors"
   ],
   "metadata": {
    "collapsed": false
   },
   "id": "192536d1a14c38fb"
  },
  {
   "cell_type": "code",
   "execution_count": 17,
   "outputs": [
    {
     "name": "stdout",
     "output_type": "stream",
     "text": [
      "=================================================\n",
      "FIND ATTRACTORS USING OPTIMIZED METHOD\n",
      "-------------------------------------------------\n",
      "FIND ATTRACTORS FOR NETWORK: 1\n",
      "-------------------------------------------------\n",
      "Network: 1  Local Scene: None\n",
      "end find attractors\n",
      "Local Network updated\n",
      "the output signal is stable\n",
      "-------------------------------------------------\n",
      "FIND ATTRACTORS FOR NETWORK: 3\n",
      "-------------------------------------------------\n",
      "Network: 3  Local Scene: 0\n",
      "end find attractors\n",
      "-------------------------------------------------\n",
      "Network: 3  Local Scene: 1\n",
      "end find attractors\n",
      "-------------------------------------------------\n",
      "FIND ATTRACTORS FOR NETWORK: 4\n",
      "-------------------------------------------------\n",
      "Network: 4  Local Scene: 0\n",
      "end find attractors\n",
      "-------------------------------------------------\n",
      "Network: 4  Local Scene: 1\n",
      "end find attractors\n",
      "-------------------------------------------------\n",
      "FIND ATTRACTORS FOR NETWORK: 5\n",
      "-------------------------------------------------\n",
      "Network: 5  Local Scene: 0\n",
      "end find attractors\n",
      "-------------------------------------------------\n",
      "Network: 5  Local Scene: 1\n",
      "end find attractors\n",
      "-------------------------------------------------\n",
      "FIND ATTRACTORS FOR NETWORK: 2\n",
      "-------------------------------------------------\n",
      "Network: 2  Local Scene: 0\n",
      "end find attractors\n",
      "-------------------------------------------------\n",
      "Network: 2  Local Scene: 1\n",
      "end find attractors\n",
      "ALL THE ATTRACTORS ARE COMPUTED\n"
     ]
    }
   ],
   "source": [
    "o_cbn.find_local_attractors_optimized()"
   ],
   "metadata": {
    "collapsed": false,
    "ExecuteTime": {
     "end_time": "2023-12-22T23:23:11.672278425Z",
     "start_time": "2023-12-22T23:23:11.493111930Z"
    }
   },
   "id": "f6645145812950cb"
  },
  {
   "cell_type": "markdown",
   "source": [
    "# find the compatible pairs"
   ],
   "metadata": {
    "collapsed": false
   },
   "id": "1d9fcf7f303f8bd3"
  },
  {
   "cell_type": "code",
   "execution_count": 18,
   "outputs": [
    {
     "name": "stdout",
     "output_type": "stream",
     "text": [
      "=================================================\n",
      "FIND COMPATIBLE ATTRACTOR PAIRS\n",
      "END FIND ATTRACTOR PAIRS\n"
     ]
    }
   ],
   "source": [
    "o_cbn.find_compatible_pairs()"
   ],
   "metadata": {
    "collapsed": false,
    "ExecuteTime": {
     "end_time": "2023-12-22T23:23:11.672863114Z",
     "start_time": "2023-12-22T23:23:11.669347697Z"
    }
   },
   "id": "1860f80c3dc4e5f7"
  },
  {
   "cell_type": "code",
   "execution_count": 19,
   "id": "a2aa24594dc247a6",
   "metadata": {
    "collapsed": false,
    "ExecuteTime": {
     "end_time": "2023-12-22T23:23:11.752681405Z",
     "start_time": "2023-12-22T23:23:11.669510073Z"
    }
   },
   "outputs": [
    {
     "data": {
      "text/plain": "<Figure size 640x480 with 1 Axes>",
      "image/png": "[encoded data removed]"
     },
     "metadata": {},
     "output_type": "display_data"
    }
   ],
   "source": [
    "o_cbn.show_cbn_graph()"
   ]
  },
  {
   "cell_type": "code",
   "execution_count": 20,
   "id": "6f9f71ece5a2d92",
   "metadata": {
    "collapsed": false,
    "ExecuteTime": {
     "end_time": "2023-12-22T23:23:11.812845195Z",
     "start_time": "2023-12-22T23:23:11.756534853Z"
    }
   },
   "outputs": [
    {
     "name": "stdout",
     "output_type": "stream",
     "text": [
      "=================================================\n",
      "Network: 1\n",
      "-------------------------------------------------\n",
      "Network: 1 - Scene: None\n",
      "Attractors number: 5\n",
      "-------------------------------------------------\n",
      "['0', '1', '0', '0', '1']\n",
      "-------------------------------------------------\n",
      "['1', '1', '1', '1', '1']\n",
      "-------------------------------------------------\n",
      "['0', '0', '1', '0', '0']\n",
      "-------------------------------------------------\n",
      "['0', '0', '0', '0', '0']\n",
      "-------------------------------------------------\n",
      "['0', '1', '1', '0', '1']\n",
      "=================================================\n",
      "Network: 2\n",
      "-------------------------------------------------\n",
      "Network: 2 - Scene: ('0',)\n",
      "Attractors number: 4\n",
      "-------------------------------------------------\n",
      "['0', '0', '1', '0', '1', '0']\n",
      "-------------------------------------------------\n",
      "['0', '1', '1', '1', '1', '0']\n",
      "-------------------------------------------------\n",
      "['0', '0', '0', '0', '0', '0']\n",
      "-------------------------------------------------\n",
      "['0', '0', '1', '0', '0', '0']\n",
      "-------------------------------------------------\n",
      "Network: 2 - Scene: ('1',)\n",
      "Attractors number: 2\n",
      "-------------------------------------------------\n",
      "['1', '0', '1', '0', '1', '1']\n",
      "-------------------------------------------------\n",
      "['1', '1', '1', '1', '1', '1']\n",
      "=================================================\n",
      "Network: 3\n",
      "-------------------------------------------------\n",
      "Network: 3 - Scene: ('0',)\n",
      "Attractors number: 2\n",
      "-------------------------------------------------\n",
      "['1', '1', '1', '1', '1', '0']\n",
      "-------------------------------------------------\n",
      "['0', '0', '0', '0', '0', '0']\n",
      "-------------------------------------------------\n",
      "Network: 3 - Scene: ('1',)\n",
      "Attractors number: 1\n",
      "-------------------------------------------------\n",
      "['1', '1', '1', '1', '1', '1']\n",
      "=================================================\n",
      "Network: 4\n",
      "-------------------------------------------------\n",
      "Network: 4 - Scene: ('0',)\n",
      "Attractors number: 4\n",
      "-------------------------------------------------\n",
      "['0', '0', '0', '0', '0', '0']\n",
      "-------------------------------------------------\n",
      "['0', '0', '0', '0', '1', '0']\n",
      "-------------------------------------------------\n",
      "['1', '1', '0', '1', '1', '0']\n",
      "-------------------------------------------------\n",
      "['1', '0', '0', '0', '1', '0']\n",
      "-------------------------------------------------\n",
      "Network: 4 - Scene: ('1',)\n",
      "Attractors number: 1\n",
      "-------------------------------------------------\n",
      "['1', '1', '1', '1', '1', '1']\n",
      "=================================================\n",
      "Network: 5\n",
      "-------------------------------------------------\n",
      "Network: 5 - Scene: ('0',)\n",
      "Attractors number: 2\n",
      "-------------------------------------------------\n",
      "['1', '1', '1', '1', '1', '0']\n",
      "-------------------------------------------------\n",
      "['0', '0', '0', '0', '0', '0']\n",
      "-------------------------------------------------\n",
      "Network: 5 - Scene: ('1',)\n",
      "Attractors number: 1\n",
      "-------------------------------------------------\n",
      "['1', '1', '1', '1', '1', '1']\n"
     ]
    }
   ],
   "source": [
    "o_cbn.show_attractors()"
   ]
  },
  {
   "cell_type": "code",
   "execution_count": 21,
   "outputs": [
    {
     "name": "stdout",
     "output_type": "stream",
     "text": [
      "=================================================\n",
      "SHOW THE COUPLED SIGNALS KINDS\n",
      "SIGNAL: 26 RELATION: 1 -> 2 KIND: 3 - STABLE\n",
      "SIGNAL: 27 RELATION: 2 -> 3 KIND: 3 - STABLE\n",
      "SIGNAL: 28 RELATION: 3 -> 4 KIND: 3 - STABLE\n",
      "SIGNAL: 29 RELATION: 4 -> 5 KIND: 3 - STABLE\n",
      "Number of restricted signals : 0\n"
     ]
    }
   ],
   "source": [
    "o_cbn.show_coupled_signals_kind()"
   ],
   "metadata": {
    "collapsed": false,
    "ExecuteTime": {
     "end_time": "2023-12-22T23:23:11.813540337Z",
     "start_time": "2023-12-22T23:23:11.785859579Z"
    }
   },
   "id": "9fed9d85fb68edee"
  },
  {
   "cell_type": "code",
   "execution_count": 22,
   "outputs": [
    {
     "name": "stdout",
     "output_type": "stream",
     "text": [
      "=================================================\n",
      "SHOW THE COUPLED SIGNALS KINDS\n",
      "SIGNAL: 26 RELATION: 1 -> 2 KIND: 3 - STABLE\n",
      "SIGNAL: 27 RELATION: 2 -> 3 KIND: 3 - STABLE\n",
      "SIGNAL: 28 RELATION: 3 -> 4 KIND: 3 - STABLE\n",
      "SIGNAL: 29 RELATION: 4 -> 5 KIND: 3 - STABLE\n",
      "Number of restricted signals : 0\n"
     ]
    }
   ],
   "source": [
    "o_cbn.show_coupled_signals_kind()\n"
   ],
   "metadata": {
    "collapsed": false,
    "ExecuteTime": {
     "end_time": "2023-12-22T23:23:11.813996162Z",
     "start_time": "2023-12-22T23:23:11.786001813Z"
    }
   },
   "id": "6a33a953fb4ac2f3"
  },
  {
   "cell_type": "code",
   "execution_count": 23,
   "outputs": [
    {
     "name": "stdout",
     "output_type": "stream",
     "text": [
      "=================================================\n",
      "FIND COMPATIBLE ATTRACTOR PAIRS\n",
      "END FIND ATTRACTOR PAIRS\n",
      "=================================================\n",
      "LIST OF THE COMPATIBLE ATTRACTOR PAIRS\n",
      "-------------------------------------------------\n",
      "Edge:  1 -> 2\n",
      "-------------------------------------------------\n",
      "Coupling Variable: 26 Scene: 0\n",
      "Net. Index: 1 , Attrac. Index: 4 , States:[0,0,0,0,0,]\n",
      "Net. Index: 2 , Attrac. Index: 1 , States:[0,0,1,0,1,0,]\n",
      "Net. Index: 1 , Attrac. Index: 4 , States:[0,0,0,0,0,]\n",
      "Net. Index: 2 , Attrac. Index: 2 , States:[0,1,1,1,1,0,]\n",
      "Net. Index: 1 , Attrac. Index: 4 , States:[0,0,0,0,0,]\n",
      "Net. Index: 2 , Attrac. Index: 3 , States:[0,0,0,0,0,0,]\n",
      "Net. Index: 1 , Attrac. Index: 4 , States:[0,0,0,0,0,]\n",
      "Net. Index: 2 , Attrac. Index: 4 , States:[0,0,1,0,0,0,]\n",
      "-------------------------------------------------\n",
      "Coupling Variable: 26 Scene: 1\n",
      "Net. Index: 1 , Attrac. Index: 1 , States:[0,1,0,0,1,]\n",
      "Net. Index: 2 , Attrac. Index: 1 , States:[1,0,1,0,1,1,]\n",
      "Net. Index: 1 , Attrac. Index: 1 , States:[0,1,0,0,1,]\n",
      "Net. Index: 2 , Attrac. Index: 2 , States:[1,1,1,1,1,1,]\n",
      "Net. Index: 1 , Attrac. Index: 2 , States:[1,1,1,1,1,]\n",
      "Net. Index: 2 , Attrac. Index: 1 , States:[1,0,1,0,1,1,]\n",
      "Net. Index: 1 , Attrac. Index: 2 , States:[1,1,1,1,1,]\n",
      "Net. Index: 2 , Attrac. Index: 2 , States:[1,1,1,1,1,1,]\n",
      "Net. Index: 1 , Attrac. Index: 3 , States:[0,0,1,0,0,]\n",
      "Net. Index: 2 , Attrac. Index: 1 , States:[1,0,1,0,1,1,]\n",
      "Net. Index: 1 , Attrac. Index: 3 , States:[0,0,1,0,0,]\n",
      "Net. Index: 2 , Attrac. Index: 2 , States:[1,1,1,1,1,1,]\n",
      "Net. Index: 1 , Attrac. Index: 5 , States:[0,1,1,0,1,]\n",
      "Net. Index: 2 , Attrac. Index: 1 , States:[1,0,1,0,1,1,]\n",
      "Net. Index: 1 , Attrac. Index: 5 , States:[0,1,1,0,1,]\n",
      "Net. Index: 2 , Attrac. Index: 2 , States:[1,1,1,1,1,1,]\n",
      "-------------------------------------------------\n",
      "Edge:  2 -> 3\n",
      "-------------------------------------------------\n",
      "Coupling Variable: 27 Scene: 0\n",
      "Net. Index: 2 , Attrac. Index: 3 , States:[0,0,0,0,0,0,]\n",
      "Net. Index: 3 , Attrac. Index: 1 , States:[1,1,1,1,1,0,]\n",
      "Net. Index: 2 , Attrac. Index: 3 , States:[0,0,0,0,0,0,]\n",
      "Net. Index: 3 , Attrac. Index: 2 , States:[0,0,0,0,0,0,]\n",
      "-------------------------------------------------\n",
      "Coupling Variable: 27 Scene: 1\n",
      "Net. Index: 2 , Attrac. Index: 1 , States:[0,0,1,0,1,0,]\n",
      "Net. Index: 3 , Attrac. Index: 1 , States:[1,1,1,1,1,1,]\n",
      "Net. Index: 2 , Attrac. Index: 2 , States:[0,1,1,1,1,0,]\n",
      "Net. Index: 3 , Attrac. Index: 1 , States:[1,1,1,1,1,1,]\n",
      "Net. Index: 2 , Attrac. Index: 4 , States:[0,0,1,0,0,0,]\n",
      "Net. Index: 3 , Attrac. Index: 1 , States:[1,1,1,1,1,1,]\n",
      "Net. Index: 2 , Attrac. Index: 1 , States:[1,0,1,0,1,1,]\n",
      "Net. Index: 3 , Attrac. Index: 1 , States:[1,1,1,1,1,1,]\n",
      "Net. Index: 2 , Attrac. Index: 2 , States:[1,1,1,1,1,1,]\n",
      "Net. Index: 3 , Attrac. Index: 1 , States:[1,1,1,1,1,1,]\n",
      "-------------------------------------------------\n",
      "Edge:  3 -> 4\n",
      "-------------------------------------------------\n",
      "Coupling Variable: 28 Scene: 0\n",
      "Net. Index: 3 , Attrac. Index: 2 , States:[0,0,0,0,0,0,]\n",
      "Net. Index: 4 , Attrac. Index: 1 , States:[0,0,0,0,0,0,]\n",
      "Net. Index: 3 , Attrac. Index: 2 , States:[0,0,0,0,0,0,]\n",
      "Net. Index: 4 , Attrac. Index: 2 , States:[0,0,0,0,1,0,]\n",
      "Net. Index: 3 , Attrac. Index: 2 , States:[0,0,0,0,0,0,]\n",
      "Net. Index: 4 , Attrac. Index: 3 , States:[1,1,0,1,1,0,]\n",
      "Net. Index: 3 , Attrac. Index: 2 , States:[0,0,0,0,0,0,]\n",
      "Net. Index: 4 , Attrac. Index: 4 , States:[1,0,0,0,1,0,]\n",
      "-------------------------------------------------\n",
      "Coupling Variable: 28 Scene: 1\n",
      "Net. Index: 3 , Attrac. Index: 1 , States:[1,1,1,1,1,0,]\n",
      "Net. Index: 4 , Attrac. Index: 1 , States:[1,1,1,1,1,1,]\n",
      "Net. Index: 3 , Attrac. Index: 1 , States:[1,1,1,1,1,1,]\n",
      "Net. Index: 4 , Attrac. Index: 1 , States:[1,1,1,1,1,1,]\n",
      "-------------------------------------------------\n",
      "Edge:  4 -> 5\n",
      "-------------------------------------------------\n",
      "Coupling Variable: 29 Scene: 0\n",
      "Net. Index: 4 , Attrac. Index: 1 , States:[0,0,0,0,0,0,]\n",
      "Net. Index: 5 , Attrac. Index: 1 , States:[1,1,1,1,1,0,]\n",
      "Net. Index: 4 , Attrac. Index: 1 , States:[0,0,0,0,0,0,]\n",
      "Net. Index: 5 , Attrac. Index: 2 , States:[0,0,0,0,0,0,]\n",
      "-------------------------------------------------\n",
      "Coupling Variable: 29 Scene: 1\n",
      "Net. Index: 4 , Attrac. Index: 2 , States:[0,0,0,0,1,0,]\n",
      "Net. Index: 5 , Attrac. Index: 1 , States:[1,1,1,1,1,1,]\n",
      "Net. Index: 4 , Attrac. Index: 3 , States:[1,1,0,1,1,0,]\n",
      "Net. Index: 5 , Attrac. Index: 1 , States:[1,1,1,1,1,1,]\n",
      "Net. Index: 4 , Attrac. Index: 4 , States:[1,0,0,0,1,0,]\n",
      "Net. Index: 5 , Attrac. Index: 1 , States:[1,1,1,1,1,1,]\n",
      "Net. Index: 4 , Attrac. Index: 1 , States:[1,1,1,1,1,1,]\n",
      "Net. Index: 5 , Attrac. Index: 1 , States:[1,1,1,1,1,1,]\n"
     ]
    }
   ],
   "source": [
    "o_cbn.find_compatible_pairs()\n",
    "o_cbn.show_attractor_pairs()"
   ],
   "metadata": {
    "collapsed": false,
    "ExecuteTime": {
     "end_time": "2023-12-22T23:23:11.814442505Z",
     "start_time": "2023-12-22T23:23:11.786140012Z"
    }
   },
   "id": "fe4800e16d3e9746"
  },
  {
   "cell_type": "code",
   "execution_count": 24,
   "outputs": [
    {
     "name": "stdout",
     "output_type": "stream",
     "text": [
      "=================================================\n",
      "FIND ATTRACTOR FIELDS\n",
      "-------------------------------------------------\n",
      "Number of attractor fields found: 17\n"
     ]
    }
   ],
   "source": [
    "o_cbn.find_attractor_fields()"
   ],
   "metadata": {
    "collapsed": false,
    "ExecuteTime": {
     "end_time": "2023-12-22T23:23:11.814804547Z",
     "start_time": "2023-12-22T23:23:11.786412394Z"
    }
   },
   "id": "882621d0fbf95f4f"
  },
  {
   "cell_type": "code",
   "execution_count": 25,
   "outputs": [
    {
     "name": "stdout",
     "output_type": "stream",
     "text": [
      "=================================================\n",
      "Show the list of attractor fields\n",
      "Number Stable Attractor Fields: 17\n",
      "-------------------------------------------------\n",
      "Network Index: 1 , Input Signal Index: [] , Scene: None , Attractor Index: 4 , States:[0,0,0,0,0,]\n",
      "Network Index: 2 , Input Signal Index: [26] , Scene: 0 , Attractor Index: 1 , States:[0,0,1,0,1,0,]\n",
      "Network Index: 2 , Input Signal Index: [26] , Scene: 0 , Attractor Index: 1 , States:[0,0,1,0,1,0,]\n",
      "Network Index: 3 , Input Signal Index: [27] , Scene: 1 , Attractor Index: 1 , States:[1,1,1,1,1,1,]\n",
      "Network Index: 3 , Input Signal Index: [27] , Scene: 1 , Attractor Index: 1 , States:[1,1,1,1,1,1,]\n",
      "Network Index: 4 , Input Signal Index: [28] , Scene: 1 , Attractor Index: 1 , States:[1,1,1,1,1,1,]\n",
      "Network Index: 4 , Input Signal Index: [28] , Scene: 1 , Attractor Index: 1 , States:[1,1,1,1,1,1,]\n",
      "Network Index: 5 , Input Signal Index: [29] , Scene: 1 , Attractor Index: 1 , States:[1,1,1,1,1,1,]\n",
      "-------------------------------------------------\n",
      "Network Index: 1 , Input Signal Index: [] , Scene: None , Attractor Index: 4 , States:[0,0,0,0,0,]\n",
      "Network Index: 2 , Input Signal Index: [26] , Scene: 0 , Attractor Index: 2 , States:[0,1,1,1,1,0,]\n",
      "Network Index: 2 , Input Signal Index: [26] , Scene: 0 , Attractor Index: 2 , States:[0,1,1,1,1,0,]\n",
      "Network Index: 3 , Input Signal Index: [27] , Scene: 1 , Attractor Index: 1 , States:[1,1,1,1,1,1,]\n",
      "Network Index: 3 , Input Signal Index: [27] , Scene: 1 , Attractor Index: 1 , States:[1,1,1,1,1,1,]\n",
      "Network Index: 4 , Input Signal Index: [28] , Scene: 1 , Attractor Index: 1 , States:[1,1,1,1,1,1,]\n",
      "Network Index: 4 , Input Signal Index: [28] , Scene: 1 , Attractor Index: 1 , States:[1,1,1,1,1,1,]\n",
      "Network Index: 5 , Input Signal Index: [29] , Scene: 1 , Attractor Index: 1 , States:[1,1,1,1,1,1,]\n",
      "-------------------------------------------------\n",
      "Network Index: 1 , Input Signal Index: [] , Scene: None , Attractor Index: 4 , States:[0,0,0,0,0,]\n",
      "Network Index: 2 , Input Signal Index: [26] , Scene: 0 , Attractor Index: 3 , States:[0,0,0,0,0,0,]\n",
      "Network Index: 2 , Input Signal Index: [26] , Scene: 0 , Attractor Index: 3 , States:[0,0,0,0,0,0,]\n",
      "Network Index: 3 , Input Signal Index: [27] , Scene: 0 , Attractor Index: 1 , States:[1,1,1,1,1,0,]\n",
      "Network Index: 3 , Input Signal Index: [27] , Scene: 0 , Attractor Index: 1 , States:[1,1,1,1,1,0,]\n",
      "Network Index: 4 , Input Signal Index: [28] , Scene: 1 , Attractor Index: 1 , States:[1,1,1,1,1,1,]\n",
      "Network Index: 4 , Input Signal Index: [28] , Scene: 1 , Attractor Index: 1 , States:[1,1,1,1,1,1,]\n",
      "Network Index: 5 , Input Signal Index: [29] , Scene: 1 , Attractor Index: 1 , States:[1,1,1,1,1,1,]\n",
      "-------------------------------------------------\n",
      "Network Index: 1 , Input Signal Index: [] , Scene: None , Attractor Index: 4 , States:[0,0,0,0,0,]\n",
      "Network Index: 2 , Input Signal Index: [26] , Scene: 0 , Attractor Index: 3 , States:[0,0,0,0,0,0,]\n",
      "Network Index: 2 , Input Signal Index: [26] , Scene: 0 , Attractor Index: 3 , States:[0,0,0,0,0,0,]\n",
      "Network Index: 3 , Input Signal Index: [27] , Scene: 0 , Attractor Index: 2 , States:[0,0,0,0,0,0,]\n",
      "Network Index: 3 , Input Signal Index: [27] , Scene: 0 , Attractor Index: 2 , States:[0,0,0,0,0,0,]\n",
      "Network Index: 4 , Input Signal Index: [28] , Scene: 0 , Attractor Index: 1 , States:[0,0,0,0,0,0,]\n",
      "Network Index: 4 , Input Signal Index: [28] , Scene: 0 , Attractor Index: 1 , States:[0,0,0,0,0,0,]\n",
      "Network Index: 5 , Input Signal Index: [29] , Scene: 0 , Attractor Index: 1 , States:[1,1,1,1,1,0,]\n",
      "-------------------------------------------------\n",
      "Network Index: 1 , Input Signal Index: [] , Scene: None , Attractor Index: 4 , States:[0,0,0,0,0,]\n",
      "Network Index: 2 , Input Signal Index: [26] , Scene: 0 , Attractor Index: 3 , States:[0,0,0,0,0,0,]\n",
      "Network Index: 2 , Input Signal Index: [26] , Scene: 0 , Attractor Index: 3 , States:[0,0,0,0,0,0,]\n",
      "Network Index: 3 , Input Signal Index: [27] , Scene: 0 , Attractor Index: 2 , States:[0,0,0,0,0,0,]\n",
      "Network Index: 3 , Input Signal Index: [27] , Scene: 0 , Attractor Index: 2 , States:[0,0,0,0,0,0,]\n",
      "Network Index: 4 , Input Signal Index: [28] , Scene: 0 , Attractor Index: 1 , States:[0,0,0,0,0,0,]\n",
      "Network Index: 4 , Input Signal Index: [28] , Scene: 0 , Attractor Index: 1 , States:[0,0,0,0,0,0,]\n",
      "Network Index: 5 , Input Signal Index: [29] , Scene: 0 , Attractor Index: 2 , States:[0,0,0,0,0,0,]\n",
      "-------------------------------------------------\n",
      "Network Index: 1 , Input Signal Index: [] , Scene: None , Attractor Index: 4 , States:[0,0,0,0,0,]\n",
      "Network Index: 2 , Input Signal Index: [26] , Scene: 0 , Attractor Index: 3 , States:[0,0,0,0,0,0,]\n",
      "Network Index: 2 , Input Signal Index: [26] , Scene: 0 , Attractor Index: 3 , States:[0,0,0,0,0,0,]\n",
      "Network Index: 3 , Input Signal Index: [27] , Scene: 0 , Attractor Index: 2 , States:[0,0,0,0,0,0,]\n",
      "Network Index: 3 , Input Signal Index: [27] , Scene: 0 , Attractor Index: 2 , States:[0,0,0,0,0,0,]\n",
      "Network Index: 4 , Input Signal Index: [28] , Scene: 0 , Attractor Index: 2 , States:[0,0,0,0,1,0,]\n",
      "Network Index: 4 , Input Signal Index: [28] , Scene: 0 , Attractor Index: 2 , States:[0,0,0,0,1,0,]\n",
      "Network Index: 5 , Input Signal Index: [29] , Scene: 1 , Attractor Index: 1 , States:[1,1,1,1,1,1,]\n",
      "-------------------------------------------------\n",
      "Network Index: 1 , Input Signal Index: [] , Scene: None , Attractor Index: 4 , States:[0,0,0,0,0,]\n",
      "Network Index: 2 , Input Signal Index: [26] , Scene: 0 , Attractor Index: 3 , States:[0,0,0,0,0,0,]\n",
      "Network Index: 2 , Input Signal Index: [26] , Scene: 0 , Attractor Index: 3 , States:[0,0,0,0,0,0,]\n",
      "Network Index: 3 , Input Signal Index: [27] , Scene: 0 , Attractor Index: 2 , States:[0,0,0,0,0,0,]\n",
      "Network Index: 3 , Input Signal Index: [27] , Scene: 0 , Attractor Index: 2 , States:[0,0,0,0,0,0,]\n",
      "Network Index: 4 , Input Signal Index: [28] , Scene: 0 , Attractor Index: 3 , States:[1,1,0,1,1,0,]\n",
      "Network Index: 4 , Input Signal Index: [28] , Scene: 0 , Attractor Index: 3 , States:[1,1,0,1,1,0,]\n",
      "Network Index: 5 , Input Signal Index: [29] , Scene: 1 , Attractor Index: 1 , States:[1,1,1,1,1,1,]\n",
      "-------------------------------------------------\n",
      "Network Index: 1 , Input Signal Index: [] , Scene: None , Attractor Index: 4 , States:[0,0,0,0,0,]\n",
      "Network Index: 2 , Input Signal Index: [26] , Scene: 0 , Attractor Index: 3 , States:[0,0,0,0,0,0,]\n",
      "Network Index: 2 , Input Signal Index: [26] , Scene: 0 , Attractor Index: 3 , States:[0,0,0,0,0,0,]\n",
      "Network Index: 3 , Input Signal Index: [27] , Scene: 0 , Attractor Index: 2 , States:[0,0,0,0,0,0,]\n",
      "Network Index: 3 , Input Signal Index: [27] , Scene: 0 , Attractor Index: 2 , States:[0,0,0,0,0,0,]\n",
      "Network Index: 4 , Input Signal Index: [28] , Scene: 0 , Attractor Index: 4 , States:[1,0,0,0,1,0,]\n",
      "Network Index: 4 , Input Signal Index: [28] , Scene: 0 , Attractor Index: 4 , States:[1,0,0,0,1,0,]\n",
      "Network Index: 5 , Input Signal Index: [29] , Scene: 1 , Attractor Index: 1 , States:[1,1,1,1,1,1,]\n",
      "-------------------------------------------------\n",
      "Network Index: 1 , Input Signal Index: [] , Scene: None , Attractor Index: 4 , States:[0,0,0,0,0,]\n",
      "Network Index: 2 , Input Signal Index: [26] , Scene: 0 , Attractor Index: 4 , States:[0,0,1,0,0,0,]\n",
      "Network Index: 2 , Input Signal Index: [26] , Scene: 0 , Attractor Index: 4 , States:[0,0,1,0,0,0,]\n",
      "Network Index: 3 , Input Signal Index: [27] , Scene: 1 , Attractor Index: 1 , States:[1,1,1,1,1,1,]\n",
      "Network Index: 3 , Input Signal Index: [27] , Scene: 1 , Attractor Index: 1 , States:[1,1,1,1,1,1,]\n",
      "Network Index: 4 , Input Signal Index: [28] , Scene: 1 , Attractor Index: 1 , States:[1,1,1,1,1,1,]\n",
      "Network Index: 4 , Input Signal Index: [28] , Scene: 1 , Attractor Index: 1 , States:[1,1,1,1,1,1,]\n",
      "Network Index: 5 , Input Signal Index: [29] , Scene: 1 , Attractor Index: 1 , States:[1,1,1,1,1,1,]\n",
      "-------------------------------------------------\n",
      "Network Index: 1 , Input Signal Index: [] , Scene: None , Attractor Index: 1 , States:[0,1,0,0,1,]\n",
      "Network Index: 2 , Input Signal Index: [26] , Scene: 1 , Attractor Index: 1 , States:[1,0,1,0,1,1,]\n",
      "Network Index: 2 , Input Signal Index: [26] , Scene: 1 , Attractor Index: 1 , States:[1,0,1,0,1,1,]\n",
      "Network Index: 3 , Input Signal Index: [27] , Scene: 1 , Attractor Index: 1 , States:[1,1,1,1,1,1,]\n",
      "Network Index: 3 , Input Signal Index: [27] , Scene: 1 , Attractor Index: 1 , States:[1,1,1,1,1,1,]\n",
      "Network Index: 4 , Input Signal Index: [28] , Scene: 1 , Attractor Index: 1 , States:[1,1,1,1,1,1,]\n",
      "Network Index: 4 , Input Signal Index: [28] , Scene: 1 , Attractor Index: 1 , States:[1,1,1,1,1,1,]\n",
      "Network Index: 5 , Input Signal Index: [29] , Scene: 1 , Attractor Index: 1 , States:[1,1,1,1,1,1,]\n",
      "-------------------------------------------------\n",
      "Network Index: 1 , Input Signal Index: [] , Scene: None , Attractor Index: 1 , States:[0,1,0,0,1,]\n",
      "Network Index: 2 , Input Signal Index: [26] , Scene: 1 , Attractor Index: 2 , States:[1,1,1,1,1,1,]\n",
      "Network Index: 2 , Input Signal Index: [26] , Scene: 1 , Attractor Index: 2 , States:[1,1,1,1,1,1,]\n",
      "Network Index: 3 , Input Signal Index: [27] , Scene: 1 , Attractor Index: 1 , States:[1,1,1,1,1,1,]\n",
      "Network Index: 3 , Input Signal Index: [27] , Scene: 1 , Attractor Index: 1 , States:[1,1,1,1,1,1,]\n",
      "Network Index: 4 , Input Signal Index: [28] , Scene: 1 , Attractor Index: 1 , States:[1,1,1,1,1,1,]\n",
      "Network Index: 4 , Input Signal Index: [28] , Scene: 1 , Attractor Index: 1 , States:[1,1,1,1,1,1,]\n",
      "Network Index: 5 , Input Signal Index: [29] , Scene: 1 , Attractor Index: 1 , States:[1,1,1,1,1,1,]\n",
      "-------------------------------------------------\n",
      "Network Index: 1 , Input Signal Index: [] , Scene: None , Attractor Index: 2 , States:[1,1,1,1,1,]\n",
      "Network Index: 2 , Input Signal Index: [26] , Scene: 1 , Attractor Index: 1 , States:[1,0,1,0,1,1,]\n",
      "Network Index: 2 , Input Signal Index: [26] , Scene: 1 , Attractor Index: 1 , States:[1,0,1,0,1,1,]\n",
      "Network Index: 3 , Input Signal Index: [27] , Scene: 1 , Attractor Index: 1 , States:[1,1,1,1,1,1,]\n",
      "Network Index: 3 , Input Signal Index: [27] , Scene: 1 , Attractor Index: 1 , States:[1,1,1,1,1,1,]\n",
      "Network Index: 4 , Input Signal Index: [28] , Scene: 1 , Attractor Index: 1 , States:[1,1,1,1,1,1,]\n",
      "Network Index: 4 , Input Signal Index: [28] , Scene: 1 , Attractor Index: 1 , States:[1,1,1,1,1,1,]\n",
      "Network Index: 5 , Input Signal Index: [29] , Scene: 1 , Attractor Index: 1 , States:[1,1,1,1,1,1,]\n",
      "-------------------------------------------------\n",
      "Network Index: 1 , Input Signal Index: [] , Scene: None , Attractor Index: 2 , States:[1,1,1,1,1,]\n",
      "Network Index: 2 , Input Signal Index: [26] , Scene: 1 , Attractor Index: 2 , States:[1,1,1,1,1,1,]\n",
      "Network Index: 2 , Input Signal Index: [26] , Scene: 1 , Attractor Index: 2 , States:[1,1,1,1,1,1,]\n",
      "Network Index: 3 , Input Signal Index: [27] , Scene: 1 , Attractor Index: 1 , States:[1,1,1,1,1,1,]\n",
      "Network Index: 3 , Input Signal Index: [27] , Scene: 1 , Attractor Index: 1 , States:[1,1,1,1,1,1,]\n",
      "Network Index: 4 , Input Signal Index: [28] , Scene: 1 , Attractor Index: 1 , States:[1,1,1,1,1,1,]\n",
      "Network Index: 4 , Input Signal Index: [28] , Scene: 1 , Attractor Index: 1 , States:[1,1,1,1,1,1,]\n",
      "Network Index: 5 , Input Signal Index: [29] , Scene: 1 , Attractor Index: 1 , States:[1,1,1,1,1,1,]\n",
      "-------------------------------------------------\n",
      "Network Index: 1 , Input Signal Index: [] , Scene: None , Attractor Index: 3 , States:[0,0,1,0,0,]\n",
      "Network Index: 2 , Input Signal Index: [26] , Scene: 1 , Attractor Index: 1 , States:[1,0,1,0,1,1,]\n",
      "Network Index: 2 , Input Signal Index: [26] , Scene: 1 , Attractor Index: 1 , States:[1,0,1,0,1,1,]\n",
      "Network Index: 3 , Input Signal Index: [27] , Scene: 1 , Attractor Index: 1 , States:[1,1,1,1,1,1,]\n",
      "Network Index: 3 , Input Signal Index: [27] , Scene: 1 , Attractor Index: 1 , States:[1,1,1,1,1,1,]\n",
      "Network Index: 4 , Input Signal Index: [28] , Scene: 1 , Attractor Index: 1 , States:[1,1,1,1,1,1,]\n",
      "Network Index: 4 , Input Signal Index: [28] , Scene: 1 , Attractor Index: 1 , States:[1,1,1,1,1,1,]\n",
      "Network Index: 5 , Input Signal Index: [29] , Scene: 1 , Attractor Index: 1 , States:[1,1,1,1,1,1,]\n",
      "-------------------------------------------------\n",
      "Network Index: 1 , Input Signal Index: [] , Scene: None , Attractor Index: 3 , States:[0,0,1,0,0,]\n",
      "Network Index: 2 , Input Signal Index: [26] , Scene: 1 , Attractor Index: 2 , States:[1,1,1,1,1,1,]\n",
      "Network Index: 2 , Input Signal Index: [26] , Scene: 1 , Attractor Index: 2 , States:[1,1,1,1,1,1,]\n",
      "Network Index: 3 , Input Signal Index: [27] , Scene: 1 , Attractor Index: 1 , States:[1,1,1,1,1,1,]\n",
      "Network Index: 3 , Input Signal Index: [27] , Scene: 1 , Attractor Index: 1 , States:[1,1,1,1,1,1,]\n",
      "Network Index: 4 , Input Signal Index: [28] , Scene: 1 , Attractor Index: 1 , States:[1,1,1,1,1,1,]\n",
      "Network Index: 4 , Input Signal Index: [28] , Scene: 1 , Attractor Index: 1 , States:[1,1,1,1,1,1,]\n",
      "Network Index: 5 , Input Signal Index: [29] , Scene: 1 , Attractor Index: 1 , States:[1,1,1,1,1,1,]\n",
      "-------------------------------------------------\n",
      "Network Index: 1 , Input Signal Index: [] , Scene: None , Attractor Index: 5 , States:[0,1,1,0,1,]\n",
      "Network Index: 2 , Input Signal Index: [26] , Scene: 1 , Attractor Index: 1 , States:[1,0,1,0,1,1,]\n",
      "Network Index: 2 , Input Signal Index: [26] , Scene: 1 , Attractor Index: 1 , States:[1,0,1,0,1,1,]\n",
      "Network Index: 3 , Input Signal Index: [27] , Scene: 1 , Attractor Index: 1 , States:[1,1,1,1,1,1,]\n",
      "Network Index: 3 , Input Signal Index: [27] , Scene: 1 , Attractor Index: 1 , States:[1,1,1,1,1,1,]\n",
      "Network Index: 4 , Input Signal Index: [28] , Scene: 1 , Attractor Index: 1 , States:[1,1,1,1,1,1,]\n",
      "Network Index: 4 , Input Signal Index: [28] , Scene: 1 , Attractor Index: 1 , States:[1,1,1,1,1,1,]\n",
      "Network Index: 5 , Input Signal Index: [29] , Scene: 1 , Attractor Index: 1 , States:[1,1,1,1,1,1,]\n",
      "-------------------------------------------------\n",
      "Network Index: 1 , Input Signal Index: [] , Scene: None , Attractor Index: 5 , States:[0,1,1,0,1,]\n",
      "Network Index: 2 , Input Signal Index: [26] , Scene: 1 , Attractor Index: 2 , States:[1,1,1,1,1,1,]\n",
      "Network Index: 2 , Input Signal Index: [26] , Scene: 1 , Attractor Index: 2 , States:[1,1,1,1,1,1,]\n",
      "Network Index: 3 , Input Signal Index: [27] , Scene: 1 , Attractor Index: 1 , States:[1,1,1,1,1,1,]\n",
      "Network Index: 3 , Input Signal Index: [27] , Scene: 1 , Attractor Index: 1 , States:[1,1,1,1,1,1,]\n",
      "Network Index: 4 , Input Signal Index: [28] , Scene: 1 , Attractor Index: 1 , States:[1,1,1,1,1,1,]\n",
      "Network Index: 4 , Input Signal Index: [28] , Scene: 1 , Attractor Index: 1 , States:[1,1,1,1,1,1,]\n",
      "Network Index: 5 , Input Signal Index: [29] , Scene: 1 , Attractor Index: 1 , States:[1,1,1,1,1,1,]\n"
     ]
    }
   ],
   "source": [
    "o_cbn.show_attractors_fields()"
   ],
   "metadata": {
    "collapsed": false,
    "ExecuteTime": {
     "end_time": "2023-12-22T23:23:11.815367267Z",
     "start_time": "2023-12-22T23:23:11.786544637Z"
    }
   },
   "id": "bde320023edd6077"
  }
 ],
 "metadata": {
  "kernelspec": {
   "display_name": "Python 3 (ipykernel)",
   "language": "python",
   "name": "python3"
  },
  "language_info": {
   "codemirror_mode": {
    "name": "ipython",
    "version": 3
   },
   "file_extension": ".py",
   "mimetype": "text/x-python",
   "name": "python",
   "nbconvert_exporter": "python",
   "pygments_lexer": "ipython3",
   "version": "3.10.12"
  }
 },
 "nbformat": 4,
 "nbformat_minor": 5
}
