{
 "cells": [
  {
   "cell_type": "markdown",
   "source": [
    "# Example Aleatory Complete CBN"
   ],
   "metadata": {
    "collapsed": false
   },
   "id": "98edf35f0c1e37ce"
  },
  {
   "cell_type": "code",
   "execution_count": 3,
   "id": "initial_id",
   "metadata": {
    "collapsed": true,
    "jupyter": {
     "outputs_hidden": true
    },
    "ExecuteTime": {
     "end_time": "2023-12-22T23:40:29.142435600Z",
     "start_time": "2023-12-22T23:40:29.123770011Z"
    }
   },
   "outputs": [
    {
     "name": "stdout",
     "output_type": "stream",
     "text": [
      "1 - complete_graph\n",
      "2 - binomial_tree\n",
      "3 - cycle_graph\n",
      "4 - path_graph\n",
      "5 - gn_graph\n",
      "6 - gnc_graph\n",
      "7 - linear_graph\n"
     ]
    }
   ],
   "source": [
    "# import libraries\n",
    "from classes.cbnetwork import CBN\n",
    "\n",
    "# List of the Allowed Topologies\n",
    "CBN.show_allowed_topologies()"
   ]
  },
  {
   "cell_type": "markdown",
   "source": [
    "# Generate a CBN with the parameters"
   ],
   "metadata": {
    "collapsed": false
   },
   "id": "c7e553965b14e9fc"
  },
  {
   "cell_type": "code",
   "execution_count": 4,
   "id": "db2c35ef85dd5be9",
   "metadata": {
    "collapsed": false,
    "ExecuteTime": {
     "end_time": "2023-12-22T23:40:29.165345477Z",
     "start_time": "2023-12-22T23:40:29.142602950Z"
    }
   },
   "outputs": [
    {
     "ename": "AttributeError",
     "evalue": "'NoneType' object has no attribute 'l_var_intern'",
     "output_type": "error",
     "traceback": [
      "\u001B[0;31m---------------------------------------------------------------------------\u001B[0m",
      "\u001B[0;31mAttributeError\u001B[0m                            Traceback (most recent call last)",
      "Cell \u001B[0;32mIn[4], line 8\u001B[0m\n\u001B[1;32m      5\u001B[0m n_clauses_function \u001B[38;5;241m=\u001B[39m \u001B[38;5;241m2\u001B[39m\n\u001B[1;32m      6\u001B[0m v_topology \u001B[38;5;241m=\u001B[39m \u001B[38;5;241m1\u001B[39m\n\u001B[0;32m----> 8\u001B[0m o_cbn \u001B[38;5;241m=\u001B[39m \u001B[43mCBN\u001B[49m\u001B[38;5;241;43m.\u001B[39;49m\u001B[43mgenerate_cbn\u001B[49m\u001B[43m(\u001B[49m\u001B[43mn_local_networks\u001B[49m\u001B[38;5;241;43m=\u001B[39;49m\u001B[43mn_local_networks\u001B[49m\u001B[43m,\u001B[49m\u001B[43m \u001B[49m\u001B[43mn_var_network\u001B[49m\u001B[38;5;241;43m=\u001B[39;49m\u001B[43mn_var_network\u001B[49m\u001B[43m,\u001B[49m\u001B[43m \u001B[49m\u001B[43mv_topology\u001B[49m\u001B[38;5;241;43m=\u001B[39;49m\u001B[43mv_topology\u001B[49m\u001B[43m,\u001B[49m\n\u001B[1;32m      9\u001B[0m \u001B[43m                         \u001B[49m\u001B[43mn_output_variables\u001B[49m\u001B[38;5;241;43m=\u001B[39;49m\u001B[43mn_output_variables\u001B[49m\u001B[43m,\u001B[49m\u001B[43m \u001B[49m\u001B[43mn_clauses_function\u001B[49m\u001B[38;5;241;43m=\u001B[39;49m\u001B[43mn_clauses_function\u001B[49m\u001B[43m)\u001B[49m\n",
      "File \u001B[0;32m~/Documents/CODE/RESEARCH/cbnetwork/classes/cbnetwork.py:121\u001B[0m, in \u001B[0;36mCBN.generate_cbn\u001B[0;34m(n_local_networks, n_var_network, v_topology, n_output_variables, n_clauses_function)\u001B[0m\n\u001B[1;32m    118\u001B[0m i_last_variable \u001B[38;5;241m=\u001B[39m l_local_networks[\u001B[38;5;241m-\u001B[39m\u001B[38;5;241m1\u001B[39m]\u001B[38;5;241m.\u001B[39ml_var_intern[\u001B[38;5;241m-\u001B[39m\u001B[38;5;241m1\u001B[39m]\n\u001B[1;32m    120\u001B[0m \u001B[38;5;66;03m# generate the directed edges given the last variable generated\u001B[39;00m\n\u001B[0;32m--> 121\u001B[0m l_directed_edges \u001B[38;5;241m=\u001B[39m \u001B[43mCBN\u001B[49m\u001B[38;5;241;43m.\u001B[39;49m\u001B[43mgenerate_directed_edges\u001B[49m\u001B[43m(\u001B[49m\u001B[43mi_last_variable\u001B[49m\u001B[43m,\u001B[49m\u001B[43m \u001B[49m\u001B[43ml_local_networks\u001B[49m\u001B[43m,\u001B[49m\u001B[43m \u001B[49m\u001B[43ml_relations\u001B[49m\u001B[43m,\u001B[49m\n\u001B[1;32m    122\u001B[0m \u001B[43m                                               \u001B[49m\u001B[43mn_output_variables\u001B[49m\u001B[43m)\u001B[49m\n\u001B[1;32m    124\u001B[0m \u001B[38;5;66;03m# Process the coupling signals for every local network\u001B[39;00m\n\u001B[1;32m    125\u001B[0m \u001B[38;5;28;01mfor\u001B[39;00m o_local_network \u001B[38;5;129;01min\u001B[39;00m l_local_networks:\n",
      "File \u001B[0;32m~/Documents/CODE/RESEARCH/cbnetwork/classes/cbnetwork.py:93\u001B[0m, in \u001B[0;36mCBN.generate_directed_edges\u001B[0;34m(i_last_variable, l_local_networks, l_relations, n_output_variables)\u001B[0m\n\u001B[1;32m     90\u001B[0m         l_local_networks_co\u001B[38;5;241m.\u001B[39mappend(o_local_network_aux)\n\u001B[1;32m     92\u001B[0m \u001B[38;5;28;01mfor\u001B[39;00m o_local_network_co \u001B[38;5;129;01min\u001B[39;00m l_local_networks_co:\n\u001B[0;32m---> 93\u001B[0m     l_output_variables \u001B[38;5;241m=\u001B[39m random\u001B[38;5;241m.\u001B[39msample(\u001B[43mo_local_network_co\u001B[49m\u001B[38;5;241;43m.\u001B[39;49m\u001B[43ml_var_intern\u001B[49m, n_output_variables)\n\u001B[1;32m     94\u001B[0m     \u001B[38;5;28;01mif\u001B[39;00m n_output_variables \u001B[38;5;241m==\u001B[39m \u001B[38;5;241m1\u001B[39m:\n\u001B[1;32m     95\u001B[0m         coupling_function \u001B[38;5;241m=\u001B[39m l_output_variables[\u001B[38;5;241m0\u001B[39m]\n",
      "\u001B[0;31mAttributeError\u001B[0m: 'NoneType' object has no attribute 'l_var_intern'"
     ]
    }
   ],
   "source": [
    "# pass the parameters\n",
    "n_local_networks = 6\n",
    "n_var_network = 5\n",
    "n_output_variables = 2\n",
    "n_clauses_function = 2\n",
    "v_topology = 1\n",
    "\n",
    "o_cbn = CBN.generate_cbn(n_local_networks=n_local_networks, n_var_network=n_var_network, v_topology=v_topology,\n",
    "                         n_output_variables=n_output_variables, n_clauses_function=n_clauses_function)"
   ]
  },
  {
   "cell_type": "markdown",
   "source": [
    "# Find local network attractors"
   ],
   "metadata": {
    "collapsed": false
   },
   "id": "192536d1a14c38fb"
  },
  {
   "cell_type": "code",
   "execution_count": null,
   "outputs": [],
   "source": [
    "o_cbn.find_local_attractors_optimized()"
   ],
   "metadata": {
    "collapsed": false,
    "ExecuteTime": {
     "end_time": "2023-12-22T23:40:29.201469851Z",
     "start_time": "2023-12-22T23:40:29.201425002Z"
    }
   },
   "id": "f6645145812950cb"
  },
  {
   "cell_type": "markdown",
   "source": [
    "# find the compatible pairs"
   ],
   "metadata": {
    "collapsed": false
   },
   "id": "1d9fcf7f303f8bd3"
  },
  {
   "cell_type": "code",
   "execution_count": null,
   "outputs": [],
   "source": [
    "o_cbn.find_compatible_pairs()"
   ],
   "metadata": {
    "collapsed": false,
    "ExecuteTime": {
     "end_time": "2023-12-22T23:40:29.201851985Z",
     "start_time": "2023-12-22T23:40:29.201579711Z"
    }
   },
   "id": "1860f80c3dc4e5f7"
  },
  {
   "cell_type": "code",
   "execution_count": null,
   "id": "a2aa24594dc247a6",
   "metadata": {
    "collapsed": false,
    "ExecuteTime": {
     "start_time": "2023-12-22T23:40:29.201646126Z"
    }
   },
   "outputs": [],
   "source": [
    "o_cbn.show_cbn_graph()"
   ]
  },
  {
   "cell_type": "code",
   "execution_count": null,
   "id": "6f9f71ece5a2d92",
   "metadata": {
    "collapsed": false,
    "ExecuteTime": {
     "start_time": "2023-12-22T23:40:29.201702795Z"
    }
   },
   "outputs": [],
   "source": [
    "o_cbn.show_attractors()"
   ]
  },
  {
   "cell_type": "code",
   "execution_count": null,
   "outputs": [],
   "source": [
    "o_cbn.show_coupled_signals_kind()"
   ],
   "metadata": {
    "collapsed": false,
    "ExecuteTime": {
     "start_time": "2023-12-22T23:40:29.201741382Z"
    }
   },
   "id": "9fed9d85fb68edee"
  },
  {
   "cell_type": "code",
   "execution_count": null,
   "outputs": [],
   "source": [
    "# find the compatible pairs\n",
    "o_cbn.find_compatible_pairs()\n",
    "o_cbn.show_attractor_pairs()"
   ],
   "metadata": {
    "collapsed": false,
    "ExecuteTime": {
     "start_time": "2023-12-22T23:40:29.201778294Z"
    }
   },
   "id": "3555d4dd3935ac7e"
  },
  {
   "cell_type": "code",
   "execution_count": null,
   "outputs": [],
   "source": [
    "# Find attractor fields\n",
    "o_cbn.find_attractor_fields()\n",
    "o_cbn.show_attractors_fields()\n",
    "#"
   ],
   "metadata": {
    "collapsed": false,
    "ExecuteTime": {
     "start_time": "2023-12-22T23:40:29.201815439Z"
    }
   },
   "id": "d780959ed969e574"
  }
 ],
 "metadata": {
  "kernelspec": {
   "display_name": "Python 3 (ipykernel)",
   "language": "python",
   "name": "python3"
  },
  "language_info": {
   "codemirror_mode": {
    "name": "ipython",
    "version": 3
   },
   "file_extension": ".py",
   "mimetype": "text/x-python",
   "name": "python",
   "nbconvert_exporter": "python",
   "pygments_lexer": "ipython3",
   "version": "3.10.12"
  }
 },
 "nbformat": 4,
 "nbformat_minor": 5
}
