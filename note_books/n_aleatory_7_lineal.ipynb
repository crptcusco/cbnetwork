{
 "cells": [
  {
   "cell_type": "markdown",
   "source": [
    "# LINEAL CBN ALEATORY SCRIPT EXAMPLE"
   ],
   "metadata": {
    "collapsed": false
   },
   "id": "d62edaf34878bbd1"
  },
  {
   "cell_type": "code",
   "execution_count": null,
   "id": "initial_id",
   "metadata": {
    "collapsed": true
   },
   "outputs": [],
   "source": [
    "# import libraries\n",
    "from classes.cbnetwork import CBN\n",
    "from classes.directededge import DirectedEdge\n",
    "from classes.internalvariable import InternalVariable\n",
    "from classes.localnetwork import LocalNetwork\n",
    "\n",
    "# pass the parameters\n",
    "n_local_networks = 6\n",
    "n_var_network = 5\n",
    "n_output_variables = 2\n",
    "n_clauses_function = 2\n",
    "v_topology = 7"
   ]
  },
  {
   "cell_type": "markdown",
   "source": [
    "# show available topologies"
   ],
   "metadata": {
    "collapsed": false
   },
   "id": "1741d0f7c8907448"
  },
  {
   "cell_type": "code",
   "execution_count": null,
   "outputs": [],
   "source": [
    "CBN.show_allowed_topologies()"
   ],
   "metadata": {
    "collapsed": false
   },
   "id": "555129af85610558"
  },
  {
   "cell_type": "code",
   "execution_count": null,
   "outputs": [],
   "source": [
    "# create a Coupled Boolean Network with the parameters\n",
    "o_cbn = CBN.generate_cbn(n_local_networks=n_local_networks,\n",
    "                         n_var_network=n_var_network, \n",
    "                         v_topology=v_topology,\n",
    "                         n_output_variables=n_output_variables,\n",
    "                         n_clauses_function=n_clauses_function)"
   ],
   "metadata": {
    "collapsed": false
   },
   "id": "b0106a5b246f9ec7"
  },
  {
   "cell_type": "code",
   "execution_count": null,
   "outputs": [],
   "source": [
    "# show the kind of the edges\n",
    "o_cbn.show_directed_edges()"
   ],
   "metadata": {
    "collapsed": false
   },
   "id": "ed5d41878294d32a"
  },
  {
   "cell_type": "code",
   "execution_count": null,
   "outputs": [],
   "source": [
    "for o_directed_edge in o_cbn.l_directed_edges:\n",
    "    print(o_directed_edge.output_local_network, \"->\", o_directed_edge.input_local_network)"
   ],
   "metadata": {
    "collapsed": false
   },
   "id": "c2569b5a0cd451a8"
  },
  {
   "cell_type": "code",
   "execution_count": null,
   "outputs": [],
   "source": [
    "# Find attractors\n",
    "o_cbn.find_attractors()"
   ],
   "metadata": {
    "collapsed": false
   },
   "id": "f78a7796e4c7080c"
  },
  {
   "cell_type": "code",
   "execution_count": null,
   "outputs": [],
   "source": [
    "# show attractors\n",
    "o_cbn.show_attractors()"
   ],
   "metadata": {
    "collapsed": false
   },
   "id": "a93a682dc3b0b54b"
  },
  {
   "cell_type": "code",
   "execution_count": null,
   "outputs": [],
   "source": [
    "o_cbn.find_compatible_pairs()"
   ],
   "metadata": {
    "collapsed": false
   },
   "id": "935d732230514e33"
  },
  {
   "cell_type": "code",
   "execution_count": null,
   "outputs": [],
   "source": [
    "o_cbn.show_attractor_pairs()"
   ],
   "metadata": {
    "collapsed": false
   },
   "id": "1eb862985f5e4960"
  },
  {
   "cell_type": "code",
   "execution_count": null,
   "outputs": [],
   "source": [
    "o_cbn.show_directed_edges()"
   ],
   "metadata": {
    "collapsed": false
   },
   "id": "c151571aab794d6d"
  },
  {
   "cell_type": "code",
   "execution_count": null,
   "outputs": [],
   "source": [
    "# show the kind of every coupled signal\n",
    "o_cbn.show_coupled_signals_kind()"
   ],
   "metadata": {
    "collapsed": false
   },
   "id": "8ced149d8f108e38"
  },
  {
   "cell_type": "code",
   "execution_count": null,
   "outputs": [],
   "source": [
    "o_cbn.show_cbn_graph()"
   ],
   "metadata": {
    "collapsed": false
   },
   "id": "140a047b82dc7f0a"
  }
 ],
 "metadata": {
  "kernelspec": {
   "display_name": "Python 3",
   "language": "python",
   "name": "python3"
  },
  "language_info": {
   "codemirror_mode": {
    "name": "ipython",
    "version": 2
   },
   "file_extension": ".py",
   "mimetype": "text/x-python",
   "name": "python",
   "nbconvert_exporter": "python",
   "pygments_lexer": "ipython2",
   "version": "2.7.6"
  }
 },
 "nbformat": 4,
 "nbformat_minor": 5
}
