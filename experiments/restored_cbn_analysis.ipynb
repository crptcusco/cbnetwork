{
 "cells": [
  {
   "cell_type": "code",
   "execution_count": null,
   "id": "initial_id",
   "metadata": {
    "collapsed": true
   },
   "outputs": [],
   "source": [
    "import pickle\n",
    "\n",
    "# path_cbn = '3_linear_circle/outputs/exp5_aleatory_linear_circle_8_8_10/cbn_9_3.pkl'\n",
    "path_cbn = 'structural/3_linear_circle/outputs/backup/exp5_aleatory_linear_circle_8_8_10/cbn_9_3.pkl'\n",
    "\n",
    "with open(path_cbn, 'rb') as file:\n",
    "    o_cbn = pickle.load(file)\n",
    "\n",
    "# Show the object\n",
    "print(o_cbn)"
   ]
  },
  {
   "cell_type": "code",
   "outputs": [],
   "source": [
    "o_cbn.show_cbn_graph()"
   ],
   "metadata": {
    "collapsed": false
   },
   "id": "cff6596cac0aa5f3",
   "execution_count": null
  },
  {
   "cell_type": "code",
   "outputs": [],
   "source": [
    "o_cbn.show_cbn()"
   ],
   "metadata": {
    "collapsed": false
   },
   "id": "1bb86e91d1a9a45e",
   "execution_count": null
  },
  {
   "cell_type": "code",
   "outputs": [],
   "source": [
    "# # find local attractors\n",
    "# o_cbn.find_attractors()\n",
    "# # find attractor pairs\n",
    "# o_cbn.find_attractor_pairs()\n",
    "# # find attractor fields\n",
    "# o_cbn.find_attractor_fields()"
   ],
   "metadata": {
    "collapsed": false
   },
   "id": "f989bcb4d7b72de3",
   "execution_count": null
  },
  {
   "cell_type": "code",
   "outputs": [],
   "source": [
    "# show local attractors\n",
    "o_cbn.show_local_attractors()\n",
    "# show attractor pairs\n",
    "o_cbn.show_attractor_pairs()\n",
    "# # show the attractors fields\n",
    "o_cbn.show_attractors_fields()"
   ],
   "metadata": {
    "collapsed": false
   },
   "id": "8ab7d3c3b56fc912",
   "execution_count": null
  },
  {
   "cell_type": "code",
   "outputs": [],
   "source": [
    "o_cbn.show_resume()"
   ],
   "metadata": {
    "collapsed": false
   },
   "id": "1792fb8d68572284",
   "execution_count": null
  },
  {
   "cell_type": "code",
   "outputs": [],
   "source": [
    "o_cbn.show_global_scenes()"
   ],
   "metadata": {
    "collapsed": false
   },
   "id": "9b16095b9c05fd6d",
   "execution_count": null
  }
 ],
 "metadata": {
  "kernelspec": {
   "display_name": "Python 3",
   "language": "python",
   "name": "python3"
  },
  "language_info": {
   "codemirror_mode": {
    "name": "ipython",
    "version": 2
   },
   "file_extension": ".py",
   "mimetype": "text/x-python",
   "name": "python",
   "nbconvert_exporter": "python",
   "pygments_lexer": "ipython2",
   "version": "2.7.6"
  }
 },
 "nbformat": 4,
 "nbformat_minor": 5
}
