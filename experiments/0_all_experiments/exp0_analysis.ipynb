{
 "cells": [
  {
   "metadata": {},
   "cell_type": "markdown",
   "source": "# Experiment 1: Growth of Stable Attractor Fields in Linear CBNs# Principal",
   "id": "483e781db1425328"
  },
  {
   "metadata": {},
   "cell_type": "markdown",
   "source": "",
   "id": "a0236efa9bdf6edb"
  },
  {
   "cell_type": "code",
   "id": "initial_id",
   "metadata": {
    "collapsed": true,
    "ExecuteTime": {
     "end_time": "2024-11-23T18:49:40.559592Z",
     "start_time": "2024-11-23T18:49:38.306929Z"
    }
   },
   "source": [
    "import pandas as pd\n",
    "\n",
    "# Leer los datasets\n",
    "exp1_df = pd.read_csv(\"../1_networks_linear/outputs/exp1_linear_aleatory_3_11_1000/data.csv\")\n",
    "exp2_df = pd.read_csv(\"../2_networks_circular/outputs/exp2_circular_aleatory_3_10_1000/data.csv\")\n",
    "exp3_df = pd.read_csv(\"../3_variables_linear/outputs/exp3_variables_linear_5_30_1000/data.csv\")\n",
    "exp4_df = pd.read_csv(\"../4_variables_circular/outputs/exp4_variables_circular_5_30_1000/data.csv\")\n",
    "exp5_df = pd.read_csv(\"../5_networks_all/outputs/exp5_aleatory_linear_circle_3_9_1000/data.csv\")\n",
    "exp6_df = pd.read_csv(\"../6_aleatory_template_local_networks/outputs/exp6_data_3_9_1000/data.csv\")\n",
    "exp7_df = pd.read_csv(\"../7_aleatory_template_coupling_signals/outputs/exp7_data_3_8_1000/data.csv\")\n",
    "exp8_df = pd.read_csv(\"../8_variables_aleatory/outputs/exp8_data_5_20_1000/data.csv\")\n",
    "\n",
    "# Lista de DataFrames y etiquetas\n",
    "dataframes = [\n",
    "    (exp1_df, \"Exp. 1\"),  # Formato personalizado para el primer experimento\n",
    "    (exp2_df, \"Exp. 2\"),  # Actualizando nombres para consistencia\n",
    "    (exp3_df, \"Exp. 3\"),\n",
    "    (exp4_df, \"Exp. 4\"),\n",
    "    (exp5_df, \"Exp. 5\"),\n",
    "    (exp6_df, \"Exp. 6\"),\n",
    "    (exp7_df, \"Exp. 7\"),\n",
    "    (exp8_df, \"Exp. 8\"),\n",
    "]\n",
    "\n",
    "# Imprimir el número de columnas\n",
    "for i, (df, label) in enumerate(dataframes, start=1):\n",
    "    print(f\"El DataFrame {label} tiene {df.shape[1]} columnas.\")\n",
    "\n",
    "# Columnas necesarias\n",
    "columns = [\n",
    "    'i_sample', 'n_local_networks', 'n_var_network', 'v_topology',\n",
    "    'n_output_variables', 'n_clauses_function', 'n_local_attractors',\n",
    "    'n_pair_attractors', 'n_attractor_fields', 'n_time_find_attractors',\n",
    "    'n_time_find_pairs', 'n_time_find_fields'\n",
    "]\n",
    "\n",
    "# Procesar DataFrames\n",
    "processed_dfs = []\n",
    "for df, label in dataframes:\n",
    "    # Validar que las columnas necesarias existen\n",
    "    missing_columns = [col for col in columns if col not in df.columns]\n",
    "    if missing_columns:\n",
    "        print(f\"Advertencia: El DataFrame {label} no contiene las columnas {missing_columns}\")\n",
    "        continue\n",
    "    # Agregar columna del experimento y filtrar columnas necesarias\n",
    "    df['experiment'] = label\n",
    "    processed_dfs.append(df[columns + ['experiment']])\n",
    "\n",
    "# Concatenar DataFrames\n",
    "combined_df = pd.concat(processed_dfs, ignore_index=True)\n",
    "\n",
    "# Mostrar las primeras filas del DataFrame combinado\n",
    "print(combined_df.head())"
   ],
   "outputs": [
    {
     "name": "stdout",
     "output_type": "stream",
     "text": [
      "El DataFrame Exp. 1 tiene 12 columnas.\n",
      "El DataFrame Exp. 2 tiene 12 columnas.\n",
      "El DataFrame Exp. 3 tiene 12 columnas.\n",
      "El DataFrame Exp. 4 tiene 12 columnas.\n",
      "El DataFrame Exp. 5 tiene 12 columnas.\n",
      "El DataFrame Exp. 6 tiene 13 columnas.\n",
      "El DataFrame Exp. 7 tiene 13 columnas.\n",
      "El DataFrame Exp. 8 tiene 13 columnas.\n",
      "   i_sample  n_local_networks  n_var_network  v_topology  n_output_variables  \\\n",
      "0         1                 3              5           4                   2   \n",
      "1         1                 4              5           4                   2   \n",
      "2         1                 5              5           4                   2   \n",
      "3         1                 6              5           4                   2   \n",
      "4         1                 7              5           4                   2   \n",
      "\n",
      "   n_clauses_function  n_local_attractors  n_pair_attractors  \\\n",
      "0                   2                   5                  3   \n",
      "1                   2                   7                  5   \n",
      "2                   2                   9                  7   \n",
      "3                   2                  11                  9   \n",
      "4                   2                  13                 11   \n",
      "\n",
      "   n_attractor_fields  n_time_find_attractors  n_time_find_pairs  \\\n",
      "0                   1                0.130077           0.000102   \n",
      "1                   1                0.219826           0.000152   \n",
      "2                   1                0.358205           0.000196   \n",
      "3                   1                0.409885           0.000344   \n",
      "4                   1                0.487235           0.000288   \n",
      "\n",
      "   n_time_find_fields experiment  \n",
      "0            0.000080     Exp. 1  \n",
      "1            0.000107     Exp. 1  \n",
      "2            0.000125     Exp. 1  \n",
      "3            0.000226     Exp. 1  \n",
      "4            0.000192     Exp. 1  \n"
     ]
    }
   ],
   "execution_count": 1
  },
  {
   "metadata": {},
   "cell_type": "markdown",
   "source": "## General Analisys Mean",
   "id": "f1c4fb0625153e17"
  },
  {
   "metadata": {
    "ExecuteTime": {
     "end_time": "2024-11-23T18:53:50.621302Z",
     "start_time": "2024-11-23T18:53:50.596571Z"
    }
   },
   "cell_type": "code",
   "source": [
    "# Calcular a soma total dos tempos por experimento\n",
    "sumatoria_tiempos = combined_df.groupby('experiment')[[\n",
    "    'n_time_find_attractors', 'n_time_find_pairs', 'n_time_find_fields'\n",
    "]].sum()\n",
    "\n",
    "# Adicionar a coluna de tempo total geral\n",
    "sumatoria_tiempos['Tempo Total Geral'] = (\n",
    "    sumatoria_tiempos['n_time_find_attractors'] +\n",
    "    sumatoria_tiempos['n_time_find_pairs'] +\n",
    "    sumatoria_tiempos['n_time_find_fields']\n",
    ")\n",
    "\n",
    "# Garantir precisão de duas casas decimais\n",
    "sumatoria_tiempos = sumatoria_tiempos.round(2)\n",
    "\n",
    "# Renomear as colunas para clareza\n",
    "sumatoria_tiempos.columns = [\n",
    "    'Atratores',\n",
    "    'Pares',\n",
    "    'Campos Atratores',\n",
    "    'Tempo Total Geral'\n",
    "]\n",
    "\n",
    "# Resetar o índice para formatar como tabela\n",
    "sumatoria_tiempos.reset_index(inplace=True)\n",
    "\n",
    "# Gerar a tabela em LaTeX\n",
    "latex_table_sumatoria = sumatoria_tiempos.to_latex(\n",
    "    index=False,\n",
    "    caption=\"Tempos Totais de Execução por Experimento\",\n",
    "    label=\"tab:tempos_totais_execucao\",\n",
    "    float_format=\"%.2f\"\n",
    ")\n",
    "\n",
    "# Mostrar a tabela LaTeX no console\n",
    "print(latex_table_sumatoria)"
   ],
   "id": "c08f82c97a05c775",
   "outputs": [
    {
     "name": "stdout",
     "output_type": "stream",
     "text": [
      "\\begin{table}\n",
      "\\caption{Tempos Totais de Execução por Experimento}\n",
      "\\label{tab:tempos_totais_execucao}\n",
      "\\begin{tabular}{lrrrr}\n",
      "\\toprule\n",
      "experiment & Atratores & Pares & Campos Atratores & Tempo Total Geral \\\\\n",
      "\\midrule\n",
      "Exp. 1 & 6042.10 & 2.73 & 56819.11 & 62863.95 \\\\\n",
      "Exp. 2 & 4319.94 & 1.99 & 33178.04 & 37499.97 \\\\\n",
      "Exp. 3 & 89816.79 & 0.63 & 2470.09 & 92287.51 \\\\\n",
      "Exp. 4 & 245494.30 & 2.24 & 96766.59 & 342263.13 \\\\\n",
      "Exp. 5 & 16105.92 & 5.24 & 133287.50 & 149398.66 \\\\\n",
      "Exp. 6 & 7081.31 & 2.28 & 587867.88 & 594951.47 \\\\\n",
      "Exp. 7 & 25562.72 & 7.49 & 704585.06 & 730155.28 \\\\\n",
      "Exp. 8 & 12303.96 & 1.11 & 410290.66 & 422595.74 \\\\\n",
      "\\bottomrule\n",
      "\\end{tabular}\n",
      "\\end{table}\n",
      "\n"
     ]
    }
   ],
   "execution_count": 5
  },
  {
   "metadata": {},
   "cell_type": "markdown",
   "source": "",
   "id": "add2538ba168eebd"
  },
  {
   "metadata": {
    "ExecuteTime": {
     "end_time": "2024-11-23T18:56:18.013208Z",
     "start_time": "2024-11-23T18:56:17.989396Z"
    }
   },
   "cell_type": "code",
   "source": [
    "import pandas as pd\n",
    "\n",
    "# Calcular as médias dos tempos por experimento\n",
    "mean_summary = combined_df.groupby('experiment')[[\n",
    "    'n_time_find_attractors', 'n_time_find_pairs', 'n_time_find_fields'\n",
    "]].mean()\n",
    "\n",
    "# Adicionar a coluna de tempo médio total\n",
    "mean_summary['Tempo Médio Total'] = (\n",
    "    mean_summary['n_time_find_attractors'] +\n",
    "    mean_summary['n_time_find_pairs'] +\n",
    "    mean_summary['n_time_find_fields']\n",
    ")\n",
    "\n",
    "# Garantir precisão de duas casas decimais\n",
    "mean_summary = mean_summary.round(2)\n",
    "\n",
    "# Renomear colunas para clareza\n",
    "mean_summary.columns = [\n",
    "    'Tempo Médio (Atratores)',\n",
    "    'Tempo Médio (Pares)',\n",
    "    'Tempo Médio (Campos Atratores)',\n",
    "    'Tempo Médio Total'\n",
    "]\n",
    "\n",
    "# Resetar índice para formatar como tabela\n",
    "mean_summary.reset_index(inplace=True)\n",
    "\n",
    "# Gerar a tabela em LaTeX\n",
    "latex_table_mean = mean_summary.to_latex(\n",
    "    index=False,\n",
    "    caption=\"Tempos Médios de Execução por Experimento\",\n",
    "    label=\"tab:tempos_medios_execucao\",\n",
    "    float_format=\"%.2f\"  # Garantir formato de dois decimais\n",
    ")\n",
    "\n",
    "# Mostrar a tabela LaTeX no console\n",
    "print(latex_table_mean)"
   ],
   "id": "1a0d0f620a17c688",
   "outputs": [
    {
     "name": "stdout",
     "output_type": "stream",
     "text": [
      "\\begin{table}\n",
      "\\caption{Tempos Médios de Execução por Experimento}\n",
      "\\label{tab:tempos_medios_execucao}\n",
      "\\begin{tabular}{lrrrr}\n",
      "\\toprule\n",
      "experiment & Tempo Médio (Atratores) & Tempo Médio (Pares) & Tempo Médio (Campos Atratores) & Tempo Médio Total \\\\\n",
      "\\midrule\n",
      "Exp. 1 & 0.67 & 0.00 & 6.31 & 6.98 \\\\\n",
      "Exp. 2 & 0.54 & 0.00 & 4.15 & 4.69 \\\\\n",
      "Exp. 3 & 14.97 & 0.00 & 0.41 & 15.38 \\\\\n",
      "Exp. 4 & 40.92 & 0.00 & 16.13 & 57.04 \\\\\n",
      "Exp. 5 & 0.77 & 0.00 & 6.35 & 7.11 \\\\\n",
      "Exp. 6 & 1.01 & 0.00 & 83.98 & 84.99 \\\\\n",
      "Exp. 7 & 1.22 & 0.00 & 33.55 & 34.77 \\\\\n",
      "Exp. 8 & 3.08 & 0.00 & 102.57 & 105.65 \\\\\n",
      "\\bottomrule\n",
      "\\end{tabular}\n",
      "\\end{table}\n",
      "\n"
     ]
    }
   ],
   "execution_count": 6
  },
  {
   "metadata": {},
   "cell_type": "markdown",
   "source": "# Analisys Maximun values",
   "id": "9f45c24ef12370e5"
  },
  {
   "metadata": {
    "ExecuteTime": {
     "end_time": "2024-11-23T18:59:43.565564Z",
     "start_time": "2024-11-23T18:59:43.537463Z"
    }
   },
   "cell_type": "code",
   "source": [
    "# MAIOR TEMPO\n",
    "\n",
    "# Criar uma nova coluna para o tempo total de execução\n",
    "combined_df['tempo_total'] = (\n",
    "    combined_df['n_time_find_attractors'] \n",
    "    + combined_df['n_time_find_pairs'] \n",
    "    + combined_df['n_time_find_fields']\n",
    ")\n",
    "\n",
    "# Encontrar a RBA com maior tempo total para cada experimento\n",
    "summary = (\n",
    "    combined_df.loc[\n",
    "        combined_df.groupby('experiment')['tempo_total'].idxmax(),\n",
    "        ['experiment', 'n_time_find_attractors', 'n_time_find_pairs', 'n_time_find_fields', 'tempo_total']\n",
    "    ]\n",
    ")\n",
    "\n",
    "# Renomear colunas para deixar mais claro\n",
    "summary.columns = ['Experimento', 'Tempo (Atratores)', 'Tempo (Pares)', 'Tempo (Campos Atratores)', 'Tempo Máximo Total']\n",
    "\n",
    "# Resetar índice para formatar como tabela\n",
    "summary.reset_index(drop=True, inplace=True)\n",
    "\n",
    "# Garantir precisão de duas casas decimais formatando como strings\n",
    "for col in ['Tempo (Atratores)', 'Tempo (Pares)', 'Tempo (Campos Atratores)', 'Tempo Máximo Total']:\n",
    "    summary[col] = summary[col].map(lambda x: f\"{x:.2f}\")\n",
    "\n",
    "# Gerar a tabela em LaTeX\n",
    "latex_table = summary.to_latex(\n",
    "    index=False, \n",
    "    caption=\"Tempos de Execução por Experimento (Máximo Total)\", \n",
    "    label=\"tab:tempos_execucao_maximo\"\n",
    ")\n",
    "\n",
    "# Mostrar a tabela LaTeX no console\n",
    "print(latex_table)\n"
   ],
   "id": "7be4fa39bcee6f4",
   "outputs": [
    {
     "name": "stdout",
     "output_type": "stream",
     "text": [
      "\\begin{table}\n",
      "\\caption{Tempos de Execução por Experimento (Máximo Total)}\n",
      "\\label{tab:tempos_execucao_maximo}\n",
      "\\begin{tabular}{lllll}\n",
      "\\toprule\n",
      "Experimento & Tempo (Atratores) & Tempo (Pares) & Tempo (Campos Atratores) & Tempo Máximo Total \\\\\n",
      "\\midrule\n",
      "Exp. 1 & 2.30 & 0.00 & 26622.89 & 26625.20 \\\\\n",
      "Exp. 2 & 1.96 & 0.00 & 9125.52 & 9127.48 \\\\\n",
      "Exp. 3 & 32194.11 & 0.00 & 72.98 & 32267.09 \\\\\n",
      "Exp. 4 & 147552.28 & 0.00 & 57.16 & 147609.44 \\\\\n",
      "Exp. 5 & 3.39 & 0.00 & 30657.26 & 30660.65 \\\\\n",
      "Exp. 6 & 3.51 & 0.00 & 230902.72 & 230906.24 \\\\\n",
      "Exp. 7 & 4.71 & 0.00 & 218578.01 & 218582.72 \\\\\n",
      "Exp. 8 & 89.33 & 0.00 & 352917.58 & 353006.92 \\\\\n",
      "\\bottomrule\n",
      "\\end{tabular}\n",
      "\\end{table}\n",
      "\n"
     ]
    }
   ],
   "execution_count": 7
  },
  {
   "metadata": {},
   "cell_type": "markdown",
   "source": "Analiys Total Values",
   "id": "e3e606999853f0db"
  }
 ],
 "metadata": {
  "kernelspec": {
   "display_name": "Python 3",
   "language": "python",
   "name": "python3"
  },
  "language_info": {
   "codemirror_mode": {
    "name": "ipython",
    "version": 2
   },
   "file_extension": ".py",
   "mimetype": "text/x-python",
   "name": "python",
   "nbconvert_exporter": "python",
   "pygments_lexer": "ipython2",
   "version": "2.7.6"
  }
 },
 "nbformat": 4,
 "nbformat_minor": 5
}
