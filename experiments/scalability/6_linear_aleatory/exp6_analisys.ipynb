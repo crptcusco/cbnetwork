{
 "cells": [
  {
   "metadata": {},
   "cell_type": "markdown",
   "source": "# Experiment 6 : Grow of stables attractors fields in Linear CBN",
   "id": "483e781db1425328"
  },
  {
   "metadata": {},
   "cell_type": "markdown",
   "source": "This experiment explore the grow of stable attractor fields in CBN with Linear topology and same local networks. Its important see what happened with the Linear CBN with more local networks and coupling signals.",
   "id": "a0236efa9bdf6edb"
  },
  {
   "cell_type": "code",
   "id": "initial_id",
   "metadata": {
    "collapsed": true,
    "ExecuteTime": {
     "end_time": "2024-05-10T22:39:10.073662Z",
     "start_time": "2024-05-10T22:39:09.324572Z"
    }
   },
   "source": [
    "import pandas as pd\n",
    "import matplotlib.pyplot as plt\n",
    "\n",
    "# Read the database\n",
    "df = pd.read_csv(\"outputs/exp6_linear_aleatory_3_8_100/data.csv\")\n",
    "\n",
    "# show the column names\n",
    "df.keys()"
   ],
   "outputs": [
    {
     "data": {
      "text/plain": [
       "Index(['i_sample', 'n_local_networks', 'n_var_network', 'v_topology',\n",
       "       'n_output_variables', 'n_clauses_function', 'n_local_attractors',\n",
       "       'n_pair_attractors', 'n_attractor_fields', 'n_time_find_attractors',\n",
       "       'n_time_find_pairs', 'n_time_find_fields'],\n",
       "      dtype='object')"
      ]
     },
     "execution_count": 1,
     "metadata": {},
     "output_type": "execute_result"
    }
   ],
   "execution_count": 1
  }
 ],
 "metadata": {
  "kernelspec": {
   "display_name": "Python 3",
   "language": "python",
   "name": "python3"
  },
  "language_info": {
   "codemirror_mode": {
    "name": "ipython",
    "version": 2
   },
   "file_extension": ".py",
   "mimetype": "text/x-python",
   "name": "python",
   "nbconvert_exporter": "python",
   "pygments_lexer": "ipython2",
   "version": "2.7.6"
  }
 },
 "nbformat": 4,
 "nbformat_minor": 5
}
