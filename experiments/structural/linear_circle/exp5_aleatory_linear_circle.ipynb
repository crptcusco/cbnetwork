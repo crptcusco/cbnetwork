{
 "cells": [
  {
   "cell_type": "markdown",
   "source": [
    "# Experiment 5: Aleatory Linear and Circle"
   ],
   "metadata": {
    "collapsed": false
   },
   "id": "c6ceb1cef2e47952"
  },
  {
   "cell_type": "markdown",
   "source": [
    "This experiment explores the differences between Linear and Circle CBNs, focus on attractor fields differences.\n",
    "For the analysis, we generate a local network template and use it in every local network of the Linear and Circle CBNs.\n"
   ],
   "metadata": {
    "collapsed": false
   },
   "id": "868ba778fdb19a52"
  },
  {
   "cell_type": "markdown",
   "source": [
    "### Experiment parameters\n",
    "N_SAMPLES = 1000\n",
    "N_LOCAL_NETWORKS_MIN = 3\n",
    "N_LOCAL_NETWORKS_MAX = 9\n",
    "N_VAR_NETWORK = 5\n",
    "V_TOPOLOGY = 4,3  # path, cycle graph"
   ],
   "metadata": {
    "collapsed": false
   },
   "id": "4c0f13c5997002f6"
  },
  {
   "cell_type": "code",
   "execution_count": null,
   "id": "initial_id",
   "metadata": {
    "collapsed": true
   },
   "outputs": [],
   "source": [
    "# external imports\n",
    "import pandas as pd\n",
    "import matplotlib.pyplot as plt\n",
    "import numpy as np\n",
    "\n",
    "# Read the database\n",
    "df = pd.read_csv(\"exp5_aleatory_linear_circle.csv\")\n",
    "df = df.rename(columns={'Unnamed: 0': 'id_register'})\n",
    "df['id_register'] = df['id_register'] + 1\n",
    "df.keys()"
   ]
  },
  {
   "cell_type": "code",
   "outputs": [],
   "source": [
    "df.head(10)"
   ],
   "metadata": {
    "collapsed": false
   },
   "id": "a9d064b725772d68",
   "execution_count": null
  },
  {
   "cell_type": "markdown",
   "source": [
    "# Explore the data from Linear(4) and Circular(3) CBN"
   ],
   "metadata": {
    "collapsed": false
   },
   "id": "2dfdbccfd5447fe9"
  },
  {
   "cell_type": "markdown",
   "source": [
    "### Group by Topology and number of local Networks and show the mean of the number of local attractors"
   ],
   "metadata": {
    "collapsed": false
   },
   "id": "9294f0d17a3b729d"
  },
  {
   "cell_type": "code",
   "outputs": [],
   "source": [
    "# group by v_topology 'v_topology' and put the mean of the 'n_pair_attractors'\n",
    "grouped_df = df.groupby(['v_topology','n_local_networks'])\n",
    "\n",
    "# Crear el gráfico de barras\n",
    "grouped_df['n_local_attractors'].mean().plot(kind='bar')\n",
    "\n",
    "# Mostrar el gráfico\n",
    "plt.show()"
   ],
   "metadata": {
    "collapsed": false
   },
   "id": "31e5af5dd1397bf8",
   "execution_count": null
  },
  {
   "cell_type": "markdown",
   "source": [
    "### Group by Topology and number of local Networks and show the mean of the number of attractor pairs"
   ],
   "metadata": {
    "collapsed": false
   },
   "id": "5ae54715b9cb1cdd"
  },
  {
   "cell_type": "code",
   "outputs": [],
   "source": [
    "# group by v_topology 'v_topology' and put the mean of the 'n_pair_attractors'\n",
    "grouped_df = df.groupby(['v_topology','n_local_networks'])\n",
    "\n",
    "# Crear el gráfico de barras\n",
    "grouped_df['n_pair_attractors'].mean().plot(kind='bar')\n",
    "\n",
    "# Mostrar el gráfico\n",
    "plt.show()"
   ],
   "metadata": {
    "collapsed": false
   },
   "id": "7732c3035b80d18f",
   "execution_count": null
  },
  {
   "cell_type": "markdown",
   "source": [
    "### Group by Topology and number of local Networks and show the mean of the number of attractor fields"
   ],
   "metadata": {
    "collapsed": false
   },
   "id": "bb3d813d7e252b37"
  },
  {
   "cell_type": "code",
   "outputs": [],
   "source": [
    "# group by v_topology 'v_topology' and put the mean of the 'n_pair_attractors'\n",
    "grouped_df = df.groupby(['v_topology','n_local_networks'])\n",
    "\n",
    "# Crear el gráfico de barras\n",
    "grouped_df['n_attractor_fields'].mean().plot(kind='bar')\n",
    "\n",
    "# Mostrar el gráfico\n",
    "plt.show()"
   ],
   "metadata": {
    "collapsed": false
   },
   "id": "6a8df35322d6a119",
   "execution_count": null
  },
  {
   "cell_type": "code",
   "execution_count": null,
   "outputs": [],
   "source": [
    "# # describe the fields independent\n",
    "# grouped_df = df.groupby(['v_topology','n_local_networks'])\n",
    "# grouped_df['n_local_attractors'].describe()\n",
    "# grouped_df['n_pair_attractors'].describe()\n",
    "# grouped_df['n_attractor_fields'].describe()"
   ],
   "metadata": {
    "collapsed": false
   },
   "id": "8bd8710cc36581"
  },
  {
   "cell_type": "markdown",
   "source": [
    "# Explore the data by topology"
   ],
   "metadata": {
    "collapsed": false
   },
   "id": "c17244c7ff8b1c75"
  },
  {
   "cell_type": "markdown",
   "source": [
    "### Violin Graphs"
   ],
   "metadata": {
    "collapsed": false
   },
   "id": "b947b4c86b550162"
  },
  {
   "cell_type": "code",
   "execution_count": null,
   "outputs": [],
   "source": [
    "# Filter the DataFrame for v_topology = 4\n",
    "df_topology_4 = df[df['v_topology'] == 4]\n",
    "n_local_net = df_topology_4['n_local_networks'].unique()\n",
    "labels = {key:label for key, label in zip(df_topology_4.keys()[-6:-3], [\n",
    "          \"Number of attractors\",\n",
    "          \"Number of pairs attractors\",\n",
    "          \"Number of attractor fields\"])}\n",
    "log_scale = {key:label for key, label in zip(df_topology_4.keys()[-6:-3], [\n",
    "          False,\n",
    "          False,\n",
    "          True])}\n",
    "grouped = df_topology_4.groupby(\"n_local_networks\")\n",
    "\n",
    "for key in df_topology_4.keys()[-6:-3]:\n",
    "    fig, axs = plt.subplots(1, n_local_net.size, figsize=(n_local_net.size * 3, 7), sharey=True)\n",
    "    for ax, i_local_net in zip(axs, n_local_net):\n",
    "        group = grouped.get_group(i_local_net)\n",
    "        data = group[key]\n",
    "        mean = ax.axhline(y=data.mean(), xmin=0.0, xmax=1.0, color='g',ls='--',label=fr'$\\bar{{x}}={data.mean():.4g}$')\n",
    "        std_max = ax.axhline(y=data.mean()+data.std(), xmin=0.0, xmax=1.0, color='r',ls='--',label=fr'$\\sigma={data.std():.4g}$')\n",
    "        ax.legend()\n",
    "        if log_scale[key]:\n",
    "            ax.set_yscale('symlog')\n",
    "        ax.boxplot(data)\n",
    "        ax.violinplot(data)\n",
    "        ax.set_xlabel(f'N° of Local Networks: {i_local_net}')\n",
    "        ax.set_xticks([])\n",
    "        ax.set_xlim((0.5,1.5))\n",
    "    fig.suptitle(labels[key])\n",
    "    fig.tight_layout(w_pad=0)"
   ],
   "metadata": {
    "collapsed": false
   },
   "id": "c26c9ff34327f7b0"
  },
  {
   "cell_type": "code",
   "outputs": [],
   "source": [
    "# Filter the DataFrame for v_topology = 3\n",
    "df_topology_3 = df[df['v_topology'] == 3]\n",
    "n_local_net = df_topology_3['n_local_networks'].unique()\n",
    "labels = {key: label for key, label in zip(df_topology_3.keys()[-6:-3], [\n",
    "    \"Number of attractors\",\n",
    "    \"Number of pairs attractors\",\n",
    "    \"Number of attractor fields\"])}\n",
    "log_scale = {key: label for key, label in zip(df_topology_3.keys()[-6:-3], [\n",
    "    False,\n",
    "    False,\n",
    "    True])}\n",
    "grouped = df_topology_3.groupby(\"n_local_networks\")\n",
    "\n",
    "for key in df_topology_3.keys()[-6:-3]:\n",
    "    fig, axs = plt.subplots(1, n_local_net.size, figsize=(n_local_net.size * 3, 7), sharey=True)\n",
    "    for ax, i_local_net in zip(axs, n_local_net):\n",
    "        group = grouped.get_group(i_local_net)\n",
    "        data = group[key]\n",
    "        mean = ax.axhline(y=data.mean(), xmin=0.0, xmax=1.0, color='g', ls='--',\n",
    "                          label=fr'$\\bar{{x}}={data.mean():.4g}$')\n",
    "        std_max = ax.axhline(y=data.mean() + data.std(), xmin=0.0, xmax=1.0, color='r', ls='--',\n",
    "                             label=fr'$\\sigma={data.std():.4g}$')\n",
    "        ax.legend()\n",
    "        if log_scale[key]:\n",
    "            ax.set_yscale('symlog')\n",
    "        ax.boxplot(data)\n",
    "        ax.violinplot(data)\n",
    "        ax.set_xlabel(f'N° of Local Networks: {i_local_net}')\n",
    "        ax.set_xticks([])\n",
    "        ax.set_xlim((0.5, 1.5))\n",
    "    fig.suptitle(labels[key])\n",
    "    fig.tight_layout(w_pad=0)"
   ],
   "metadata": {
    "collapsed": false
   },
   "id": "190cde50a03063e2",
   "execution_count": null
  },
  {
   "cell_type": "code",
   "outputs": [],
   "source": [
    "# Filtrar el DataFrame para v_topology=3 y v_topology=4\n",
    "df_topology_4 = df[df['v_topology'] == 4].set_index(['n_local_networks','i_sample'])\n",
    "df_topology_3 = df[df['v_topology'] == 3].set_index(['n_local_networks','i_sample'])\n",
    "\n",
    "# Realizar la resta y crear una nueva columna\n",
    "df_resume = pd.DataFrame({\n",
    "    'i_index': df_topology_3.index,\n",
    "    'dif_local_attractors': df_topology_3['n_local_attractors'] - df_topology_4['n_local_attractors'],\n",
    "    'dif_attractor_pairs': df_topology_3['n_pair_attractors'] / df_topology_4['n_pair_attractors'],\n",
    "    'dif_attractor_fields': df_topology_3['n_attractor_fields'] / df_topology_4['n_attractor_fields'],\n",
    "    'percent_local_attractors': (df_topology_3['n_local_attractors'] / df_topology_4['n_local_attractors'] - 1) * 100,\n",
    "    'percent_attractor_pairs':(df_topology_3['n_pair_attractors'] / df_topology_4['n_pair_attractors'] - 1) * 100,\n",
    "    'percent_attractor_fields':(df_topology_3['n_attractor_fields'] / df_topology_4['n_attractor_fields'] - 1) * 100\n",
    "})\n",
    "# Mostrar el DataFrame resultante\n",
    "df_resume"
   ],
   "metadata": {
    "collapsed": false
   },
   "id": "52030c2236c6c665",
   "execution_count": null
  },
  {
   "cell_type": "code",
   "outputs": [],
   "source": [
    "# compute the difference\n",
    "df_resume[['dif_local_attractors','dif_attractor_pairs','dif_attractor_fields']].mean()"
   ],
   "metadata": {
    "collapsed": false
   },
   "id": "8c5d7fb8e5682d59",
   "execution_count": null
  },
  {
   "cell_type": "code",
   "outputs": [],
   "source": [
    "# compute the percent\n",
    "df_resume[['percent_local_attractors','percent_attractor_pairs','percent_attractor_fields']].mean()"
   ],
   "metadata": {
    "collapsed": false
   },
   "id": "325b78f8b289ae9f",
   "execution_count": null
  },
  {
   "cell_type": "code",
   "outputs": [],
   "source": [
    "df_resume.plot('n_local_networks','dif_local_attractors')"
   ],
   "metadata": {
    "collapsed": false
   },
   "id": "36c09514c5748771",
   "execution_count": null
  }
 ],
 "metadata": {
  "kernelspec": {
   "display_name": "Python 3",
   "language": "python",
   "name": "python3"
  },
  "language_info": {
   "codemirror_mode": {
    "name": "ipython",
    "version": 2
   },
   "file_extension": ".py",
   "mimetype": "text/x-python",
   "name": "python",
   "nbconvert_exporter": "python",
   "pygments_lexer": "ipython2",
   "version": "2.7.6"
  }
 },
 "nbformat": 4,
 "nbformat_minor": 5
}
