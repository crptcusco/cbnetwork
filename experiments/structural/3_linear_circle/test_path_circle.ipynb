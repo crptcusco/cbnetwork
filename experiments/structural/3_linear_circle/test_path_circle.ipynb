{
 "cells": [
  {
   "cell_type": "code",
   "execution_count": 6,
   "id": "initial_id",
   "metadata": {
    "collapsed": true,
    "ExecuteTime": {
     "end_time": "2024-03-14T01:53:25.308064Z",
     "start_time": "2024-03-14T01:53:25.305177Z"
    }
   },
   "outputs": [],
   "source": [
    "from PathCircleTemplate import PathCircleTemplate"
   ]
  },
  {
   "cell_type": "code",
   "outputs": [
    {
     "name": "stdout",
     "output_type": "stream",
     "text": [
      "Template for Path and Circle CBNs\n",
      "--------------------------------------------------------------------------------\n",
      "Local dynamic:\n",
      "6 : [[-9, 7, -11]]\n",
      "7 : [[-9, 8, 7]]\n",
      "8 : [[11, 10, -8]]\n",
      "9 : [[-6, -7, -9]]\n",
      "10 : [[7, -9, 10]]\n",
      "Output variables for the coupling signal:\n",
      "[2, 1]\n"
     ]
    }
   ],
   "source": [
    "# Constants for the test\n",
    "N_VAR_NETWORK = 5\n",
    "N_LOCAL_NETWORKS = 5\n",
    "\n",
    "# generate the aleatory local network template object\n",
    "o_PathCircleTemplate = PathCircleTemplate.generate_aleatory_template(n_var_network=N_VAR_NETWORK)\n",
    "o_PathCircleTemplate.show()"
   ],
   "metadata": {
    "collapsed": false,
    "ExecuteTime": {
     "end_time": "2024-03-14T01:53:25.314292Z",
     "start_time": "2024-03-14T01:53:25.309945Z"
    }
   },
   "id": "cf42b697a9867f33",
   "execution_count": 7
  },
  {
   "cell_type": "code",
   "outputs": [
    {
     "name": "stdout",
     "output_type": "stream",
     "text": [
      "-------------------------------------------------\n",
      "Local Network: 1\n",
      "-------------------------------------------------\n",
      "Local Variable index: 1\n",
      "Template Variable index: 6\n",
      "CNF Function: [[-9, 7, -11]]\n",
      "1 : [[-4, 2]]\n",
      "-------------------------------------------------\n",
      "Local Variable index: 2\n",
      "Template Variable index: 7\n",
      "CNF Function: [[-9, 8, 7]]\n",
      "2 : [[-4, 3, 2]]\n",
      "-------------------------------------------------\n",
      "Local Variable index: 3\n",
      "Template Variable index: 8\n",
      "CNF Function: [[11, 10, -8]]\n",
      "3 : [[5, -3]]\n",
      "-------------------------------------------------\n",
      "Local Variable index: 4\n",
      "Template Variable index: 9\n",
      "CNF Function: [[-6, -7, -9]]\n",
      "4 : [[-1, -2, -4]]\n",
      "-------------------------------------------------\n",
      "Local Variable index: 5\n",
      "Template Variable index: 10\n",
      "CNF Function: [[7, -9, 10]]\n",
      "5 : [[2, -4, 5]]\n",
      "Local network created : 1\n",
      "-------------------------------------------------\n",
      "-------------------------------------------------\n",
      "Local Network: 2\n",
      "-------------------------------------------------\n",
      "Local Variable index: 6\n",
      "Template Variable index: 6\n",
      "CNF Function: [[-9, 7, -11]]\n",
      "6 : [[-9, 7, -26]]\n",
      "-------------------------------------------------\n",
      "Local Variable index: 7\n",
      "Template Variable index: 7\n",
      "CNF Function: [[-9, 8, 7]]\n",
      "7 : [[-9, 8, 7]]\n",
      "-------------------------------------------------\n",
      "Local Variable index: 8\n",
      "Template Variable index: 8\n",
      "CNF Function: [[11, 10, -8]]\n",
      "8 : [[26, 10, -8]]\n",
      "-------------------------------------------------\n",
      "Local Variable index: 9\n",
      "Template Variable index: 9\n",
      "CNF Function: [[-6, -7, -9]]\n",
      "9 : [[-6, -7, -9]]\n",
      "-------------------------------------------------\n",
      "Local Variable index: 10\n",
      "Template Variable index: 10\n",
      "CNF Function: [[7, -9, 10]]\n",
      "10 : [[7, -9, 10]]\n",
      "Local network created : 2\n",
      "-------------------------------------------------\n",
      "-------------------------------------------------\n",
      "Local Network: 3\n",
      "-------------------------------------------------\n",
      "Local Variable index: 11\n",
      "Template Variable index: 6\n",
      "CNF Function: [[-9, 7, -11]]\n",
      "11 : [[-14, 12, -27]]\n",
      "-------------------------------------------------\n",
      "Local Variable index: 12\n",
      "Template Variable index: 7\n",
      "CNF Function: [[-9, 8, 7]]\n",
      "12 : [[-14, 13, 12]]\n",
      "-------------------------------------------------\n",
      "Local Variable index: 13\n",
      "Template Variable index: 8\n",
      "CNF Function: [[11, 10, -8]]\n",
      "13 : [[27, 15, -13]]\n",
      "-------------------------------------------------\n",
      "Local Variable index: 14\n",
      "Template Variable index: 9\n",
      "CNF Function: [[-6, -7, -9]]\n",
      "14 : [[-11, -12, -14]]\n",
      "-------------------------------------------------\n",
      "Local Variable index: 15\n",
      "Template Variable index: 10\n",
      "CNF Function: [[7, -9, 10]]\n",
      "15 : [[12, -14, 15]]\n",
      "Local network created : 3\n",
      "-------------------------------------------------\n",
      "-------------------------------------------------\n",
      "Local Network: 4\n",
      "-------------------------------------------------\n",
      "Local Variable index: 16\n",
      "Template Variable index: 6\n",
      "CNF Function: [[-9, 7, -11]]\n",
      "16 : [[-19, 17, -28]]\n",
      "-------------------------------------------------\n",
      "Local Variable index: 17\n",
      "Template Variable index: 7\n",
      "CNF Function: [[-9, 8, 7]]\n",
      "17 : [[-19, 18, 17]]\n",
      "-------------------------------------------------\n",
      "Local Variable index: 18\n",
      "Template Variable index: 8\n",
      "CNF Function: [[11, 10, -8]]\n",
      "18 : [[28, 20, -18]]\n",
      "-------------------------------------------------\n",
      "Local Variable index: 19\n",
      "Template Variable index: 9\n",
      "CNF Function: [[-6, -7, -9]]\n",
      "19 : [[-16, -17, -19]]\n",
      "-------------------------------------------------\n",
      "Local Variable index: 20\n",
      "Template Variable index: 10\n",
      "CNF Function: [[7, -9, 10]]\n",
      "20 : [[17, -19, 20]]\n",
      "Local network created : 4\n",
      "-------------------------------------------------\n",
      "-------------------------------------------------\n",
      "Local Network: 5\n",
      "-------------------------------------------------\n",
      "Local Variable index: 21\n",
      "Template Variable index: 6\n",
      "CNF Function: [[-9, 7, -11]]\n",
      "21 : [[-24, 22, -29]]\n",
      "-------------------------------------------------\n",
      "Local Variable index: 22\n",
      "Template Variable index: 7\n",
      "CNF Function: [[-9, 8, 7]]\n",
      "22 : [[-24, 23, 22]]\n",
      "-------------------------------------------------\n",
      "Local Variable index: 23\n",
      "Template Variable index: 8\n",
      "CNF Function: [[11, 10, -8]]\n",
      "23 : [[29, 25, -23]]\n",
      "-------------------------------------------------\n",
      "Local Variable index: 24\n",
      "Template Variable index: 9\n",
      "CNF Function: [[-6, -7, -9]]\n",
      "24 : [[-21, -22, -24]]\n",
      "-------------------------------------------------\n",
      "Local Variable index: 25\n",
      "Template Variable index: 10\n",
      "CNF Function: [[7, -9, 10]]\n",
      "25 : [[22, -24, 25]]\n",
      "Local network created : 5\n",
      "-------------------------------------------------\n",
      "-------------------------------------------------\n",
      "Local Network: 1\n",
      "-------------------------------------------------\n",
      "Local Variable index: 1\n",
      "Template Variable index: 6\n",
      "CNF Function: [[-9, 7, -11]]\n",
      "1 : [[-4, 2, -30]]\n",
      "-------------------------------------------------\n",
      "Local Variable index: 2\n",
      "Template Variable index: 7\n",
      "CNF Function: [[-9, 8, 7]]\n",
      "2 : [[-4, 3, 2]]\n",
      "-------------------------------------------------\n",
      "Local Variable index: 3\n",
      "Template Variable index: 8\n",
      "CNF Function: [[11, 10, -8]]\n",
      "3 : [[30, 5, -3]]\n",
      "-------------------------------------------------\n",
      "Local Variable index: 4\n",
      "Template Variable index: 9\n",
      "CNF Function: [[-6, -7, -9]]\n",
      "4 : [[-1, -2, -4]]\n",
      "-------------------------------------------------\n",
      "Local Variable index: 5\n",
      "Template Variable index: 10\n",
      "CNF Function: [[7, -9, 10]]\n",
      "5 : [[2, -4, 5]]\n",
      "Local network created : 1\n",
      "-------------------------------------------------\n",
      "-------------------------------------------------\n",
      "Local Network: 2\n",
      "-------------------------------------------------\n",
      "Local Variable index: 6\n",
      "Template Variable index: 6\n",
      "CNF Function: [[-9, 7, -11]]\n",
      "6 : [[-9, 7, -26]]\n",
      "-------------------------------------------------\n",
      "Local Variable index: 7\n",
      "Template Variable index: 7\n",
      "CNF Function: [[-9, 8, 7]]\n",
      "7 : [[-9, 8, 7]]\n",
      "-------------------------------------------------\n",
      "Local Variable index: 8\n",
      "Template Variable index: 8\n",
      "CNF Function: [[11, 10, -8]]\n",
      "8 : [[26, 10, -8]]\n",
      "-------------------------------------------------\n",
      "Local Variable index: 9\n",
      "Template Variable index: 9\n",
      "CNF Function: [[-6, -7, -9]]\n",
      "9 : [[-6, -7, -9]]\n",
      "-------------------------------------------------\n",
      "Local Variable index: 10\n",
      "Template Variable index: 10\n",
      "CNF Function: [[7, -9, 10]]\n",
      "10 : [[7, -9, 10]]\n",
      "Local network created : 2\n",
      "-------------------------------------------------\n",
      "-------------------------------------------------\n",
      "Local Network: 3\n",
      "-------------------------------------------------\n",
      "Local Variable index: 11\n",
      "Template Variable index: 6\n",
      "CNF Function: [[-9, 7, -11]]\n",
      "11 : [[-14, 12, -27]]\n",
      "-------------------------------------------------\n",
      "Local Variable index: 12\n",
      "Template Variable index: 7\n",
      "CNF Function: [[-9, 8, 7]]\n",
      "12 : [[-14, 13, 12]]\n",
      "-------------------------------------------------\n",
      "Local Variable index: 13\n",
      "Template Variable index: 8\n",
      "CNF Function: [[11, 10, -8]]\n",
      "13 : [[27, 15, -13]]\n",
      "-------------------------------------------------\n",
      "Local Variable index: 14\n",
      "Template Variable index: 9\n",
      "CNF Function: [[-6, -7, -9]]\n",
      "14 : [[-11, -12, -14]]\n",
      "-------------------------------------------------\n",
      "Local Variable index: 15\n",
      "Template Variable index: 10\n",
      "CNF Function: [[7, -9, 10]]\n",
      "15 : [[12, -14, 15]]\n",
      "Local network created : 3\n",
      "-------------------------------------------------\n",
      "-------------------------------------------------\n",
      "Local Network: 4\n",
      "-------------------------------------------------\n",
      "Local Variable index: 16\n",
      "Template Variable index: 6\n",
      "CNF Function: [[-9, 7, -11]]\n",
      "16 : [[-19, 17, -28]]\n",
      "-------------------------------------------------\n",
      "Local Variable index: 17\n",
      "Template Variable index: 7\n",
      "CNF Function: [[-9, 8, 7]]\n",
      "17 : [[-19, 18, 17]]\n",
      "-------------------------------------------------\n",
      "Local Variable index: 18\n",
      "Template Variable index: 8\n",
      "CNF Function: [[11, 10, -8]]\n",
      "18 : [[28, 20, -18]]\n",
      "-------------------------------------------------\n",
      "Local Variable index: 19\n",
      "Template Variable index: 9\n",
      "CNF Function: [[-6, -7, -9]]\n",
      "19 : [[-16, -17, -19]]\n",
      "-------------------------------------------------\n",
      "Local Variable index: 20\n",
      "Template Variable index: 10\n",
      "CNF Function: [[7, -9, 10]]\n",
      "20 : [[17, -19, 20]]\n",
      "Local network created : 4\n",
      "-------------------------------------------------\n",
      "-------------------------------------------------\n",
      "Local Network: 5\n",
      "-------------------------------------------------\n",
      "Local Variable index: 21\n",
      "Template Variable index: 6\n",
      "CNF Function: [[-9, 7, -11]]\n",
      "21 : [[-24, 22, -29]]\n",
      "-------------------------------------------------\n",
      "Local Variable index: 22\n",
      "Template Variable index: 7\n",
      "CNF Function: [[-9, 8, 7]]\n",
      "22 : [[-24, 23, 22]]\n",
      "-------------------------------------------------\n",
      "Local Variable index: 23\n",
      "Template Variable index: 8\n",
      "CNF Function: [[11, 10, -8]]\n",
      "23 : [[29, 25, -23]]\n",
      "-------------------------------------------------\n",
      "Local Variable index: 24\n",
      "Template Variable index: 9\n",
      "CNF Function: [[-6, -7, -9]]\n",
      "24 : [[-21, -22, -24]]\n",
      "-------------------------------------------------\n",
      "Local Variable index: 25\n",
      "Template Variable index: 10\n",
      "CNF Function: [[7, -9, 10]]\n",
      "25 : [[22, -24, 25]]\n",
      "Local network created : 5\n",
      "-------------------------------------------------\n"
     ]
    }
   ],
   "source": [
    "# generate a linear CBN from the template\n",
    "o_linear_cbn = o_PathCircleTemplate.generate_cbn_from_template(v_topology=4,n_local_networks=N_LOCAL_NETWORKS)\n",
    "# generate a ring CBN from the sama template\n",
    "o_ring_cbn = o_PathCircleTemplate.generate_cbn_from_template(v_topology=3,n_local_networks=N_LOCAL_NETWORKS)"
   ],
   "metadata": {
    "collapsed": false,
    "ExecuteTime": {
     "end_time": "2024-03-14T01:53:25.326038Z",
     "start_time": "2024-03-14T01:53:25.315875Z"
    }
   },
   "id": "3eb9d2d00ec87d6",
   "execution_count": 8
  },
  {
   "cell_type": "code",
   "outputs": [
    {
     "data": {
      "text/plain": "<Figure size 640x480 with 1 Axes>",
      "image/png": "[encoded data removed]"
     },
     "metadata": {},
     "output_type": "display_data"
    }
   ],
   "source": [
    "o_linear_cbn.generate_global_graph()"
   ],
   "metadata": {
    "collapsed": false,
    "ExecuteTime": {
     "end_time": "2024-03-14T01:53:25.442534Z",
     "start_time": "2024-03-14T01:53:25.327375Z"
    }
   },
   "id": "4c4dbba39d02d720",
   "execution_count": 9
  },
  {
   "cell_type": "code",
   "outputs": [
    {
     "data": {
      "text/plain": "<Figure size 640x480 with 1 Axes>",
      "image/png": "[encoded data removed]"
     },
     "metadata": {},
     "output_type": "display_data"
    }
   ],
   "source": [
    "o_ring_cbn.generate_global_graph()"
   ],
   "metadata": {
    "collapsed": false,
    "ExecuteTime": {
     "end_time": "2024-03-14T01:53:25.568602Z",
     "start_time": "2024-03-14T01:53:25.444552Z"
    }
   },
   "id": "df80a526b3a10d09",
   "execution_count": 10
  },
  {
   "cell_type": "code",
   "outputs": [
    {
     "name": "stdout",
     "output_type": "stream",
     "text": [
      "--------------------------------------------\n",
      "Local Network: 1\n",
      "Internal Variables:  [1, 2, 3, 4, 5]\n",
      "External Variables:  [30]\n",
      "Total Variables:  [1, 2, 3, 4, 5, 30]\n",
      "Variable Index: 1 -> CNF :[[-4, 2, -30]]\n",
      "Variable Index: 2 -> CNF :[[-4, 3, 2]]\n",
      "Variable Index: 3 -> CNF :[[30, 5, -3]]\n",
      "Variable Index: 4 -> CNF :[[-1, -2, -4]]\n",
      "Variable Index: 5 -> CNF :[[2, -4, 5]]\n"
     ]
    }
   ],
   "source": [
    "# Show the detailed from the first local network\n",
    "i_local_network = 0\n",
    "o_ring_cbn.l_local_networks[i_local_network].show()"
   ],
   "metadata": {
    "collapsed": false,
    "ExecuteTime": {
     "end_time": "2024-03-14T01:53:25.574396Z",
     "start_time": "2024-03-14T01:53:25.569979Z"
    }
   },
   "id": "80f17a7f0a1d4519",
   "execution_count": 11
  },
  {
   "cell_type": "code",
   "outputs": [
    {
     "name": "stdout",
     "output_type": "stream",
     "text": [
      "--------------------------------------------\n",
      "Local Network: 1\n",
      "Internal Variables:  [1, 2, 3, 4, 5]\n",
      "External Variables:  []\n",
      "Total Variables:  [1, 2, 3, 4, 5]\n",
      "Variable Index: 1 -> CNF :[[-4, 2]]\n",
      "Variable Index: 2 -> CNF :[[-4, 3, 2]]\n",
      "Variable Index: 3 -> CNF :[[5, -3]]\n",
      "Variable Index: 4 -> CNF :[[-1, -2, -4]]\n",
      "Variable Index: 5 -> CNF :[[2, -4, 5]]\n"
     ]
    }
   ],
   "source": [
    "o_linear_cbn.l_local_networks[i_local_network].show()"
   ],
   "metadata": {
    "collapsed": false,
    "ExecuteTime": {
     "end_time": "2024-03-14T01:53:25.579803Z",
     "start_time": "2024-03-14T01:53:25.575794Z"
    }
   },
   "id": "f849b59a9a983356",
   "execution_count": 12
  }
 ],
 "metadata": {
  "kernelspec": {
   "display_name": "Python 3",
   "language": "python",
   "name": "python3"
  },
  "language_info": {
   "codemirror_mode": {
    "name": "ipython",
    "version": 2
   },
   "file_extension": ".py",
   "mimetype": "text/x-python",
   "name": "python",
   "nbconvert_exporter": "python",
   "pygments_lexer": "ipython2",
   "version": "2.7.6"
  }
 },
 "nbformat": 4,
 "nbformat_minor": 5
}
