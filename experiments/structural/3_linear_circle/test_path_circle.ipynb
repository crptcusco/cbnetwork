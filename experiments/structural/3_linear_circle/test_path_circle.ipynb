{
 "cells": [
  {
   "cell_type": "code",
   "execution_count": 100,
   "id": "initial_id",
   "metadata": {
    "collapsed": true,
    "ExecuteTime": {
     "end_time": "2024-02-24T21:39:23.365120312Z",
     "start_time": "2024-02-24T21:39:23.249509655Z"
    }
   },
   "outputs": [],
   "source": [
    "from PathCircleTemplate import PathCircleTemplate"
   ]
  },
  {
   "cell_type": "code",
   "outputs": [
    {
     "data": {
      "text/plain": "{6: [[8, 11, -9]],\n 7: [[11, 9, 8]],\n 8: [[6, 10, 7]],\n 9: [[-6, -8, -7]],\n 10: [[-6, 7, -8]]}"
     },
     "execution_count": 101,
     "metadata": {},
     "output_type": "execute_result"
    }
   ],
   "source": [
    "N_VAR_NETWORK = 5\n",
    "n_local_networks = 5\n",
    "\n",
    "# generate the aleatory local network template\n",
    "d_variable_cnf_function, l_var_exit = PathCircleTemplate.generate_aleatory_template(n_var_network=N_VAR_NETWORK)\n",
    "\n",
    "d_variable_cnf_function"
   ],
   "metadata": {
    "collapsed": false,
    "ExecuteTime": {
     "end_time": "2024-02-24T21:39:23.366485998Z",
     "start_time": "2024-02-24T21:39:23.323499448Z"
    }
   },
   "id": "cf42b697a9867f33",
   "execution_count": 101
  },
  {
   "cell_type": "code",
   "outputs": [
    {
     "data": {
      "text/plain": "[5, 1]"
     },
     "execution_count": 102,
     "metadata": {},
     "output_type": "execute_result"
    }
   ],
   "source": [
    "l_var_exit"
   ],
   "metadata": {
    "collapsed": false,
    "ExecuteTime": {
     "end_time": "2024-02-24T21:39:23.541769097Z",
     "start_time": "2024-02-24T21:39:23.373300946Z"
    }
   },
   "id": "abc17f97a5d7bffb",
   "execution_count": 102
  },
  {
   "cell_type": "code",
   "outputs": [
    {
     "name": "stdout",
     "output_type": "stream",
     "text": [
      "-------------------------------------------------\n",
      "Local Network: 1\n",
      "-------------------------------------------------\n",
      "Local Variable index: 1\n",
      "Template Variable index: 6\n",
      "CNF Function: [[8, 11, -9]]\n",
      "1 : [[3, -4]]\n",
      "-------------------------------------------------\n",
      "Local Variable index: 2\n",
      "Template Variable index: 7\n",
      "CNF Function: [[11, 9, 8]]\n",
      "2 : [[4, 3]]\n",
      "-------------------------------------------------\n",
      "Local Variable index: 3\n",
      "Template Variable index: 8\n",
      "CNF Function: [[6, 10, 7]]\n",
      "3 : [[1, 5, 2]]\n",
      "-------------------------------------------------\n",
      "Local Variable index: 4\n",
      "Template Variable index: 9\n",
      "CNF Function: [[-6, -8, -7]]\n",
      "4 : [[-1, -3, -2]]\n",
      "-------------------------------------------------\n",
      "Local Variable index: 5\n",
      "Template Variable index: 10\n",
      "CNF Function: [[-6, 7, -8]]\n",
      "5 : [[-1, 2, -3]]\n",
      "Local network created : 1\n",
      "-------------------------------------------------\n",
      "-------------------------------------------------\n",
      "Local Network: 2\n",
      "-------------------------------------------------\n",
      "Local Variable index: 6\n",
      "Template Variable index: 6\n",
      "CNF Function: [[8, 11, -9]]\n",
      "6 : [[8, 26, -9]]\n",
      "-------------------------------------------------\n",
      "Local Variable index: 7\n",
      "Template Variable index: 7\n",
      "CNF Function: [[11, 9, 8]]\n",
      "7 : [[26, 9, 8]]\n",
      "-------------------------------------------------\n",
      "Local Variable index: 8\n",
      "Template Variable index: 8\n",
      "CNF Function: [[6, 10, 7]]\n",
      "8 : [[6, 10, 7]]\n",
      "-------------------------------------------------\n",
      "Local Variable index: 9\n",
      "Template Variable index: 9\n",
      "CNF Function: [[-6, -8, -7]]\n",
      "9 : [[-6, -8, -7]]\n",
      "-------------------------------------------------\n",
      "Local Variable index: 10\n",
      "Template Variable index: 10\n",
      "CNF Function: [[-6, 7, -8]]\n",
      "10 : [[-6, 7, -8]]\n",
      "Local network created : 2\n",
      "-------------------------------------------------\n",
      "-------------------------------------------------\n",
      "Local Network: 3\n",
      "-------------------------------------------------\n",
      "Local Variable index: 11\n",
      "Template Variable index: 6\n",
      "CNF Function: [[8, 11, -9]]\n",
      "11 : [[13, 27, -14]]\n",
      "-------------------------------------------------\n",
      "Local Variable index: 12\n",
      "Template Variable index: 7\n",
      "CNF Function: [[11, 9, 8]]\n",
      "12 : [[27, 14, 13]]\n",
      "-------------------------------------------------\n",
      "Local Variable index: 13\n",
      "Template Variable index: 8\n",
      "CNF Function: [[6, 10, 7]]\n",
      "13 : [[11, 15, 12]]\n",
      "-------------------------------------------------\n",
      "Local Variable index: 14\n",
      "Template Variable index: 9\n",
      "CNF Function: [[-6, -8, -7]]\n",
      "14 : [[-11, -13, -12]]\n",
      "-------------------------------------------------\n",
      "Local Variable index: 15\n",
      "Template Variable index: 10\n",
      "CNF Function: [[-6, 7, -8]]\n",
      "15 : [[-11, 12, -13]]\n",
      "Local network created : 3\n",
      "-------------------------------------------------\n",
      "-------------------------------------------------\n",
      "Local Network: 4\n",
      "-------------------------------------------------\n",
      "Local Variable index: 16\n",
      "Template Variable index: 6\n",
      "CNF Function: [[8, 11, -9]]\n",
      "16 : [[18, 28, -19]]\n",
      "-------------------------------------------------\n",
      "Local Variable index: 17\n",
      "Template Variable index: 7\n",
      "CNF Function: [[11, 9, 8]]\n",
      "17 : [[28, 19, 18]]\n",
      "-------------------------------------------------\n",
      "Local Variable index: 18\n",
      "Template Variable index: 8\n",
      "CNF Function: [[6, 10, 7]]\n",
      "18 : [[16, 20, 17]]\n",
      "-------------------------------------------------\n",
      "Local Variable index: 19\n",
      "Template Variable index: 9\n",
      "CNF Function: [[-6, -8, -7]]\n",
      "19 : [[-16, -18, -17]]\n",
      "-------------------------------------------------\n",
      "Local Variable index: 20\n",
      "Template Variable index: 10\n",
      "CNF Function: [[-6, 7, -8]]\n",
      "20 : [[-16, 17, -18]]\n",
      "Local network created : 4\n",
      "-------------------------------------------------\n",
      "-------------------------------------------------\n",
      "Local Network: 5\n",
      "-------------------------------------------------\n",
      "Local Variable index: 21\n",
      "Template Variable index: 6\n",
      "CNF Function: [[8, 11, -9]]\n",
      "21 : [[23, 29, -24]]\n",
      "-------------------------------------------------\n",
      "Local Variable index: 22\n",
      "Template Variable index: 7\n",
      "CNF Function: [[11, 9, 8]]\n",
      "22 : [[29, 24, 23]]\n",
      "-------------------------------------------------\n",
      "Local Variable index: 23\n",
      "Template Variable index: 8\n",
      "CNF Function: [[6, 10, 7]]\n",
      "23 : [[21, 25, 22]]\n",
      "-------------------------------------------------\n",
      "Local Variable index: 24\n",
      "Template Variable index: 9\n",
      "CNF Function: [[-6, -8, -7]]\n",
      "24 : [[-21, -23, -22]]\n",
      "-------------------------------------------------\n",
      "Local Variable index: 25\n",
      "Template Variable index: 10\n",
      "CNF Function: [[-6, 7, -8]]\n",
      "25 : [[-21, 22, -23]]\n",
      "Local network created : 5\n",
      "-------------------------------------------------\n",
      "-------------------------------------------------\n",
      "Local Network: 1\n",
      "-------------------------------------------------\n",
      "Local Variable index: 1\n",
      "Template Variable index: 6\n",
      "CNF Function: [[8, 11, -9]]\n",
      "1 : [[3, 30, -4]]\n",
      "-------------------------------------------------\n",
      "Local Variable index: 2\n",
      "Template Variable index: 7\n",
      "CNF Function: [[11, 9, 8]]\n",
      "2 : [[30, 4, 3]]\n",
      "-------------------------------------------------\n",
      "Local Variable index: 3\n",
      "Template Variable index: 8\n",
      "CNF Function: [[6, 10, 7]]\n",
      "3 : [[1, 5, 2]]\n",
      "-------------------------------------------------\n",
      "Local Variable index: 4\n",
      "Template Variable index: 9\n",
      "CNF Function: [[-6, -8, -7]]\n",
      "4 : [[-1, -3, -2]]\n",
      "-------------------------------------------------\n",
      "Local Variable index: 5\n",
      "Template Variable index: 10\n",
      "CNF Function: [[-6, 7, -8]]\n",
      "5 : [[-1, 2, -3]]\n",
      "Local network created : 1\n",
      "-------------------------------------------------\n",
      "-------------------------------------------------\n",
      "Local Network: 2\n",
      "-------------------------------------------------\n",
      "Local Variable index: 6\n",
      "Template Variable index: 6\n",
      "CNF Function: [[8, 11, -9]]\n",
      "6 : [[8, 26, -9]]\n",
      "-------------------------------------------------\n",
      "Local Variable index: 7\n",
      "Template Variable index: 7\n",
      "CNF Function: [[11, 9, 8]]\n",
      "7 : [[26, 9, 8]]\n",
      "-------------------------------------------------\n",
      "Local Variable index: 8\n",
      "Template Variable index: 8\n",
      "CNF Function: [[6, 10, 7]]\n",
      "8 : [[6, 10, 7]]\n",
      "-------------------------------------------------\n",
      "Local Variable index: 9\n",
      "Template Variable index: 9\n",
      "CNF Function: [[-6, -8, -7]]\n",
      "9 : [[-6, -8, -7]]\n",
      "-------------------------------------------------\n",
      "Local Variable index: 10\n",
      "Template Variable index: 10\n",
      "CNF Function: [[-6, 7, -8]]\n",
      "10 : [[-6, 7, -8]]\n",
      "Local network created : 2\n",
      "-------------------------------------------------\n",
      "-------------------------------------------------\n",
      "Local Network: 3\n",
      "-------------------------------------------------\n",
      "Local Variable index: 11\n",
      "Template Variable index: 6\n",
      "CNF Function: [[8, 11, -9]]\n",
      "11 : [[13, 27, -14]]\n",
      "-------------------------------------------------\n",
      "Local Variable index: 12\n",
      "Template Variable index: 7\n",
      "CNF Function: [[11, 9, 8]]\n",
      "12 : [[27, 14, 13]]\n",
      "-------------------------------------------------\n",
      "Local Variable index: 13\n",
      "Template Variable index: 8\n",
      "CNF Function: [[6, 10, 7]]\n",
      "13 : [[11, 15, 12]]\n",
      "-------------------------------------------------\n",
      "Local Variable index: 14\n",
      "Template Variable index: 9\n",
      "CNF Function: [[-6, -8, -7]]\n",
      "14 : [[-11, -13, -12]]\n",
      "-------------------------------------------------\n",
      "Local Variable index: 15\n",
      "Template Variable index: 10\n",
      "CNF Function: [[-6, 7, -8]]\n",
      "15 : [[-11, 12, -13]]\n",
      "Local network created : 3\n",
      "-------------------------------------------------\n",
      "-------------------------------------------------\n",
      "Local Network: 4\n",
      "-------------------------------------------------\n",
      "Local Variable index: 16\n",
      "Template Variable index: 6\n",
      "CNF Function: [[8, 11, -9]]\n",
      "16 : [[18, 28, -19]]\n",
      "-------------------------------------------------\n",
      "Local Variable index: 17\n",
      "Template Variable index: 7\n",
      "CNF Function: [[11, 9, 8]]\n",
      "17 : [[28, 19, 18]]\n",
      "-------------------------------------------------\n",
      "Local Variable index: 18\n",
      "Template Variable index: 8\n",
      "CNF Function: [[6, 10, 7]]\n",
      "18 : [[16, 20, 17]]\n",
      "-------------------------------------------------\n",
      "Local Variable index: 19\n",
      "Template Variable index: 9\n",
      "CNF Function: [[-6, -8, -7]]\n",
      "19 : [[-16, -18, -17]]\n",
      "-------------------------------------------------\n",
      "Local Variable index: 20\n",
      "Template Variable index: 10\n",
      "CNF Function: [[-6, 7, -8]]\n",
      "20 : [[-16, 17, -18]]\n",
      "Local network created : 4\n",
      "-------------------------------------------------\n",
      "-------------------------------------------------\n",
      "Local Network: 5\n",
      "-------------------------------------------------\n",
      "Local Variable index: 21\n",
      "Template Variable index: 6\n",
      "CNF Function: [[8, 11, -9]]\n",
      "21 : [[23, 29, -24]]\n",
      "-------------------------------------------------\n",
      "Local Variable index: 22\n",
      "Template Variable index: 7\n",
      "CNF Function: [[11, 9, 8]]\n",
      "22 : [[29, 24, 23]]\n",
      "-------------------------------------------------\n",
      "Local Variable index: 23\n",
      "Template Variable index: 8\n",
      "CNF Function: [[6, 10, 7]]\n",
      "23 : [[21, 25, 22]]\n",
      "-------------------------------------------------\n",
      "Local Variable index: 24\n",
      "Template Variable index: 9\n",
      "CNF Function: [[-6, -8, -7]]\n",
      "24 : [[-21, -23, -22]]\n",
      "-------------------------------------------------\n",
      "Local Variable index: 25\n",
      "Template Variable index: 10\n",
      "CNF Function: [[-6, 7, -8]]\n",
      "25 : [[-21, 22, -23]]\n",
      "Local network created : 5\n",
      "-------------------------------------------------\n"
     ]
    }
   ],
   "source": [
    "o_linear_cbn = PathCircleTemplate.generate_cbn_from_template(v_topology=4,\n",
    "                                                             d_variable_cnf_function=d_variable_cnf_function,\n",
    "                                                             l_var_exit=l_var_exit,\n",
    "                                                             n_local_networks=n_local_networks,\n",
    "                                                             n_var_network=N_VAR_NETWORK)\n",
    "\n",
    "o_ring_cbn = PathCircleTemplate.generate_cbn_from_template(v_topology=3,\n",
    "                                                           d_variable_cnf_function=d_variable_cnf_function,\n",
    "                                                           l_var_exit=l_var_exit,\n",
    "                                                           n_local_networks=n_local_networks,\n",
    "                                                           n_var_network=N_VAR_NETWORK)"
   ],
   "metadata": {
    "collapsed": false,
    "ExecuteTime": {
     "end_time": "2024-02-24T21:39:23.650386988Z",
     "start_time": "2024-02-24T21:39:23.558860281Z"
    }
   },
   "id": "3eb9d2d00ec87d6",
   "execution_count": 103
  },
  {
   "cell_type": "code",
   "outputs": [
    {
     "data": {
      "text/plain": "<Figure size 640x480 with 1 Axes>",
      "image/png": "[encoded data removed]"
     },
     "metadata": {},
     "output_type": "display_data"
    }
   ],
   "source": [
    "o_linear_cbn.show_cbn_graph()"
   ],
   "metadata": {
    "collapsed": false,
    "ExecuteTime": {
     "end_time": "2024-02-24T21:39:23.852133616Z",
     "start_time": "2024-02-24T21:39:23.603670889Z"
    }
   },
   "id": "4c4dbba39d02d720",
   "execution_count": 104
  },
  {
   "cell_type": "code",
   "outputs": [
    {
     "data": {
      "text/plain": "<Figure size 640x480 with 1 Axes>",
      "image/png": "[encoded data removed]"
     },
     "metadata": {},
     "output_type": "display_data"
    }
   ],
   "source": [
    "o_ring_cbn.show_cbn_graph()"
   ],
   "metadata": {
    "collapsed": false,
    "ExecuteTime": {
     "end_time": "2024-02-24T21:39:23.952459266Z",
     "start_time": "2024-02-24T21:39:23.771534140Z"
    }
   },
   "id": "df80a526b3a10d09",
   "execution_count": 105
  },
  {
   "cell_type": "markdown",
   "source": [
    "### Show the detailed from one local network"
   ],
   "metadata": {
    "collapsed": false
   },
   "id": "7055d6b1187f8bda"
  },
  {
   "cell_type": "code",
   "outputs": [],
   "source": [
    "i_local_network = 0"
   ],
   "metadata": {
    "collapsed": false,
    "ExecuteTime": {
     "end_time": "2024-02-24T21:39:23.953085048Z",
     "start_time": "2024-02-24T21:39:23.942845479Z"
    }
   },
   "id": "4db3651de25d3d94",
   "execution_count": 106
  },
  {
   "cell_type": "code",
   "outputs": [
    {
     "name": "stdout",
     "output_type": "stream",
     "text": [
      "--------------------------------------------\n",
      "Local Network: 1\n",
      "Internal Variables:  [1, 2, 3, 4, 5]\n",
      "External Variables:  [30]\n",
      "Total Variables:  [1, 2, 3, 4, 5, 30]\n",
      "Variable Index: 1 -> CNF :[[3, 30, -4]]\n",
      "Variable Index: 2 -> CNF :[[30, 4, 3]]\n",
      "Variable Index: 3 -> CNF :[[1, 5, 2]]\n",
      "Variable Index: 4 -> CNF :[[-1, -3, -2]]\n",
      "Variable Index: 5 -> CNF :[[-1, 2, -3]]\n"
     ]
    }
   ],
   "source": [
    "o_ring_cbn.l_local_networks[i_local_network].show()"
   ],
   "metadata": {
    "collapsed": false,
    "ExecuteTime": {
     "end_time": "2024-02-24T21:39:23.953728220Z",
     "start_time": "2024-02-24T21:39:23.947341821Z"
    }
   },
   "id": "80f17a7f0a1d4519",
   "execution_count": 107
  },
  {
   "cell_type": "code",
   "outputs": [
    {
     "name": "stdout",
     "output_type": "stream",
     "text": [
      "--------------------------------------------\n",
      "Local Network: 1\n",
      "Internal Variables:  [1, 2, 3, 4, 5]\n",
      "External Variables:  []\n",
      "Total Variables:  [1, 2, 3, 4, 5]\n",
      "Variable Index: 1 -> CNF :[[3, -4]]\n",
      "Variable Index: 2 -> CNF :[[4, 3]]\n",
      "Variable Index: 3 -> CNF :[[1, 5, 2]]\n",
      "Variable Index: 4 -> CNF :[[-1, -3, -2]]\n",
      "Variable Index: 5 -> CNF :[[-1, 2, -3]]\n"
     ]
    }
   ],
   "source": [
    "o_linear_cbn.l_local_networks[i_local_network].show()"
   ],
   "metadata": {
    "collapsed": false,
    "ExecuteTime": {
     "end_time": "2024-02-24T21:39:23.955729745Z",
     "start_time": "2024-02-24T21:39:23.952159016Z"
    }
   },
   "id": "f849b59a9a983356",
   "execution_count": 108
  }
 ],
 "metadata": {
  "kernelspec": {
   "display_name": "Python 3",
   "language": "python",
   "name": "python3"
  },
  "language_info": {
   "codemirror_mode": {
    "name": "ipython",
    "version": 2
   },
   "file_extension": ".py",
   "mimetype": "text/x-python",
   "name": "python",
   "nbconvert_exporter": "python",
   "pygments_lexer": "ipython2",
   "version": "2.7.6"
  }
 },
 "nbformat": 4,
 "nbformat_minor": 5
}
