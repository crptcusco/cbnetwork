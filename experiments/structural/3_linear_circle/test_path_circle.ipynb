{
 "cells": [
  {
   "cell_type": "code",
   "execution_count": null,
   "id": "initial_id",
   "metadata": {
    "collapsed": true
   },
   "outputs": [],
   "source": [
    "from PathCircleTemplate import PathCircleTemplate"
   ]
  },
  {
   "cell_type": "code",
   "outputs": [],
   "source": [
    "N_VAR_NETWORK = 5\n",
    "n_local_networks = 5\n",
    "\n",
    "# generate the aleatory local network template\n",
    "d_variable_cnf_function, l_var_exit = PathCircleTemplate.generate_aleatory_template(n_var_network=N_VAR_NETWORK)\n",
    "\n",
    "o_linear_cbn = PathCircleTemplate.generate_cbn_from_template(v_topology=4,\n",
    "                                                             d_variable_cnf_function=d_variable_cnf_function,\n",
    "                                                             l_var_exit=l_var_exit,\n",
    "                                                             n_local_networks=n_local_networks,\n",
    "                                                             n_var_network=N_VAR_NETWORK)\n",
    "\n",
    "o_ring_cbn = PathCircleTemplate.generate_cbn_from_template(v_topology=3,\n",
    "                                                           d_variable_cnf_function=d_variable_cnf_function,\n",
    "                                                           l_var_exit=l_var_exit,\n",
    "                                                           n_local_networks=n_local_networks,\n",
    "                                                           n_var_network=N_VAR_NETWORK)"
   ],
   "metadata": {
    "collapsed": false
   },
   "id": "cf42b697a9867f33",
   "execution_count": null
  },
  {
   "cell_type": "code",
   "outputs": [],
   "source": [
    "o_linear_cbn.show_cbn_graph()"
   ],
   "metadata": {
    "collapsed": false
   },
   "id": "4c4dbba39d02d720",
   "execution_count": null
  },
  {
   "cell_type": "code",
   "outputs": [],
   "source": [
    "o_ring_cbn.show_cbn_graph()"
   ],
   "metadata": {
    "collapsed": false
   },
   "id": "df80a526b3a10d09",
   "execution_count": null
  },
  {
   "cell_type": "markdown",
   "source": [
    "### Show the detailed from one local network"
   ],
   "metadata": {
    "collapsed": false
   },
   "id": "7055d6b1187f8bda"
  },
  {
   "cell_type": "code",
   "outputs": [],
   "source": [
    "i_local_network = 0"
   ],
   "metadata": {
    "collapsed": false
   },
   "id": "4db3651de25d3d94",
   "execution_count": null
  },
  {
   "cell_type": "code",
   "outputs": [],
   "source": [
    "o_ring_cbn.l_local_networks[i_local_network].show()"
   ],
   "metadata": {
    "collapsed": false
   },
   "id": "80f17a7f0a1d4519",
   "execution_count": null
  },
  {
   "cell_type": "code",
   "outputs": [],
   "source": [
    "o_linear_cbn.l_local_networks[i_local_network].show()"
   ],
   "metadata": {
    "collapsed": false
   },
   "id": "f849b59a9a983356",
   "execution_count": null
  }
 ],
 "metadata": {
  "kernelspec": {
   "display_name": "Python 3",
   "language": "python",
   "name": "python3"
  },
  "language_info": {
   "codemirror_mode": {
    "name": "ipython",
    "version": 2
   },
   "file_extension": ".py",
   "mimetype": "text/x-python",
   "name": "python",
   "nbconvert_exporter": "python",
   "pygments_lexer": "ipython2",
   "version": "2.7.6"
  }
 },
 "nbformat": 4,
 "nbformat_minor": 5
}
