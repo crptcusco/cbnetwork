{
 "cells": [
  {
   "cell_type": "markdown",
   "id": "c6ceb1cef2e47952",
   "metadata": {
    "collapsed": false
   },
   "source": "# Experiment 5: Test Linear and Circle Topologies generated"
  },
  {
   "cell_type": "markdown",
   "id": "868ba778fdb19a52",
   "metadata": {
    "collapsed": false
   },
   "source": [
    "This experiment explores the differences between Linear and Circle CBNs, focus on attractor fields differences.\n",
    "For the analysis, we generate a local network template and use it in every local network of the Linear and Circle CBNs.\n"
   ]
  },
  {
   "cell_type": "code",
   "id": "initial_id",
   "metadata": {
    "jupyter": {
     "source_hidden": true
    }
   },
   "source": [
    "import pandas as pd\n",
    "import matplotlib.pyplot as plt\n",
    "\n",
    "# Read the database\n",
    "# df = pd.read_csv(\"outputs/exp5_aleatory_linear_circle_8_8_10000/data.csv\")\n",
    "# df = pd.read_csv(\"outputs/exp5_aleatory_linear_circle_9_9_10000/data.csv\")\n",
    "df = pd.read_csv(\"outputs/exp5_aleatory_linear_circle_10_10_10000/data_merged.csv\")\n",
    "\n",
    "# show the column names\n",
    "df.keys()"
   ],
   "outputs": [],
   "execution_count": null
  },
  {
   "cell_type": "code",
   "source": [
    "# Fixed the Unnamed colum\n",
    "# df = df.rename(columns={'Unnamed: 0': 'id_register'})\n",
    "# df['id_register'] = df['id_register'] + 1\n",
    "\n",
    "# Remove the last register without the two registers\n",
    "# df = df.iloc[:-1]"
   ],
   "metadata": {
    "collapsed": false
   },
   "id": "2346e8f541417587",
   "outputs": [],
   "execution_count": null
  },
  {
   "cell_type": "code",
   "id": "a9d064b725772d68",
   "metadata": {
    "jupyter": {
     "source_hidden": true
    }
   },
   "source": "df.head(10)",
   "outputs": [],
   "execution_count": null
  },
  {
   "cell_type": "markdown",
   "id": "2dfdbccfd5447fe9",
   "metadata": {
    "collapsed": false
   },
   "source": [
    "## Explore the data from by CBN topology: Linear(4) and Circular(3)"
   ]
  },
  {
   "cell_type": "markdown",
   "id": "9294f0d17a3b729d",
   "metadata": {
    "collapsed": false
   },
   "source": [
    "### The mean of the number of local attractors"
   ]
  },
  {
   "cell_type": "code",
   "id": "4b4021a62b857ccd",
   "metadata": {
    "jupyter": {
     "source_hidden": true
    }
   },
   "source": [
    "# Group by 'v_topology' and put the mean of 'n_local_attractors'\n",
    "grouped_df = df.groupby(['n_local_networks', 'v_topology'])\n",
    "\n",
    "# Get the order of the columns to display in the plot (sorted by v_topology in descending order)\n",
    "column_order = sorted(df['v_topology'].unique(), reverse=True)\n",
    "\n",
    "# Create the bar plot with different colors for each group and in the specified column order\n",
    "ax = grouped_df['n_local_attractors'].mean().unstack().loc[:, column_order].plot(kind='bar')\n",
    "\n",
    "# Assign labels and title\n",
    "ax.set_xlabel('Number of Local Networks')\n",
    "ax.set_ylabel('Mean Number of Local Attractors')\n",
    "# Rotate x-axis labels\n",
    "ax.set_xticklabels(ax.get_xticklabels(), rotation=0)\n",
    "plt.title(\"Mean of Number of Local Attractors in Linear and Circular Topology\")\n",
    "\n",
    "# Add labels with exact values inside each bar\n",
    "for p in ax.patches:\n",
    "    ax.annotate(f'{p.get_height():.2f}', (p.get_x() + p.get_width() / 2., p.get_height() - 1.15),\n",
    "                ha='center', va='center', xytext=(0, 0), textcoords='offset points')\n",
    "\n",
    "# Create a custom legend\n",
    "legend_labels = {3: 'Circular', 4: 'Linear'}\n",
    "handles, labels = ax.get_legend_handles_labels()\n",
    "ax.legend(handles, [f'{legend_labels[int(label)]:s} ({label:s})' for label in labels],\n",
    "          loc='lower right', bbox_to_anchor=(1, 0), fancybox=True, shadow=True)\n",
    "\n",
    "# Show the plot\n",
    "plt.tight_layout()\n",
    "plt.show()\n"
   ],
   "outputs": [],
   "execution_count": null
  },
  {
   "cell_type": "markdown",
   "id": "5ae54715b9cb1cdd",
   "metadata": {
    "collapsed": false
   },
   "source": [
    "### The mean of the number of attractor pairs"
   ]
  },
  {
   "cell_type": "code",
   "id": "7732c3035b80d18f",
   "metadata": {
    "jupyter": {
     "source_hidden": true
    }
   },
   "source": [
    "# Group by 'v_topology' and put the mean of 'n_local_attractors'\n",
    "grouped_df = df.groupby(['n_local_networks', 'v_topology'])\n",
    "\n",
    "# Get the order of the columns to display in the plot (sorted by v_topology in descending order)\n",
    "column_order = sorted(df['v_topology'].unique(), reverse=True)\n",
    "\n",
    "# Create the bar plot with different colors for each group and in the specified column order\n",
    "ax = grouped_df['n_pair_attractors'].mean().unstack().loc[:, column_order].plot(kind='bar')\n",
    "\n",
    "# Assign labels and title\n",
    "ax.set_xlabel('Number of Local Networks')\n",
    "ax.set_ylabel('Mean Number of Pair Attractors')\n",
    "# Rotate x-axis labels\n",
    "ax.set_xticklabels(ax.get_xticklabels(), rotation=0)\n",
    "plt.title(\"Mean of Number of Pair Attractors in Linear and Circular Topology\")\n",
    "\n",
    "# Add labels with exact values inside each bar\n",
    "for p in ax.patches:\n",
    "    ax.annotate(f'{p.get_height():.2f}', (p.get_x() + p.get_width() / 2., p.get_height() - 1.15),\n",
    "                ha='center', va='center', xytext=(0, 0), textcoords='offset points')\n",
    "\n",
    "# Create a custom legend\n",
    "legend_labels = {3: 'Circular', 4: 'Linear'}\n",
    "handles, labels = ax.get_legend_handles_labels()\n",
    "ax.legend(handles, [f'{legend_labels[int(label)]:s} ({label:s})' for label in labels],\n",
    "          loc='lower right', bbox_to_anchor=(1, 0), fancybox=True, shadow=True)\n",
    "\n",
    "# Show the plot\n",
    "plt.tight_layout()\n",
    "plt.show()"
   ],
   "outputs": [],
   "execution_count": null
  },
  {
   "cell_type": "markdown",
   "id": "bb3d813d7e252b37",
   "metadata": {
    "collapsed": false
   },
   "source": [
    "### The mean of the number of attractor fields"
   ]
  },
  {
   "cell_type": "code",
   "id": "6a8df35322d6a119",
   "metadata": {
    "jupyter": {
     "source_hidden": true
    }
   },
   "source": [
    "# Group by 'v_topology' and put the mean of 'n_local_attractors'\n",
    "grouped_df = df.groupby(['n_local_networks', 'v_topology'])\n",
    "\n",
    "# Get the order of the columns to display in the plot (sorted by v_topology in descending order)\n",
    "column_order = sorted(df['v_topology'].unique(), reverse=True)\n",
    "\n",
    "# Create the bar plot with different colors for each group and in the specified column order\n",
    "ax = grouped_df['n_attractor_fields'].mean().unstack().loc[:, column_order].plot(kind='bar')\n",
    "\n",
    "# Assign labels and title\n",
    "ax.set_xlabel('Number of Local Networks')\n",
    "ax.set_ylabel('Mean Number of Attractor Fields')\n",
    "# Rotate x-axis labels\n",
    "ax.set_xticklabels(ax.get_xticklabels(), rotation=0)\n",
    "plt.title(\"Mean of Attractor Fields in Linear and Circular Topology\")\n",
    "\n",
    "# Add labels with exact values inside each bar\n",
    "for p in ax.patches:\n",
    "    ax.annotate(f'{p.get_height():.2f}', (p.get_x() + p.get_width() / 2., p.get_height() - 1.15),\n",
    "                ha='center', va='center', xytext=(0, 0), textcoords='offset points')\n",
    "\n",
    "# Create a custom legend\n",
    "legend_labels = {3: 'Circular', 4: 'Linear'}\n",
    "handles, labels = ax.get_legend_handles_labels()\n",
    "ax.legend(handles, [f'{legend_labels[int(label)]:s} ({label:s})' for label in labels],\n",
    "          loc='lower right', bbox_to_anchor=(1, 0), fancybox=True, shadow=True)\n",
    "\n",
    "# Show the plot\n",
    "plt.tight_layout()\n",
    "plt.show()\n"
   ],
   "outputs": [],
   "execution_count": null
  },
  {
   "cell_type": "markdown",
   "id": "c17244c7ff8b1c75",
   "metadata": {
    "collapsed": false
   },
   "source": [
    "## Individual Analysis by number of local networks"
   ]
  },
  {
   "cell_type": "markdown",
   "id": "b6fcc6be99fe1382",
   "metadata": {
    "collapsed": false
   },
   "source": [
    "### Violin Graphs"
   ]
  },
  {
   "cell_type": "code",
   "id": "2d9605fad3d54ad9",
   "metadata": {
    "jupyter": {
     "source_hidden": true
    }
   },
   "source": [
    "# Filter the graphs\n",
    "# df_local_networks_n = df[df['n_local_networks'] == 9]\n",
    "df_local_networks_n = df\n",
    "# df_local_networks_n = df[df['n_local_networks'] == 4]\n",
    "# df_local_networks_n[df_local_networks_n['v_topology'] == 3].describe()\n",
    "# df_local_networks_n[df_local_networks_n['v_topology'] == 3].describe()\n",
    "\n",
    "# Violin graphs\n",
    "l_topologies = df_local_networks_n['v_topology'].unique()\n",
    "labels_topologies = {4: \"Linear\", 3: \"Circle\"}\n",
    "grouped = df_local_networks_n.groupby(\"n_local_networks\")\n",
    "\n",
    "labels = {key: label for key, label in zip(df_local_networks_n.keys()[-6:-3], [\n",
    "    \"Number of attractors\",\n",
    "    \"Number of pairs attractors\",\n",
    "    \"Number of attractor fields\"])}\n",
    "log_scale = {key: label for key, label in zip(df_local_networks_n.keys()[-6:-3], [False, False, True])}\n",
    "grouped = df_local_networks_n.groupby(\"v_topology\")\n",
    "\n",
    "for key in df_local_networks_n.keys()[-6:-3]:\n",
    "    fig, axs = plt.subplots(1, l_topologies.size, sharey=True, figsize=(5, 5))\n",
    "    for ax, i_topology in zip(axs, l_topologies):\n",
    "        group = grouped.get_group(i_topology)\n",
    "        data = group[key]\n",
    "        mean = ax.axhline(y=data.mean(), xmin=0.0, xmax=1.0, color='g', ls='--',\n",
    "                          label=fr'$\\bar{{x}}={data.mean():.4g}$')\n",
    "        std_max = ax.axhline(y=data.mean() + data.std(), xmin=0.0, xmax=1.0, color='r', ls='--',\n",
    "                             label=fr'$\\sigma={data.std():.4g}$')\n",
    "        ax.legend()\n",
    "        if log_scale[key]:\n",
    "            ax.set_yscale('symlog')\n",
    "        ax.boxplot(data)\n",
    "        ax.violinplot(data)\n",
    "        ax.set_xlabel(f'Topology: {labels_topologies[i_topology]}')\n",
    "        ax.set_xticks([])\n",
    "        ax.set_xlim((0.5, 1.5))\n",
    "    fig.suptitle(labels[key])\n",
    "    fig.tight_layout(w_pad=0)\n"
   ],
   "outputs": [],
   "execution_count": null
  },
  {
   "cell_type": "markdown",
   "id": "c6fce62bafb98c9b",
   "metadata": {
    "collapsed": false
   },
   "source": [
    "### Top 20 Analysis"
   ]
  },
  {
   "cell_type": "code",
   "id": "b55082d2687f8e63",
   "metadata": {
    "jupyter": {
     "source_hidden": true
    }
   },
   "source": [
    "# filter by topology\n",
    "df_v4 = df_local_networks_n[df_local_networks_n['v_topology'] == 4]\n",
    "df_v3 = df_local_networks_n[df_local_networks_n['v_topology'] == 3]\n",
    "\n",
    "# Select the 20 best df_v4 and df_v3 values for each metric\n",
    "top_20_v4_attractors = df_v4.nlargest(20, 'n_local_attractors')\n",
    "top_20_v3_attractors = df_v3.nlargest(20, 'n_local_attractors')\n",
    "\n",
    "top_20_v4_pairs = df_v4.nlargest(20, 'n_pair_attractors')\n",
    "top_20_v3_pairs = df_v3.nlargest(20, 'n_pair_attractors')\n",
    "\n",
    "top_20_v4_fields = df_v4.nlargest(20, 'n_attractor_fields')\n",
    "top_20_v3_fields = df_v3.nlargest(20, 'n_attractor_fields')\n"
   ],
   "outputs": [],
   "execution_count": null
  },
  {
   "cell_type": "code",
   "source": [
    "top_20_v4_fields[['i_sample','n_attractor_fields']]"
   ],
   "metadata": {
    "collapsed": false
   },
   "id": "a806c00fe9119f82",
   "outputs": [],
   "execution_count": null
  },
  {
   "cell_type": "code",
   "source": [
    "top_20_v3_fields[['i_sample','n_attractor_fields']]"
   ],
   "metadata": {
    "collapsed": false
   },
   "id": "3657d00f259a9593",
   "outputs": [],
   "execution_count": null
  },
  {
   "cell_type": "code",
   "id": "4e4084a4d4376b9",
   "metadata": {
    "jupyter": {
     "source_hidden": true
    }
   },
   "source": [
    "import matplotlib.pyplot as plt\n",
    "import numpy as np\n",
    "\n",
    "# Function to graph a specific metric\n",
    "def plot_metric(df_linear, df_circle, metric, label_y, title):\n",
    "    # Ordenar los DataFrames por la métrica (de mayor a menor)\n",
    "    df_linear_sorted = df_linear.sort_values(metric, ascending=False)\n",
    "    df_circle_sorted = df_circle.sort_values(metric, ascending=False)\n",
    "\n",
    "    positions = np.arange(1, 21) \n",
    "    width = 0.35\n",
    "\n",
    "    # Create a figure and axes\n",
    "    fig, ax = plt.subplots(figsize=(10, 6))\n",
    "\n",
    "    # Create bars for Linear\n",
    "    ax.bar(positions - width/2, df_linear_sorted[metric], width, label='Linear', color='blue')\n",
    "    # Create bars for Circle\n",
    "    ax.bar(positions + width/2, df_circle_sorted[metric], width, label='Circle', color='red')\n",
    "\n",
    "    ax.set_title(f'Top 20 {title}')\n",
    "    ax.set_ylabel(f'Number of {label_y}')  # Label on y axis\n",
    "    ax.set_xlabel('Top position')  # Label on x axis\n",
    "    ax.set_xticks(positions)\n",
    "    ax.legend(loc='upper right')\n",
    "\n",
    "    plt.tight_layout()\n",
    "    plt.show()\n",
    "\n",
    "# Graph for 'n_local_attractors\n",
    "plot_metric(top_20_v4_attractors, top_20_v3_attractors, 'n_local_attractors', \"Local Attractors\", 'Number of Local Attractors')\n",
    "\n",
    "# Chart for 'n_pair_attractors\n",
    "plot_metric(top_20_v4_pairs, top_20_v3_pairs, 'n_pair_attractors', \"Attractor Pairs\", 'Number of Attractor Pairs')\n",
    "\n",
    "# Graph for 'n_attractor_fields\n",
    "plot_metric(top_20_v4_fields, top_20_v3_fields, 'n_attractor_fields', 'Attractor Fields', 'Number of Attractor Fields')\n"
   ],
   "outputs": [],
   "execution_count": null
  },
  {
   "cell_type": "code",
   "id": "febf9c624c2ad670",
   "metadata": {
    "jupyter": {
     "source_hidden": true
    }
   },
   "source": [
    "# Filtrar el DataFrame para v_topology=3 y v_topology=4\n",
    "df_topology_4 = df_local_networks_n[df_local_networks_n['v_topology'] == 4].set_index(['n_local_networks', 'i_sample'])\n",
    "df_topology_3 = df_local_networks_n[df_local_networks_n['v_topology'] == 3].set_index(['n_local_networks', 'i_sample'])\n",
    "\n",
    "# Realizar la resta y crear una nueva columna\n",
    "df_resume = pd.DataFrame({\n",
    "    'i_index': df_topology_3.index,\n",
    "    'linear_local_attractors' : df_topology_4['n_local_attractors'],\n",
    "    'circle_local_attractors' : df_topology_3['n_local_attractors'],\n",
    "    'linear_attractors_pairs' : df_topology_4['n_pair_attractors'],\n",
    "    'circle_attractors_pairs' : df_topology_3['n_pair_attractors'],\n",
    "    'linear_attractors_fields' : df_topology_4['n_attractor_fields'],\n",
    "    'circle_attractors_fields' : df_topology_3['n_attractor_fields']\n",
    "    })\n",
    "df_resume = df_resume.replace([np.inf, -np.inf], np.nan).dropna()\n",
    "df_resume.describe()"
   ],
   "outputs": [],
   "execution_count": null
  },
  {
   "cell_type": "code",
   "source": [
    "# Calculate the difference between circle_attractors_fields and linear_attractors_fields\n",
    "df_resume['difference'] = df_resume['circle_attractors_fields'] - df_resume['linear_attractors_fields']\n",
    "\n",
    "# Filter cases where circle_attractors_fields is greater than linear_attractors_fields\n",
    "df_superior = df_resume[df_resume['circle_attractors_fields'] > df_resume['linear_attractors_fields']]\n",
    "\n",
    "# Calculate the mean of the difference\n",
    "mean_difference1 = (df_superior['circle_attractors_fields'] - df_superior['linear_attractors_fields']).mean()\n",
    "mean_difference2 = (df_superior['linear_attractors_fields'] - df_superior['circle_attractors_fields']).mean()\n",
    "\n",
    "# Print the result\n",
    "print(f'Mean of the difference where the number of attractor fields Circle is greater than Linear: {mean_difference1}')\n",
    "\n",
    "# Count the number of times circle_attractors_fields is greater, equal, and less than linear_attractors_fields\n",
    "count_greater = (df_resume['circle_attractors_fields'] > df_resume['linear_attractors_fields']).sum()\n",
    "count_equal = (df_resume['circle_attractors_fields'] == df_resume['linear_attractors_fields']).sum()\n",
    "count_less = (df_resume['circle_attractors_fields'] < df_resume['linear_attractors_fields']).sum()\n",
    "\n",
    "# Print the results\n",
    "print(f'Number of times circle_attractors_fields is greater than linear_attractors_fields: {count_greater}')\n",
    "print(f'Number of times circle_attractors_fields is equal to linear_attractors_fields: {count_equal}')\n",
    "print(f'Number of times circle_attractors_fields is less than linear_attractors_fields: {count_less}')\n"
   ],
   "metadata": {
    "collapsed": false
   },
   "id": "38b790a0d70bbdbb",
   "outputs": [],
   "execution_count": null
  },
  {
   "metadata": {},
   "cell_type": "markdown",
   "source": "## IQR (Intervalo entre Quartis)",
   "id": "b767ab51db1d4e39"
  },
  {
   "cell_type": "code",
   "source": [
    "# Intervalos Intercuartiles - QR\n",
    "# https://docs.oracle.com/cloud/help/pt_BR/pbcs_common/PFUSU/insights_metrics_IQR.htm#PFUSU-GUID-CF37CAEA-730B-4346-801E-64612719FF6B"
   ],
   "metadata": {
    "collapsed": false
   },
   "id": "ac87ca4d0fb855fd",
   "outputs": [],
   "execution_count": null
  },
  {
   "metadata": {},
   "cell_type": "code",
   "source": [
    "# Calcular el límite superior del intervalo interquartil para linear_attractors_fields\n",
    "linear_upper_limit = df_resume['linear_attractors_fields'].quantile(0.999)\n",
    "linear_outliers = df_resume[df_resume['linear_attractors_fields'] > linear_upper_limit]['linear_attractors_fields']\n",
    "\n",
    "# Calcular el límite superior del intervalo interquartil para circle_attractors_fields\n",
    "circle_upper_limit = df_resume['circle_attractors_fields'].quantile(0.999)\n",
    "circle_outliers = df_resume[df_resume['circle_attractors_fields'] > circle_upper_limit]['circle_attractors_fields']\n",
    "\n",
    "# Contar la cantidad de valores superiores al límite superior del intervalo interquartil para linear_attractors_fields\n",
    "linear_outliers_count = len(linear_outliers)\n",
    "\n",
    "# Contar la cantidad de valores superiores al límite superior del intervalo interquartil para circle_attractors_fields\n",
    "circle_outliers_count = len(circle_outliers)\n",
    "\n",
    "print(\"Cantidad de valores superiores al límite superior del intervalo interquartil para linear_attractors_fields:\", linear_outliers_count)\n",
    "print(\"Cantidad de valores superiores al límite superior del intervalo interquartil para circle_attractors_fields:\", circle_outliers_count)"
   ],
   "id": "dd06ebb6d1a69ced",
   "outputs": [],
   "execution_count": null
  },
  {
   "metadata": {},
   "cell_type": "code",
   "source": [
    "# Crear un rango de índices para los datos\n",
    "indices = range(len(linear_outliers))\n",
    "\n",
    "# Graficar valores superiores al límite superior del intervalo interquartil para linear_attractors_fields\n",
    "plt.figure(figsize=(8, 6))\n",
    "plt.scatter(indices, linear_outliers, color='blue', alpha=0.7)\n",
    "plt.title('Valores superiores al límite superior del intervalo interquartil para linear_attractors_fields')\n",
    "plt.xlabel('Índice')\n",
    "plt.ylabel('Valores')\n",
    "plt.grid(True)\n",
    "plt.show()\n",
    "\n",
    "# Crear un rango de índices para los datos\n",
    "indices = range(len(circle_outliers))\n",
    "\n",
    "# Graficar valores superiores al límite superior del intervalo interquartil para circle_attractors_fields\n",
    "plt.figure(figsize=(8, 6))\n",
    "plt.scatter(indices, circle_outliers, color='green', alpha=0.7)\n",
    "plt.title('Valores superiores al límite superior del intervalo interquartil para circle_attractors_fields')\n",
    "plt.xlabel('Índice')\n",
    "plt.ylabel('Valores')\n",
    "plt.grid(True)\n",
    "plt.show()"
   ],
   "id": "56fad594e1062e35",
   "outputs": [],
   "execution_count": null
  },
  {
   "cell_type": "markdown",
   "source": "## Dispersion Graph",
   "metadata": {
    "collapsed": false
   },
   "id": "ba4993a2fa33b48f"
  },
  {
   "cell_type": "code",
   "source": [
    "df_topology_4.keys()"
   ],
   "metadata": {
    "collapsed": false
   },
   "id": "d616917a145b1c11",
   "outputs": [],
   "execution_count": null
  },
  {
   "cell_type": "code",
   "source": [
    "# Create a scatter plot\n",
    "plt.scatter(df_topology_4['n_time_find_fields'], df_topology_4['n_attractor_fields'])\n",
    "plt.xlabel('Time to find attractor fields (in seconds)')\n",
    "plt.ylabel('Number of attractor fields')\n",
    "plt.title('Scatter plot between time and number of attractor fields')\n",
    "plt.show()"
   ],
   "metadata": {
    "collapsed": false
   },
   "id": "7fe73959a1187576",
   "outputs": [],
   "execution_count": null
  },
  {
   "cell_type": "code",
   "source": [
    "# Create a scatter plot for df_topology_3\n",
    "plt.scatter(df_topology_3['n_time_find_fields'], df_topology_3['n_attractor_fields'], color='red', label='Topology 3')\n",
    "\n",
    "plt.xlabel('Time to find attractor fields (in seconds)')\n",
    "plt.ylabel('Number of attractor fields')\n",
    "plt.title('Scatter plot for Topology 3')\n",
    "plt.show()"
   ],
   "metadata": {
    "collapsed": false
   },
   "id": "92d31d275fdcc7ea",
   "outputs": [],
   "execution_count": null
  },
  {
   "cell_type": "code",
   "source": [
    "# Histograma dividido de 0 a 30 , 30 a 50.\n",
    "# https://economicsfromthetopdown.com/2019/04/25/visualizing-power-law-distributions/\n",
    "# escala log log"
   ],
   "metadata": {
    "collapsed": false
   },
   "id": "3f6c846648f82f99",
   "outputs": [],
   "execution_count": null
  }
 ],
 "metadata": {
  "kernelspec": {
   "display_name": "Python 3 (ipykernel)",
   "language": "python",
   "name": "python3"
  },
  "language_info": {
   "codemirror_mode": {
    "name": "ipython",
    "version": 3
   },
   "file_extension": ".py",
   "mimetype": "text/x-python",
   "name": "python",
   "nbconvert_exporter": "python",
   "pygments_lexer": "ipython3",
   "version": "3.9.5"
  }
 },
 "nbformat": 4,
 "nbformat_minor": 5
}
