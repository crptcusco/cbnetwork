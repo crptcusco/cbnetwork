{
 "cells": [
  {
   "cell_type": "markdown",
   "source": [
    "# Experiment 5: Aleatory Linear and Circle"
   ],
   "metadata": {
    "collapsed": false
   },
   "id": "c6ceb1cef2e47952"
  },
  {
   "cell_type": "markdown",
   "source": [
    "This experiment explores the differences between Linear and Circle CBNs, focus on attractor fields differences.\n",
    "For the analysis, we generate a local network template and use it in every local network of the Linear and Circle CBNs.\n"
   ],
   "metadata": {
    "collapsed": false
   },
   "id": "868ba778fdb19a52"
  },
  {
   "cell_type": "code",
   "execution_count": null,
   "id": "initial_id",
   "metadata": {
    "collapsed": true
   },
   "outputs": [],
   "source": [
    "import matplotlib.pyplot as plt\n",
    "import numpy as np\n",
    "# external imports\n",
    "import pandas as pd\n",
    "\n",
    "# Read the database\n",
    "df = pd.read_csv(\"exp5_aleatory_linear_circle_10_1000.csv\")\n",
    "df = df.rename(columns={'Unnamed: 0': 'id_register'})\n",
    "df['id_register'] = df['id_register'] + 1\n",
    "df.keys()"
   ]
  },
  {
   "cell_type": "code",
   "outputs": [],
   "source": [
    "df.head(10)"
   ],
   "metadata": {
    "collapsed": false
   },
   "id": "a9d064b725772d68",
   "execution_count": null
  },
  {
   "cell_type": "code",
   "outputs": [],
   "source": [
    "df['i_sample'].max()"
   ],
   "metadata": {
    "collapsed": false
   },
   "id": "540cf8e60f06d9e0",
   "execution_count": null
  },
  {
   "cell_type": "markdown",
   "source": [
    "## Explore the data from Linear(4) and Circular(3) CBN"
   ],
   "metadata": {
    "collapsed": false
   },
   "id": "2dfdbccfd5447fe9"
  },
  {
   "cell_type": "markdown",
   "source": [
    "### Group by Topology and number of local Networks and show the mean of the number of local attractors"
   ],
   "metadata": {
    "collapsed": false
   },
   "id": "9294f0d17a3b729d"
  },
  {
   "cell_type": "code",
   "outputs": [],
   "source": [
    "# group by v_topology 'v_topology' and put the mean of the 'n_pair_attractors'\n",
    "grouped_df = df.groupby(['v_topology', 'n_local_networks'])\n",
    "\n",
    "# Crear el gráfico de barras\n",
    "grouped_df['n_local_attractors'].mean().plot(kind='bar')\n",
    "\n",
    "# Mostrar el gráfico\n",
    "plt.show()"
   ],
   "metadata": {
    "collapsed": false
   },
   "id": "31e5af5dd1397bf8",
   "execution_count": null
  },
  {
   "cell_type": "markdown",
   "source": [
    "### Group by Topology and number of local Networks and show the mean of the number of attractor pairs"
   ],
   "metadata": {
    "collapsed": false
   },
   "id": "5ae54715b9cb1cdd"
  },
  {
   "cell_type": "code",
   "outputs": [],
   "source": [
    "# group by v_topology 'v_topology' and put the mean of the 'n_pair_attractors'\n",
    "grouped_df = df.groupby(['v_topology', 'n_local_networks'])\n",
    "\n",
    "# Crear el gráfico de barras\n",
    "grouped_df['n_pair_attractors'].mean().plot(kind='bar')\n",
    "\n",
    "# Mostrar el gráfico\n",
    "plt.show()"
   ],
   "metadata": {
    "collapsed": false
   },
   "id": "7732c3035b80d18f",
   "execution_count": null
  },
  {
   "cell_type": "markdown",
   "source": [
    "### Group by Topology and number of local Networks and show the mean of the number of attractor fields"
   ],
   "metadata": {
    "collapsed": false
   },
   "id": "bb3d813d7e252b37"
  },
  {
   "cell_type": "code",
   "outputs": [],
   "source": [
    "# group by v_topology 'v_topology' and put the mean of the 'n_pair_attractors'\n",
    "grouped_df = df.groupby(['v_topology', 'n_local_networks'])\n",
    "\n",
    "# Crear el gráfico de barras\n",
    "grouped_df['n_attractor_fields'].mean().plot(kind='bar')\n",
    "\n",
    "# Mostrar el gráfico\n",
    "plt.show()"
   ],
   "metadata": {
    "collapsed": false
   },
   "id": "6a8df35322d6a119",
   "execution_count": null
  },
  {
   "cell_type": "markdown",
   "source": [
    "## Explore the data by Number of local networks"
   ],
   "metadata": {
    "collapsed": false
   },
   "id": "c17244c7ff8b1c75"
  },
  {
   "cell_type": "markdown",
   "source": [
    "### Number of local Networks: 3"
   ],
   "metadata": {
    "collapsed": false
   },
   "id": "d30e5a6ae53be3cc"
  },
  {
   "cell_type": "code",
   "outputs": [],
   "source": [
    "df_local_networks_3 = df[df['n_local_networks'] == 3]\n",
    "# df_local_networks_3[df_local_networks_3['v_topology'] == 4].describe()\n",
    "# df_local_networks_3[df_local_networks_3['v_topology'] == 3].describe()\n",
    "\n",
    "l_topologies = df_local_networks_3['v_topology'].unique()\n",
    "labels_topologies = {4: \"Linear\", 3: \"Circle\"}\n",
    "grouped = df_local_networks_3.groupby(\"n_local_networks\")\n",
    "\n",
    "labels = {key: label for key, label in zip(df_local_networks_3.keys()[-6:-3], [\n",
    "    \"Number of attractors\",\n",
    "    \"Number of pairs attractors\",\n",
    "    \"Number of attractor fields\"])}\n",
    "log_scale = {key: label for key, label in zip(df_local_networks_3.keys()[-6:-3], [\n",
    "    False,\n",
    "    False,\n",
    "    True])}\n",
    "grouped = df_local_networks_3.groupby(\"v_topology\")\n",
    "\n",
    "for key in df_local_networks_3.keys()[-6:-3]:\n",
    "    fig, axs = plt.subplots(1, l_topologies.size, sharey=True)\n",
    "    for ax, i_topology in zip(axs, l_topologies):\n",
    "        group = grouped.get_group(i_topology)\n",
    "        data = group[key]\n",
    "        mean = ax.axhline(y=data.mean(), xmin=0.0, xmax=1.0, color='g', ls='--',\n",
    "                          label=fr'$\\bar{{x}}={data.mean():.4g}$')\n",
    "        std_max = ax.axhline(y=data.mean() + data.std(), xmin=0.0, xmax=1.0, color='r', ls='--',\n",
    "                             label=fr'$\\sigma={data.std():.4g}$')\n",
    "        ax.legend()\n",
    "        if log_scale[key]:\n",
    "            ax.set_yscale('symlog')\n",
    "        ax.boxplot(data)\n",
    "        ax.violinplot(data)\n",
    "        ax.set_xlabel(f'Topology: {labels_topologies[i_topology]}')\n",
    "        ax.set_xticks([])\n",
    "        ax.set_xlim((0.5, 1.5))\n",
    "    fig.suptitle(labels[key])\n",
    "    fig.tight_layout(w_pad=0)\n"
   ],
   "metadata": {
    "collapsed": false
   },
   "id": "2d9605fad3d54ad9",
   "execution_count": null
  },
  {
   "cell_type": "markdown",
   "source": [],
   "metadata": {
    "collapsed": false
   },
   "id": "c6fce62bafb98c9b"
  },
  {
   "cell_type": "markdown",
   "source": [
    "### Number of local Networks: 4"
   ],
   "metadata": {
    "collapsed": false
   },
   "id": "4ffaf235e9273ed3"
  },
  {
   "cell_type": "code",
   "outputs": [],
   "source": [
    "# Filter the graphs\n",
    "df_local_networks_4 = df[df['n_local_networks'] == 4]\n",
    "# df_local_networks_4[df_local_networks_4['v_topology'] == 4].describe()\n",
    "# df_local_networks_4[df_local_networks_4['v_topology'] == 3].describe()\n",
    "\n",
    "# Violin graphs\n",
    "l_topologies = df_local_networks_4['v_topology'].unique()\n",
    "labels_topologies = {4: \"Linear\", 3: \"Circle\"}\n",
    "grouped = df_local_networks_4.groupby(\"n_local_networks\")\n",
    "\n",
    "labels = {key: label for key, label in zip(df_local_networks_4.keys()[-6:-3], [\n",
    "    \"Number of attractors\",\n",
    "    \"Number of pairs attractors\",\n",
    "    \"Number of attractor fields\"])}\n",
    "log_scale = {key: label for key, label in zip(df_local_networks_4.keys()[-6:-3], [False, False, True])}\n",
    "grouped = df_local_networks_4.groupby(\"v_topology\")\n",
    "\n",
    "for key in df_local_networks_4.keys()[-6:-3]:\n",
    "    fig, axs = plt.subplots(1, l_topologies.size, sharey=True)\n",
    "    for ax, i_topology in zip(axs, l_topologies):\n",
    "        group = grouped.get_group(i_topology)\n",
    "        data = group[key]\n",
    "        mean = ax.axhline(y=data.mean(), xmin=0.0, xmax=1.0, color='g', ls='--',\n",
    "                          label=fr'$\\bar{{x}}={data.mean():.4g}$')\n",
    "        std_max = ax.axhline(y=data.mean() + data.std(), xmin=0.0, xmax=1.0, color='r', ls='--',\n",
    "                             label=fr'$\\sigma={data.std():.4g}$')\n",
    "        ax.legend()\n",
    "        if log_scale[key]:\n",
    "            ax.set_yscale('symlog')\n",
    "        ax.boxplot(data)\n",
    "        ax.violinplot(data)\n",
    "        ax.set_xlabel(f'Topology: {labels_topologies[i_topology]}')\n",
    "        ax.set_xticks([])\n",
    "        ax.set_xlim((0.5, 1.5))\n",
    "    fig.suptitle(labels[key])\n",
    "    fig.tight_layout(w_pad=0)"
   ],
   "metadata": {
    "collapsed": false
   },
   "id": "f90def2a7d150914",
   "execution_count": null
  },
  {
   "cell_type": "markdown",
   "source": [
    "### Number of local Networks: 5"
   ],
   "metadata": {
    "collapsed": false
   },
   "id": "6ed447dbc4ae81a"
  },
  {
   "cell_type": "code",
   "outputs": [],
   "source": [
    "# Filter the graphs\n",
    "df_local_networks_5 = df[df['n_local_networks'] == 5]\n",
    "# df_local_networks_5[df_local_networks_5['v_topology'] == 4].describe()\n",
    "# df_local_networks_5[df_local_networks_5['v_topology'] == 3].describe()\n",
    "\n",
    "# Violin graphs\n",
    "l_topologies = df_local_networks_5['v_topology'].unique()\n",
    "labels_topologies = {4: \"Linear\", 3: \"Circle\"}\n",
    "grouped = df_local_networks_5.groupby(\"n_local_networks\")\n",
    "\n",
    "labels = {key: label for key, label in zip(df_local_networks_5.keys()[-6:-3], [\n",
    "    \"Number of attractors\",\n",
    "    \"Number of pairs attractors\",\n",
    "    \"Number of attractor fields\"])}\n",
    "log_scale = {key: label for key, label in zip(df_local_networks_5.keys()[-6:-3], [False, False, True])}\n",
    "grouped = df_local_networks_5.groupby(\"v_topology\")\n",
    "\n",
    "for key in df_local_networks_5.keys()[-6:-3]:\n",
    "    fig, axs = plt.subplots(1, l_topologies.size, sharey=True)\n",
    "    for ax, i_topology in zip(axs, l_topologies):\n",
    "        group = grouped.get_group(i_topology)\n",
    "        data = group[key]\n",
    "        mean = ax.axhline(y=data.mean(), xmin=0.0, xmax=1.0, color='g', ls='--',\n",
    "                          label=fr'$\\bar{{x}}={data.mean():.4g}$')\n",
    "        std_max = ax.axhline(y=data.mean() + data.std(), xmin=0.0, xmax=1.0, color='r', ls='--',\n",
    "                             label=fr'$\\sigma={data.std():.4g}$')\n",
    "        ax.legend()\n",
    "        if log_scale[key]:\n",
    "            ax.set_yscale('symlog')\n",
    "        ax.boxplot(data)\n",
    "        ax.violinplot(data)\n",
    "        ax.set_xlabel(f'Topology: {labels_topologies[i_topology]}')\n",
    "        ax.set_xticks([])\n",
    "        ax.set_xlim((0.5, 1.5))\n",
    "    fig.suptitle(labels[key])\n",
    "    fig.tight_layout(w_pad=0)"
   ],
   "metadata": {
    "collapsed": false
   },
   "id": "b7699f0f1d2c6091",
   "execution_count": null
  },
  {
   "cell_type": "markdown",
   "source": [
    "### Number of local Networks: 6"
   ],
   "metadata": {
    "collapsed": false
   },
   "id": "4214a7cfbf02a352"
  },
  {
   "cell_type": "code",
   "outputs": [],
   "source": [
    "# Filter the graphs\n",
    "df_local_networks_6 = df[df['n_local_networks'] == 6]\n",
    "# df_local_networks_6[df_local_networks_6['v_topology'] == 4].describe()\n",
    "# df_local_networks_6[df_local_networks_6['v_topology'] == 3].describe()\n",
    "\n",
    "# Violin graphs\n",
    "l_topologies = df_local_networks_6['v_topology'].unique()\n",
    "labels_topologies = {4: \"Linear\", 3: \"Circle\"}\n",
    "grouped = df_local_networks_6.groupby(\"n_local_networks\")\n",
    "\n",
    "labels = {key: label for key, label in zip(df_local_networks_6.keys()[-6:-3], [\n",
    "    \"Number of attractors\",\n",
    "    \"Number of pairs attractors\",\n",
    "    \"Number of attractor fields\"])}\n",
    "log_scale = {key: label for key, label in zip(df_local_networks_6.keys()[-6:-3], [False, False, True])}\n",
    "grouped = df_local_networks_6.groupby(\"v_topology\")\n",
    "\n",
    "for key in df_local_networks_6.keys()[-6:-3]:\n",
    "    fig, axs = plt.subplots(1, l_topologies.size, sharey=True)\n",
    "    for ax, i_topology in zip(axs, l_topologies):\n",
    "        group = grouped.get_group(i_topology)\n",
    "        data = group[key]\n",
    "        mean = ax.axhline(y=data.mean(), xmin=0.0, xmax=1.0, color='g', ls='--',\n",
    "                          label=fr'$\\bar{{x}}={data.mean():.4g}$')\n",
    "        std_max = ax.axhline(y=data.mean() + data.std(), xmin=0.0, xmax=1.0, color='r', ls='--',\n",
    "                             label=fr'$\\sigma={data.std():.4g}$')\n",
    "        ax.legend()\n",
    "        if log_scale[key]:\n",
    "            ax.set_yscale('symlog')\n",
    "        ax.boxplot(data)\n",
    "        ax.violinplot(data)\n",
    "        ax.set_xlabel(f'Topology: {labels_topologies[i_topology]}')\n",
    "        ax.set_xticks([])\n",
    "        ax.set_xlim((0.5, 1.5))\n",
    "    fig.suptitle(labels[key])\n",
    "    fig.tight_layout(w_pad=0)"
   ],
   "metadata": {
    "collapsed": false
   },
   "id": "2ac72d120106eb2b",
   "execution_count": null
  },
  {
   "cell_type": "markdown",
   "source": [
    "### Number of local Networks: 7"
   ],
   "metadata": {
    "collapsed": false
   },
   "id": "e9328807a710667"
  },
  {
   "cell_type": "code",
   "outputs": [],
   "source": [
    "# Filter the graphs\n",
    "df_local_networks_7 = df[df['n_local_networks'] == 7]\n",
    "# df_local_networks_7[df_local_networks_7['v_topology'] == 4].describe()\n",
    "# df_local_networks_7[df_local_networks_7['v_topology'] == 3].describe()\n",
    "\n",
    "# Violin graphs\n",
    "l_topologies = df_local_networks_7['v_topology'].unique()\n",
    "labels_topologies = {4: \"Linear\", 3: \"Circle\"}\n",
    "grouped = df_local_networks_7.groupby(\"n_local_networks\")\n",
    "\n",
    "labels = {key: label for key, label in zip(df_local_networks_7.keys()[-6:-3], [\n",
    "    \"Number of attractors\",\n",
    "    \"Number of pairs attractors\",\n",
    "    \"Number of attractor fields\"])}\n",
    "log_scale = {key: label for key, label in zip(df_local_networks_7.keys()[-6:-3], [False, False, True])}\n",
    "grouped = df_local_networks_7.groupby(\"v_topology\")\n",
    "\n",
    "for key in df_local_networks_7.keys()[-6:-3]:\n",
    "    fig, axs = plt.subplots(1, l_topologies.size, sharey=True)\n",
    "    for ax, i_topology in zip(axs, l_topologies):\n",
    "        group = grouped.get_group(i_topology)\n",
    "        data = group[key]\n",
    "        mean = ax.axhline(y=data.mean(), xmin=0.0, xmax=1.0, color='g', ls='--',\n",
    "                          label=fr'$\\bar{{x}}={data.mean():.4g}$')\n",
    "        std_max = ax.axhline(y=data.mean() + data.std(), xmin=0.0, xmax=1.0, color='r', ls='--',\n",
    "                             label=fr'$\\sigma={data.std():.4g}$')\n",
    "        ax.legend()\n",
    "        if log_scale[key]:\n",
    "            ax.set_yscale('symlog')\n",
    "        ax.boxplot(data)\n",
    "        ax.violinplot(data)\n",
    "        ax.set_xlabel(f'Topology: {labels_topologies[i_topology]}')\n",
    "        ax.set_xticks([])\n",
    "        ax.set_xlim((0.5, 1.5))\n",
    "    fig.suptitle(labels[key])\n",
    "    fig.tight_layout(w_pad=0)"
   ],
   "metadata": {
    "collapsed": false
   },
   "id": "4e56e6ddd2946fa2",
   "execution_count": null
  },
  {
   "cell_type": "markdown",
   "source": [
    "### Number of local Networks: 8"
   ],
   "metadata": {
    "collapsed": false
   },
   "id": "c4c61219a749c772"
  },
  {
   "cell_type": "code",
   "outputs": [],
   "source": [
    "# Filter the graphs\n",
    "df_local_networks_8 = df[df['n_local_networks'] == 8]\n",
    "# df_local_networks_8[df_local_networks_8['v_topology'] == 4].describe()\n",
    "# df_local_networks_8[df_local_networks_8['v_topology'] == 3].describe()\n",
    "\n",
    "# Violin graphs\n",
    "l_topologies = df_local_networks_8['v_topology'].unique()\n",
    "labels_topologies = {4: \"Linear\", 3: \"Circle\"}\n",
    "grouped = df_local_networks_8.groupby(\"n_local_networks\")\n",
    "\n",
    "labels = {key: label for key, label in zip(df_local_networks_8.keys()[-6:-3], [\n",
    "    \"Number of attractors\",\n",
    "    \"Number of pairs attractors\",\n",
    "    \"Number of attractor fields\"])}\n",
    "log_scale = {key: label for key, label in zip(df_local_networks_8.keys()[-6:-3], [False, False, True])}\n",
    "grouped = df_local_networks_8.groupby(\"v_topology\")\n",
    "\n",
    "for key in df_local_networks_8.keys()[-6:-3]:\n",
    "    fig, axs = plt.subplots(1, l_topologies.size, sharey=True)\n",
    "    for ax, i_topology in zip(axs, l_topologies):\n",
    "        group = grouped.get_group(i_topology)\n",
    "        data = group[key]\n",
    "        mean = ax.axhline(y=data.mean(), xmin=0.0, xmax=1.0, color='g', ls='--',\n",
    "                          label=fr'$\\bar{{x}}={data.mean():.4g}$')\n",
    "        std_max = ax.axhline(y=data.mean() + data.std(), xmin=0.0, xmax=1.0, color='r', ls='--',\n",
    "                             label=fr'$\\sigma={data.std():.4g}$')\n",
    "        ax.legend()\n",
    "        if log_scale[key]:\n",
    "            ax.set_yscale('symlog')\n",
    "        ax.boxplot(data)\n",
    "        ax.violinplot(data)\n",
    "        ax.set_xlabel(f'Topology: {labels_topologies[i_topology]}')\n",
    "        ax.set_xticks([])\n",
    "        ax.set_xlim((0.5, 1.5))\n",
    "    fig.suptitle(labels[key])\n",
    "    fig.tight_layout(w_pad=0)"
   ],
   "metadata": {
    "collapsed": false
   },
   "id": "5b6567ce886c68de",
   "execution_count": null
  },
  {
   "cell_type": "markdown",
   "source": [
    "### Number of local Networks: 9"
   ],
   "metadata": {
    "collapsed": false
   },
   "id": "9a27f3cd66c46b22"
  },
  {
   "cell_type": "code",
   "outputs": [],
   "source": [
    "# Filter the graphs\n",
    "df_local_networks_9 = df[df['n_local_networks'] == 9]\n",
    "# df_local_networks_9[df_local_networks_9['v_topology'] == 4].describe()\n",
    "# df_local_networks_9[df_local_networks_9['v_topology'] == 3].describe()\n",
    "\n",
    "# Violin graphs\n",
    "l_topologies = df_local_networks_9['v_topology'].unique()\n",
    "labels_topologies = {4: \"Linear\", 3: \"Circle\"}\n",
    "grouped = df_local_networks_9.groupby(\"n_local_networks\")\n",
    "\n",
    "labels = {key: label for key, label in zip(df_local_networks_9.keys()[-6:-3], [\n",
    "    \"Number of attractors\",\n",
    "    \"Number of pairs attractors\",\n",
    "    \"Number of attractor fields\"])}\n",
    "log_scale = {key: label for key, label in zip(df_local_networks_9.keys()[-6:-3], [False, False, False])}\n",
    "grouped = df_local_networks_9.groupby(\"v_topology\")\n",
    "\n",
    "for key in df_local_networks_9.keys()[-6:-3]:\n",
    "    fig, axs = plt.subplots(1, l_topologies.size, sharey=True)\n",
    "    for ax, i_topology in zip(axs, l_topologies):\n",
    "        group = grouped.get_group(i_topology)\n",
    "        data = group[key]\n",
    "        mean = ax.axhline(y=data.mean(), xmin=0.0, xmax=1.0, color='g', ls='--',\n",
    "                          label=fr'$\\bar{{x}}={data.mean():.4g}$')\n",
    "        std_max = ax.axhline(y=data.mean() + data.std(), xmin=0.0, xmax=1.0, color='r', ls='--',\n",
    "                             label=fr'$\\sigma={data.std():.4g}$')\n",
    "        ax.legend()\n",
    "        if log_scale[key]:\n",
    "            ax.set_yscale('symlog')\n",
    "        ax.boxplot(data)\n",
    "        ax.violinplot(data)\n",
    "        ax.set_xlabel(f'Topology: {labels_topologies[i_topology]}')\n",
    "        ax.set_xticks([])\n",
    "        ax.set_xlim((0.5, 1.5))\n",
    "    fig.suptitle(labels[key])\n",
    "    fig.tight_layout(w_pad=0)"
   ],
   "metadata": {
    "collapsed": false
   },
   "id": "9abe54b7b87863d6",
   "execution_count": null
  },
  {
   "cell_type": "markdown",
   "source": [
    "### Number of local Networks: 10"
   ],
   "metadata": {
    "collapsed": false
   },
   "id": "5e8062ccbfc8bb1f"
  },
  {
   "cell_type": "code",
   "outputs": [],
   "source": [
    "# # Filter the graphs\n",
    "# df_local_networks_10 = df[df['n_local_networks'] == 10]\n",
    "# # df_local_networks_10[df_local_networks_10['v_topology'] == 4].describe()\n",
    "# # df_local_networks_10[df_local_networks_10['v_topology'] == 3].describe()\n",
    "# \n",
    "# # Violin graphs\n",
    "# l_topologies = df_local_networks_10['v_topology'].unique()\n",
    "# labels_topologies = {4: \"Linear\", 3: \"Circle\"}\n",
    "# grouped = df_local_networks_10.groupby(\"n_local_networks\")\n",
    "# \n",
    "# labels = {key: label for key, label in zip(df_local_networks_10.keys()[-6:-3], [\n",
    "#     \"Number of attractors\",\n",
    "#     \"Number of pairs attractors\",\n",
    "#     \"Number of attractor fields\"])}\n",
    "# log_scale = {key: label for key, label in zip(df_local_networks_10.keys()[-6:-3], [False, False, True])}\n",
    "# grouped = df_local_networks_10.groupby(\"v_topology\")\n",
    "# \n",
    "# for key in df_local_networks_10.keys()[-6:-3]:\n",
    "#     fig, axs = plt.subplots(1, l_topologies.size, sharey=True)\n",
    "#     for ax, i_topology in zip(axs, l_topologies):\n",
    "#         group = grouped.get_group(i_topology)\n",
    "#         data = group[key]\n",
    "#         mean = ax.axhline(y=data.mean(), xmin=0.0, xmax=1.0, color='g', ls='--',\n",
    "#                           label=fr'$\\bar{{x}}={data.mean():.4g}$')\n",
    "#         std_max = ax.axhline(y=data.mean() + data.std(), xmin=0.0, xmax=1.0, color='r', ls='--',\n",
    "#                              label=fr'$\\sigma={data.std():.4g}$')\n",
    "#         ax.legend()\n",
    "#         if log_scale[key]:\n",
    "#             ax.set_yscale('symlog')\n",
    "#         ax.boxplot(data)\n",
    "#         ax.violinplot(data)\n",
    "#         ax.set_xlabel(f'Topology: {labels_topologies[i_topology]}')\n",
    "#         ax.set_xticks([])\n",
    "#         ax.set_xlim((0.5, 1.5))\n",
    "#     fig.suptitle(labels[key])\n",
    "#     fig.tight_layout(w_pad=0)"
   ],
   "metadata": {
    "collapsed": false
   },
   "id": "e56683872c2020aa",
   "execution_count": null
  },
  {
   "cell_type": "markdown",
   "source": [
    "### Number of local Networks: 11"
   ],
   "metadata": {
    "collapsed": false
   },
   "id": "3ece60e9fbc95d1f"
  },
  {
   "cell_type": "code",
   "outputs": [],
   "source": [
    "# # Filter the graphs\n",
    "# df_local_networks_11 = df[df['n_local_networks'] == 11]\n",
    "# # df_local_networks_11[df_local_networks_11['v_topology'] == 4].describe()\n",
    "# # df_local_networks_11[df_local_networks_11['v_topology'] == 3].describe()\n",
    "# \n",
    "# # Violin graphs\n",
    "# l_topologies = df_local_networks_11['v_topology'].unique()\n",
    "# labels_topologies = {4: \"Linear\", 3: \"Circle\"}\n",
    "# grouped = df_local_networks_11.groupby(\"n_local_networks\")\n",
    "# \n",
    "# labels = {key: label for key, label in zip(df_local_networks_11.keys()[-6:-3], [\n",
    "#     \"Number of attractors\",\n",
    "#     \"Number of pairs attractors\",\n",
    "#     \"Number of attractor fields\"])}\n",
    "# log_scale = {key: label for key, label in zip(df_local_networks_11.keys()[-6:-3], [False, False, True])}\n",
    "# grouped = df_local_networks_11.groupby(\"v_topology\")\n",
    "# \n",
    "# for key in df_local_networks_11.keys()[-6:-3]:\n",
    "#     fig, axs = plt.subplots(1, l_topologies.size, sharey=True)\n",
    "#     for ax, i_topology in zip(axs, l_topologies):\n",
    "#         group = grouped.get_group(i_topology)\n",
    "#         data = group[key]\n",
    "#         mean = ax.axhline(y=data.mean(), xmin=0.0, xmax=1.0, color='g', ls='--',\n",
    "#                           label=fr'$\\bar{{x}}={data.mean():.4g}$')\n",
    "#         std_max = ax.axhline(y=data.mean() + data.std(), xmin=0.0, xmax=1.0, color='r', ls='--',\n",
    "#                              label=fr'$\\sigma={data.std():.4g}$')\n",
    "#         ax.legend()\n",
    "#         if log_scale[key]:\n",
    "#             ax.set_yscale('symlog')\n",
    "#         ax.boxplot(data)\n",
    "#         ax.violinplot(data)\n",
    "#         ax.set_xlabel(f'Topology: {labels_topologies[i_topology]}')\n",
    "#         ax.set_xticks([])\n",
    "#         ax.set_xlim((0.5, 1.5))\n",
    "#     fig.suptitle(labels[key])\n",
    "#     fig.tight_layout(w_pad=0)"
   ],
   "metadata": {
    "collapsed": false
   },
   "id": "352648d20b4814a5",
   "execution_count": null
  },
  {
   "cell_type": "markdown",
   "source": [
    "### Number of local Networks: 12"
   ],
   "metadata": {
    "collapsed": false
   },
   "id": "7824ecb08c257d0d"
  },
  {
   "cell_type": "code",
   "outputs": [],
   "source": [
    "# # Filter the graphs\n",
    "# df_local_networks_12 = df[df['n_local_networks'] == 12]\n",
    "# # df_local_networks_12[df_local_networks_12['v_topology'] == 4].describe()\n",
    "# # df_local_networks_12[df_local_networks_12['v_topology'] == 3].describe()\n",
    "# \n",
    "# # Violin graphs\n",
    "# l_topologies = df_local_networks_12['v_topology'].unique()\n",
    "# labels_topologies = {4: \"Linear\", 3: \"Circle\"}\n",
    "# grouped = df_local_networks_12.groupby(\"n_local_networks\")\n",
    "# \n",
    "# labels = {key: label for key, label in zip(df_local_networks_12.keys()[-6:-3], [\n",
    "#     \"Number of attractors\",\n",
    "#     \"Number of pairs attractors\",\n",
    "#     \"Number of attractor fields\"])}\n",
    "# log_scale = {key: label for key, label in zip(df_local_networks_12.keys()[-6:-3], [False, False, True])}\n",
    "# grouped = df_local_networks_12.groupby(\"v_topology\")\n",
    "# \n",
    "# for key in df_local_networks_12.keys()[-6:-3]:\n",
    "#     fig, axs = plt.subplots(1, l_topologies.size, sharey=True)\n",
    "#     for ax, i_topology in zip(axs, l_topologies):\n",
    "#         group = grouped.get_group(i_topology)\n",
    "#         data = group[key]\n",
    "#         mean = ax.axhline(y=data.mean(), xmin=0.0, xmax=1.0, color='g', ls='--',\n",
    "#                           label=fr'$\\bar{{x}}={data.mean():.4g}$')\n",
    "#         std_max = ax.axhline(y=data.mean() + data.std(), xmin=0.0, xmax=1.0, color='r', ls='--',\n",
    "#                              label=fr'$\\sigma={data.std():.4g}$')\n",
    "#         ax.legend()\n",
    "#         if log_scale[key]:\n",
    "#             ax.set_yscale('symlog')\n",
    "#         ax.boxplot(data)\n",
    "#         ax.violinplot(data)\n",
    "#         ax.set_xlabel(f'Topology: {labels_topologies[i_topology]}')\n",
    "#         ax.set_xticks([])\n",
    "#         ax.set_xlim((0.5, 1.5))\n",
    "#     fig.suptitle(labels[key])\n",
    "#     fig.tight_layout(w_pad=0)"
   ],
   "metadata": {
    "collapsed": false
   },
   "id": "cf066fbd2f4c248",
   "execution_count": null
  },
  {
   "cell_type": "markdown",
   "source": [
    "### Number of local Networks: 13"
   ],
   "metadata": {
    "collapsed": false
   },
   "id": "5a7808bfdd05ae83"
  },
  {
   "cell_type": "code",
   "outputs": [],
   "source": [
    "# # Filter the graphs\n",
    "# df_local_networks_13 = df[df['n_local_networks'] == 13]\n",
    "# # df_local_networks_13[df_local_networks_13['v_topology'] == 4].describe()\n",
    "# # df_local_networks_13[df_local_networks_13['v_topology'] == 3].describe()\n",
    "# \n",
    "# # Violin graphs\n",
    "# l_topologies = df_local_networks_13['v_topology'].unique()\n",
    "# labels_topologies = {4: \"Linear\", 3: \"Circle\"}\n",
    "# grouped = df_local_networks_13.groupby(\"n_local_networks\")\n",
    "# \n",
    "# labels = {key: label for key, label in zip(df_local_networks_13.keys()[-6:-3], [\n",
    "#     \"Number of attractors\",\n",
    "#     \"Number of pairs attractors\",\n",
    "#     \"Number of attractor fields\"])}\n",
    "# log_scale = {key: label for key, label in zip(df_local_networks_13.keys()[-6:-3], [False, False, True])}\n",
    "# grouped = df_local_networks_13.groupby(\"v_topology\")\n",
    "# \n",
    "# for key in df_local_networks_13.keys()[-6:-3]:\n",
    "#     fig, axs = plt.subplots(1, l_topologies.size, sharey=True)\n",
    "#     for ax, i_topology in zip(axs, l_topologies):\n",
    "#         group = grouped.get_group(i_topology)\n",
    "#         data = group[key]\n",
    "#         mean = ax.axhline(y=data.mean(), xmin=0.0, xmax=1.0, color='g', ls='--',\n",
    "#                           label=fr'$\\bar{{x}}={data.mean():.4g}$')\n",
    "#         std_max = ax.axhline(y=data.mean() + data.std(), xmin=0.0, xmax=1.0, color='r', ls='--',\n",
    "#                              label=fr'$\\sigma={data.std():.4g}$')\n",
    "#         ax.legend()\n",
    "#         if log_scale[key]:\n",
    "#             ax.set_yscale('symlog')\n",
    "#         ax.boxplot(data)\n",
    "#         ax.violinplot(data)\n",
    "#         ax.set_xlabel(f'Topology: {labels_topologies[i_topology]}')\n",
    "#         ax.set_xticks([])\n",
    "#         ax.set_xlim((0.5, 1.5))\n",
    "#     fig.suptitle(labels[key])\n",
    "#     fig.tight_layout(w_pad=0)"
   ],
   "metadata": {
    "collapsed": false
   },
   "id": "a25ce7cfbefdcabf",
   "execution_count": null
  },
  {
   "cell_type": "markdown",
   "source": [
    "### Number of local Networks: 14"
   ],
   "metadata": {
    "collapsed": false
   },
   "id": "86bd24b67357fe9d"
  },
  {
   "cell_type": "code",
   "outputs": [],
   "source": [
    "# # Filter the graphs\n",
    "# df_local_networks_14 = df[df['n_local_networks'] == 14]\n",
    "# # df_local_networks_14[df_local_networks_14['v_topology'] == 4].describe()\n",
    "# # df_local_networks_14[df_local_networks_14['v_topology'] == 3].describe()\n",
    "# \n",
    "# # Violin graphs\n",
    "# l_topologies = df_local_networks_14['v_topology'].unique()\n",
    "# labels_topologies = {4: \"Linear\", 3: \"Circle\"}\n",
    "# grouped = df_local_networks_14.groupby(\"n_local_networks\")\n",
    "# \n",
    "# labels = {key: label for key, label in zip(df_local_networks_14.keys()[-6:-3], [\n",
    "#     \"Number of attractors\",\n",
    "#     \"Number of pairs attractors\",\n",
    "#     \"Number of attractor fields\"])}\n",
    "# log_scale = {key: label for key, label in zip(df_local_networks_14.keys()[-6:-3], [False, False, True])}\n",
    "# grouped = df_local_networks_14.groupby(\"v_topology\")\n",
    "# \n",
    "# for key in df_local_networks_14.keys()[-6:-3]:\n",
    "#     fig, axs = plt.subplots(1, l_topologies.size, sharey=True)\n",
    "#     for ax, i_topology in zip(axs, l_topologies):\n",
    "#         group = grouped.get_group(i_topology)\n",
    "#         data = group[key]\n",
    "#         mean = ax.axhline(y=data.mean(), xmin=0.0, xmax=1.0, color='g', ls='--',\n",
    "#                           label=fr'$\\bar{{x}}={data.mean():.4g}$')\n",
    "#         std_max = ax.axhline(y=data.mean() + data.std(), xmin=0.0, xmax=1.0, color='r', ls='--',\n",
    "#                              label=fr'$\\sigma={data.std():.4g}$')\n",
    "#         ax.legend()\n",
    "#         if log_scale[key]:\n",
    "#             ax.set_yscale('symlog')\n",
    "#         ax.boxplot(data)\n",
    "#         ax.violinplot(data)\n",
    "#         ax.set_xlabel(f'Topology: {labels_topologies[i_topology]}')\n",
    "#         ax.set_xticks([])\n",
    "#         ax.set_xlim((0.5, 1.5))\n",
    "#     fig.suptitle(labels[key])\n",
    "#     fig.tight_layout(w_pad=0)"
   ],
   "metadata": {
    "collapsed": false
   },
   "id": "2958505c704bba8d",
   "execution_count": null
  },
  {
   "cell_type": "markdown",
   "source": [
    "### Number of local Networks: 15"
   ],
   "metadata": {
    "collapsed": false
   },
   "id": "f67186ad6d2172dd"
  },
  {
   "cell_type": "code",
   "outputs": [],
   "source": [
    "# # Filter the graphs\n",
    "# df_local_networks_15 = df[df['n_local_networks'] == 15]\n",
    "# # df_local_networks_15[df_local_networks_15['v_topology'] == 4].describe()\n",
    "# # df_local_networks_15[df_local_networks_15['v_topology'] == 3].describe()\n",
    "# \n",
    "# # Violin graphs\n",
    "# l_topologies = df_local_networks_15['v_topology'].unique()\n",
    "# labels_topologies = {4: \"Linear\", 3: \"Circle\"}\n",
    "# grouped = df_local_networks_15.groupby(\"n_local_networks\")\n",
    "# \n",
    "# labels = {key: label for key, label in zip(df_local_networks_15.keys()[-6:-3], [\n",
    "#     \"Number of attractors\",\n",
    "#     \"Number of pairs attractors\",\n",
    "#     \"Number of attractor fields\"])}\n",
    "# log_scale = {key: label for key, label in zip(df_local_networks_15.keys()[-6:-3], [False, False, True])}\n",
    "# grouped = df_local_networks_15.groupby(\"v_topology\")\n",
    "# \n",
    "# for key in df_local_networks_15.keys()[-6:-3]:\n",
    "#     fig, axs = plt.subplots(1, l_topologies.size, sharey=True)\n",
    "#     for ax, i_topology in zip(axs, l_topologies):\n",
    "#         group = grouped.get_group(i_topology)\n",
    "#         data = group[key]\n",
    "#         mean = ax.axhline(y=data.mean(), xmin=0.0, xmax=1.0, color='g', ls='--',\n",
    "#                           label=fr'$\\bar{{x}}={data.mean():.4g}$')\n",
    "#         std_max = ax.axhline(y=data.mean() + data.std(), xmin=0.0, xmax=1.0, color='r', ls='--',\n",
    "#                              label=fr'$\\sigma={data.std():.4g}$')\n",
    "#         ax.legend()\n",
    "#         if log_scale[key]:\n",
    "#             ax.set_yscale('symlog')\n",
    "#         ax.boxplot(data)\n",
    "#         ax.violinplot(data)\n",
    "#         ax.set_xlabel(f'Topology: {labels_topologies[i_topology]}')\n",
    "#         ax.set_xticks([])\n",
    "#         ax.set_xlim((0.5, 1.5))\n",
    "#     fig.suptitle(labels[key])\n",
    "#     fig.tight_layout(w_pad=0)"
   ],
   "metadata": {
    "collapsed": false
   },
   "id": "aaafa9e5c5ee0e54",
   "execution_count": null
  },
  {
   "cell_type": "markdown",
   "source": [
    "## Explore all the data"
   ],
   "metadata": {
    "collapsed": false
   },
   "id": "97ca47773ec1179f"
  },
  {
   "cell_type": "markdown",
   "source": [],
   "metadata": {
    "collapsed": false
   },
   "id": "b947b4c86b550162"
  },
  {
   "cell_type": "code",
   "outputs": [],
   "source": [
    "# Filtrar el DataFrame para v_topology=3 y v_topology=4\n",
    "df_topology_4 = df[df['v_topology'] == 4].set_index(['n_local_networks', 'i_sample'])\n",
    "df_topology_3 = df[df['v_topology'] == 3].set_index(['n_local_networks', 'i_sample'])\n",
    "\n",
    "# Realizar la resta y crear una nueva columna\n",
    "df_resume = pd.DataFrame({\n",
    "    'i_index': df_topology_3.index,\n",
    "    'dif_local_attractors': df_topology_3['n_local_attractors'] - df_topology_4['n_local_attractors'],\n",
    "    'dif_attractor_pairs': df_topology_3['n_pair_attractors'] - df_topology_4['n_pair_attractors'],\n",
    "    'dif_attractor_fields': df_topology_3['n_attractor_fields'] - df_topology_4['n_attractor_fields'],\n",
    "    # 'percent_local_attractors': (df_topology_3['n_local_attractors'] / (\n",
    "    #         df_topology_4['n_local_attractors'].mean() + df_topology_3['n_local_attractors'].mean())) * 100,\n",
    "    # 'percent_attractor_pairs': (df_topology_3['n_pair_attractors'] / (\n",
    "    #         df_topology_4['n_pair_attractors'].mean() + df_topology_3['n_pair_attractors'].mean())) * 100,\n",
    "    # 'percent_attractor_fields': (df_topology_3['n_attractor_fields'] / df_topology_4['n_attractor_fields'].mean() +\n",
    "    #                              df_topology_3['n_attractor_fields'].mean()) * 100\n",
    "    # 'percent_local_attractors': (df_topology_3['n_local_attractors'] / (\n",
    "    #         df_topology_4['n_local_attractors'] + df_topology_3['n_local_attractors'])) * 100,\n",
    "    # 'percent_attractor_pairs': (df_topology_3['n_pair_attractors'] / (\n",
    "    #         df_topology_4['n_pair_attractors'] + df_topology_3['n_pair_attractors'])) * 100,\n",
    "    # 'percent_attractor_fields': (df_topology_3['n_attractor_fields'] / df_topology_4['n_attractor_fields'] +\n",
    "    #                              df_topology_3['n_attractor_fields']) * 100\n",
    "    'percent_local_attractors': (df_topology_3['n_local_attractors'] / (\n",
    "            df_topology_4['n_local_attractors'] + df_topology_3['n_local_attractors'])) * 100,\n",
    "    'percent_attractor_pairs': (df_topology_3['n_pair_attractors'] / (\n",
    "            df_topology_4['n_pair_attractors'] + df_topology_3['n_pair_attractors'])) * 100,\n",
    "    'percent_attractor_fields': (df_topology_3['n_attractor_fields'] / df_topology_4['n_attractor_fields'] +\n",
    "                                 df_topology_3['n_attractor_fields']) * 100\n",
    "})\n",
    "# Mostrar el DataFrame resultante\n",
    "\n",
    "df_resume = df_resume.replace([np.inf, -np.inf], np.nan).dropna()\n",
    "df_resume\n",
    "\n",
    "# abc = df_topology_3['n_pair_attractors'].max() / (\n",
    "#         df_topology_3['n_pair_attractors'].max() + df_topology_4['n_pair_attractors'].max()) * 100\n",
    "# abc\n",
    "# abc = df_topology_3['n_pair_attractors'].mean() / (\n",
    "#         df_topology_3['n_pair_attractors'].mean() + df_topology_4['n_pair_attractors'].mean()) * 100\n",
    "# abc\n",
    "# abc = df_topology_3['n_pair_attractors'].min() / (\n",
    "#         df_topology_3['n_pair_attractors'].min() + df_topology_4['n_pair_attractors'].min()) * 100\n",
    "# abc"
   ],
   "metadata": {
    "collapsed": false
   },
   "id": "52030c2236c6c665",
   "execution_count": null
  },
  {
   "cell_type": "code",
   "outputs": [],
   "source": [
    "# compute the difference\n",
    "df_resume[['dif_local_attractors', 'dif_attractor_pairs', 'dif_attractor_fields']].mean()"
   ],
   "metadata": {
    "collapsed": false
   },
   "id": "8c5d7fb8e5682d59",
   "execution_count": null
  },
  {
   "cell_type": "code",
   "outputs": [],
   "source": [
    "# compute the percent\n",
    "df_resume[['percent_local_attractors', 'percent_attractor_pairs', 'percent_attractor_fields']].mean()"
   ],
   "metadata": {
    "collapsed": false
   },
   "id": "325b78f8b289ae9f",
   "execution_count": null
  },
  {
   "cell_type": "code",
   "outputs": [],
   "source": [
    "df_resume['percent_attractor_fields']"
   ],
   "metadata": {
    "collapsed": false
   },
   "id": "5cc6813450a10e61",
   "execution_count": null
  }
 ],
 "metadata": {
  "kernelspec": {
   "display_name": "Python 3",
   "language": "python",
   "name": "python3"
  },
  "language_info": {
   "codemirror_mode": {
    "name": "ipython",
    "version": 2
   },
   "file_extension": ".py",
   "mimetype": "text/x-python",
   "name": "python",
   "nbconvert_exporter": "python",
   "pygments_lexer": "ipython2",
   "version": "2.7.6"
  }
 },
 "nbformat": 4,
 "nbformat_minor": 5
}
