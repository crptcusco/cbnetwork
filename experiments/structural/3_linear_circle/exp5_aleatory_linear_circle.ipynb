{
 "cells": [
  {
   "cell_type": "markdown",
   "source": [
    "# Experiment 5: Aleatory Linear and Circle"
   ],
   "metadata": {
    "collapsed": false
   },
   "id": "c6ceb1cef2e47952"
  },
  {
   "cell_type": "markdown",
   "source": [
    "This experiment explores the differences between Linear and Circle CBNs, focus on attractor fields differences.\n",
    "For the analysis, we generate a local network template and use it in every local network of the Linear and Circle CBNs.\n"
   ],
   "metadata": {
    "collapsed": false
   },
   "id": "868ba778fdb19a52"
  },
  {
   "cell_type": "code",
   "execution_count": null,
   "id": "initial_id",
   "metadata": {
    "collapsed": true
   },
   "outputs": [],
   "source": [
    "import matplotlib.pyplot as plt\n",
    "import numpy as np\n",
    "# external imports\n",
    "import pandas as pd\n",
    "\n",
    "# Read the database\n",
    "df = pd.read_csv(\"exp5_aleatory_linear_circle_9_9_10000.csv\")\n",
    "# df = df.rename(columns={'Unnamed: 0': 'id_register'})\n",
    "# df['id_register'] = df['id_register'] + 1\n",
    "df.keys()"
   ]
  },
  {
   "cell_type": "code",
   "outputs": [],
   "source": [
    "df.head(10)"
   ],
   "metadata": {
    "collapsed": false
   },
   "id": "a9d064b725772d68",
   "execution_count": null
  },
  {
   "cell_type": "markdown",
   "source": [
    "## Explore the data from Linear(4) and Circular(3) CBN"
   ],
   "metadata": {
    "collapsed": false
   },
   "id": "2dfdbccfd5447fe9"
  },
  {
   "cell_type": "markdown",
   "source": [
    "### Group by Topology and number of local Networks and show the mean of the number of local attractors"
   ],
   "metadata": {
    "collapsed": false
   },
   "id": "9294f0d17a3b729d"
  },
  {
   "cell_type": "code",
   "outputs": [],
   "source": [
    "# Group by 'v_topology' and put the mean of 'n_local_attractors'\n",
    "grouped_df = df.groupby(['n_local_networks', 'v_topology'])\n",
    "\n",
    "# Create the bar plot with different colors for each group\n",
    "ax = grouped_df['n_local_attractors'].mean().unstack().plot(kind='bar', colormap='Blues')\n",
    "\n",
    "# Assign labels and title\n",
    "ax.set_xlabel('Number of Local Networks')\n",
    "ax.set_ylabel('Mean Number of Local Attractors')\n",
    "# Rotate x-axis labels\n",
    "ax.set_xticklabels(ax.get_xticklabels(), rotation=0)\n",
    "plt.title(\"Mean of Number of Local Attractors in Linear and Circular Topology\")\n",
    "\n",
    "# Add labels with exact values inside each bar\n",
    "for p in ax.patches:\n",
    "    ax.annotate(f'{p.get_height():.2f}', (p.get_x() + p.get_width() / 2., p.get_height() - 1.15),\n",
    "                ha='center', va='center', xytext=(0, 0), textcoords='offset points')\n",
    "\n",
    "# Create a custom legend\n",
    "legend_labels = {3: 'Circular', 4: 'Linear'}\n",
    "handles, labels = ax.get_legend_handles_labels()\n",
    "ax.legend(handles, [f'{legend_labels[int(label)]:s} ({label:s})' for label in labels],\n",
    "          loc='lower right', bbox_to_anchor=(1, 0), fancybox=True, shadow=True)\n",
    "\n",
    "# Show the plot\n",
    "plt.tight_layout()\n",
    "plt.show()\n",
    "\n"
   ],
   "metadata": {
    "collapsed": false
   },
   "id": "4b4021a62b857ccd",
   "execution_count": null
  },
  {
   "cell_type": "markdown",
   "source": [
    "### Group by Topology and number of local Networks and show the mean of the number of attractor pairs"
   ],
   "metadata": {
    "collapsed": false
   },
   "id": "5ae54715b9cb1cdd"
  },
  {
   "cell_type": "code",
   "outputs": [],
   "source": [
    "# Create the bar plot with different colors for each group\n",
    "ax = grouped_df['n_pair_attractors'].mean().unstack().plot(kind='bar')\n",
    "\n",
    "# Assign labels and title\n",
    "ax.set_xlabel('Number of Local Networks')\n",
    "ax.set_ylabel('Mean Number of Pair Attractors')\n",
    "# Rotate x-axis labels\n",
    "ax.set_xticklabels(ax.get_xticklabels(), rotation=0)\n",
    "plt.title(\"Mean of Number of Pair Attractors in Linear and Circular Topology\")\n",
    "\n",
    "# Add labels with exact values inside each bar\n",
    "for p in ax.patches:\n",
    "    ax.annotate(f'{p.get_height():.2f}', (p.get_x() + p.get_width() / 2., p.get_height() - 1.15),\n",
    "                ha='center', va='center', xytext=(0, 0), textcoords='offset points')\n",
    "\n",
    "# Create a custom legend\n",
    "legend_labels = {3: 'Circular', 4: 'Linear'}\n",
    "handles, labels = ax.get_legend_handles_labels()\n",
    "ax.legend(handles, [f'{legend_labels[int(label)]:s} ({label:s})' for label in labels],\n",
    "          loc='lower right', bbox_to_anchor=(1, 0), fancybox=True, shadow=True)\n",
    "\n",
    "# Show the plot\n",
    "plt.tight_layout()\n",
    "plt.show()\n"
   ],
   "metadata": {
    "collapsed": false
   },
   "id": "7732c3035b80d18f",
   "execution_count": null
  },
  {
   "cell_type": "markdown",
   "source": [
    "### Group by Topology and number of local Networks and show the mean of the number of attractor fields"
   ],
   "metadata": {
    "collapsed": false
   },
   "id": "bb3d813d7e252b37"
  },
  {
   "cell_type": "code",
   "outputs": [],
   "source": [
    "# Create the bar plot with different colors for each group\n",
    "ax = grouped_df['n_attractor_fields'].mean().unstack().plot(kind='bar')\n",
    "\n",
    "# Assign labels and title\n",
    "ax.set_xlabel('Number of Local Networks')\n",
    "ax.set_ylabel('Mean Number of Attractor Fields')\n",
    "# Rotate x-axis labels\n",
    "ax.set_xticklabels(ax.get_xticklabels(), rotation=0)\n",
    "plt.title(\"Mean of Number of Attractor Fields in Linear and Circular Topology\")\n",
    "\n",
    "# Add labels with exact values inside each bar\n",
    "for p in ax.patches:\n",
    "    ax.annotate(f'{p.get_height():.2f}', (p.get_x() + p.get_width() / 2., p.get_height() - 1.15),\n",
    "                ha='center', va='center', xytext=(0, 0), textcoords='offset points')\n",
    "\n",
    "# Create a custom legend\n",
    "legend_labels = {3: 'Circular', 4: 'Linear'}\n",
    "handles, labels = ax.get_legend_handles_labels()\n",
    "ax.legend(handles, [f'{legend_labels[int(label)]:s} ({label:s})' for label in labels],\n",
    "          loc='lower right', bbox_to_anchor=(1, 0), fancybox=True, shadow=True)\n",
    "\n",
    "# Show the plot\n",
    "plt.tight_layout()\n",
    "plt.show()\n"
   ],
   "metadata": {
    "collapsed": false
   },
   "id": "6a8df35322d6a119",
   "execution_count": null
  },
  {
   "cell_type": "markdown",
   "source": [
    "## Individual Analysis by number of local networks"
   ],
   "metadata": {
    "collapsed": false
   },
   "id": "c17244c7ff8b1c75"
  },
  {
   "cell_type": "markdown",
   "source": [
    "### Violin Graphs"
   ],
   "metadata": {
    "collapsed": false
   },
   "id": "b6fcc6be99fe1382"
  },
  {
   "cell_type": "code",
   "outputs": [],
   "source": [
    "# Filter the graphs\n",
    "df_local_networks_n = df[df['n_local_networks'] == 8]\n",
    "# df_local_networks_n = df[df['n_local_networks'] == 4]\n",
    "# df_local_networks_n[df_local_networks_n['v_topology'] == 3].describe()\n",
    "# df_local_networks_n[df_local_networks_n['v_topology'] == 3].describe()\n",
    "\n",
    "# Violin graphs\n",
    "l_topologies = df_local_networks_n['v_topology'].unique()\n",
    "labels_topologies = {4: \"Linear\", 3: \"Circle\"}\n",
    "grouped = df_local_networks_n.groupby(\"n_local_networks\")\n",
    "\n",
    "labels = {key: label for key, label in zip(df_local_networks_n.keys()[-6:-3], [\n",
    "    \"Number of attractors\",\n",
    "    \"Number of pairs attractors\",\n",
    "    \"Number of attractor fields\"])}\n",
    "log_scale = {key: label for key, label in zip(df_local_networks_n.keys()[-6:-3], [False, False, True])}\n",
    "grouped = df_local_networks_n.groupby(\"v_topology\")\n",
    "\n",
    "for key in df_local_networks_n.keys()[-6:-3]:\n",
    "    fig, axs = plt.subplots(1, l_topologies.size, sharey=True, figsize=(5, 5))\n",
    "    for ax, i_topology in zip(axs, l_topologies):\n",
    "        group = grouped.get_group(i_topology)\n",
    "        data = group[key]\n",
    "        mean = ax.axhline(y=data.mean(), xmin=0.0, xmax=1.0, color='g', ls='--',\n",
    "                          label=fr'$\\bar{{x}}={data.mean():.4g}$')\n",
    "        std_max = ax.axhline(y=data.mean() + data.std(), xmin=0.0, xmax=1.0, color='r', ls='--',\n",
    "                             label=fr'$\\sigma={data.std():.4g}$')\n",
    "        ax.legend()\n",
    "        if log_scale[key]:\n",
    "            ax.set_yscale('symlog')\n",
    "        ax.boxplot(data)\n",
    "        ax.violinplot(data)\n",
    "        ax.set_xlabel(f'Topology: {labels_topologies[i_topology]}')\n",
    "        ax.set_xticks([])\n",
    "        ax.set_xlim((0.5, 1.5))\n",
    "    fig.suptitle(labels[key])\n",
    "    fig.tight_layout(w_pad=0)\n"
   ],
   "metadata": {
    "collapsed": false
   },
   "id": "2d9605fad3d54ad9",
   "execution_count": null
  },
  {
   "cell_type": "markdown",
   "source": [
    "### Linear - Circle Analysis: Top 20 "
   ],
   "metadata": {
    "collapsed": false
   },
   "id": "c6fce62bafb98c9b"
  },
  {
   "cell_type": "code",
   "outputs": [],
   "source": [
    "# Filtrar por v_topology\n",
    "df_v4 = df_local_networks_n[df_local_networks_n['v_topology'] == 4]\n",
    "df_v3 = df_local_networks_n[df_local_networks_n['v_topology'] == 3]\n",
    "\n",
    "# Seleccionar los 20 mejores valores de df_v4 y df_v3 para cada métrica\n",
    "top_20_v4_attractors = df_v4.nlargest(20, 'n_local_attractors')\n",
    "top_20_v3_attractors = df_v3.nlargest(20, 'n_local_attractors')\n",
    "\n",
    "top_20_v4_pairs = df_v4.nlargest(20, 'n_pair_attractors')\n",
    "top_20_v3_pairs = df_v3.nlargest(20, 'n_pair_attractors')\n",
    "\n",
    "top_20_v4_fields = df_v4.nlargest(20, 'n_attractor_fields')\n",
    "top_20_v3_fields = df_v3.nlargest(20, 'n_attractor_fields')\n"
   ],
   "metadata": {
    "collapsed": false
   },
   "id": "b55082d2687f8e63",
   "execution_count": null
  },
  {
   "cell_type": "code",
   "outputs": [],
   "source": [
    "import matplotlib.pyplot as plt\n",
    "import numpy as np\n",
    "\n",
    "# Función para graficar una métrica específica\n",
    "def plot_metric(df_linear, df_circle, metric, label_y, title):\n",
    "    positions = np.arange(1, 21)[::-1]  # Invertir el orden para mostrar la posición en el top\n",
    "    width = 0.35\n",
    "\n",
    "    # Crear una figura y ejes\n",
    "    fig, ax = plt.subplots(figsize=(10, 6))\n",
    "\n",
    "    # Crear barras para Linear\n",
    "    ax.bar(positions - width/2, df_linear[metric], width, label='Linear', color='blue')\n",
    "    # Crear barras para Circle\n",
    "    ax.bar(positions + width/2, df_circle[metric], width, label='Circle', color='red')\n",
    "\n",
    "    ax.set_title(f'Top 20 {title}')\n",
    "    ax.set_ylabel(f'Number of {label_y}')  # Etiqueta en el eje y\n",
    "    ax.set_xticks(positions)\n",
    "    ax.set_xticklabels(positions)  # Agregar esta línea para mostrar las etiquetas\n",
    "    ax.legend()\n",
    "\n",
    "    # Mostrar el gráfico\n",
    "    plt.tight_layout()\n",
    "    plt.show()\n",
    "\n",
    "# Gráfico para 'n_local_attractors'\n",
    "plot_metric(top_20_v4_attractors, top_20_v3_attractors, 'n_local_attractors', \"Local Attractors\", 'Number of Local Attractors')\n",
    "\n",
    "# Gráfico para 'n_pair_attractors'\n",
    "plot_metric(top_20_v4_pairs, top_20_v3_pairs, 'n_pair_attractors', \"Attractor Pairs\", 'Number of Attractor Pairs')\n",
    "\n",
    "# Gráfico para 'n_attractor_fields'\n",
    "plot_metric(top_20_v4_fields, top_20_v3_fields, 'n_attractor_fields', 'Attractor Fields', 'Number of Attractor Fields')"
   ],
   "metadata": {
    "collapsed": false
   },
   "id": "4e4084a4d4376b9",
   "execution_count": null
  },
  {
   "cell_type": "code",
   "outputs": [],
   "source": [
    "# Filtrar el DataFrame para v_topology=3 y v_topology=4\n",
    "df_topology_4 = df_local_networks_n[df_local_networks_n['v_topology'] == 4].set_index(['n_local_networks', 'i_sample'])\n",
    "df_topology_3 = df_local_networks_n[df_local_networks_n['v_topology'] == 3].set_index(['n_local_networks', 'i_sample'])\n",
    "\n",
    "# Realizar la resta y crear una nueva columna\n",
    "df_resume = pd.DataFrame({\n",
    "    'i_index': df_topology_3.index,\n",
    "    # 'circle_local_attractors' : df_topology_3['n_local_attractors'],\n",
    "    # 'linear_local_attractors' : df_topology_4['n_local_attractors'],\n",
    "    # 'circle_attractors_pairs' : df_topology_3['n_pair_attractors'],\n",
    "    # 'linear_attractors_pairs' : df_topology_4['n_pair_attractors'],\n",
    "    'circle_attractors_fields' : df_topology_3['n_attractor_fields'],\n",
    "    'linear_attractors_fields' : df_topology_4['n_attractor_fields']\n",
    "    })\n",
    "df_resume = df_resume.replace([np.inf, -np.inf], np.nan).dropna()\n",
    "df_resume.describe()"
   ],
   "metadata": {
    "collapsed": false
   },
   "id": "febf9c624c2ad670",
   "execution_count": null
  },
  {
   "cell_type": "code",
   "outputs": [],
   "source": [
    "# Filter the graphs\n",
    "df_local_networks_n = df[df['n_local_networks'] == 9]\n",
    "# df_local_networks_n = df[df['n_local_networks'] == 4]\n",
    "# df_local_networks_n[df_local_networks_n['v_topology'] == 3].describe()\n",
    "# df_local_networks_n[df_local_networks_n['v_topology'] == 3].describe()\n",
    "\n",
    "# Violin graphs\n",
    "l_topologies = df_local_networks_n['v_topology'].unique()\n",
    "labels_topologies = {4: \"Linear\", 3: \"Circle\"}\n",
    "grouped = df_local_networks_n.groupby(\"n_local_networks\")\n",
    "\n",
    "labels = {key: label for key, label in zip(df_local_networks_n.keys()[-6:-3], [\n",
    "    \"Number of attractors\",\n",
    "    \"Number of pairs attractors\",\n",
    "    \"Number of attractor fields\"])}\n",
    "log_scale = {key: label for key, label in zip(df_local_networks_n.keys()[-6:-3], [False, False, True])}\n",
    "grouped = df_local_networks_n.groupby(\"v_topology\")\n",
    "\n",
    "for key in df_local_networks_n.keys()[-6:-3]:\n",
    "    fig, axs = plt.subplots(1, l_topologies.size, sharey=True, figsize=(5, 5))\n",
    "    for ax, i_topology in zip(axs, l_topologies):\n",
    "        group = grouped.get_group(i_topology)\n",
    "        data = group[key]\n",
    "        mean = ax.axhline(y=data.mean(), xmin=0.0, xmax=1.0, color='g', ls='--',\n",
    "                          label=fr'$\\bar{{x}}={data.mean():.4g}$')\n",
    "        std_max = ax.axhline(y=data.mean() + data.std(), xmin=0.0, xmax=1.0, color='r', ls='--',\n",
    "                             label=fr'$\\sigma={data.std():.4g}$')\n",
    "        ax.legend()\n",
    "        if log_scale[key]:\n",
    "            ax.set_yscale('symlog')\n",
    "        ax.boxplot(data)\n",
    "        ax.violinplot(data)\n",
    "        ax.set_xlabel(f'Topology: {labels_topologies[i_topology]}')\n",
    "        ax.set_xticks([])\n",
    "        ax.set_xlim((0.5, 1.5))\n",
    "    fig.suptitle(labels[key])\n",
    "    fig.tight_layout(w_pad=0)\n",
    "\n",
    "# Filtrar por v_topology\n",
    "df_v4 = df_local_networks_n[df_local_networks_n['v_topology'] == 4]\n",
    "df_v3 = df_local_networks_n[df_local_networks_n['v_topology'] == 3]\n",
    "\n",
    "# Seleccionar los 20 mejores valores de df_v4 y df_v3 para cada métrica\n",
    "top_20_v4_attractors = df_v4.nlargest(20, 'n_local_attractors')\n",
    "top_20_v3_attractors = df_v3.nlargest(20, 'n_local_attractors')\n",
    "\n",
    "top_20_v4_pairs = df_v4.nlargest(20, 'n_pair_attractors')\n",
    "top_20_v3_pairs = df_v3.nlargest(20, 'n_pair_attractors')\n",
    "\n",
    "top_20_v4_fields = df_v4.nlargest(20, 'n_attractor_fields')\n",
    "top_20_v3_fields = df_v3.nlargest(20, 'n_attractor_fields')\n",
    "\n",
    "# Ordenar los DataFrames por 'i_sample'\n",
    "top_20_v4_attractors = top_20_v4_attractors.sort_values('i_sample')\n",
    "top_20_v3_attractors = top_20_v3_attractors.sort_values('i_sample')\n",
    "\n",
    "top_20_v4_pairs = top_20_v4_pairs.sort_values('i_sample')\n",
    "top_20_v3_pairs = top_20_v3_pairs.sort_values('i_sample')\n",
    "\n",
    "top_20_v4_fields = top_20_v4_fields.sort_values('i_sample')\n",
    "top_20_v3_fields = top_20_v3_fields.sort_values('i_sample')\n",
    "\n",
    "# Crear gráfico combinado de línea para 'n_local_attractors', 'n_pair_attractors' y 'n_attractor_fields'\n",
    "plt.figure(figsize=(15, 15))\n",
    "\n",
    "# Gráfico para 'n_local_attractors'\n",
    "plt.subplot(3, 1, 1)\n",
    "plt.plot(top_20_v4_attractors['i_sample'], top_20_v4_attractors['n_local_attractors'], 'o-', color='blue', label='Linear - n_local_attractors')\n",
    "plt.plot(top_20_v3_attractors['i_sample'], top_20_v3_attractors['n_local_attractors'], 'o-', color='red', label='Circle - n_local_attractors')\n",
    "plt.title('Circle y Linear - Top 20 Number Attractors')\n",
    "plt.xlabel('i_sample')\n",
    "plt.ylabel('n_local_attractors')\n",
    "plt.legend()\n",
    "\n",
    "# Gráfico para 'n_pair_attractors'\n",
    "plt.subplot(3, 1, 2)\n",
    "plt.plot(top_20_v4_pairs['i_sample'], top_20_v4_pairs['n_pair_attractors'], 'o-', color='blue', label='Linear - n_pair_attractors')\n",
    "plt.plot(top_20_v3_pairs['i_sample'], top_20_v3_pairs['n_pair_attractors'], 'o-', color='red', label='Circle - n_pair_attractors')\n",
    "plt.title('Circle y Linear - Top 20 Number Attractor Pairs')\n",
    "plt.xlabel('i_sample')\n",
    "plt.ylabel('n_pair_attractors')\n",
    "plt.legend()\n",
    "\n",
    "# Gráfico para 'n_attractor_fields'\n",
    "plt.subplot(3, 1, 3)\n",
    "plt.plot(top_20_v4_fields['i_sample'], top_20_v4_fields['n_attractor_fields'], 'o-', color='blue', label='Linear - n_attractor_fields')\n",
    "plt.plot(top_20_v3_fields['i_sample'], top_20_v3_fields['n_attractor_fields'], 'o-', color='red', label='Circle - n_attractor_fields')\n",
    "plt.title('Circle y Linear - Top 20 Number Attractor Fields')\n",
    "plt.xlabel('i_sample')\n",
    "plt.ylabel('n_attractor_fields')\n",
    "plt.legend()\n",
    "\n",
    "plt.tight_layout()\n",
    "plt.show()\n",
    "\n",
    "# Filtrar el DataFrame para v_topology=3 y v_topology=4\n",
    "df_topology_4 = df_local_networks_n[df_local_networks_n['v_topology'] == 4].set_index(['n_local_networks', 'i_sample'])\n",
    "df_topology_3 = df_local_networks_n[df_local_networks_n['v_topology'] == 3].set_index(['n_local_networks', 'i_sample'])\n",
    "\n",
    "# Realizar la resta y crear una nueva columna\n",
    "df_resume = pd.DataFrame({\n",
    "    'i_index': df_topology_3.index,\n",
    "    # 'circle_local_attractors' : df_topology_3['n_local_attractors'],\n",
    "    # 'linear_local_attractors' : df_topology_4['n_local_attractors'],\n",
    "    # 'circle_attractors_pairs' : df_topology_3['n_pair_attractors'],\n",
    "    # 'linear_attractors_pairs' : df_topology_4['n_pair_attractors'],\n",
    "    'circle_attractors_fields' : df_topology_3['n_attractor_fields'],\n",
    "    'linear_attractors_fields' : df_topology_4['n_attractor_fields']\n",
    "})\n",
    "df_resume = df_resume.replace([np.inf, -np.inf], np.nan).dropna()\n",
    "df_resume.describe()"
   ],
   "metadata": {
    "collapsed": false
   },
   "id": "fb8d1a0c6fd759ac",
   "execution_count": null
  }
 ],
 "metadata": {
  "kernelspec": {
   "display_name": "Python 3",
   "language": "python",
   "name": "python3"
  },
  "language_info": {
   "codemirror_mode": {
    "name": "ipython",
    "version": 2
   },
   "file_extension": ".py",
   "mimetype": "text/x-python",
   "name": "python",
   "nbconvert_exporter": "python",
   "pygments_lexer": "ipython2",
   "version": "2.7.6"
  }
 },
 "nbformat": 4,
 "nbformat_minor": 5
}
