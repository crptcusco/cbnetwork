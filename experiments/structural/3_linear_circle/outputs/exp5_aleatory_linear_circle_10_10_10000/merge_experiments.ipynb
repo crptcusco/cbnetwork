{
 "cells": [
  {
   "cell_type": "code",
   "execution_count": 5,
   "id": "initial_id",
   "metadata": {
    "collapsed": true,
    "ExecuteTime": {
     "end_time": "2024-03-26T22:05:26.929200Z",
     "start_time": "2024-03-26T22:05:26.882287Z"
    }
   },
   "outputs": [
    {
     "data": {
      "text/plain": "Index(['i_sample', 'n_local_networks', 'n_var_network', 'v_topology',\n       'n_output_variables', 'n_clauses_function', 'n_local_attractors',\n       'n_pair_attractors', 'n_attractor_fields', 'n_time_find_attractors',\n       'n_time_find_pairs', 'n_time_find_fields'],\n      dtype='object')"
     },
     "execution_count": 5,
     "metadata": {},
     "output_type": "execute_result"
    }
   ],
   "source": [
    "import pandas as pd\n",
    "\n",
    "# Leer los dos archivos CSV en DataFrames\n",
    "df1 = pd.read_csv('data.csv')\n",
    "df2 = pd.read_csv('../exp5_aleatory_linear_circle_10_10_1000/data.csv')\n",
    "df3 = pd.read_csv('../exp5_aleatory_linear_circle_10_10_695/data.csv')\n",
    "\n",
    "# Eliminar el último elemento del DataFrame\n",
    "df1 = df1.iloc[:-1]\n",
    "\n",
    "df1.keys()"
   ]
  },
  {
   "cell_type": "code",
   "outputs": [
    {
     "data": {
      "text/plain": "      i_sample  n_local_networks  n_var_network  v_topology  \\\n1995       998                10              5           3   \n1996       999                10              5           4   \n1997       999                10              5           3   \n1998      1000                10              5           4   \n1999      1000                10              5           3   \n\n      n_output_variables  n_clauses_function  n_local_attractors  \\\n1995                   2                   2                  30   \n1996                   2                   2                  49   \n1997                   2                   2                  50   \n1998                   2                   2                  19   \n1999                   2                   2                  20   \n\n      n_pair_attractors  n_attractor_fields  n_time_find_attractors  \\\n1995                 60                1024                0.349849   \n1996                 88                2048                0.536721   \n1997                100                1024                0.471411   \n1998                 17                   1                0.298511   \n1999                 20                   1                0.297491   \n\n      n_time_find_pairs  n_time_find_fields  \n1995           0.000288            0.087069  \n1996           0.000275            0.084174  \n1997           0.000134            0.141171  \n1998           0.000111            0.000073  \n1999           0.000127            0.000122  ",
      "text/html": "<div>\n<style scoped>\n    .dataframe tbody tr th:only-of-type {\n        vertical-align: middle;\n    }\n\n    .dataframe tbody tr th {\n        vertical-align: top;\n    }\n\n    .dataframe thead th {\n        text-align: right;\n    }\n</style>\n<table border=\"1\" class=\"dataframe\">\n  <thead>\n    <tr style=\"text-align: right;\">\n      <th></th>\n      <th>i_sample</th>\n      <th>n_local_networks</th>\n      <th>n_var_network</th>\n      <th>v_topology</th>\n      <th>n_output_variables</th>\n      <th>n_clauses_function</th>\n      <th>n_local_attractors</th>\n      <th>n_pair_attractors</th>\n      <th>n_attractor_fields</th>\n      <th>n_time_find_attractors</th>\n      <th>n_time_find_pairs</th>\n      <th>n_time_find_fields</th>\n    </tr>\n  </thead>\n  <tbody>\n    <tr>\n      <th>1995</th>\n      <td>998</td>\n      <td>10</td>\n      <td>5</td>\n      <td>3</td>\n      <td>2</td>\n      <td>2</td>\n      <td>30</td>\n      <td>60</td>\n      <td>1024</td>\n      <td>0.349849</td>\n      <td>0.000288</td>\n      <td>0.087069</td>\n    </tr>\n    <tr>\n      <th>1996</th>\n      <td>999</td>\n      <td>10</td>\n      <td>5</td>\n      <td>4</td>\n      <td>2</td>\n      <td>2</td>\n      <td>49</td>\n      <td>88</td>\n      <td>2048</td>\n      <td>0.536721</td>\n      <td>0.000275</td>\n      <td>0.084174</td>\n    </tr>\n    <tr>\n      <th>1997</th>\n      <td>999</td>\n      <td>10</td>\n      <td>5</td>\n      <td>3</td>\n      <td>2</td>\n      <td>2</td>\n      <td>50</td>\n      <td>100</td>\n      <td>1024</td>\n      <td>0.471411</td>\n      <td>0.000134</td>\n      <td>0.141171</td>\n    </tr>\n    <tr>\n      <th>1998</th>\n      <td>1000</td>\n      <td>10</td>\n      <td>5</td>\n      <td>4</td>\n      <td>2</td>\n      <td>2</td>\n      <td>19</td>\n      <td>17</td>\n      <td>1</td>\n      <td>0.298511</td>\n      <td>0.000111</td>\n      <td>0.000073</td>\n    </tr>\n    <tr>\n      <th>1999</th>\n      <td>1000</td>\n      <td>10</td>\n      <td>5</td>\n      <td>3</td>\n      <td>2</td>\n      <td>2</td>\n      <td>20</td>\n      <td>20</td>\n      <td>1</td>\n      <td>0.297491</td>\n      <td>0.000127</td>\n      <td>0.000122</td>\n    </tr>\n  </tbody>\n</table>\n</div>"
     },
     "execution_count": 6,
     "metadata": {},
     "output_type": "execute_result"
    }
   ],
   "source": [
    "df2.tail()"
   ],
   "metadata": {
    "collapsed": false,
    "ExecuteTime": {
     "end_time": "2024-03-26T22:05:26.950668Z",
     "start_time": "2024-03-26T22:05:26.931970Z"
    }
   },
   "id": "2a79c01157a83468",
   "execution_count": 6
  },
  {
   "cell_type": "code",
   "outputs": [
    {
     "data": {
      "text/plain": "       i_sample  n_local_networks  n_var_network  v_topology  \\\n19990      9996                10              5           4   \n19991      9996                10              5           3   \n19992      9997                10              5           4   \n19993      9997                10              5           3   \n19994      9998                10              5           4   \n19995      9998                10              5           3   \n19996      9999                10              5           4   \n19997      9999                10              5           3   \n19998     10000                10              5           4   \n19999     10000                10              5           3   \n\n       n_output_variables  n_clauses_function  n_local_attractors  \\\n19990                   2                   2                  68   \n19991                   2                   2                  70   \n19992                   2                   2                  29   \n19993                   2                   2                  30   \n19994                   2                   2                  19   \n19995                   2                   2                  20   \n19996                   2                   2                  19   \n19997                   2                   2                  20   \n19998                   2                   2                  59   \n19999                   2                   2                  60   \n\n       n_pair_attractors  n_attractor_fields  n_time_find_attractors  \\\n19990                278             3383392                1.600595   \n19991                320             3041600                1.772245   \n19992                 52                1024                0.814229   \n19993                 60                1024                0.890290   \n19994                 17                   1                0.905278   \n19995                 20                   1                0.919563   \n19996                 17                   1                0.868410   \n19997                 20                   1                0.921684   \n19998                 53                   5                1.503291   \n19999                 60                   1                1.627600   \n\n       n_time_find_pairs  n_time_find_fields  \n19990           0.000387          135.982561  \n19991           0.000467          914.770971  \n19992           0.000341            0.028813  \n19993           0.000611            0.100795  \n19994           0.000368            0.000181  \n19995           0.000461            0.000338  \n19996           0.000327            0.000185  \n19997           0.000400            0.000295  \n19998           0.000478            0.001303  \n19999           0.000364            0.001371  ",
      "text/html": "<div>\n<style scoped>\n    .dataframe tbody tr th:only-of-type {\n        vertical-align: middle;\n    }\n\n    .dataframe tbody tr th {\n        vertical-align: top;\n    }\n\n    .dataframe thead th {\n        text-align: right;\n    }\n</style>\n<table border=\"1\" class=\"dataframe\">\n  <thead>\n    <tr style=\"text-align: right;\">\n      <th></th>\n      <th>i_sample</th>\n      <th>n_local_networks</th>\n      <th>n_var_network</th>\n      <th>v_topology</th>\n      <th>n_output_variables</th>\n      <th>n_clauses_function</th>\n      <th>n_local_attractors</th>\n      <th>n_pair_attractors</th>\n      <th>n_attractor_fields</th>\n      <th>n_time_find_attractors</th>\n      <th>n_time_find_pairs</th>\n      <th>n_time_find_fields</th>\n    </tr>\n  </thead>\n  <tbody>\n    <tr>\n      <th>19990</th>\n      <td>9996</td>\n      <td>10</td>\n      <td>5</td>\n      <td>4</td>\n      <td>2</td>\n      <td>2</td>\n      <td>68</td>\n      <td>278</td>\n      <td>3383392</td>\n      <td>1.600595</td>\n      <td>0.000387</td>\n      <td>135.982561</td>\n    </tr>\n    <tr>\n      <th>19991</th>\n      <td>9996</td>\n      <td>10</td>\n      <td>5</td>\n      <td>3</td>\n      <td>2</td>\n      <td>2</td>\n      <td>70</td>\n      <td>320</td>\n      <td>3041600</td>\n      <td>1.772245</td>\n      <td>0.000467</td>\n      <td>914.770971</td>\n    </tr>\n    <tr>\n      <th>19992</th>\n      <td>9997</td>\n      <td>10</td>\n      <td>5</td>\n      <td>4</td>\n      <td>2</td>\n      <td>2</td>\n      <td>29</td>\n      <td>52</td>\n      <td>1024</td>\n      <td>0.814229</td>\n      <td>0.000341</td>\n      <td>0.028813</td>\n    </tr>\n    <tr>\n      <th>19993</th>\n      <td>9997</td>\n      <td>10</td>\n      <td>5</td>\n      <td>3</td>\n      <td>2</td>\n      <td>2</td>\n      <td>30</td>\n      <td>60</td>\n      <td>1024</td>\n      <td>0.890290</td>\n      <td>0.000611</td>\n      <td>0.100795</td>\n    </tr>\n    <tr>\n      <th>19994</th>\n      <td>9998</td>\n      <td>10</td>\n      <td>5</td>\n      <td>4</td>\n      <td>2</td>\n      <td>2</td>\n      <td>19</td>\n      <td>17</td>\n      <td>1</td>\n      <td>0.905278</td>\n      <td>0.000368</td>\n      <td>0.000181</td>\n    </tr>\n    <tr>\n      <th>19995</th>\n      <td>9998</td>\n      <td>10</td>\n      <td>5</td>\n      <td>3</td>\n      <td>2</td>\n      <td>2</td>\n      <td>20</td>\n      <td>20</td>\n      <td>1</td>\n      <td>0.919563</td>\n      <td>0.000461</td>\n      <td>0.000338</td>\n    </tr>\n    <tr>\n      <th>19996</th>\n      <td>9999</td>\n      <td>10</td>\n      <td>5</td>\n      <td>4</td>\n      <td>2</td>\n      <td>2</td>\n      <td>19</td>\n      <td>17</td>\n      <td>1</td>\n      <td>0.868410</td>\n      <td>0.000327</td>\n      <td>0.000185</td>\n    </tr>\n    <tr>\n      <th>19997</th>\n      <td>9999</td>\n      <td>10</td>\n      <td>5</td>\n      <td>3</td>\n      <td>2</td>\n      <td>2</td>\n      <td>20</td>\n      <td>20</td>\n      <td>1</td>\n      <td>0.921684</td>\n      <td>0.000400</td>\n      <td>0.000295</td>\n    </tr>\n    <tr>\n      <th>19998</th>\n      <td>10000</td>\n      <td>10</td>\n      <td>5</td>\n      <td>4</td>\n      <td>2</td>\n      <td>2</td>\n      <td>59</td>\n      <td>53</td>\n      <td>5</td>\n      <td>1.503291</td>\n      <td>0.000478</td>\n      <td>0.001303</td>\n    </tr>\n    <tr>\n      <th>19999</th>\n      <td>10000</td>\n      <td>10</td>\n      <td>5</td>\n      <td>3</td>\n      <td>2</td>\n      <td>2</td>\n      <td>60</td>\n      <td>60</td>\n      <td>1</td>\n      <td>1.627600</td>\n      <td>0.000364</td>\n      <td>0.001371</td>\n    </tr>\n  </tbody>\n</table>\n</div>"
     },
     "execution_count": 7,
     "metadata": {},
     "output_type": "execute_result"
    }
   ],
   "source": [
    "# Calcular el desplazamiento para el índice del segundo DataFrame\n",
    "desplazamiento = df1['i_sample'].iloc[-1]\n",
    "\n",
    "# Agregar el desplazamiento al índice del segundo DataFrame\n",
    "df2['i_sample'] += desplazamiento\n",
    "\n",
    "# Calcular el desplazamiento para el índice del segundo DataFrame\n",
    "desplazamiento = df2['i_sample'].iloc[-1]\n",
    "\n",
    "# Agregar el desplazamiento al índice del segundo DataFrame\n",
    "df3['i_sample'] += desplazamiento\n",
    "\n",
    "# Concatenar los dos DataFrames\n",
    "df = pd.concat([df1, df2, df3])\n",
    "\n",
    "# Restablecer el índice si es necesario\n",
    "df.reset_index(drop=True, inplace=True)\n",
    "\n",
    "# Mostrar el DataFrame resultante\n",
    "df.tail(10)"
   ],
   "metadata": {
    "collapsed": false,
    "ExecuteTime": {
     "end_time": "2024-03-26T22:05:26.978741Z",
     "start_time": "2024-03-26T22:05:26.953139Z"
    }
   },
   "id": "6dd9022c71de9559",
   "execution_count": 7
  },
  {
   "cell_type": "code",
   "outputs": [],
   "source": [
    "# Guardar el DataFrame en un archivo CSV\n",
    "df.to_csv('data_merged.csv')"
   ],
   "metadata": {
    "collapsed": false,
    "ExecuteTime": {
     "end_time": "2024-03-26T22:05:27.126983Z",
     "start_time": "2024-03-26T22:05:26.981147Z"
    }
   },
   "id": "32be2aa9222cd3af",
   "execution_count": 8
  }
 ],
 "metadata": {
  "kernelspec": {
   "display_name": "Python 3",
   "language": "python",
   "name": "python3"
  },
  "language_info": {
   "codemirror_mode": {
    "name": "ipython",
    "version": 2
   },
   "file_extension": ".py",
   "mimetype": "text/x-python",
   "name": "python",
   "nbconvert_exporter": "python",
   "pygments_lexer": "ipython2",
   "version": "2.7.6"
  }
 },
 "nbformat": 4,
 "nbformat_minor": 5
}
