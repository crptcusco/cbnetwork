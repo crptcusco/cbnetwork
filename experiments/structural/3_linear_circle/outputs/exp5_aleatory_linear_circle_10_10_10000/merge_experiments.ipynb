{
 "cells": [
  {
   "cell_type": "code",
   "execution_count": 5,
   "id": "initial_id",
   "metadata": {
    "collapsed": true,
    "ExecuteTime": {
     "end_time": "2024-03-26T01:24:14.286032Z",
     "start_time": "2024-03-26T01:24:14.249200Z"
    }
   },
   "outputs": [
    {
     "data": {
      "text/plain": "Index(['i_sample', 'n_local_networks', 'n_var_network', 'v_topology',\n       'n_output_variables', 'n_clauses_function', 'n_local_attractors',\n       'n_pair_attractors', 'n_attractor_fields', 'n_time_find_attractors',\n       'n_time_find_pairs', 'n_time_find_fields'],\n      dtype='object')"
     },
     "execution_count": 5,
     "metadata": {},
     "output_type": "execute_result"
    }
   ],
   "source": [
    "import pandas as pd\n",
    "\n",
    "# Leer los dos archivos CSV en DataFrames\n",
    "df1 = pd.read_csv('data.csv')\n",
    "df2 = pd.read_csv('../exp5_aleatory_linear_circle_10_10_1000/data.csv')\n",
    "\n",
    "# Eliminar el último elemento del DataFrame\n",
    "df1 = df1.iloc[:-1]\n",
    "\n",
    "df1.keys()"
   ]
  },
  {
   "cell_type": "code",
   "outputs": [
    {
     "data": {
      "text/plain": "      i_sample  n_local_networks  n_var_network  v_topology  \\\n1995       998                10              5           3   \n1996       999                10              5           4   \n1997       999                10              5           3   \n1998      1000                10              5           4   \n1999      1000                10              5           3   \n\n      n_output_variables  n_clauses_function  n_local_attractors  \\\n1995                   2                   2                  30   \n1996                   2                   2                  49   \n1997                   2                   2                  50   \n1998                   2                   2                  19   \n1999                   2                   2                  20   \n\n      n_pair_attractors  n_attractor_fields  n_time_find_attractors  \\\n1995                 60                1024                0.349849   \n1996                 88                2048                0.536721   \n1997                100                1024                0.471411   \n1998                 17                   1                0.298511   \n1999                 20                   1                0.297491   \n\n      n_time_find_pairs  n_time_find_fields  \n1995           0.000288            0.087069  \n1996           0.000275            0.084174  \n1997           0.000134            0.141171  \n1998           0.000111            0.000073  \n1999           0.000127            0.000122  ",
      "text/html": "<div>\n<style scoped>\n    .dataframe tbody tr th:only-of-type {\n        vertical-align: middle;\n    }\n\n    .dataframe tbody tr th {\n        vertical-align: top;\n    }\n\n    .dataframe thead th {\n        text-align: right;\n    }\n</style>\n<table border=\"1\" class=\"dataframe\">\n  <thead>\n    <tr style=\"text-align: right;\">\n      <th></th>\n      <th>i_sample</th>\n      <th>n_local_networks</th>\n      <th>n_var_network</th>\n      <th>v_topology</th>\n      <th>n_output_variables</th>\n      <th>n_clauses_function</th>\n      <th>n_local_attractors</th>\n      <th>n_pair_attractors</th>\n      <th>n_attractor_fields</th>\n      <th>n_time_find_attractors</th>\n      <th>n_time_find_pairs</th>\n      <th>n_time_find_fields</th>\n    </tr>\n  </thead>\n  <tbody>\n    <tr>\n      <th>1995</th>\n      <td>998</td>\n      <td>10</td>\n      <td>5</td>\n      <td>3</td>\n      <td>2</td>\n      <td>2</td>\n      <td>30</td>\n      <td>60</td>\n      <td>1024</td>\n      <td>0.349849</td>\n      <td>0.000288</td>\n      <td>0.087069</td>\n    </tr>\n    <tr>\n      <th>1996</th>\n      <td>999</td>\n      <td>10</td>\n      <td>5</td>\n      <td>4</td>\n      <td>2</td>\n      <td>2</td>\n      <td>49</td>\n      <td>88</td>\n      <td>2048</td>\n      <td>0.536721</td>\n      <td>0.000275</td>\n      <td>0.084174</td>\n    </tr>\n    <tr>\n      <th>1997</th>\n      <td>999</td>\n      <td>10</td>\n      <td>5</td>\n      <td>3</td>\n      <td>2</td>\n      <td>2</td>\n      <td>50</td>\n      <td>100</td>\n      <td>1024</td>\n      <td>0.471411</td>\n      <td>0.000134</td>\n      <td>0.141171</td>\n    </tr>\n    <tr>\n      <th>1998</th>\n      <td>1000</td>\n      <td>10</td>\n      <td>5</td>\n      <td>4</td>\n      <td>2</td>\n      <td>2</td>\n      <td>19</td>\n      <td>17</td>\n      <td>1</td>\n      <td>0.298511</td>\n      <td>0.000111</td>\n      <td>0.000073</td>\n    </tr>\n    <tr>\n      <th>1999</th>\n      <td>1000</td>\n      <td>10</td>\n      <td>5</td>\n      <td>3</td>\n      <td>2</td>\n      <td>2</td>\n      <td>20</td>\n      <td>20</td>\n      <td>1</td>\n      <td>0.297491</td>\n      <td>0.000127</td>\n      <td>0.000122</td>\n    </tr>\n  </tbody>\n</table>\n</div>"
     },
     "execution_count": 6,
     "metadata": {},
     "output_type": "execute_result"
    }
   ],
   "source": [
    "df2.tail()"
   ],
   "metadata": {
    "collapsed": false,
    "ExecuteTime": {
     "end_time": "2024-03-26T01:24:14.302933Z",
     "start_time": "2024-03-26T01:24:14.289111Z"
    }
   },
   "id": "2a79c01157a83468",
   "execution_count": 6
  },
  {
   "cell_type": "code",
   "outputs": [
    {
     "data": {
      "text/plain": "       i_sample  n_local_networks  n_var_network  v_topology  \\\n18600      9301                10              5           4   \n18601      9301                10              5           3   \n18602      9302                10              5           4   \n18603      9302                10              5           3   \n18604      9303                10              5           4   \n18605      9303                10              5           3   \n18606      9304                10              5           4   \n18607      9304                10              5           3   \n18608      9305                10              5           4   \n18609      9305                10              5           3   \n\n       n_output_variables  n_clauses_function  n_local_attractors  \\\n18600                   2                   2                  29   \n18601                   2                   2                  30   \n18602                   2                   2                  78   \n18603                   2                   2                  80   \n18604                   2                   2                  29   \n18605                   2                   2                  30   \n18606                   2                   2                  49   \n18607                   2                   2                  50   \n18608                   2                   2                  19   \n18609                   2                   2                  20   \n\n       n_pair_attractors  n_attractor_fields  n_time_find_attractors  \\\n18600                 52                1024                0.320790   \n18601                 60                1024                0.333933   \n18602                420            60466176                0.588076   \n18603                480            60466176                0.612777   \n18604                 52                1024                0.304869   \n18605                 60                1024                0.349849   \n18606                 88                2048                0.536721   \n18607                100                1024                0.471411   \n18608                 17                   1                0.298511   \n18609                 20                   1                0.297491   \n\n       n_time_find_pairs  n_time_find_fields  \n18600           0.000168            0.023369  \n18601           0.000178            0.072225  \n18602           0.000148         1561.380641  \n18603           0.000171        14139.910398  \n18604           0.000116            0.015682  \n18605           0.000288            0.087069  \n18606           0.000275            0.084174  \n18607           0.000134            0.141171  \n18608           0.000111            0.000073  \n18609           0.000127            0.000122  ",
      "text/html": "<div>\n<style scoped>\n    .dataframe tbody tr th:only-of-type {\n        vertical-align: middle;\n    }\n\n    .dataframe tbody tr th {\n        vertical-align: top;\n    }\n\n    .dataframe thead th {\n        text-align: right;\n    }\n</style>\n<table border=\"1\" class=\"dataframe\">\n  <thead>\n    <tr style=\"text-align: right;\">\n      <th></th>\n      <th>i_sample</th>\n      <th>n_local_networks</th>\n      <th>n_var_network</th>\n      <th>v_topology</th>\n      <th>n_output_variables</th>\n      <th>n_clauses_function</th>\n      <th>n_local_attractors</th>\n      <th>n_pair_attractors</th>\n      <th>n_attractor_fields</th>\n      <th>n_time_find_attractors</th>\n      <th>n_time_find_pairs</th>\n      <th>n_time_find_fields</th>\n    </tr>\n  </thead>\n  <tbody>\n    <tr>\n      <th>18600</th>\n      <td>9301</td>\n      <td>10</td>\n      <td>5</td>\n      <td>4</td>\n      <td>2</td>\n      <td>2</td>\n      <td>29</td>\n      <td>52</td>\n      <td>1024</td>\n      <td>0.320790</td>\n      <td>0.000168</td>\n      <td>0.023369</td>\n    </tr>\n    <tr>\n      <th>18601</th>\n      <td>9301</td>\n      <td>10</td>\n      <td>5</td>\n      <td>3</td>\n      <td>2</td>\n      <td>2</td>\n      <td>30</td>\n      <td>60</td>\n      <td>1024</td>\n      <td>0.333933</td>\n      <td>0.000178</td>\n      <td>0.072225</td>\n    </tr>\n    <tr>\n      <th>18602</th>\n      <td>9302</td>\n      <td>10</td>\n      <td>5</td>\n      <td>4</td>\n      <td>2</td>\n      <td>2</td>\n      <td>78</td>\n      <td>420</td>\n      <td>60466176</td>\n      <td>0.588076</td>\n      <td>0.000148</td>\n      <td>1561.380641</td>\n    </tr>\n    <tr>\n      <th>18603</th>\n      <td>9302</td>\n      <td>10</td>\n      <td>5</td>\n      <td>3</td>\n      <td>2</td>\n      <td>2</td>\n      <td>80</td>\n      <td>480</td>\n      <td>60466176</td>\n      <td>0.612777</td>\n      <td>0.000171</td>\n      <td>14139.910398</td>\n    </tr>\n    <tr>\n      <th>18604</th>\n      <td>9303</td>\n      <td>10</td>\n      <td>5</td>\n      <td>4</td>\n      <td>2</td>\n      <td>2</td>\n      <td>29</td>\n      <td>52</td>\n      <td>1024</td>\n      <td>0.304869</td>\n      <td>0.000116</td>\n      <td>0.015682</td>\n    </tr>\n    <tr>\n      <th>18605</th>\n      <td>9303</td>\n      <td>10</td>\n      <td>5</td>\n      <td>3</td>\n      <td>2</td>\n      <td>2</td>\n      <td>30</td>\n      <td>60</td>\n      <td>1024</td>\n      <td>0.349849</td>\n      <td>0.000288</td>\n      <td>0.087069</td>\n    </tr>\n    <tr>\n      <th>18606</th>\n      <td>9304</td>\n      <td>10</td>\n      <td>5</td>\n      <td>4</td>\n      <td>2</td>\n      <td>2</td>\n      <td>49</td>\n      <td>88</td>\n      <td>2048</td>\n      <td>0.536721</td>\n      <td>0.000275</td>\n      <td>0.084174</td>\n    </tr>\n    <tr>\n      <th>18607</th>\n      <td>9304</td>\n      <td>10</td>\n      <td>5</td>\n      <td>3</td>\n      <td>2</td>\n      <td>2</td>\n      <td>50</td>\n      <td>100</td>\n      <td>1024</td>\n      <td>0.471411</td>\n      <td>0.000134</td>\n      <td>0.141171</td>\n    </tr>\n    <tr>\n      <th>18608</th>\n      <td>9305</td>\n      <td>10</td>\n      <td>5</td>\n      <td>4</td>\n      <td>2</td>\n      <td>2</td>\n      <td>19</td>\n      <td>17</td>\n      <td>1</td>\n      <td>0.298511</td>\n      <td>0.000111</td>\n      <td>0.000073</td>\n    </tr>\n    <tr>\n      <th>18609</th>\n      <td>9305</td>\n      <td>10</td>\n      <td>5</td>\n      <td>3</td>\n      <td>2</td>\n      <td>2</td>\n      <td>20</td>\n      <td>20</td>\n      <td>1</td>\n      <td>0.297491</td>\n      <td>0.000127</td>\n      <td>0.000122</td>\n    </tr>\n  </tbody>\n</table>\n</div>"
     },
     "execution_count": 7,
     "metadata": {},
     "output_type": "execute_result"
    }
   ],
   "source": [
    "# Calcular el desplazamiento para el índice del segundo DataFrame\n",
    "desplazamiento = df1['i_sample'].iloc[-1]\n",
    "\n",
    "# Agregar el desplazamiento al índice del segundo DataFrame\n",
    "df2['i_sample'] += desplazamiento\n",
    "\n",
    "# Concatenar los dos DataFrames\n",
    "df = pd.concat([df1, df2])\n",
    "\n",
    "# Restablecer el índice si es necesario\n",
    "df.reset_index(drop=True, inplace=True)\n",
    "\n",
    "# Mostrar el DataFrame resultante\n",
    "df.tail(10)"
   ],
   "metadata": {
    "collapsed": false,
    "ExecuteTime": {
     "end_time": "2024-03-26T01:24:14.323453Z",
     "start_time": "2024-03-26T01:24:14.304887Z"
    }
   },
   "id": "6dd9022c71de9559",
   "execution_count": 7
  },
  {
   "cell_type": "code",
   "outputs": [],
   "source": [
    "# Guardar el DataFrame en un archivo CSV\n",
    "df.to_csv('data_merged.csv')"
   ],
   "metadata": {
    "collapsed": false,
    "ExecuteTime": {
     "end_time": "2024-03-26T01:24:14.451507Z",
     "start_time": "2024-03-26T01:24:14.326179Z"
    }
   },
   "id": "32be2aa9222cd3af",
   "execution_count": 8
  }
 ],
 "metadata": {
  "kernelspec": {
   "display_name": "Python 3",
   "language": "python",
   "name": "python3"
  },
  "language_info": {
   "codemirror_mode": {
    "name": "ipython",
    "version": 2
   },
   "file_extension": ".py",
   "mimetype": "text/x-python",
   "name": "python",
   "nbconvert_exporter": "python",
   "pygments_lexer": "ipython2",
   "version": "2.7.6"
  }
 },
 "nbformat": 4,
 "nbformat_minor": 5
}
