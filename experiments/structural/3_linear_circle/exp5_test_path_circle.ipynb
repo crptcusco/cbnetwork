{
 "cells": [
  {
   "cell_type": "code",
   "id": "initial_id",
   "metadata": {
    "collapsed": true
   },
   "source": [
    "from classes.pathcircletemplate import PathCircleTemplate"
   ],
   "outputs": [],
   "execution_count": null
  },
  {
   "cell_type": "code",
   "source": [
    "# Constants for the test\n",
    "N_VAR_NETWORK = 5\n",
    "N_LOCAL_NETWORKS = 6\n",
    "\n",
    "# generate the aleatory local network template object\n",
    "o_PathCircleTemplate = PathCircleTemplate.generate_aleatory_template(n_var_network=N_VAR_NETWORK)\n",
    "o_PathCircleTemplate.show()"
   ],
   "metadata": {
    "collapsed": false
   },
   "id": "cf42b697a9867f33",
   "outputs": [],
   "execution_count": null
  },
  {
   "cell_type": "code",
   "source": [
    "# generate a linear CBN from the template\n",
    "o_linear_cbn = o_PathCircleTemplate.generate_cbn_from_template(v_topology=4,n_local_networks=N_LOCAL_NETWORKS)\n",
    "# generate a ring CBN from the sama template\n",
    "o_ring_cbn = o_PathCircleTemplate.generate_cbn_from_template(v_topology=3,n_local_networks=N_LOCAL_NETWORKS)"
   ],
   "metadata": {
    "collapsed": false
   },
   "id": "3eb9d2d00ec87d6",
   "outputs": [],
   "execution_count": null
  },
  {
   "cell_type": "code",
   "source": "o_linear_cbn.plot_global_graph()",
   "metadata": {
    "collapsed": false
   },
   "id": "4c4dbba39d02d720",
   "outputs": [],
   "execution_count": null
  },
  {
   "cell_type": "code",
   "source": "o_ring_cbn.plot_global_graph()",
   "metadata": {
    "collapsed": false
   },
   "id": "df80a526b3a10d09",
   "outputs": [],
   "execution_count": null
  },
  {
   "cell_type": "code",
   "source": [
    "# Show the detailed from the first local network\n",
    "i_local_network = 0\n",
    "o_ring_cbn.l_local_networks[i_local_network].show()"
   ],
   "metadata": {
    "collapsed": false
   },
   "id": "80f17a7f0a1d4519",
   "outputs": [],
   "execution_count": null
  },
  {
   "cell_type": "code",
   "source": [
    "o_linear_cbn.l_local_networks[i_local_network].show()"
   ],
   "metadata": {
    "collapsed": false
   },
   "id": "f849b59a9a983356",
   "outputs": [],
   "execution_count": null
  }
 ],
 "metadata": {
  "kernelspec": {
   "display_name": "Python 3",
   "language": "python",
   "name": "python3"
  },
  "language_info": {
   "codemirror_mode": {
    "name": "ipython",
    "version": 2
   },
   "file_extension": ".py",
   "mimetype": "text/x-python",
   "name": "python",
   "nbconvert_exporter": "python",
   "pygments_lexer": "ipython2",
   "version": "2.7.6"
  }
 },
 "nbformat": 4,
 "nbformat_minor": 5
}
