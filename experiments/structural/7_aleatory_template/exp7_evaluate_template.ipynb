{
 "cells": [
  {
   "cell_type": "code",
   "id": "initial_id",
   "metadata": {
    "collapsed": true,
    "ExecuteTime": {
     "end_time": "2024-05-23T15:36:43.852045Z",
     "start_time": "2024-05-23T15:36:43.848926Z"
    }
   },
   "source": "from classes.topologytemplate import AleatoryTemplate",
   "outputs": [],
   "execution_count": 45
  },
  {
   "cell_type": "code",
   "source": [
    "# Constants for the test\n",
    "N_VAR_NETWORK = 5\n",
    "N_LOCAL_NETWORKS = 6\n",
    "\n",
    "# generate the aleatory local network template object\n",
    "o_aleatory_template = AleatoryTemplate.generate_aleatory_template(n_var_network=N_VAR_NETWORK)\n",
    "o_aleatory_template.show()"
   ],
   "metadata": {
    "collapsed": false,
    "ExecuteTime": {
     "end_time": "2024-05-23T15:36:43.858464Z",
     "start_time": "2024-05-23T15:36:43.853387Z"
    }
   },
   "id": "cf42b697a9867f33",
   "outputs": [
    {
     "name": "stdout",
     "output_type": "stream",
     "text": [
      "6\n",
      "7\n",
      "8\n",
      "9\n",
      "10\n",
      "Template for Path and Circle CBNs\n",
      "--------------------------------------------------------------------------------\n",
      "Local dynamic:\n",
      "6 : [[11, 6, -9]]\n",
      "7 : [[6], [-7], [-8, 9, 7]]\n",
      "8 : [[11], [10]]\n",
      "9 : [[9, -9], [8]]\n",
      "10 : [[7, -9], [-6], [-7, -6, -9], [8, -7, -9], [6, -9]]\n",
      "Output variables for the coupling signal:\n",
      "[2, 1]\n"
     ]
    }
   ],
   "execution_count": 46
  },
  {
   "metadata": {
    "ExecuteTime": {
     "end_time": "2024-05-23T15:36:43.863337Z",
     "start_time": "2024-05-23T15:36:43.860334Z"
    }
   },
   "cell_type": "code",
   "source": [
    "from classes.cbnetwork import CBN\n",
    "\n",
    "CBN.show_allowed_topologies()"
   ],
   "id": "93cba31625b220b4",
   "outputs": [
    {
     "name": "stdout",
     "output_type": "stream",
     "text": [
      "1 - complete_graph\n",
      "2 - binomial_tree\n",
      "3 - cycle_graph\n",
      "4 - path_graph\n",
      "5 - gn_graph\n",
      "6 - gnc_graph\n",
      "7 - linear_graph\n"
     ]
    }
   ],
   "execution_count": 47
  },
  {
   "cell_type": "code",
   "source": [
    "# generate a linear CBN from the template\n",
    "o_aleatory_cbn = o_aleatory_template.generate_cbn_from_template(v_topology=5, n_local_networks=N_LOCAL_NETWORKS)"
   ],
   "metadata": {
    "collapsed": false,
    "ExecuteTime": {
     "end_time": "2024-05-23T15:36:43.878760Z",
     "start_time": "2024-05-23T15:36:43.864911Z"
    }
   },
   "id": "3eb9d2d00ec87d6",
   "outputs": [
    {
     "ename": "AttributeError",
     "evalue": "'AleatoryTemplate' object has no attribute 'generate_cbn_from_template'",
     "output_type": "error",
     "traceback": [
      "\u001B[0;31m---------------------------------------------------------------------------\u001B[0m",
      "\u001B[0;31mAttributeError\u001B[0m                            Traceback (most recent call last)",
      "Cell \u001B[0;32mIn[48], line 2\u001B[0m\n\u001B[1;32m      1\u001B[0m \u001B[38;5;66;03m# generate a linear CBN from the template\u001B[39;00m\n\u001B[0;32m----> 2\u001B[0m o_aleatory_cbn \u001B[38;5;241m=\u001B[39m \u001B[43mo_AleatoryTemplate\u001B[49m\u001B[38;5;241;43m.\u001B[39;49m\u001B[43mgenerate_cbn_from_template\u001B[49m(v_topology\u001B[38;5;241m=\u001B[39m\u001B[38;5;241m5\u001B[39m,n_local_networks\u001B[38;5;241m=\u001B[39mN_LOCAL_NETWORKS)\n",
      "\u001B[0;31mAttributeError\u001B[0m: 'AleatoryTemplate' object has no attribute 'generate_cbn_from_template'"
     ]
    }
   ],
   "execution_count": 48
  },
  {
   "cell_type": "code",
   "source": "o_aleatory_cbn.plot_global_graph()",
   "metadata": {
    "collapsed": false,
    "ExecuteTime": {
     "end_time": "2024-05-23T15:36:43.880680Z",
     "start_time": "2024-05-23T15:36:43.880503Z"
    }
   },
   "id": "4c4dbba39d02d720",
   "outputs": [],
   "execution_count": null
  },
  {
   "cell_type": "code",
   "source": "o_aleatory_cbn.plot_global_graph()",
   "metadata": {
    "collapsed": false
   },
   "id": "df80a526b3a10d09",
   "outputs": [],
   "execution_count": null
  },
  {
   "cell_type": "code",
   "source": [
    "# Show the detailed from the first local network\n",
    "i_local_network = 0\n",
    "o_aleatory_cbn.l_local_networks[i_local_network].show()"
   ],
   "metadata": {
    "collapsed": false
   },
   "id": "80f17a7f0a1d4519",
   "outputs": [],
   "execution_count": null
  }
 ],
 "metadata": {
  "kernelspec": {
   "display_name": "Python 3",
   "language": "python",
   "name": "python3"
  },
  "language_info": {
   "codemirror_mode": {
    "name": "ipython",
    "version": 2
   },
   "file_extension": ".py",
   "mimetype": "text/x-python",
   "name": "python",
   "nbconvert_exporter": "python",
   "pygments_lexer": "ipython2",
   "version": "2.7.6"
  }
 },
 "nbformat": 4,
 "nbformat_minor": 5
}
