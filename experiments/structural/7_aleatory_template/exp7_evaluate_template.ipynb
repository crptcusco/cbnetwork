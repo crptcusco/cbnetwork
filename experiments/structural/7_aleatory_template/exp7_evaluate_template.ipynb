{
 "cells": [
  {
   "cell_type": "code",
   "id": "initial_id",
   "metadata": {
    "collapsed": true,
    "ExecuteTime": {
     "end_time": "2024-05-22T20:19:12.884958Z",
     "start_time": "2024-05-22T20:19:12.880549Z"
    }
   },
   "source": "from classes.topologytemplate import AleatoryTemplate",
   "outputs": [],
   "execution_count": 21
  },
  {
   "cell_type": "code",
   "source": [
    "# Constants for the test\n",
    "N_VAR_NETWORK = 5\n",
    "N_LOCAL_NETWORKS = 6\n",
    "\n",
    "# generate the aleatory local network template object\n",
    "o_AleatoryTemplate = AleatoryTemplate.generate_aleatory_template(n_var_network=N_VAR_NETWORK)\n",
    "o_AleatoryTemplate.show()"
   ],
   "metadata": {
    "collapsed": false,
    "ExecuteTime": {
     "end_time": "2024-05-22T20:19:12.893316Z",
     "start_time": "2024-05-22T20:19:12.887668Z"
    }
   },
   "id": "cf42b697a9867f33",
   "outputs": [
    {
     "name": "stdout",
     "output_type": "stream",
     "text": [
      "Template for Path and Circle CBNs\n",
      "--------------------------------------------------------------------------------\n",
      "Local dynamic:\n",
      "6 : [[11, -10, 7]]\n",
      "7 : [[8, -6, 9]]\n",
      "8 : [[-7, -8, 6]]\n",
      "9 : [[-8, -6, 11]]\n",
      "10 : [[8, -10, -6]]\n",
      "Output variables for the coupling signal:\n",
      "[2, 5]\n"
     ]
    }
   ],
   "execution_count": 22
  },
  {
   "metadata": {
    "ExecuteTime": {
     "end_time": "2024-05-22T20:19:12.901116Z",
     "start_time": "2024-05-22T20:19:12.896523Z"
    }
   },
   "cell_type": "code",
   "source": [
    "from classes.cbnetwork import CBN\n",
    "\n",
    "CBN.show_allowed_topologies()"
   ],
   "id": "93cba31625b220b4",
   "outputs": [
    {
     "name": "stdout",
     "output_type": "stream",
     "text": [
      "1 - complete_graph\n",
      "2 - binomial_tree\n",
      "3 - cycle_graph\n",
      "4 - path_graph\n",
      "5 - gn_graph\n",
      "6 - gnc_graph\n",
      "7 - linear_graph\n"
     ]
    }
   ],
   "execution_count": 23
  },
  {
   "cell_type": "code",
   "source": [
    "# generate a linear CBN from the template\n",
    "o_aleatory_cbn = o_AleatoryTemplate.generate_cbn_from_template(v_topology=5,n_local_networks=N_LOCAL_NETWORKS)"
   ],
   "metadata": {
    "collapsed": false,
    "ExecuteTime": {
     "end_time": "2024-05-22T20:19:12.966804Z",
     "start_time": "2024-05-22T20:19:12.903347Z"
    }
   },
   "id": "3eb9d2d00ec87d6",
   "outputs": [
    {
     "name": "stdout",
     "output_type": "stream",
     "text": [
      "--------------------------------------------------\n",
      "Local Network: 1\n",
      "--------------------------------------------------\n",
      "Local Variable index: 1\n",
      "Template Variable index: 6\n",
      "CNF Function: [[11, -10, 7]]\n",
      "1 : [[31, -5, 2]]\n",
      "--------------------------------------------------\n",
      "Local Variable index: 2\n",
      "Template Variable index: 7\n",
      "CNF Function: [[8, -6, 9]]\n",
      "2 : [[3, -1, 4]]\n",
      "--------------------------------------------------\n",
      "Local Variable index: 3\n",
      "Template Variable index: 8\n",
      "CNF Function: [[-7, -8, 6]]\n",
      "3 : [[-2, -3, 1]]\n",
      "--------------------------------------------------\n",
      "Local Variable index: 4\n",
      "Template Variable index: 9\n",
      "CNF Function: [[-8, -6, 11]]\n",
      "4 : [[-3, -1, 31]]\n",
      "--------------------------------------------------\n",
      "Local Variable index: 5\n",
      "Template Variable index: 10\n",
      "CNF Function: [[8, -10, -6]]\n",
      "5 : [[3, -5, -1]]\n",
      "Local network created : 1\n",
      "--------------------------------------------------\n",
      "--------------------------------------------------\n",
      "Local Network: 2\n",
      "--------------------------------------------------\n",
      "Local Variable index: 6\n",
      "Template Variable index: 6\n",
      "CNF Function: [[11, -10, 7]]\n",
      "6 : [[32, -10, 7]]\n",
      "--------------------------------------------------\n",
      "Local Variable index: 7\n",
      "Template Variable index: 7\n",
      "CNF Function: [[8, -6, 9]]\n",
      "7 : [[8, -6, 9]]\n",
      "--------------------------------------------------\n",
      "Local Variable index: 8\n",
      "Template Variable index: 8\n",
      "CNF Function: [[-7, -8, 6]]\n",
      "8 : [[-7, -8, 6]]\n",
      "--------------------------------------------------\n",
      "Local Variable index: 9\n",
      "Template Variable index: 9\n",
      "CNF Function: [[-8, -6, 11]]\n",
      "9 : [[-8, -6, 32]]\n",
      "--------------------------------------------------\n",
      "Local Variable index: 10\n",
      "Template Variable index: 10\n",
      "CNF Function: [[8, -10, -6]]\n",
      "10 : [[8, -10, -6]]\n",
      "Local network created : 2\n",
      "--------------------------------------------------\n",
      "--------------------------------------------------\n",
      "Local Network: 3\n",
      "--------------------------------------------------\n",
      "Local Variable index: 11\n",
      "Template Variable index: 6\n",
      "CNF Function: [[11, -10, 7]]\n"
     ]
    },
    {
     "ename": "IndexError",
     "evalue": "list index out of range",
     "output_type": "error",
     "traceback": [
      "\u001B[0;31m---------------------------------------------------------------------------\u001B[0m",
      "\u001B[0;31mIndexError\u001B[0m                                Traceback (most recent call last)",
      "Cell \u001B[0;32mIn[24], line 2\u001B[0m\n\u001B[1;32m      1\u001B[0m \u001B[38;5;66;03m# generate a linear CBN from the template\u001B[39;00m\n\u001B[0;32m----> 2\u001B[0m o_aleatory_cbn \u001B[38;5;241m=\u001B[39m \u001B[43mo_AleatoryTemplate\u001B[49m\u001B[38;5;241;43m.\u001B[39;49m\u001B[43mgenerate_cbn_from_template\u001B[49m\u001B[43m(\u001B[49m\u001B[43mv_topology\u001B[49m\u001B[38;5;241;43m=\u001B[39;49m\u001B[38;5;241;43m5\u001B[39;49m\u001B[43m,\u001B[49m\u001B[43mn_local_networks\u001B[49m\u001B[38;5;241;43m=\u001B[39;49m\u001B[43mN_LOCAL_NETWORKS\u001B[49m\u001B[43m)\u001B[49m\n",
      "File \u001B[0;32m~/Projects/cbnetwork/classes/topologytemplate.py:257\u001B[0m, in \u001B[0;36mPathCircleTemplate.generate_cbn_from_template\u001B[0;34m(self, v_topology, n_local_networks)\u001B[0m\n\u001B[1;32m    254\u001B[0m     o_local_network\u001B[38;5;241m.\u001B[39mprocess_input_signals(l_input_signals\u001B[38;5;241m=\u001B[39ml_input_signals)\n\u001B[1;32m    256\u001B[0m \u001B[38;5;66;03m# generate dynamic of the local networks with template\u001B[39;00m\n\u001B[0;32m--> 257\u001B[0m l_local_networks \u001B[38;5;241m=\u001B[39m \u001B[38;5;28;43mself\u001B[39;49m\u001B[38;5;241;43m.\u001B[39;49m\u001B[43mgenerate_local_dynamic_with_template\u001B[49m\u001B[43m(\u001B[49m\u001B[43ml_local_networks\u001B[49m\u001B[38;5;241;43m=\u001B[39;49m\u001B[43ml_local_networks\u001B[49m\u001B[43m,\u001B[49m\n\u001B[1;32m    258\u001B[0m \u001B[43m                                                             \u001B[49m\u001B[43ml_directed_edges\u001B[49m\u001B[38;5;241;43m=\u001B[39;49m\u001B[43ml_directed_edges\u001B[49m\u001B[43m,\u001B[49m\n\u001B[1;32m    259\u001B[0m \u001B[43m                                                             \u001B[49m\u001B[43mv_topology\u001B[49m\u001B[38;5;241;43m=\u001B[39;49m\u001B[43mv_topology\u001B[49m\u001B[43m)\u001B[49m\n\u001B[1;32m    261\u001B[0m \u001B[38;5;66;03m# generate the special coupled boolean network\u001B[39;00m\n\u001B[1;32m    262\u001B[0m o_special_cbn \u001B[38;5;241m=\u001B[39m CBN(l_local_networks\u001B[38;5;241m=\u001B[39ml_local_networks,\n\u001B[1;32m    263\u001B[0m                     l_directed_edges\u001B[38;5;241m=\u001B[39ml_directed_edges)\n",
      "File \u001B[0;32m~/Projects/cbnetwork/classes/topologytemplate.py:179\u001B[0m, in \u001B[0;36mPathCircleTemplate.generate_local_dynamic_with_template\u001B[0;34m(self, l_local_networks, l_directed_edges, v_topology)\u001B[0m\n\u001B[1;32m    177\u001B[0m CustomText\u001B[38;5;241m.\u001B[39mprint_simple_line()\n\u001B[1;32m    178\u001B[0m \u001B[38;5;66;03m# adapting the clause template to the specific variable\u001B[39;00m\n\u001B[0;32m--> 179\u001B[0m l_clauses_node \u001B[38;5;241m=\u001B[39m \u001B[38;5;28;43mself\u001B[39;49m\u001B[38;5;241;43m.\u001B[39;49m\u001B[43mupdate_clause_from_template\u001B[49m\u001B[43m(\u001B[49m\u001B[43ml_local_networks\u001B[49m\u001B[38;5;241;43m=\u001B[39;49m\u001B[43ml_local_networks\u001B[49m\u001B[43m,\u001B[49m\n\u001B[1;32m    180\u001B[0m \u001B[43m                                                  \u001B[49m\u001B[43mo_local_network\u001B[49m\u001B[38;5;241;43m=\u001B[39;49m\u001B[43mo_local_network\u001B[49m\u001B[43m,\u001B[49m\n\u001B[1;32m    181\u001B[0m \u001B[43m                                                  \u001B[49m\u001B[43mi_local_variable\u001B[49m\u001B[38;5;241;43m=\u001B[39;49m\u001B[43mi_local_variable\u001B[49m\u001B[43m,\u001B[49m\n\u001B[1;32m    182\u001B[0m \u001B[43m                                                  \u001B[49m\u001B[43ml_directed_edges\u001B[49m\u001B[38;5;241;43m=\u001B[39;49m\u001B[43ml_directed_edges\u001B[49m\u001B[43m,\u001B[49m\n\u001B[1;32m    183\u001B[0m \u001B[43m                                                  \u001B[49m\u001B[43mv_topology\u001B[49m\u001B[38;5;241;43m=\u001B[39;49m\u001B[43mv_topology\u001B[49m\u001B[43m)\u001B[49m\n\u001B[1;32m    184\u001B[0m \u001B[38;5;66;03m# generate an internal variable from satispy\u001B[39;00m\n\u001B[1;32m    185\u001B[0m o_variable_model \u001B[38;5;241m=\u001B[39m InternalVariable(index\u001B[38;5;241m=\u001B[39mi_local_variable,\n\u001B[1;32m    186\u001B[0m                                     cnf_function\u001B[38;5;241m=\u001B[39ml_clauses_node)\n",
      "File \u001B[0;32m~/Projects/cbnetwork/classes/topologytemplate.py:132\u001B[0m, in \u001B[0;36mPathCircleTemplate.update_clause_from_template\u001B[0;34m(self, l_local_networks, o_local_network, i_local_variable, l_directed_edges, v_topology)\u001B[0m\n\u001B[1;32m    127\u001B[0m \u001B[38;5;66;03m# analyzed if the value is an external value,searching the value in the list of intern variables\u001B[39;00m\n\u001B[1;32m    128\u001B[0m \u001B[38;5;28;01mif\u001B[39;00m local_value \u001B[38;5;129;01mnot\u001B[39;00m \u001B[38;5;129;01min\u001B[39;00m o_local_network\u001B[38;5;241m.\u001B[39ml_var_intern:\n\u001B[1;32m    129\u001B[0m     \u001B[38;5;66;03m# print(o_local_network.l_var_intern)\u001B[39;00m\n\u001B[1;32m    130\u001B[0m     \u001B[38;5;66;03m# print(o_local_network.l_var_exterm)\u001B[39;00m\n\u001B[1;32m    131\u001B[0m     \u001B[38;5;66;03m# print(local_value)\u001B[39;00m\n\u001B[0;32m--> 132\u001B[0m     local_value \u001B[38;5;241m=\u001B[39m \u001B[43mo_local_network\u001B[49m\u001B[38;5;241;43m.\u001B[39;49m\u001B[43ml_var_exterm\u001B[49m\u001B[43m[\u001B[49m\u001B[38;5;241;43m0\u001B[39;49m\u001B[43m]\u001B[49m\n\u001B[1;32m    133\u001B[0m \u001B[38;5;66;03m# add the symbol to the value\u001B[39;00m\n\u001B[1;32m    134\u001B[0m \u001B[38;5;28;01mif\u001B[39;00m \u001B[38;5;129;01mnot\u001B[39;00m b_symbol:\n",
      "\u001B[0;31mIndexError\u001B[0m: list index out of range"
     ]
    }
   ],
   "execution_count": 24
  },
  {
   "cell_type": "code",
   "source": "o_aleatory_cbn.plot_global_graph()",
   "metadata": {
    "collapsed": false,
    "ExecuteTime": {
     "end_time": "2024-05-22T20:19:12.969058Z",
     "start_time": "2024-05-22T20:19:12.968891Z"
    }
   },
   "id": "4c4dbba39d02d720",
   "outputs": [],
   "execution_count": null
  },
  {
   "cell_type": "code",
   "source": "o_aleatory_cbn.plot_global_graph()",
   "metadata": {
    "collapsed": false
   },
   "id": "df80a526b3a10d09",
   "outputs": [],
   "execution_count": null
  },
  {
   "cell_type": "code",
   "source": [
    "# Show the detailed from the first local network\n",
    "i_local_network = 0\n",
    "o_aleatory_cbn.l_local_networks[i_local_network].show()"
   ],
   "metadata": {
    "collapsed": false
   },
   "id": "80f17a7f0a1d4519",
   "outputs": [],
   "execution_count": null
  }
 ],
 "metadata": {
  "kernelspec": {
   "display_name": "Python 3",
   "language": "python",
   "name": "python3"
  },
  "language_info": {
   "codemirror_mode": {
    "name": "ipython",
    "version": 2
   },
   "file_extension": ".py",
   "mimetype": "text/x-python",
   "name": "python",
   "nbconvert_exporter": "python",
   "pygments_lexer": "ipython2",
   "version": "2.7.6"
  }
 },
 "nbformat": 4,
 "nbformat_minor": 5
}
