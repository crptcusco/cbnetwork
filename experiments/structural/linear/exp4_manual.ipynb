{
 "cells": [
  {
   "cell_type": "markdown",
   "source": [
    "# Experiment 4 - Test the ring structure using aleatory generated networks"
   ],
   "metadata": {
    "collapsed": false
   },
   "id": "c6ceb1cef2e47952"
  },
  {
   "cell_type": "code",
   "execution_count": 13,
   "id": "initial_id",
   "metadata": {
    "collapsed": true,
    "ExecuteTime": {
     "end_time": "2023-12-19T19:15:27.501775181Z",
     "start_time": "2023-12-19T19:15:27.447284670Z"
    }
   },
   "outputs": [
    {
     "data": {
      "text/plain": "Index(['Unnamed: 0', 'i_sample', 'n_local_networks', 'n_var_network',\n       'v_topology', 'n_output_variables', 'n_clauses_function',\n       'n_local_attractors', 'n_pair_attractors', 'n_attractor_fields',\n       'n_time_find_attractors', 'n_time_find_pairs', 'n_time_find_fields'],\n      dtype='object')"
     },
     "execution_count": 13,
     "metadata": {},
     "output_type": "execute_result"
    }
   ],
   "source": [
    "# external imports\n",
    "import pandas as pd\n",
    "import matplotlib.pyplot as plt\n",
    "import numpy as np\n",
    "\n",
    "# Read the database\n",
    "df = pd.read_csv(\"exp4_manual.csv\")\n",
    "df.keys()"
   ]
  },
  {
   "cell_type": "code",
   "execution_count": 14,
   "outputs": [
    {
     "data": {
      "text/plain": "   Unnamed: 0  i_sample  n_local_networks  n_var_network  v_topology  \\\n0           0         1                 3              5           4   \n1           1         1                 4              5           4   \n2           2         1                 5              5           4   \n3           3         1                 6              5           4   \n4           4         1                 7              5           4   \n5           5         1                 8              5           4   \n6           6         1                 9              5           4   \n\n   n_output_variables  n_clauses_function  n_local_attractors  \\\n0                   2                   2                  12   \n1                   2                   2                  17   \n2                   2                   2                  22   \n3                   2                   2                  27   \n4                   2                   2                  32   \n5                   2                   2                  37   \n6                   2                   2                  42   \n\n   n_pair_attractors  n_attractor_fields  n_time_find_attractors  \\\n0                 13                   0                0.063955   \n1                 22                   0                0.087980   \n2                 31                   0                0.126592   \n3                 40                   0                0.144128   \n4                 49                   0                0.175760   \n5                 58                   0                0.229202   \n6                 67                   0                0.231306   \n\n   n_time_find_pairs  n_time_find_fields  \n0           0.000026            0.000055  \n1           0.000033            0.000119  \n2           0.000064            0.000306  \n3           0.000053            0.001091  \n4           0.000056            0.001454  \n5           0.000075            0.003376  \n6           0.000085            0.008407  ",
      "text/html": "<div>\n<style scoped>\n    .dataframe tbody tr th:only-of-type {\n        vertical-align: middle;\n    }\n\n    .dataframe tbody tr th {\n        vertical-align: top;\n    }\n\n    .dataframe thead th {\n        text-align: right;\n    }\n</style>\n<table border=\"1\" class=\"dataframe\">\n  <thead>\n    <tr style=\"text-align: right;\">\n      <th></th>\n      <th>Unnamed: 0</th>\n      <th>i_sample</th>\n      <th>n_local_networks</th>\n      <th>n_var_network</th>\n      <th>v_topology</th>\n      <th>n_output_variables</th>\n      <th>n_clauses_function</th>\n      <th>n_local_attractors</th>\n      <th>n_pair_attractors</th>\n      <th>n_attractor_fields</th>\n      <th>n_time_find_attractors</th>\n      <th>n_time_find_pairs</th>\n      <th>n_time_find_fields</th>\n    </tr>\n  </thead>\n  <tbody>\n    <tr>\n      <th>0</th>\n      <td>0</td>\n      <td>1</td>\n      <td>3</td>\n      <td>5</td>\n      <td>4</td>\n      <td>2</td>\n      <td>2</td>\n      <td>12</td>\n      <td>13</td>\n      <td>0</td>\n      <td>0.063955</td>\n      <td>0.000026</td>\n      <td>0.000055</td>\n    </tr>\n    <tr>\n      <th>1</th>\n      <td>1</td>\n      <td>1</td>\n      <td>4</td>\n      <td>5</td>\n      <td>4</td>\n      <td>2</td>\n      <td>2</td>\n      <td>17</td>\n      <td>22</td>\n      <td>0</td>\n      <td>0.087980</td>\n      <td>0.000033</td>\n      <td>0.000119</td>\n    </tr>\n    <tr>\n      <th>2</th>\n      <td>2</td>\n      <td>1</td>\n      <td>5</td>\n      <td>5</td>\n      <td>4</td>\n      <td>2</td>\n      <td>2</td>\n      <td>22</td>\n      <td>31</td>\n      <td>0</td>\n      <td>0.126592</td>\n      <td>0.000064</td>\n      <td>0.000306</td>\n    </tr>\n    <tr>\n      <th>3</th>\n      <td>3</td>\n      <td>1</td>\n      <td>6</td>\n      <td>5</td>\n      <td>4</td>\n      <td>2</td>\n      <td>2</td>\n      <td>27</td>\n      <td>40</td>\n      <td>0</td>\n      <td>0.144128</td>\n      <td>0.000053</td>\n      <td>0.001091</td>\n    </tr>\n    <tr>\n      <th>4</th>\n      <td>4</td>\n      <td>1</td>\n      <td>7</td>\n      <td>5</td>\n      <td>4</td>\n      <td>2</td>\n      <td>2</td>\n      <td>32</td>\n      <td>49</td>\n      <td>0</td>\n      <td>0.175760</td>\n      <td>0.000056</td>\n      <td>0.001454</td>\n    </tr>\n    <tr>\n      <th>5</th>\n      <td>5</td>\n      <td>1</td>\n      <td>8</td>\n      <td>5</td>\n      <td>4</td>\n      <td>2</td>\n      <td>2</td>\n      <td>37</td>\n      <td>58</td>\n      <td>0</td>\n      <td>0.229202</td>\n      <td>0.000075</td>\n      <td>0.003376</td>\n    </tr>\n    <tr>\n      <th>6</th>\n      <td>6</td>\n      <td>1</td>\n      <td>9</td>\n      <td>5</td>\n      <td>4</td>\n      <td>2</td>\n      <td>2</td>\n      <td>42</td>\n      <td>67</td>\n      <td>0</td>\n      <td>0.231306</td>\n      <td>0.000085</td>\n      <td>0.008407</td>\n    </tr>\n  </tbody>\n</table>\n</div>"
     },
     "execution_count": 14,
     "metadata": {},
     "output_type": "execute_result"
    }
   ],
   "source": [
    "df.head(10)"
   ],
   "metadata": {
    "collapsed": false,
    "ExecuteTime": {
     "end_time": "2023-12-19T19:15:27.502431546Z",
     "start_time": "2023-12-19T19:15:27.488516229Z"
    }
   },
   "id": "8bd8710cc36581"
  },
  {
   "cell_type": "code",
   "execution_count": 15,
   "outputs": [
    {
     "name": "stdout",
     "output_type": "stream",
     "text": [
      "Experiment Structural - Ring - Aleatory\n",
      "Number of samples: 1\n",
      "Range of local networks: 3  -  9\n"
     ]
    }
   ],
   "source": [
    "# Resume\n",
    "print(\"Experiment Structural - Ring - Aleatory\")\n",
    "print(\"Number of samples:\", df[\"i_sample\"].max())\n",
    "print(\"Range of local networks:\", df[\"n_local_networks\"].min(), \" - \", df[\"n_local_networks\"].max())"
   ],
   "metadata": {
    "collapsed": false,
    "ExecuteTime": {
     "end_time": "2023-12-19T19:15:27.502707335Z",
     "start_time": "2023-12-19T19:15:27.488746410Z"
    }
   },
   "id": "9eb284dd61d92cd2"
  },
  {
   "cell_type": "code",
   "execution_count": 16,
   "outputs": [
    {
     "data": {
      "text/plain": "<BarContainer object of 7 artists>"
     },
     "execution_count": 16,
     "metadata": {},
     "output_type": "execute_result"
    },
    {
     "data": {
      "text/plain": "<Figure size 640x480 with 1 Axes>",
      "image/png": "[encoded data removed]"
     },
     "metadata": {},
     "output_type": "display_data"
    }
   ],
   "source": [
    "# Crea un gráfico de línea\n",
    "plt.bar(df[\"n_local_networks\"], df[\"n_local_attractors\"])"
   ],
   "metadata": {
    "collapsed": false,
    "ExecuteTime": {
     "end_time": "2023-12-19T19:15:27.630947612Z",
     "start_time": "2023-12-19T19:15:27.488895274Z"
    }
   },
   "id": "3a710255435a5bfe"
  },
  {
   "cell_type": "code",
   "execution_count": 17,
   "outputs": [
    {
     "data": {
      "text/plain": "<BarContainer object of 7 artists>"
     },
     "execution_count": 17,
     "metadata": {},
     "output_type": "execute_result"
    },
    {
     "data": {
      "text/plain": "<Figure size 640x480 with 1 Axes>",
      "image/png": "[encoded data removed]"
     },
     "metadata": {},
     "output_type": "display_data"
    }
   ],
   "source": [
    "plt.bar(df[\"n_local_networks\"], df[\"n_pair_attractors\"])"
   ],
   "metadata": {
    "collapsed": false,
    "ExecuteTime": {
     "end_time": "2023-12-19T19:15:27.758907114Z",
     "start_time": "2023-12-19T19:15:27.621969561Z"
    }
   },
   "id": "27d68888794b423e"
  },
  {
   "cell_type": "code",
   "execution_count": 18,
   "outputs": [
    {
     "data": {
      "text/plain": "<BarContainer object of 7 artists>"
     },
     "execution_count": 18,
     "metadata": {},
     "output_type": "execute_result"
    },
    {
     "data": {
      "text/plain": "<Figure size 640x480 with 1 Axes>",
      "image/png": "[encoded data removed]"
     },
     "metadata": {},
     "output_type": "display_data"
    }
   ],
   "source": [
    "plt.bar(df[\"n_local_networks\"], df[\"n_attractor_fields\"])"
   ],
   "metadata": {
    "collapsed": false,
    "ExecuteTime": {
     "end_time": "2023-12-19T19:15:27.928402154Z",
     "start_time": "2023-12-19T19:15:27.765359633Z"
    }
   },
   "id": "cdfc96f6a9d7c0eb"
  }
 ],
 "metadata": {
  "kernelspec": {
   "display_name": "Python 3",
   "language": "python",
   "name": "python3"
  },
  "language_info": {
   "codemirror_mode": {
    "name": "ipython",
    "version": 2
   },
   "file_extension": ".py",
   "mimetype": "text/x-python",
   "name": "python",
   "nbconvert_exporter": "python",
   "pygments_lexer": "ipython2",
   "version": "2.7.6"
  }
 },
 "nbformat": 4,
 "nbformat_minor": 5
}
