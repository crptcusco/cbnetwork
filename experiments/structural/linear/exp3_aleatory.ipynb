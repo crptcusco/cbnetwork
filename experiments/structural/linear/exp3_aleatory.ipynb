{
 "cells": [
  {
   "cell_type": "markdown",
   "source": [
    "# Experiment 3 - Test the linear structure using aleatory generated networks"
   ],
   "metadata": {
    "collapsed": false
   },
   "id": "c6ceb1cef2e47952"
  },
  {
   "cell_type": "code",
   "execution_count": null,
   "id": "initial_id",
   "metadata": {
    "collapsed": true
   },
   "outputs": [],
   "source": [
    "# external imports\n",
    "import pandas as pd\n",
    "import matplotlib.pyplot as plt\n",
    "import numpy as np\n",
    "\n",
    "# Read the database\n",
    "df = pd.read_csv(\"exp3_aleatory.csv\")\n",
    "df.keys()"
   ]
  },
  {
   "cell_type": "code",
   "execution_count": null,
   "outputs": [],
   "source": [
    "df.head(10)"
   ],
   "metadata": {
    "collapsed": false
   },
   "id": "8bd8710cc36581"
  },
  {
   "cell_type": "code",
   "execution_count": null,
   "outputs": [],
   "source": [
    "# Resume\n",
    "print(\"Experiment Structural - Ring - Aleatory\")\n",
    "print(\"Number of samples:\", df[\"i_sample\"].max())\n",
    "print(\"Range of local networks:\", df[\"n_local_networks\"].min(), \" - \", df[\"n_local_networks\"].max())"
   ],
   "metadata": {
    "collapsed": false
   },
   "id": "9eb284dd61d92cd2"
  },
  {
   "cell_type": "code",
   "execution_count": null,
   "outputs": [],
   "source": [
    "# Crea un gráfico de línea\n",
    "plt.bar(df[\"n_local_networks\"], df[\"n_local_attractors\"])"
   ],
   "metadata": {
    "collapsed": false
   },
   "id": "3a710255435a5bfe"
  },
  {
   "cell_type": "code",
   "execution_count": null,
   "outputs": [],
   "source": [
    "plt.bar(df[\"n_local_networks\"], df[\"n_pair_attractors\"])"
   ],
   "metadata": {
    "collapsed": false
   },
   "id": "27d68888794b423e"
  },
  {
   "cell_type": "code",
   "execution_count": null,
   "outputs": [],
   "source": [
    "plt.bar(df[\"n_local_networks\"], df[\"n_attractor_fields\"])"
   ],
   "metadata": {
    "collapsed": false
   },
   "id": "cdfc96f6a9d7c0eb"
  },
  {
   "cell_type": "code",
   "execution_count": null,
   "outputs": [],
   "source": [
    "n_local_net = df['n_local_networks'].unique()\n",
    "labels = {key:label for key, label in zip(df.keys()[-3:], [\n",
    "          \"Number of attractors\",\n",
    "          \"Number of pairs attractors\",\n",
    "          \"Number of attractor fields\"])}\n",
    "log_scale = {key:label for key, label in zip(df.keys()[-3:], [\n",
    "          False,\n",
    "          False,\n",
    "          True])}\n",
    "grouped = df.groupby(\"n_local_networks\")\n",
    "\n",
    "for key in df.keys()[-3:]:\n",
    "    fig, axs = plt.subplots(1, n_local_net.size, figsize=(n_local_net.size * 3, 7), sharey=True)\n",
    "    for ax, i_local_net in zip(axs, n_local_net):\n",
    "        group = grouped.get_group(i_local_net)\n",
    "        data = group[key]\n",
    "        mean = ax.axhline(y=data.mean(), xmin=0.0, xmax=1.0, color='g',ls='--',label=fr'$\\bar{{x}}={data.mean():.4g}$')\n",
    "        std_max = ax.axhline(y=data.mean()+data.std(), xmin=0.0, xmax=1.0, color='r',ls='--',label=fr'$\\sigma={data.std():.4g}$')\n",
    "        ax.legend()\n",
    "        if log_scale[key]:\n",
    "            ax.set_yscale('symlog')\n",
    "        ax.boxplot(data)\n",
    "        ax.violinplot(data)\n",
    "        ax.set_xlabel(f'N° of Local Networks: {i_local_net}')\n",
    "        ax.set_xticks([])\n",
    "        ax.set_xlim((0.5,1.5))\n",
    "    fig.suptitle(labels[key])\n",
    "    fig.tight_layout(w_pad=0)"
   ],
   "metadata": {
    "collapsed": false
   },
   "id": "c26c9ff34327f7b0"
  }
 ],
 "metadata": {
  "kernelspec": {
   "display_name": "Python 3",
   "language": "python",
   "name": "python3"
  },
  "language_info": {
   "codemirror_mode": {
    "name": "ipython",
    "version": 2
   },
   "file_extension": ".py",
   "mimetype": "text/x-python",
   "name": "python",
   "nbconvert_exporter": "python",
   "pygments_lexer": "ipython2",
   "version": "2.7.6"
  }
 },
 "nbformat": 4,
 "nbformat_minor": 5
}
