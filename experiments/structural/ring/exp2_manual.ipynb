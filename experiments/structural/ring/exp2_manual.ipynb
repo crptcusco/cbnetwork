{
 "cells": [
  {
   "cell_type": "markdown",
   "source": [
    "# Experiment 1 - Test the ring structure using aleatory generated networks"
   ],
   "metadata": {
    "collapsed": false
   },
   "id": "c6ceb1cef2e47952"
  },
  {
   "cell_type": "code",
   "execution_count": 14,
   "id": "initial_id",
   "metadata": {
    "collapsed": true,
    "ExecuteTime": {
     "end_time": "2023-12-19T19:15:51.881540191Z",
     "start_time": "2023-12-19T19:15:51.835877529Z"
    }
   },
   "outputs": [
    {
     "data": {
      "text/plain": "Index(['Unnamed: 0', 'i_sample', 'n_local_networks', 'n_var_network',\n       'v_topology', 'n_output_variables', 'n_clauses_function',\n       'n_local_attractors', 'n_pair_attractors', 'n_attractor_fields'],\n      dtype='object')"
     },
     "execution_count": 14,
     "metadata": {},
     "output_type": "execute_result"
    }
   ],
   "source": [
    "# external imports\n",
    "import pandas as pd\n",
    "import matplotlib.pyplot as plt\n",
    "import numpy as np\n",
    "\n",
    "# Read the database\n",
    "df = pd.read_csv(\"exp2_manual.csv\")\n",
    "df.keys()"
   ]
  },
  {
   "cell_type": "code",
   "execution_count": 15,
   "outputs": [
    {
     "data": {
      "text/plain": "   Unnamed: 0  i_sample  n_local_networks  n_var_network  v_topology  \\\n0           0         1                 3              5           3   \n1           1         1                 4              5           3   \n2           2         1                 5              5           3   \n3           3         1                 6              5           3   \n4           4         1                 7              5           3   \n5           5         1                 8              5           3   \n6           6         1                 9              5           3   \n\n   n_output_variables  n_clauses_function  n_local_attractors  \\\n0                   2                   2                  14   \n1                   2                   2                  19   \n2                   2                   2                  24   \n3                   2                   2                  29   \n4                   2                   2                  34   \n5                   2                   2                  39   \n6                   2                   2                  44   \n\n   n_pair_attractors  n_attractor_fields  \n0                 27                   8  \n1                 36                  16  \n2                 45                  32  \n3                 54                  64  \n4                 63                 128  \n5                 72                 256  \n6                 81                 512  ",
      "text/html": "<div>\n<style scoped>\n    .dataframe tbody tr th:only-of-type {\n        vertical-align: middle;\n    }\n\n    .dataframe tbody tr th {\n        vertical-align: top;\n    }\n\n    .dataframe thead th {\n        text-align: right;\n    }\n</style>\n<table border=\"1\" class=\"dataframe\">\n  <thead>\n    <tr style=\"text-align: right;\">\n      <th></th>\n      <th>Unnamed: 0</th>\n      <th>i_sample</th>\n      <th>n_local_networks</th>\n      <th>n_var_network</th>\n      <th>v_topology</th>\n      <th>n_output_variables</th>\n      <th>n_clauses_function</th>\n      <th>n_local_attractors</th>\n      <th>n_pair_attractors</th>\n      <th>n_attractor_fields</th>\n    </tr>\n  </thead>\n  <tbody>\n    <tr>\n      <th>0</th>\n      <td>0</td>\n      <td>1</td>\n      <td>3</td>\n      <td>5</td>\n      <td>3</td>\n      <td>2</td>\n      <td>2</td>\n      <td>14</td>\n      <td>27</td>\n      <td>8</td>\n    </tr>\n    <tr>\n      <th>1</th>\n      <td>1</td>\n      <td>1</td>\n      <td>4</td>\n      <td>5</td>\n      <td>3</td>\n      <td>2</td>\n      <td>2</td>\n      <td>19</td>\n      <td>36</td>\n      <td>16</td>\n    </tr>\n    <tr>\n      <th>2</th>\n      <td>2</td>\n      <td>1</td>\n      <td>5</td>\n      <td>5</td>\n      <td>3</td>\n      <td>2</td>\n      <td>2</td>\n      <td>24</td>\n      <td>45</td>\n      <td>32</td>\n    </tr>\n    <tr>\n      <th>3</th>\n      <td>3</td>\n      <td>1</td>\n      <td>6</td>\n      <td>5</td>\n      <td>3</td>\n      <td>2</td>\n      <td>2</td>\n      <td>29</td>\n      <td>54</td>\n      <td>64</td>\n    </tr>\n    <tr>\n      <th>4</th>\n      <td>4</td>\n      <td>1</td>\n      <td>7</td>\n      <td>5</td>\n      <td>3</td>\n      <td>2</td>\n      <td>2</td>\n      <td>34</td>\n      <td>63</td>\n      <td>128</td>\n    </tr>\n    <tr>\n      <th>5</th>\n      <td>5</td>\n      <td>1</td>\n      <td>8</td>\n      <td>5</td>\n      <td>3</td>\n      <td>2</td>\n      <td>2</td>\n      <td>39</td>\n      <td>72</td>\n      <td>256</td>\n    </tr>\n    <tr>\n      <th>6</th>\n      <td>6</td>\n      <td>1</td>\n      <td>9</td>\n      <td>5</td>\n      <td>3</td>\n      <td>2</td>\n      <td>2</td>\n      <td>44</td>\n      <td>81</td>\n      <td>512</td>\n    </tr>\n  </tbody>\n</table>\n</div>"
     },
     "execution_count": 15,
     "metadata": {},
     "output_type": "execute_result"
    }
   ],
   "source": [
    "df.head(10)"
   ],
   "metadata": {
    "collapsed": false,
    "ExecuteTime": {
     "end_time": "2023-12-19T19:15:51.882133362Z",
     "start_time": "2023-12-19T19:15:51.880443483Z"
    }
   },
   "id": "8bd8710cc36581"
  },
  {
   "cell_type": "code",
   "execution_count": 16,
   "outputs": [
    {
     "name": "stdout",
     "output_type": "stream",
     "text": [
      "Experiment Structural - Ring - Aleatory\n",
      "Number of samples: 1\n",
      "Range of local networks: 3  -  9\n"
     ]
    }
   ],
   "source": [
    "# Resume\n",
    "print(\"Experiment Structural - Ring - Aleatory\")\n",
    "print(\"Number of samples:\", df[\"i_sample\"].max())\n",
    "print(\"Range of local networks:\", df[\"n_local_networks\"].min(), \" - \", df[\"n_local_networks\"].max())"
   ],
   "metadata": {
    "collapsed": false,
    "ExecuteTime": {
     "end_time": "2023-12-19T19:15:51.882423567Z",
     "start_time": "2023-12-19T19:15:51.880721529Z"
    }
   },
   "id": "9eb284dd61d92cd2"
  },
  {
   "cell_type": "code",
   "execution_count": 17,
   "outputs": [
    {
     "data": {
      "text/plain": "<BarContainer object of 7 artists>"
     },
     "execution_count": 17,
     "metadata": {},
     "output_type": "execute_result"
    },
    {
     "data": {
      "text/plain": "<Figure size 640x480 with 1 Axes>",
      "image/png": "[encoded data removed]"
     },
     "metadata": {},
     "output_type": "display_data"
    }
   ],
   "source": [
    "# Crea un gráfico de línea\n",
    "plt.bar(df[\"n_local_networks\"], df[\"n_local_attractors\"])"
   ],
   "metadata": {
    "collapsed": false,
    "ExecuteTime": {
     "end_time": "2023-12-19T19:15:51.999735057Z",
     "start_time": "2023-12-19T19:15:51.880864699Z"
    }
   },
   "id": "3a710255435a5bfe"
  },
  {
   "cell_type": "code",
   "execution_count": 18,
   "outputs": [
    {
     "data": {
      "text/plain": "<BarContainer object of 7 artists>"
     },
     "execution_count": 18,
     "metadata": {},
     "output_type": "execute_result"
    },
    {
     "data": {
      "text/plain": "<Figure size 640x480 with 1 Axes>",
      "image/png": "[encoded data removed]"
     },
     "metadata": {},
     "output_type": "display_data"
    }
   ],
   "source": [
    "plt.bar(df[\"n_local_networks\"], df[\"n_pair_attractors\"])"
   ],
   "metadata": {
    "collapsed": false,
    "ExecuteTime": {
     "end_time": "2023-12-19T19:15:52.193199784Z",
     "start_time": "2023-12-19T19:15:52.016374539Z"
    }
   },
   "id": "27d68888794b423e"
  },
  {
   "cell_type": "code",
   "execution_count": 19,
   "outputs": [
    {
     "data": {
      "text/plain": "<BarContainer object of 7 artists>"
     },
     "execution_count": 19,
     "metadata": {},
     "output_type": "execute_result"
    },
    {
     "data": {
      "text/plain": "<Figure size 640x480 with 1 Axes>",
      "image/png": "[encoded data removed]"
     },
     "metadata": {},
     "output_type": "display_data"
    }
   ],
   "source": [
    "plt.bar(df[\"n_local_networks\"], df[\"n_attractor_fields\"])"
   ],
   "metadata": {
    "collapsed": false,
    "ExecuteTime": {
     "end_time": "2023-12-19T19:15:52.323163127Z",
     "start_time": "2023-12-19T19:15:52.188342298Z"
    }
   },
   "id": "cdfc96f6a9d7c0eb"
  }
 ],
 "metadata": {
  "kernelspec": {
   "display_name": "Python 3",
   "language": "python",
   "name": "python3"
  },
  "language_info": {
   "codemirror_mode": {
    "name": "ipython",
    "version": 2
   },
   "file_extension": ".py",
   "mimetype": "text/x-python",
   "name": "python",
   "nbconvert_exporter": "python",
   "pygments_lexer": "ipython2",
   "version": "2.7.6"
  }
 },
 "nbformat": 4,
 "nbformat_minor": 5
}
