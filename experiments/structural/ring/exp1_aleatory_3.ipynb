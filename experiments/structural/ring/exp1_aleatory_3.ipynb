{
 "cells": [
  {
   "cell_type": "code",
   "execution_count": 15,
   "id": "initial_id",
   "metadata": {
    "collapsed": true,
    "ExecuteTime": {
     "end_time": "2023-12-16T02:42:09.669859377Z",
     "start_time": "2023-12-16T02:42:09.626153619Z"
    }
   },
   "outputs": [
    {
     "data": {
      "text/plain": "Index(['Unnamed: 0', 'i_sample', 'n_local_networks', 'n_var_network',\n       'v_topology', 'n_output_variables', 'n_clauses_function',\n       'n_local_attractors', 'n_pair_attractors', 'n_attractor_fields'],\n      dtype='object')"
     },
     "execution_count": 15,
     "metadata": {},
     "output_type": "execute_result"
    }
   ],
   "source": [
    "# external imports\n",
    "import pandas as pd\n",
    "import matplotlib.pyplot as plt\n",
    "import numpy as np\n",
    "\n",
    "# Read the database\n",
    "df = pd.read_csv(\"exp1_aleatory_3.csv\")\n",
    "df.keys()"
   ]
  },
  {
   "cell_type": "code",
   "execution_count": 16,
   "outputs": [
    {
     "data": {
      "text/plain": "   Unnamed: 0  i_sample  n_local_networks  n_var_network  v_topology  \\\n0           0         1                 3              5           3   \n1           1         2                 3              5           3   \n2           2         3                 3              5           3   \n3           3         1                 4              5           3   \n4           4         2                 4              5           3   \n5           5         3                 4              5           3   \n6           6         1                 5              5           3   \n7           7         2                 5              5           3   \n8           8         3                 5              5           3   \n9           9         1                 6              5           3   \n\n   n_output_variables  n_clauses_function  n_local_attractors  \\\n0                   2                   2                  13   \n1                   2                   2                  16   \n2                   2                   2                  13   \n3                   2                   2                  25   \n4                   2                   2                  27   \n5                   2                   2                  19   \n6                   2                   2                  22   \n7                   2                   2                  22   \n8                   2                   2                  29   \n9                   2                   2                  26   \n\n   n_pair_attractors  n_attractor_fields  \n0                 27                   9  \n1                 40                  14  \n2                 30                  10  \n3                 78                  58  \n4                 89                  87  \n5                 42                  14  \n6                 46                  40  \n7                 48                  20  \n8                 67                  58  \n9                 60                  50  ",
      "text/html": "<div>\n<style scoped>\n    .dataframe tbody tr th:only-of-type {\n        vertical-align: middle;\n    }\n\n    .dataframe tbody tr th {\n        vertical-align: top;\n    }\n\n    .dataframe thead th {\n        text-align: right;\n    }\n</style>\n<table border=\"1\" class=\"dataframe\">\n  <thead>\n    <tr style=\"text-align: right;\">\n      <th></th>\n      <th>Unnamed: 0</th>\n      <th>i_sample</th>\n      <th>n_local_networks</th>\n      <th>n_var_network</th>\n      <th>v_topology</th>\n      <th>n_output_variables</th>\n      <th>n_clauses_function</th>\n      <th>n_local_attractors</th>\n      <th>n_pair_attractors</th>\n      <th>n_attractor_fields</th>\n    </tr>\n  </thead>\n  <tbody>\n    <tr>\n      <th>0</th>\n      <td>0</td>\n      <td>1</td>\n      <td>3</td>\n      <td>5</td>\n      <td>3</td>\n      <td>2</td>\n      <td>2</td>\n      <td>13</td>\n      <td>27</td>\n      <td>9</td>\n    </tr>\n    <tr>\n      <th>1</th>\n      <td>1</td>\n      <td>2</td>\n      <td>3</td>\n      <td>5</td>\n      <td>3</td>\n      <td>2</td>\n      <td>2</td>\n      <td>16</td>\n      <td>40</td>\n      <td>14</td>\n    </tr>\n    <tr>\n      <th>2</th>\n      <td>2</td>\n      <td>3</td>\n      <td>3</td>\n      <td>5</td>\n      <td>3</td>\n      <td>2</td>\n      <td>2</td>\n      <td>13</td>\n      <td>30</td>\n      <td>10</td>\n    </tr>\n    <tr>\n      <th>3</th>\n      <td>3</td>\n      <td>1</td>\n      <td>4</td>\n      <td>5</td>\n      <td>3</td>\n      <td>2</td>\n      <td>2</td>\n      <td>25</td>\n      <td>78</td>\n      <td>58</td>\n    </tr>\n    <tr>\n      <th>4</th>\n      <td>4</td>\n      <td>2</td>\n      <td>4</td>\n      <td>5</td>\n      <td>3</td>\n      <td>2</td>\n      <td>2</td>\n      <td>27</td>\n      <td>89</td>\n      <td>87</td>\n    </tr>\n    <tr>\n      <th>5</th>\n      <td>5</td>\n      <td>3</td>\n      <td>4</td>\n      <td>5</td>\n      <td>3</td>\n      <td>2</td>\n      <td>2</td>\n      <td>19</td>\n      <td>42</td>\n      <td>14</td>\n    </tr>\n    <tr>\n      <th>6</th>\n      <td>6</td>\n      <td>1</td>\n      <td>5</td>\n      <td>5</td>\n      <td>3</td>\n      <td>2</td>\n      <td>2</td>\n      <td>22</td>\n      <td>46</td>\n      <td>40</td>\n    </tr>\n    <tr>\n      <th>7</th>\n      <td>7</td>\n      <td>2</td>\n      <td>5</td>\n      <td>5</td>\n      <td>3</td>\n      <td>2</td>\n      <td>2</td>\n      <td>22</td>\n      <td>48</td>\n      <td>20</td>\n    </tr>\n    <tr>\n      <th>8</th>\n      <td>8</td>\n      <td>3</td>\n      <td>5</td>\n      <td>5</td>\n      <td>3</td>\n      <td>2</td>\n      <td>2</td>\n      <td>29</td>\n      <td>67</td>\n      <td>58</td>\n    </tr>\n    <tr>\n      <th>9</th>\n      <td>9</td>\n      <td>1</td>\n      <td>6</td>\n      <td>5</td>\n      <td>3</td>\n      <td>2</td>\n      <td>2</td>\n      <td>26</td>\n      <td>60</td>\n      <td>50</td>\n    </tr>\n  </tbody>\n</table>\n</div>"
     },
     "execution_count": 16,
     "metadata": {},
     "output_type": "execute_result"
    }
   ],
   "source": [
    "df.head(10)"
   ],
   "metadata": {
    "collapsed": false,
    "ExecuteTime": {
     "end_time": "2023-12-16T02:42:09.674861212Z",
     "start_time": "2023-12-16T02:42:09.669471926Z"
    }
   },
   "id": "8bd8710cc36581"
  },
  {
   "cell_type": "code",
   "execution_count": 17,
   "outputs": [
    {
     "name": "stdout",
     "output_type": "stream",
     "text": [
      "Experiment Structural - Ring - Aleatory\n",
      "Number of samples: 3\n",
      "Range of local attractors: 60  -  13\n"
     ]
    }
   ],
   "source": [
    "# Resume\n",
    "print(\"Experiment Structural - Ring - Aleatory\")\n",
    "print(\"Number of samples:\", df[\"i_sample\"].max())\n",
    "# print(\"Number of RDDs by sample:\", df[\"n_network\"].max())\n",
    "print(\"Range of local attractors:\", df[\"n_local_attractors\"].max(), \" - \", df[\"n_local_attractors\"].min())"
   ],
   "metadata": {
    "collapsed": false,
    "ExecuteTime": {
     "end_time": "2023-12-16T02:42:09.675599234Z",
     "start_time": "2023-12-16T02:42:09.669678088Z"
    }
   },
   "id": "9eb284dd61d92cd2"
  },
  {
   "cell_type": "code",
   "execution_count": 20,
   "outputs": [
    {
     "data": {
      "text/plain": "<Axes: xlabel='n_local_networks'>"
     },
     "execution_count": 20,
     "metadata": {},
     "output_type": "execute_result"
    },
    {
     "data": {
      "text/plain": "<Figure size 640x480 with 1 Axes>",
      "image/png": "[encoded data removed]"
     },
     "metadata": {},
     "output_type": "display_data"
    }
   ],
   "source": [
    "# generate graph by indicator\n",
    "\n",
    "# Crea un gráfico de línea\n",
    "df.plot.bar(x=\"n_local_networks\", y=\"n_local_attractors\")"
   ],
   "metadata": {
    "collapsed": false,
    "ExecuteTime": {
     "end_time": "2023-12-16T02:44:50.487440397Z",
     "start_time": "2023-12-16T02:44:50.314759072Z"
    }
   },
   "id": "3a710255435a5bfe"
  }
 ],
 "metadata": {
  "kernelspec": {
   "display_name": "Python 3",
   "language": "python",
   "name": "python3"
  },
  "language_info": {
   "codemirror_mode": {
    "name": "ipython",
    "version": 2
   },
   "file_extension": ".py",
   "mimetype": "text/x-python",
   "name": "python",
   "nbconvert_exporter": "python",
   "pygments_lexer": "ipython2",
   "version": "2.7.6"
  }
 },
 "nbformat": 4,
 "nbformat_minor": 5
}
