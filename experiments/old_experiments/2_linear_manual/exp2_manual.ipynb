{
 "cells": [
  {
   "cell_type": "markdown",
   "source": [
    "# Experiment 4 - Test the ring structure using aleatory generated networks"
   ],
   "metadata": {
    "collapsed": false
   },
   "id": "c6ceb1cef2e47952"
  },
  {
   "cell_type": "code",
   "execution_count": null,
   "id": "initial_id",
   "metadata": {
    "collapsed": true
   },
   "source": [
    "# external imports\n",
    "import pandas as pd\n",
    "import matplotlib.pyplot as plt\n",
    "import numpy as np\n",
    "\n",
    "# Read the database\n",
    "df = pd.read_csv(\"exp4_manual.csv\")\n",
    "df.keys()"
   ],
   "outputs": []
  },
  {
   "cell_type": "code",
   "execution_count": null,
   "source": [
    "df.head(10)"
   ],
   "metadata": {
    "collapsed": false
   },
   "id": "8bd8710cc36581",
   "outputs": []
  },
  {
   "cell_type": "code",
   "execution_count": null,
   "source": [
    "# Resume\n",
    "print(\"Experiment Structural - Ring - Aleatory\")\n",
    "print(\"Number of samples:\", df[\"i_sample\"].max())\n",
    "print(\"Range of local networks:\", df[\"n_local_networks\"].min(), \" - \", df[\"n_local_networks\"].max())"
   ],
   "metadata": {
    "collapsed": false
   },
   "id": "9eb284dd61d92cd2",
   "outputs": []
  },
  {
   "cell_type": "code",
   "execution_count": null,
   "source": [
    "# Crea un gráfico de línea\n",
    "plt.bar(df[\"n_local_networks\"], df[\"n_local_attractors\"])"
   ],
   "metadata": {
    "collapsed": false
   },
   "id": "3a710255435a5bfe",
   "outputs": []
  },
  {
   "cell_type": "code",
   "execution_count": null,
   "source": [
    "plt.bar(df[\"n_local_networks\"], df[\"n_pair_attractors\"])"
   ],
   "metadata": {
    "collapsed": false
   },
   "id": "27d68888794b423e",
   "outputs": []
  },
  {
   "cell_type": "code",
   "execution_count": null,
   "source": [
    "plt.bar(df[\"n_local_networks\"], df[\"n_attractor_fields\"])"
   ],
   "metadata": {
    "collapsed": false
   },
   "id": "cdfc96f6a9d7c0eb",
   "outputs": []
  }
 ],
 "metadata": {
  "kernelspec": {
   "display_name": "Python 3",
   "language": "python",
   "name": "python3"
  },
  "language_info": {
   "codemirror_mode": {
    "name": "ipython",
    "version": 2
   },
   "file_extension": ".py",
   "mimetype": "text/x-python",
   "name": "python",
   "nbconvert_exporter": "python",
   "pygments_lexer": "ipython2",
   "version": "2.7.6"
  }
 },
 "nbformat": 4,
 "nbformat_minor": 5
}
