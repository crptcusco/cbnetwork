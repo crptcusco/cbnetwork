{
 "cells": [
  {
   "metadata": {},
   "cell_type": "markdown",
   "source": "# Evaluate differences with normal and optimized implementation",
   "id": "d8236de86efe3656"
  },
  {
   "cell_type": "code",
   "id": "initial_id",
   "metadata": {
    "collapsed": true,
    "ExecuteTime": {
     "end_time": "2024-05-04T20:42:27.375424Z",
     "start_time": "2024-05-04T20:42:27.320628Z"
    }
   },
   "source": [
    "import pandas as pd\n",
    "import matplotlib.pyplot as plt\n",
    "df_old = pd.read_csv(\"outputs/2_0_data_slow/exp5_aleatory_linear_circle_3_3_10000/data.csv\")\n",
    "df_new = pd.read_csv(\"outputs/4_0_data_optimized/exp5_aleatory_linear_circle_3_3_10000/data.csv\")"
   ],
   "outputs": [],
   "execution_count": 72
  },
  {
   "metadata": {
    "ExecuteTime": {
     "end_time": "2024-05-04T20:42:27.384535Z",
     "start_time": "2024-05-04T20:42:27.378290Z"
    }
   },
   "cell_type": "code",
   "source": [
    "# evaluate the time difference\n",
    "df_old.head()\n",
    "df_old.keys()"
   ],
   "id": "66b4cee91f5dd9d9",
   "outputs": [
    {
     "data": {
      "text/plain": [
       "Index(['i_sample', 'n_local_networks', 'n_var_network', 'v_topology',\n",
       "       'n_output_variables', 'n_clauses_function', 'n_local_attractors',\n",
       "       'n_pair_attractors', 'n_attractor_fields', 'n_time_find_attractors',\n",
       "       'n_time_find_pairs', 'n_time_find_fields'],\n",
       "      dtype='object')"
      ]
     },
     "execution_count": 73,
     "metadata": {},
     "output_type": "execute_result"
    }
   ],
   "execution_count": 73
  },
  {
   "metadata": {
    "ExecuteTime": {
     "end_time": "2024-05-04T20:42:27.401784Z",
     "start_time": "2024-05-04T20:42:27.386176Z"
    }
   },
   "cell_type": "code",
   "source": "# Time",
   "id": "f2a474dcf2a65dcf",
   "outputs": [],
   "execution_count": 74
  },
  {
   "metadata": {},
   "cell_type": "markdown",
   "source": "## Time of executions",
   "id": "64fa297f0c97f8c6"
  },
  {
   "metadata": {},
   "cell_type": "code",
   "outputs": [],
   "execution_count": null,
   "source": [
    "def segundos_a_tiempo(segundos):\n",
    "    horas = segundos // 3600\n",
    "    segundos_restantes = segundos % 3600\n",
    "    minutos = segundos_restantes // 60\n",
    "    segundos_restantes_final = segundos_restantes % 60\n",
    "    return horas, minutos, segundos_restantes_final"
   ],
   "id": "13c6c132b19bfb58"
  },
  {
   "metadata": {},
   "cell_type": "markdown",
   "source": "### Mount attractors execution",
   "id": "abaeca7da2601381"
  },
  {
   "metadata": {
    "ExecuteTime": {
     "end_time": "2024-05-04T20:42:27.423421Z",
     "start_time": "2024-05-04T20:42:27.404884Z"
    }
   },
   "cell_type": "code",
   "source": [
    "# Diference of time of mount attractors execution\n",
    "time_find_attractors_old = df_old['n_time_find_attractors'].sum()\n",
    "time_find_attractors_new = df_new['n_time_find_attractors'].sum()\n",
    "\n",
    "# Ejemplo de uso\n",
    "segundos_totales = time_find_attractors_old\n",
    "horas, minutos, segundos_restantes = segundos_a_tiempo(segundos_totales)\n",
    "print(\"OLD - Horas:\", horas, \"Minutos:\", minutos, \"Segundos:\", segundos_restantes)\n",
    "\n",
    "# Ejemplo de uso\n",
    "segundos_totales = time_find_attractors_new\n",
    "horas, minutos, segundos_restantes = segundos_a_tiempo(segundos_totales)\n",
    "print(\"NEW - Horas:\", horas,\"Minutos:\", minutos, \"Segundos:\", segundos_restantes)\n"
   ],
   "id": "7441d8506223cb7b",
   "outputs": [
    {
     "name": "stdout",
     "output_type": "stream",
     "text": [
      "OLD - Horas: 0.0 Minutos: 22.0 Segundos: 4.415111303328786\n",
      "NEW - Horas: 1.0 Minutos: 32.0 Segundos: 43.31608700752258\n"
     ]
    }
   ],
   "execution_count": 75
  },
  {
   "metadata": {},
   "cell_type": "markdown",
   "source": "## Number of Indicators",
   "id": "2980276357ba916b"
  },
  {
   "metadata": {
    "ExecuteTime": {
     "end_time": "2024-05-04T20:42:27.447632Z",
     "start_time": "2024-05-04T20:42:27.425322Z"
    }
   },
   "cell_type": "code",
   "source": [
    "# Comparacion de maximos number attractors\n",
    "old_max = df_old['n_local_attractors'].max() \n",
    "new_max = df_new['n_local_attractors'].max()\n",
    "\n",
    "print(\"OLD:\", old_max)\n",
    "print(\"NEW:\", new_max)"
   ],
   "id": "9e52be190a26553c",
   "outputs": [
    {
     "name": "stdout",
     "output_type": "stream",
     "text": [
      "OLD: 30\n",
      "NEW: 36\n"
     ]
    }
   ],
   "execution_count": 76
  },
  {
   "metadata": {
    "ExecuteTime": {
     "end_time": "2024-05-04T20:42:27.465852Z",
     "start_time": "2024-05-04T20:42:27.449409Z"
    }
   },
   "cell_type": "code",
   "source": [
    "# Comparacion de maximos number attractor fields\n",
    "old_max = df_old['n_pair_attractors'].max() \n",
    "new_max = df_new['n_pair_attractors'].max()\n",
    "\n",
    "print(\"OLD:\", old_max)\n",
    "print(\"NEW:\", new_max)"
   ],
   "id": "5fc3231c98d287ac",
   "outputs": [
    {
     "name": "stdout",
     "output_type": "stream",
     "text": [
      "OLD: 180\n",
      "NEW: 216\n"
     ]
    }
   ],
   "execution_count": 77
  },
  {
   "metadata": {
    "ExecuteTime": {
     "end_time": "2024-05-04T20:42:27.485298Z",
     "start_time": "2024-05-04T20:42:27.467618Z"
    }
   },
   "cell_type": "code",
   "source": [
    "# Comparacion de maximos number attractor fields\n",
    "old_max = df_old['n_attractor_fields'].max() \n",
    "new_max = df_new['n_attractor_fields'].max()\n",
    "\n",
    "print(\"OLD:\", old_max)\n",
    "print(\"NEW:\", new_max)"
   ],
   "id": "85fd4258b33d3279",
   "outputs": [
    {
     "name": "stdout",
     "output_type": "stream",
     "text": [
      "OLD: 216\n",
      "NEW: 216\n"
     ]
    }
   ],
   "execution_count": 78
  }
 ],
 "metadata": {
  "kernelspec": {
   "display_name": "Python 3",
   "language": "python",
   "name": "python3"
  },
  "language_info": {
   "codemirror_mode": {
    "name": "ipython",
    "version": 2
   },
   "file_extension": ".py",
   "mimetype": "text/x-python",
   "name": "python",
   "nbconvert_exporter": "python",
   "pygments_lexer": "ipython2",
   "version": "2.7.6"
  }
 },
 "nbformat": 4,
 "nbformat_minor": 5
}
