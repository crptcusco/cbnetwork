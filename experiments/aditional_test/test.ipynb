{
 "cells": [
  {
   "cell_type": "code",
   "execution_count": 7,
   "id": "initial_id",
   "metadata": {
    "collapsed": true,
    "ExecuteTime": {
     "end_time": "2023-12-22T18:53:07.706147082Z",
     "start_time": "2023-12-22T18:53:07.627682802Z"
    }
   },
   "outputs": [
    {
     "name": "stdout",
     "output_type": "stream",
     "text": [
      "1\n"
     ]
    },
    {
     "ename": "NameError",
     "evalue": "name 'd_network_variables' is not defined",
     "output_type": "error",
     "traceback": [
      "\u001B[0;31m---------------------------------------------------------------------------\u001B[0m",
      "\u001B[0;31mNameError\u001B[0m                                 Traceback (most recent call last)",
      "Cell \u001B[0;32mIn[7], line 88\u001B[0m\n\u001B[1;32m     84\u001B[0m n_input_variables \u001B[38;5;241m=\u001B[39m \u001B[38;5;241m3\u001B[39m\n\u001B[1;32m     86\u001B[0m d_des_local_network \u001B[38;5;241m=\u001B[39m generate_aleatory_local_network(n_var_network,n_output_variables,n_input_variables)\n\u001B[0;32m---> 88\u001B[0m o_cbn \u001B[38;5;241m=\u001B[39m \u001B[43mgenerate_aleatory_cbn_linear\u001B[49m\u001B[43m(\u001B[49m\u001B[43mn_local_networks\u001B[49m\u001B[38;5;241;43m=\u001B[39;49m\u001B[38;5;241;43m10\u001B[39;49m\u001B[43m,\u001B[49m\u001B[43m \u001B[49m\n\u001B[1;32m     89\u001B[0m \u001B[43m                                     \u001B[49m\u001B[43md_des_local_network\u001B[49m\u001B[38;5;241;43m=\u001B[39;49m\u001B[43md_des_local_network\u001B[49m\u001B[43m)\u001B[49m\n\u001B[1;32m     90\u001B[0m o_cbn\u001B[38;5;241m.\u001B[39mshow_cbn_graph()\n",
      "Cell \u001B[0;32mIn[7], line 67\u001B[0m, in \u001B[0;36mgenerate_aleatory_cbn_linear\u001B[0;34m(n_local_networks, d_des_local_network)\u001B[0m\n\u001B[1;32m     64\u001B[0m \u001B[38;5;28;01mfor\u001B[39;00m i_local_network \u001B[38;5;129;01min\u001B[39;00m \u001B[38;5;28mrange\u001B[39m(\u001B[38;5;241m1\u001B[39m, n_local_networks\u001B[38;5;241m+\u001B[39m\u001B[38;5;241m1\u001B[39m):\n\u001B[1;32m     65\u001B[0m     \u001B[38;5;66;03m# Generate the variables\u001B[39;00m\n\u001B[1;32m     66\u001B[0m     \u001B[38;5;28mprint\u001B[39m(i_local_network)\n\u001B[0;32m---> 67\u001B[0m     \u001B[38;5;28mprint\u001B[39m(\u001B[43md_network_variables\u001B[49m[i_local_network])\n\u001B[1;32m     69\u001B[0m res \u001B[38;5;241m=\u001B[39m (l_local_networks, l_directed_edges)\n\u001B[1;32m     70\u001B[0m \u001B[38;5;28;01mreturn\u001B[39;00m res\n",
      "\u001B[0;31mNameError\u001B[0m: name 'd_network_variables' is not defined"
     ]
    }
   ],
   "source": []
  },
  {
   "cell_type": "markdown",
   "source": [
    "# Test"
   ],
   "metadata": {
    "collapsed": false
   },
   "id": "c31b902b88cb13f3"
  },
  {
   "cell_type": "code",
   "outputs": [],
   "source": [
    "\n"
   ],
   "metadata": {
    "collapsed": false,
    "ExecuteTime": {
     "start_time": "2023-12-22T18:53:07.705578693Z"
    }
   },
   "id": "96fbd506ecbab304",
   "execution_count": null
  }
 ],
 "metadata": {
  "kernelspec": {
   "display_name": "Python 3",
   "language": "python",
   "name": "python3"
  },
  "language_info": {
   "codemirror_mode": {
    "name": "ipython",
    "version": 2
   },
   "file_extension": ".py",
   "mimetype": "text/x-python",
   "name": "python",
   "nbconvert_exporter": "python",
   "pygments_lexer": "ipython2",
   "version": "2.7.6"
  }
 },
 "nbformat": 4,
 "nbformat_minor": 5
}
