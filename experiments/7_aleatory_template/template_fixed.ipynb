{
 "cells": [
  {
   "cell_type": "code",
   "id": "initial_id",
   "metadata": {
    "collapsed": true
   },
   "source": [
    "from classes.cbnetwork import CBN\n",
    "import networkx as nx\n",
    "import matplotlib.pyplot as plt\n",
    "\n",
    "n_local_networks = 9\n",
    "v_topology = 8\n",
    "\n",
    "# generate the CBN topology\n",
    "l_relations = CBN.generate_global_topology(n_nodes=n_local_networks,\n",
    "                                           v_topology=v_topology)\n",
    "l_relations"
   ],
   "outputs": [],
   "execution_count": null
  },
  {
   "metadata": {},
   "cell_type": "code",
   "source": [
    "# Generate the random directed graph\n",
    "G = nx.DiGraph()\n",
    "G.add_edges_from(l_relations)\n",
    "\n",
    "# Use spring layout for better visualization\n",
    "pos = nx.spring_layout(G, scale=2)  # Positions for all nodes\n",
    "\n",
    "# Draw the graph\n",
    "plt.figure()  # Increase the figure size for better visibility\n",
    "nx.draw(G, pos, with_labels=True)\n",
    "\n",
    "# Display the plot\n",
    "plt.show()"
   ],
   "id": "5e9c739394a14267",
   "outputs": [],
   "execution_count": null
  }
 ],
 "metadata": {
  "kernelspec": {
   "display_name": "Python 3",
   "language": "python",
   "name": "python3"
  },
  "language_info": {
   "codemirror_mode": {
    "name": "ipython",
    "version": 2
   },
   "file_extension": ".py",
   "mimetype": "text/x-python",
   "name": "python",
   "nbconvert_exporter": "python",
   "pygments_lexer": "ipython2",
   "version": "2.7.6"
  }
 },
 "nbformat": 4,
 "nbformat_minor": 5
}
