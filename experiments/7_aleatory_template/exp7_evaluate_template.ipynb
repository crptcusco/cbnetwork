{
 "cells": [
  {
   "cell_type": "code",
   "id": "initial_id",
   "metadata": {
    "collapsed": true,
    "ExecuteTime": {
     "end_time": "2024-05-23T20:31:38.309223Z",
     "start_time": "2024-05-23T20:31:38.305463Z"
    }
   },
   "source": "from classes.topologytemplate import TopologyTemplate",
   "execution_count": 9,
   "outputs": []
  },
  {
   "cell_type": "code",
   "source": [
    "# Constants for the test\n",
    "N_VAR_NETWORK = 5\n",
    "N_LOCAL_NETWORKS = 6\n",
    "\n",
    "# generate the aleatory local network template object\n",
    "o_aleatory_template = TopologyTemplate.generate_aleatory_template(n_var_network=N_VAR_NETWORK, v_topology=1)\n",
    "o_aleatory_template.show()"
   ],
   "metadata": {
    "collapsed": false,
    "ExecuteTime": {
     "end_time": "2024-05-23T20:31:38.319573Z",
     "start_time": "2024-05-23T20:31:38.313084Z"
    }
   },
   "id": "cf42b697a9867f33",
   "execution_count": 10,
   "outputs": []
  },
  {
   "metadata": {
    "ExecuteTime": {
     "end_time": "2024-05-23T20:31:38.327579Z",
     "start_time": "2024-05-23T20:31:38.322749Z"
    }
   },
   "cell_type": "code",
   "source": [
    "from classes.cbnetwork import CBN\n",
    "\n",
    "CBN.show_allowed_topologies()"
   ],
   "id": "93cba31625b220b4",
   "execution_count": 11,
   "outputs": []
  },
  {
   "cell_type": "code",
   "source": [
    "# generate a linear CBN from the template\n",
    "o_aleatory_cbn = o_aleatory_template.generate_cbn_from_template(v_topology=6, n_local_networks=N_LOCAL_NETWORKS)"
   ],
   "metadata": {
    "collapsed": false,
    "ExecuteTime": {
     "end_time": "2024-05-23T20:31:38.344864Z",
     "start_time": "2024-05-23T20:31:38.329793Z"
    }
   },
   "id": "3eb9d2d00ec87d6",
   "execution_count": 12,
   "outputs": []
  },
  {
   "cell_type": "code",
   "source": "o_aleatory_cbn.plot_global_graph()",
   "metadata": {
    "collapsed": false,
    "ExecuteTime": {
     "end_time": "2024-05-23T20:31:38.647857Z",
     "start_time": "2024-05-23T20:31:38.346469Z"
    }
   },
   "id": "4c4dbba39d02d720",
   "execution_count": 13,
   "outputs": []
  },
  {
   "cell_type": "code",
   "source": "o_aleatory_cbn.plot_global_graph()",
   "metadata": {
    "collapsed": false,
    "ExecuteTime": {
     "end_time": "2024-05-23T20:31:38.882278Z",
     "start_time": "2024-05-23T20:31:38.650199Z"
    }
   },
   "id": "df80a526b3a10d09",
   "execution_count": 14,
   "outputs": []
  },
  {
   "cell_type": "code",
   "source": [
    "# Show the detailed from the first local network\n",
    "i_local_network = 0\n",
    "o_aleatory_cbn.l_local_networks[i_local_network].show()"
   ],
   "metadata": {
    "collapsed": false,
    "ExecuteTime": {
     "end_time": "2024-05-23T20:31:38.889790Z",
     "start_time": "2024-05-23T20:31:38.884246Z"
    }
   },
   "id": "80f17a7f0a1d4519",
   "execution_count": 15,
   "outputs": []
  }
 ],
 "metadata": {
  "kernelspec": {
   "display_name": "Python 3",
   "language": "python",
   "name": "python3"
  },
  "language_info": {
   "codemirror_mode": {
    "name": "ipython",
    "version": 2
   },
   "file_extension": ".py",
   "mimetype": "text/x-python",
   "name": "python",
   "nbconvert_exporter": "python",
   "pygments_lexer": "ipython2",
   "version": "2.7.6"
  }
 },
 "nbformat": 4,
 "nbformat_minor": 5
}
