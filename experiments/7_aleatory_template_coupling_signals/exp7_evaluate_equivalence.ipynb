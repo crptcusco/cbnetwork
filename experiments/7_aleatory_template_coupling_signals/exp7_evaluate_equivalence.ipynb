{
 "cells": [
  {
   "metadata": {},
   "cell_type": "markdown",
   "source": "# Load the experiments",
   "id": "9fbe70df11072d20"
  },
  {
   "cell_type": "code",
   "id": "initial_id",
   "metadata": {
    "collapsed": true,
    "ExecuteTime": {
     "end_time": "2024-09-09T00:11:23.805027Z",
     "start_time": "2024-09-09T00:11:23.779804Z"
    }
   },
   "source": [
    "import pandas as pd\n",
    "\n",
    "df = pd.read_csv('outputs/exp7_data_7_8_1000/data.csv')\n",
    "num_registros = df.shape[0]\n",
    "print(f\"El DataFrame tiene {num_registros} registros.\")"
   ],
   "outputs": [
    {
     "name": "stdout",
     "output_type": "stream",
     "text": [
      "El DataFrame tiene 8982 registros.\n"
     ]
    }
   ],
   "execution_count": 50
  },
  {
   "metadata": {},
   "cell_type": "markdown",
   "source": "# Filter by local network",
   "id": "d22986c5d98a6201"
  },
  {
   "metadata": {
    "ExecuteTime": {
     "end_time": "2024-09-09T00:11:27.552516Z",
     "start_time": "2024-09-09T00:11:27.547079Z"
    }
   },
   "cell_type": "code",
   "source": [
    "# filter by the number of local network\n",
    "n_local_networks = 8\n",
    "df_filter = df[df['n_local_networks'] == n_local_networks]\n",
    "num_registros = df_filter.shape[0]\n",
    "print(f\"Existe {num_registros} registros para las RBAs de {n_local_networks} redes locales.\")"
   ],
   "id": "e7b8ddb9982bc56f",
   "outputs": [
    {
     "name": "stdout",
     "output_type": "stream",
     "text": [
      "Existe 4990 registros para las RBAs de 8 redes locales.\n"
     ]
    }
   ],
   "execution_count": 51
  },
  {
   "metadata": {},
   "cell_type": "markdown",
   "source": "# Comparative by edges",
   "id": "4f4035a999cac8d4"
  },
  {
   "metadata": {
    "ExecuteTime": {
     "end_time": "2024-09-09T00:03:37.823839Z",
     "start_time": "2024-09-09T00:03:37.795514Z"
    }
   },
   "cell_type": "code",
   "source": [
    "import pandas as pd\n",
    "\n",
    "# Assuming your DataFrame is named 'df'\n",
    "grouped_df = df_filter.groupby('n_edges')\n",
    "\n",
    "# Calculate mean, median, standard deviation for each target column\n",
    "summary_stats = grouped_df[['n_local_attractors', 'n_pair_attractors', 'n_attractor_fields']].agg(\n",
    "    ['mean', 'median', 'std']\n",
    ")\n",
    "\n",
    "summary_stats"
   ],
   "id": "a5bb85fe739652a7",
   "outputs": [
    {
     "data": {
      "text/plain": [
       "        n_local_attractors                   n_pair_attractors         \\\n",
       "                      mean median        std              mean median   \n",
       "n_edges                                                                 \n",
       "8                    30.69   27.0  14.131200             77.64   46.0   \n",
       "9                    34.42   31.0  16.565865            110.00   61.5   \n",
       "10                   38.31   32.0  19.113534            155.65   80.0   \n",
       "11                   41.75   36.0  20.768748            200.08  109.0   \n",
       "12                   45.59   40.0  23.177878            262.63  138.0   \n",
       "\n",
       "                    n_attractor_fields                       \n",
       "                std               mean median           std  \n",
       "n_edges                                                      \n",
       "8        103.801240          272632.77   82.0  2.429523e+06  \n",
       "9        145.507888          272572.39   84.0  2.429530e+06  \n",
       "10       223.467729          275668.70   36.5  2.459810e+06  \n",
       "11       291.823687          275680.87   69.5  2.459809e+06  \n",
       "12       371.192745          299775.16  176.0  2.698904e+06  "
      ],
      "text/html": [
       "<div>\n",
       "<style scoped>\n",
       "    .dataframe tbody tr th:only-of-type {\n",
       "        vertical-align: middle;\n",
       "    }\n",
       "\n",
       "    .dataframe tbody tr th {\n",
       "        vertical-align: top;\n",
       "    }\n",
       "\n",
       "    .dataframe thead tr th {\n",
       "        text-align: left;\n",
       "    }\n",
       "\n",
       "    .dataframe thead tr:last-of-type th {\n",
       "        text-align: right;\n",
       "    }\n",
       "</style>\n",
       "<table border=\"1\" class=\"dataframe\">\n",
       "  <thead>\n",
       "    <tr>\n",
       "      <th></th>\n",
       "      <th colspan=\"3\" halign=\"left\">n_local_attractors</th>\n",
       "      <th colspan=\"3\" halign=\"left\">n_pair_attractors</th>\n",
       "      <th colspan=\"3\" halign=\"left\">n_attractor_fields</th>\n",
       "    </tr>\n",
       "    <tr>\n",
       "      <th></th>\n",
       "      <th>mean</th>\n",
       "      <th>median</th>\n",
       "      <th>std</th>\n",
       "      <th>mean</th>\n",
       "      <th>median</th>\n",
       "      <th>std</th>\n",
       "      <th>mean</th>\n",
       "      <th>median</th>\n",
       "      <th>std</th>\n",
       "    </tr>\n",
       "    <tr>\n",
       "      <th>n_edges</th>\n",
       "      <th></th>\n",
       "      <th></th>\n",
       "      <th></th>\n",
       "      <th></th>\n",
       "      <th></th>\n",
       "      <th></th>\n",
       "      <th></th>\n",
       "      <th></th>\n",
       "      <th></th>\n",
       "    </tr>\n",
       "  </thead>\n",
       "  <tbody>\n",
       "    <tr>\n",
       "      <th>8</th>\n",
       "      <td>30.69</td>\n",
       "      <td>27.0</td>\n",
       "      <td>14.131200</td>\n",
       "      <td>77.64</td>\n",
       "      <td>46.0</td>\n",
       "      <td>103.801240</td>\n",
       "      <td>272632.77</td>\n",
       "      <td>82.0</td>\n",
       "      <td>2.429523e+06</td>\n",
       "    </tr>\n",
       "    <tr>\n",
       "      <th>9</th>\n",
       "      <td>34.42</td>\n",
       "      <td>31.0</td>\n",
       "      <td>16.565865</td>\n",
       "      <td>110.00</td>\n",
       "      <td>61.5</td>\n",
       "      <td>145.507888</td>\n",
       "      <td>272572.39</td>\n",
       "      <td>84.0</td>\n",
       "      <td>2.429530e+06</td>\n",
       "    </tr>\n",
       "    <tr>\n",
       "      <th>10</th>\n",
       "      <td>38.31</td>\n",
       "      <td>32.0</td>\n",
       "      <td>19.113534</td>\n",
       "      <td>155.65</td>\n",
       "      <td>80.0</td>\n",
       "      <td>223.467729</td>\n",
       "      <td>275668.70</td>\n",
       "      <td>36.5</td>\n",
       "      <td>2.459810e+06</td>\n",
       "    </tr>\n",
       "    <tr>\n",
       "      <th>11</th>\n",
       "      <td>41.75</td>\n",
       "      <td>36.0</td>\n",
       "      <td>20.768748</td>\n",
       "      <td>200.08</td>\n",
       "      <td>109.0</td>\n",
       "      <td>291.823687</td>\n",
       "      <td>275680.87</td>\n",
       "      <td>69.5</td>\n",
       "      <td>2.459809e+06</td>\n",
       "    </tr>\n",
       "    <tr>\n",
       "      <th>12</th>\n",
       "      <td>45.59</td>\n",
       "      <td>40.0</td>\n",
       "      <td>23.177878</td>\n",
       "      <td>262.63</td>\n",
       "      <td>138.0</td>\n",
       "      <td>371.192745</td>\n",
       "      <td>299775.16</td>\n",
       "      <td>176.0</td>\n",
       "      <td>2.698904e+06</td>\n",
       "    </tr>\n",
       "  </tbody>\n",
       "</table>\n",
       "</div>"
      ]
     },
     "execution_count": 46,
     "metadata": {},
     "output_type": "execute_result"
    }
   ],
   "execution_count": 46
  }
 ],
 "metadata": {
  "kernelspec": {
   "display_name": "Python 3",
   "language": "python",
   "name": "python3"
  },
  "language_info": {
   "codemirror_mode": {
    "name": "ipython",
    "version": 2
   },
   "file_extension": ".py",
   "mimetype": "text/x-python",
   "name": "python",
   "nbconvert_exporter": "python",
   "pygments_lexer": "ipython2",
   "version": "2.7.6"
  }
 },
 "nbformat": 4,
 "nbformat_minor": 5
}
