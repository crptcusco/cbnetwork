{
 "cells": [
  {
   "metadata": {},
   "cell_type": "markdown",
   "source": "# Evaluate Equivalence between RBAs with different number of edges",
   "id": "f4bd03d0eb009a6d"
  },
  {
   "metadata": {},
   "cell_type": "markdown",
   "source": "## Evaluate the collected indicators",
   "id": "844b649065496586"
  },
  {
   "metadata": {},
   "cell_type": "markdown",
   "source": "### Load the experiments",
   "id": "9fbe70df11072d20"
  },
  {
   "metadata": {
    "collapsed": true,
    "ExecuteTime": {
     "end_time": "2024-09-11T04:12:45.779030Z",
     "start_time": "2024-09-11T04:12:45.401592Z"
    }
   },
   "cell_type": "code",
   "source": [
    "from classes.utils.customtext import CustomText\n",
    "import pandas as pd\n",
    "\n",
    "exp_path = \"outputs/exp7_data_7_8_100/\"\n",
    "indicators_file = exp_path + 'data.csv'\n",
    "\n",
    "df = pd.read_csv(indicators_file)\n",
    "print(\"Archivo cargado exitosamente\")"
   ],
   "id": "initial_id",
   "outputs": [
    {
     "name": "stdout",
     "output_type": "stream",
     "text": [
      "Archivo cargado exitosamente\n"
     ]
    }
   ],
   "execution_count": 1
  },
  {
   "metadata": {
    "ExecuteTime": {
     "end_time": "2024-09-11T04:12:45.808788Z",
     "start_time": "2024-09-11T04:12:45.802524Z"
    }
   },
   "cell_type": "code",
   "source": [
    "num_registers = df.shape[0]\n",
    "print(f\"El DataFrame tiene {num_registers} registros.\")\n",
    "df.keys()"
   ],
   "id": "1835d51ff086c2e6",
   "outputs": [
    {
     "name": "stdout",
     "output_type": "stream",
     "text": [
      "El DataFrame tiene 900 registros.\n"
     ]
    },
    {
     "data": {
      "text/plain": [
       "Index(['i_sample', 'n_local_networks', 'n_var_network', 'v_topology',\n",
       "       'n_output_variables', 'n_clauses_function', 'n_edges',\n",
       "       'n_local_attractors', 'n_pair_attractors', 'n_attractor_fields',\n",
       "       'n_time_find_attractors', 'n_time_find_pairs', 'n_time_find_fields'],\n",
       "      dtype='object')"
      ]
     },
     "execution_count": 2,
     "metadata": {},
     "output_type": "execute_result"
    }
   ],
   "execution_count": 2
  },
  {
   "metadata": {},
   "cell_type": "markdown",
   "source": "### Filter by local network",
   "id": "d22986c5d98a6201"
  },
  {
   "metadata": {
    "ExecuteTime": {
     "end_time": "2024-09-11T04:12:45.913800Z",
     "start_time": "2024-09-11T04:12:45.909344Z"
    }
   },
   "cell_type": "code",
   "source": [
    "# filter by the number of local network\n",
    "n_local_networks = 8\n",
    "df_filter = df[df['n_local_networks'] == n_local_networks]\n",
    "num_registers = df_filter.shape[0]\n",
    "print(f\"Existe {num_registers} registros para las RBAs de {n_local_networks} redes locales.\")"
   ],
   "id": "e7b8ddb9982bc56f",
   "outputs": [
    {
     "name": "stdout",
     "output_type": "stream",
     "text": [
      "Existe 500 registros para las RBAs de 8 redes locales.\n"
     ]
    }
   ],
   "execution_count": 3
  },
  {
   "metadata": {},
   "cell_type": "markdown",
   "source": "### Statistic comparative by edges",
   "id": "4f4035a999cac8d4"
  },
  {
   "metadata": {
    "ExecuteTime": {
     "end_time": "2024-09-11T04:12:46.026209Z",
     "start_time": "2024-09-11T04:12:46.003747Z"
    }
   },
   "cell_type": "code",
   "source": [
    "import pandas as pd\n",
    "\n",
    "# Assuming your DataFrame is named 'df'\n",
    "grouped_df = df_filter.groupby('n_edges')\n",
    "\n",
    "# Calculate mean, median, standard deviation for each target column\n",
    "summary_stats = grouped_df[['n_local_attractors', 'n_pair_attractors', 'n_attractor_fields']].agg(\n",
    "    ['mean', 'median', 'std']\n",
    ")\n",
    "\n",
    "summary_stats"
   ],
   "id": "a5bb85fe739652a7",
   "outputs": [
    {
     "data": {
      "text/plain": [
       "        n_local_attractors                   n_pair_attractors         \\\n",
       "                      mean median        std              mean median   \n",
       "n_edges                                                                 \n",
       "8                    31.21   27.0  15.243011             70.06   48.0   \n",
       "9                    35.14   31.0  17.603960            103.36   65.0   \n",
       "10                   38.84   35.0  19.928012            147.12   84.0   \n",
       "11                   42.53   36.0  21.854641            191.27  113.5   \n",
       "12                   46.32   40.0  24.255325            252.79  142.0   \n",
       "\n",
       "                    n_attractor_fields                        \n",
       "                std               mean median            std  \n",
       "n_edges                                                       \n",
       "8         81.778318           30783.63  104.5  170797.877755  \n",
       "9        127.713182           30891.40   84.5  175923.040546  \n",
       "10       192.038837           31474.87   58.5  187525.822774  \n",
       "11       245.356054           30300.08  109.5  180929.090205  \n",
       "12       361.100766           41617.32  113.5  277614.444495  "
      ],
      "text/html": [
       "<div>\n",
       "<style scoped>\n",
       "    .dataframe tbody tr th:only-of-type {\n",
       "        vertical-align: middle;\n",
       "    }\n",
       "\n",
       "    .dataframe tbody tr th {\n",
       "        vertical-align: top;\n",
       "    }\n",
       "\n",
       "    .dataframe thead tr th {\n",
       "        text-align: left;\n",
       "    }\n",
       "\n",
       "    .dataframe thead tr:last-of-type th {\n",
       "        text-align: right;\n",
       "    }\n",
       "</style>\n",
       "<table border=\"1\" class=\"dataframe\">\n",
       "  <thead>\n",
       "    <tr>\n",
       "      <th></th>\n",
       "      <th colspan=\"3\" halign=\"left\">n_local_attractors</th>\n",
       "      <th colspan=\"3\" halign=\"left\">n_pair_attractors</th>\n",
       "      <th colspan=\"3\" halign=\"left\">n_attractor_fields</th>\n",
       "    </tr>\n",
       "    <tr>\n",
       "      <th></th>\n",
       "      <th>mean</th>\n",
       "      <th>median</th>\n",
       "      <th>std</th>\n",
       "      <th>mean</th>\n",
       "      <th>median</th>\n",
       "      <th>std</th>\n",
       "      <th>mean</th>\n",
       "      <th>median</th>\n",
       "      <th>std</th>\n",
       "    </tr>\n",
       "    <tr>\n",
       "      <th>n_edges</th>\n",
       "      <th></th>\n",
       "      <th></th>\n",
       "      <th></th>\n",
       "      <th></th>\n",
       "      <th></th>\n",
       "      <th></th>\n",
       "      <th></th>\n",
       "      <th></th>\n",
       "      <th></th>\n",
       "    </tr>\n",
       "  </thead>\n",
       "  <tbody>\n",
       "    <tr>\n",
       "      <th>8</th>\n",
       "      <td>31.21</td>\n",
       "      <td>27.0</td>\n",
       "      <td>15.243011</td>\n",
       "      <td>70.06</td>\n",
       "      <td>48.0</td>\n",
       "      <td>81.778318</td>\n",
       "      <td>30783.63</td>\n",
       "      <td>104.5</td>\n",
       "      <td>170797.877755</td>\n",
       "    </tr>\n",
       "    <tr>\n",
       "      <th>9</th>\n",
       "      <td>35.14</td>\n",
       "      <td>31.0</td>\n",
       "      <td>17.603960</td>\n",
       "      <td>103.36</td>\n",
       "      <td>65.0</td>\n",
       "      <td>127.713182</td>\n",
       "      <td>30891.40</td>\n",
       "      <td>84.5</td>\n",
       "      <td>175923.040546</td>\n",
       "    </tr>\n",
       "    <tr>\n",
       "      <th>10</th>\n",
       "      <td>38.84</td>\n",
       "      <td>35.0</td>\n",
       "      <td>19.928012</td>\n",
       "      <td>147.12</td>\n",
       "      <td>84.0</td>\n",
       "      <td>192.038837</td>\n",
       "      <td>31474.87</td>\n",
       "      <td>58.5</td>\n",
       "      <td>187525.822774</td>\n",
       "    </tr>\n",
       "    <tr>\n",
       "      <th>11</th>\n",
       "      <td>42.53</td>\n",
       "      <td>36.0</td>\n",
       "      <td>21.854641</td>\n",
       "      <td>191.27</td>\n",
       "      <td>113.5</td>\n",
       "      <td>245.356054</td>\n",
       "      <td>30300.08</td>\n",
       "      <td>109.5</td>\n",
       "      <td>180929.090205</td>\n",
       "    </tr>\n",
       "    <tr>\n",
       "      <th>12</th>\n",
       "      <td>46.32</td>\n",
       "      <td>40.0</td>\n",
       "      <td>24.255325</td>\n",
       "      <td>252.79</td>\n",
       "      <td>142.0</td>\n",
       "      <td>361.100766</td>\n",
       "      <td>41617.32</td>\n",
       "      <td>113.5</td>\n",
       "      <td>277614.444495</td>\n",
       "    </tr>\n",
       "  </tbody>\n",
       "</table>\n",
       "</div>"
      ]
     },
     "execution_count": 4,
     "metadata": {},
     "output_type": "execute_result"
    }
   ],
   "execution_count": 4
  },
  {
   "metadata": {},
   "cell_type": "markdown",
   "source": "# Find the sample with more number of Stable Attractor Fields",
   "id": "7c3b2b9c495d61ad"
  },
  {
   "metadata": {
    "ExecuteTime": {
     "end_time": "2024-09-11T04:12:46.126429Z",
     "start_time": "2024-09-11T04:12:46.121153Z"
    }
   },
   "cell_type": "code",
   "source": [
    "max_sample = df_filter.loc[df_filter['n_attractor_fields'].idxmax(), 'i_sample']\n",
    "max_sample"
   ],
   "id": "8d993e0817f250bd",
   "outputs": [
    {
     "data": {
      "text/plain": [
       "84"
      ]
     },
     "execution_count": 5,
     "metadata": {},
     "output_type": "execute_result"
    }
   ],
   "execution_count": 5
  },
  {
   "metadata": {},
   "cell_type": "markdown",
   "source": "# Load the CBN objects for an specific sample",
   "id": "43f3fb4631edd516"
  },
  {
   "metadata": {
    "ExecuteTime": {
     "end_time": "2024-09-11T04:12:54.350752Z",
     "start_time": "2024-09-11T04:12:46.182778Z"
    }
   },
   "cell_type": "code",
   "source": [
    "import pickle\n",
    "import os\n",
    "import matplotlib.pyplot as plt\n",
    "\n",
    "# Define el segundo número en la ruta del archivo pickle\n",
    "i_sample = max_sample\n",
    "n_networks = 8   # Cambia esto según sea necesario\n",
    "\n",
    "# Ruta base sin el número cambiante\n",
    "base_path_cbn = f'{exp_path}/pkl_cbn/cbn_{i_sample}_{n_networks}_'\n",
    "\n",
    "# Número inicial y rango máximo\n",
    "start_number = n_networks\n",
    "max_number = 2 * start_number\n",
    "\n",
    "# Lista de archivos pickle existentes\n",
    "pickle_files = [f\"{base_path_cbn}{i}.pkl\" for i in range(start_number, max_number + 1) if os.path.exists(f\"{base_path_cbn}{i}.pkl\")]\n",
    "\n",
    "l_o_cbn = []\n",
    "# Iterador para cargar y mostrar las topologías\n",
    "for path_cbn in pickle_files:\n",
    "    with open(path_cbn, 'rb') as file:\n",
    "        o_cbn = pickle.load(file)\n",
    "        l_o_cbn.append(o_cbn)\n",
    "print('CBN objects loads in l_o_cbn')"
   ],
   "id": "9f9638ca3da9be5d",
   "outputs": [
    {
     "name": "stdout",
     "output_type": "stream",
     "text": [
      "CBN objects loads in l_o_cbn\n"
     ]
    }
   ],
   "execution_count": 6
  },
  {
   "metadata": {},
   "cell_type": "markdown",
   "source": "# Show the number of Stable attractor fields for Edge",
   "id": "65f55ab693951c59"
  },
  {
   "metadata": {
    "ExecuteTime": {
     "end_time": "2024-09-11T04:18:14.564475Z",
     "start_time": "2024-09-11T04:12:54.406264Z"
    }
   },
   "cell_type": "code",
   "source": [
    "# from classes.utils.customtext import CustomText\n",
    "# \n",
    "# CustomText.make_title(f\"Sample: {i_sample}, Number of Local Networks: {n_networks}\")\n",
    "# CustomText.print_stars()\n",
    "# for o_cbn in l_o_cbn:\n",
    "#     print(f\"Number of Edges: {len(o_cbn.l_directed_edges)} - Attractor Fields: {o_cbn.get_n_attractor_fields()}\")\n",
    "#     o_cbn.count_fields_by_global_scenes()"
   ],
   "id": "f590f640d835d0ea",
   "outputs": [
    {
     "name": "stdout",
     "output_type": "stream",
     "text": [
      "**************************************************\n",
      "SAMPLE: 84, NUMBER OF LOCAL NETWORKS: 8\n",
      "**************************************************\n",
      "Number of Edges: 8 - Attractor Fields: 1376256\n",
      "==================================================\n",
      "COUNTING THE STABLE ATTRACTOR FIELDS BY GLOBAL SCENE\n",
      "{'11111111': 1048576, '11110011': 262144, '00000000': 65536}\n",
      "Number of Edges: 9 - Attractor Fields: 1376256\n",
      "==================================================\n",
      "COUNTING THE STABLE ATTRACTOR FIELDS BY GLOBAL SCENE\n",
      "{'111111111': 1048576, '111100111': 262144, '000000000': 65536}\n",
      "Number of Edges: 10 - Attractor Fields: 1507328\n",
      "==================================================\n",
      "COUNTING THE STABLE ATTRACTOR FIELDS BY GLOBAL SCENE\n",
      "{'1111001110': 262144, '1111111110': 524288, '1111111111': 524288, '0000000000': 65536, '0000110001': 131072}\n",
      "Number of Edges: 11 - Attractor Fields: 1507328\n",
      "==================================================\n",
      "COUNTING THE STABLE ATTRACTOR FIELDS BY GLOBAL SCENE\n",
      "{'11110011100': 262144, '11111111100': 524288, '11111111111': 524288, '00000000000': 65536, '00001100011': 131072}\n",
      "Number of Edges: 12 - Attractor Fields: 2555904\n",
      "==================================================\n",
      "COUNTING THE STABLE ATTRACTOR FIELDS BY GLOBAL SCENE\n",
      "{'111100111000': 262144, '111111111000': 262144, '111111111110': 262144, '111111000001': 262144, '111111000111': 262144, '111111101001': 262144, '111111101111': 262144, '000000000000': 65536, '000011000110': 65536, '000011000111': 65536, '111111111001': 262144, '111111111111': 262144}\n"
     ]
    }
   ],
   "execution_count": 7
  },
  {
   "metadata": {
    "ExecuteTime": {
     "end_time": "2024-09-11T04:23:15.565458Z",
     "start_time": "2024-09-11T04:18:14.613681Z"
    }
   },
   "cell_type": "code",
   "source": [
    "import pandas as pd\n",
    "from classes.utils.customtext import CustomText\n",
    "\n",
    "# Inicializar listas para los datos\n",
    "data = {\n",
    "    \"Sample\": [],\n",
    "    \"Number of Local Networks\": [],\n",
    "    \"Number of Edges\": [],\n",
    "    \"Global Scene\": [],\n",
    "    \"Attractor Fields Count\": []\n",
    "}\n",
    "\n",
    "# Personaliza el título y los encabezados\n",
    "CustomText.make_title(f\"Sample: {i_sample}, Number of Local Networks: {n_networks}\")\n",
    "CustomText.print_stars()\n",
    "\n",
    "# Bucle para recorrer los objetos l_o_cbn\n",
    "for o_cbn in l_o_cbn:\n",
    "    num_edges = len(o_cbn.l_directed_edges)\n",
    "    attractor_fields = o_cbn.get_n_attractor_fields()\n",
    "    global_scenes = o_cbn.count_fields_by_global_scenes()\n",
    "\n",
    "    # Verificar si global_scenes no es None\n",
    "    if global_scenes:\n",
    "        # Recorrer los diccionarios global_scenes\n",
    "        for scene, count in global_scenes.items():\n",
    "            # Agregar datos al diccionario\n",
    "            data[\"Sample\"].append(i_sample)\n",
    "            data[\"Number of Local Networks\"].append(n_networks)\n",
    "            data[\"Number of Edges\"].append(num_edges)\n",
    "            data[\"Global Scene\"].append(scene)\n",
    "            data[\"Attractor Fields Count\"].append(count)\n",
    "\n",
    "# Crear DataFrame\n",
    "df_resumo = pd.DataFrame(data)\n",
    "df_resumo"
   ],
   "id": "4452e2f00973d720",
   "outputs": [
    {
     "name": "stdout",
     "output_type": "stream",
     "text": [
      "**************************************************\n",
      "SAMPLE: 84, NUMBER OF LOCAL NETWORKS: 8\n",
      "**************************************************\n",
      "==================================================\n",
      "COUNTING THE STABLE ATTRACTOR FIELDS BY GLOBAL SCENE\n",
      "{'11111111': 1048576, '11110011': 262144, '00000000': 65536}\n",
      "==================================================\n",
      "COUNTING THE STABLE ATTRACTOR FIELDS BY GLOBAL SCENE\n",
      "{'111111111': 1048576, '111100111': 262144, '000000000': 65536}\n",
      "==================================================\n",
      "COUNTING THE STABLE ATTRACTOR FIELDS BY GLOBAL SCENE\n",
      "{'1111001110': 262144, '1111111110': 524288, '1111111111': 524288, '0000000000': 65536, '0000110001': 131072}\n",
      "==================================================\n",
      "COUNTING THE STABLE ATTRACTOR FIELDS BY GLOBAL SCENE\n",
      "{'11110011100': 262144, '11111111100': 524288, '11111111111': 524288, '00000000000': 65536, '00001100011': 131072}\n",
      "==================================================\n",
      "COUNTING THE STABLE ATTRACTOR FIELDS BY GLOBAL SCENE\n",
      "{'111100111000': 262144, '111111111000': 262144, '111111111110': 262144, '111111000001': 262144, '111111000111': 262144, '111111101001': 262144, '111111101111': 262144, '000000000000': 65536, '000011000110': 65536, '000011000111': 65536, '111111111001': 262144, '111111111111': 262144}\n"
     ]
    },
    {
     "data": {
      "text/plain": [
       "Empty DataFrame\n",
       "Columns: [Sample, Number of Local Networks, Number of Edges, Global Scene, Attractor Fields Count]\n",
       "Index: []"
      ],
      "text/html": [
       "<div>\n",
       "<style scoped>\n",
       "    .dataframe tbody tr th:only-of-type {\n",
       "        vertical-align: middle;\n",
       "    }\n",
       "\n",
       "    .dataframe tbody tr th {\n",
       "        vertical-align: top;\n",
       "    }\n",
       "\n",
       "    .dataframe thead th {\n",
       "        text-align: right;\n",
       "    }\n",
       "</style>\n",
       "<table border=\"1\" class=\"dataframe\">\n",
       "  <thead>\n",
       "    <tr style=\"text-align: right;\">\n",
       "      <th></th>\n",
       "      <th>Sample</th>\n",
       "      <th>Number of Local Networks</th>\n",
       "      <th>Number of Edges</th>\n",
       "      <th>Global Scene</th>\n",
       "      <th>Attractor Fields Count</th>\n",
       "    </tr>\n",
       "  </thead>\n",
       "  <tbody>\n",
       "  </tbody>\n",
       "</table>\n",
       "</div>"
      ]
     },
     "execution_count": 8,
     "metadata": {},
     "output_type": "execute_result"
    }
   ],
   "execution_count": 8
  }
 ],
 "metadata": {
  "kernelspec": {
   "display_name": "Python 3",
   "language": "python",
   "name": "python3"
  },
  "language_info": {
   "codemirror_mode": {
    "name": "ipython",
    "version": 2
   },
   "file_extension": ".py",
   "mimetype": "text/x-python",
   "name": "python",
   "nbconvert_exporter": "python",
   "pygments_lexer": "ipython2",
   "version": "2.7.6"
  }
 },
 "nbformat": 4,
 "nbformat_minor": 5
}
