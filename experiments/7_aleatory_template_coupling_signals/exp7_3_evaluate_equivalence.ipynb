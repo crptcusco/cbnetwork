{
 "cells": [
  {
   "metadata": {},
   "cell_type": "markdown",
   "source": "# Evaluate Equivalence between RBAs with different number of edges",
   "id": "f4bd03d0eb009a6d"
  },
  {
   "metadata": {},
   "cell_type": "markdown",
   "source": "## Evaluate the collected indicators",
   "id": "844b649065496586"
  },
  {
   "metadata": {},
   "cell_type": "markdown",
   "source": "### Load the experiments",
   "id": "9fbe70df11072d20"
  },
  {
   "metadata": {
    "collapsed": true,
    "ExecuteTime": {
     "end_time": "2024-09-10T21:40:22.247745Z",
     "start_time": "2024-09-10T21:40:22.240123Z"
    }
   },
   "cell_type": "code",
   "source": [
    "from classes.utils.customtext import CustomText\n",
    "import pandas as pd\n",
    "\n",
    "exp_path = \"outputs/exp7_data_3_8_10/\"\n",
    "indicators_file = exp_path + 'data.csv'\n",
    "\n",
    "df = pd.read_csv(indicators_file)\n",
    "print(\"Archivo cargado exitosamente\")"
   ],
   "id": "initial_id",
   "outputs": [
    {
     "name": "stdout",
     "output_type": "stream",
     "text": [
      "Archivo cargado exitosamente\n"
     ]
    }
   ],
   "execution_count": 7
  },
  {
   "metadata": {
    "ExecuteTime": {
     "end_time": "2024-09-10T21:41:57.877643Z",
     "start_time": "2024-09-10T21:41:57.871552Z"
    }
   },
   "cell_type": "code",
   "source": [
    "num_registers = df.shape[0]\n",
    "print(f\"El DataFrame tiene {num_registers} registros.\")\n",
    "df.keys()"
   ],
   "id": "1835d51ff086c2e6",
   "outputs": [
    {
     "name": "stdout",
     "output_type": "stream",
     "text": [
      "El DataFrame tiene 210 registros.\n"
     ]
    },
    {
     "data": {
      "text/plain": [
       "Index(['i_sample', 'n_local_networks', 'n_var_network', 'v_topology',\n",
       "       'n_output_variables', 'n_clauses_function', 'n_edges',\n",
       "       'n_local_attractors', 'n_pair_attractors', 'n_attractor_fields',\n",
       "       'n_time_find_attractors', 'n_time_find_pairs', 'n_time_find_fields'],\n",
       "      dtype='object')"
      ]
     },
     "execution_count": 9,
     "metadata": {},
     "output_type": "execute_result"
    }
   ],
   "execution_count": 9
  },
  {
   "metadata": {},
   "cell_type": "markdown",
   "source": "### Filter by local network",
   "id": "d22986c5d98a6201"
  },
  {
   "metadata": {
    "ExecuteTime": {
     "end_time": "2024-09-10T21:33:28.827453Z",
     "start_time": "2024-09-10T21:33:28.821447Z"
    }
   },
   "cell_type": "code",
   "source": [
    "# filter by the number of local network\n",
    "n_local_networks = 8\n",
    "df_filter = df[df['n_local_networks'] == n_local_networks]\n",
    "num_registers = df_filter.shape[0]\n",
    "print(f\"Existe {num_registers} registros para las RBAs de {n_local_networks} redes locales.\")"
   ],
   "id": "e7b8ddb9982bc56f",
   "outputs": [
    {
     "name": "stdout",
     "output_type": "stream",
     "text": [
      "Existe 50 registros para las RBAs de 8 redes locales.\n"
     ]
    }
   ],
   "execution_count": 2
  },
  {
   "metadata": {},
   "cell_type": "markdown",
   "source": "### Statistic comparative by edges",
   "id": "4f4035a999cac8d4"
  },
  {
   "metadata": {
    "ExecuteTime": {
     "end_time": "2024-09-10T21:33:28.915812Z",
     "start_time": "2024-09-10T21:33:28.885203Z"
    }
   },
   "cell_type": "code",
   "source": [
    "import pandas as pd\n",
    "\n",
    "# Assuming your DataFrame is named 'df'\n",
    "grouped_df = df_filter.groupby('n_edges')\n",
    "\n",
    "# Calculate mean, median, standard deviation for each target column\n",
    "summary_stats = grouped_df[['n_local_attractors', 'n_pair_attractors', 'n_attractor_fields']].agg(\n",
    "    ['mean', 'median', 'std']\n",
    ")\n",
    "\n",
    "summary_stats"
   ],
   "id": "a5bb85fe739652a7",
   "outputs": [
    {
     "data": {
      "text/plain": [
       "        n_local_attractors                   n_pair_attractors         \\\n",
       "                      mean median        std              mean median   \n",
       "n_edges                                                                 \n",
       "8                     31.6   29.5  11.500725              75.6   41.5   \n",
       "9                     35.1   32.0  13.312066             106.7   54.0   \n",
       "10                    39.1   35.0  15.372775             145.9   69.0   \n",
       "11                    41.9   38.0  16.960411             186.5   82.0   \n",
       "12                    45.1   41.0  18.008948             231.2   99.5   \n",
       "\n",
       "                    n_attractor_fields                       \n",
       "                std               mean median           std  \n",
       "n_edges                                                      \n",
       "8         74.937307             8032.9    9.5  20381.124113  \n",
       "9        111.464045             8075.3    5.5  20366.898526  \n",
       "10       151.778677             8140.1    5.5  20346.735728  \n",
       "11       209.513855             8405.7    2.5  20350.826268  \n",
       "12       244.098250             8612.6    2.5  20675.599345  "
      ],
      "text/html": [
       "<div>\n",
       "<style scoped>\n",
       "    .dataframe tbody tr th:only-of-type {\n",
       "        vertical-align: middle;\n",
       "    }\n",
       "\n",
       "    .dataframe tbody tr th {\n",
       "        vertical-align: top;\n",
       "    }\n",
       "\n",
       "    .dataframe thead tr th {\n",
       "        text-align: left;\n",
       "    }\n",
       "\n",
       "    .dataframe thead tr:last-of-type th {\n",
       "        text-align: right;\n",
       "    }\n",
       "</style>\n",
       "<table border=\"1\" class=\"dataframe\">\n",
       "  <thead>\n",
       "    <tr>\n",
       "      <th></th>\n",
       "      <th colspan=\"3\" halign=\"left\">n_local_attractors</th>\n",
       "      <th colspan=\"3\" halign=\"left\">n_pair_attractors</th>\n",
       "      <th colspan=\"3\" halign=\"left\">n_attractor_fields</th>\n",
       "    </tr>\n",
       "    <tr>\n",
       "      <th></th>\n",
       "      <th>mean</th>\n",
       "      <th>median</th>\n",
       "      <th>std</th>\n",
       "      <th>mean</th>\n",
       "      <th>median</th>\n",
       "      <th>std</th>\n",
       "      <th>mean</th>\n",
       "      <th>median</th>\n",
       "      <th>std</th>\n",
       "    </tr>\n",
       "    <tr>\n",
       "      <th>n_edges</th>\n",
       "      <th></th>\n",
       "      <th></th>\n",
       "      <th></th>\n",
       "      <th></th>\n",
       "      <th></th>\n",
       "      <th></th>\n",
       "      <th></th>\n",
       "      <th></th>\n",
       "      <th></th>\n",
       "    </tr>\n",
       "  </thead>\n",
       "  <tbody>\n",
       "    <tr>\n",
       "      <th>8</th>\n",
       "      <td>31.6</td>\n",
       "      <td>29.5</td>\n",
       "      <td>11.500725</td>\n",
       "      <td>75.6</td>\n",
       "      <td>41.5</td>\n",
       "      <td>74.937307</td>\n",
       "      <td>8032.9</td>\n",
       "      <td>9.5</td>\n",
       "      <td>20381.124113</td>\n",
       "    </tr>\n",
       "    <tr>\n",
       "      <th>9</th>\n",
       "      <td>35.1</td>\n",
       "      <td>32.0</td>\n",
       "      <td>13.312066</td>\n",
       "      <td>106.7</td>\n",
       "      <td>54.0</td>\n",
       "      <td>111.464045</td>\n",
       "      <td>8075.3</td>\n",
       "      <td>5.5</td>\n",
       "      <td>20366.898526</td>\n",
       "    </tr>\n",
       "    <tr>\n",
       "      <th>10</th>\n",
       "      <td>39.1</td>\n",
       "      <td>35.0</td>\n",
       "      <td>15.372775</td>\n",
       "      <td>145.9</td>\n",
       "      <td>69.0</td>\n",
       "      <td>151.778677</td>\n",
       "      <td>8140.1</td>\n",
       "      <td>5.5</td>\n",
       "      <td>20346.735728</td>\n",
       "    </tr>\n",
       "    <tr>\n",
       "      <th>11</th>\n",
       "      <td>41.9</td>\n",
       "      <td>38.0</td>\n",
       "      <td>16.960411</td>\n",
       "      <td>186.5</td>\n",
       "      <td>82.0</td>\n",
       "      <td>209.513855</td>\n",
       "      <td>8405.7</td>\n",
       "      <td>2.5</td>\n",
       "      <td>20350.826268</td>\n",
       "    </tr>\n",
       "    <tr>\n",
       "      <th>12</th>\n",
       "      <td>45.1</td>\n",
       "      <td>41.0</td>\n",
       "      <td>18.008948</td>\n",
       "      <td>231.2</td>\n",
       "      <td>99.5</td>\n",
       "      <td>244.098250</td>\n",
       "      <td>8612.6</td>\n",
       "      <td>2.5</td>\n",
       "      <td>20675.599345</td>\n",
       "    </tr>\n",
       "  </tbody>\n",
       "</table>\n",
       "</div>"
      ]
     },
     "execution_count": 3,
     "metadata": {},
     "output_type": "execute_result"
    }
   ],
   "execution_count": 3
  },
  {
   "metadata": {},
   "cell_type": "markdown",
   "source": "# Find the sample with more number of Stable Attractor Fields",
   "id": "7c3b2b9c495d61ad"
  },
  {
   "metadata": {
    "ExecuteTime": {
     "end_time": "2024-09-10T21:33:29.066167Z",
     "start_time": "2024-09-10T21:33:29.060719Z"
    }
   },
   "cell_type": "code",
   "source": [
    "max_sample = df_filter.loc[df_filter['n_attractor_fields'].idxmax(), 'i_sample']\n",
    "max_sample"
   ],
   "id": "8d993e0817f250bd",
   "outputs": [
    {
     "data": {
      "text/plain": [
       "3"
      ]
     },
     "execution_count": 4,
     "metadata": {},
     "output_type": "execute_result"
    }
   ],
   "execution_count": 4
  },
  {
   "metadata": {},
   "cell_type": "markdown",
   "source": "# Load the CBN objects for an specific sample",
   "id": "43f3fb4631edd516"
  },
  {
   "metadata": {
    "ExecuteTime": {
     "end_time": "2024-09-10T21:33:30.239797Z",
     "start_time": "2024-09-10T21:33:29.209181Z"
    }
   },
   "cell_type": "code",
   "source": [
    "import pickle\n",
    "import os\n",
    "import matplotlib.pyplot as plt\n",
    "\n",
    "# Define el segundo número en la ruta del archivo pickle\n",
    "i_sample = max_sample\n",
    "n_networks = 8   # Cambia esto según sea necesario\n",
    "\n",
    "# Ruta base sin el número cambiante\n",
    "base_path_cbn = f'outputs/exp7_data_3_8_10/pkl_cbn/cbn_{i_sample}_{n_networks}_'\n",
    "\n",
    "# Número inicial y rango máximo\n",
    "start_number = n_networks\n",
    "max_number = 2 * start_number\n",
    "\n",
    "# Lista de archivos pickle existentes\n",
    "pickle_files = [f\"{base_path_cbn}{i}.pkl\" for i in range(start_number, max_number + 1) if os.path.exists(f\"{base_path_cbn}{i}.pkl\")]\n",
    "\n",
    "l_o_cbn = []\n",
    "# Iterador para cargar y mostrar las topologías\n",
    "for path_cbn in pickle_files:\n",
    "    with open(path_cbn, 'rb') as file:\n",
    "        o_cbn = pickle.load(file)\n",
    "        l_o_cbn.append(o_cbn)\n",
    "print('CBN objects loads in l_o_cbn')"
   ],
   "id": "9f9638ca3da9be5d",
   "outputs": [
    {
     "name": "stdout",
     "output_type": "stream",
     "text": [
      "CBN objects loads in l_o_cbn\n"
     ]
    }
   ],
   "execution_count": 5
  },
  {
   "metadata": {},
   "cell_type": "markdown",
   "source": "# Show the number of Stable attractor fields for Edge",
   "id": "65f55ab693951c59"
  },
  {
   "metadata": {
    "ExecuteTime": {
     "end_time": "2024-09-10T21:33:41.294377Z",
     "start_time": "2024-09-10T21:33:30.384846Z"
    }
   },
   "cell_type": "code",
   "source": [
    "from classes.utils.customtext import CustomText\n",
    "\n",
    "CustomText.make_title(f\"Sample: {i_sample}, Number of Local Networks: {n_networks}\")\n",
    "CustomText.print_stars()\n",
    "for o_cbn in l_o_cbn:\n",
    "    print(f\"Number of Edges: {len(o_cbn.l_directed_edges)} - Attractor Fields: {o_cbn.get_n_attractor_fields()}\")\n",
    "    o_cbn.count_fields_by_global_scenes()"
   ],
   "id": "f590f640d835d0ea",
   "outputs": [
    {
     "name": "stdout",
     "output_type": "stream",
     "text": [
      "**************************************************\n",
      "SAMPLE: 3, NUMBER OF LOCAL NETWORKS: 8\n",
      "**************************************************\n",
      "Number of Edges: 8 - Attractor Fields: 65536\n",
      "==================================================\n",
      "COUNTING THE STABLE ATTRACTOR FIELDS BY GLOBAL SCENE\n",
      "{'11111111': 65536}\n",
      "Number of Edges: 9 - Attractor Fields: 65536\n",
      "==================================================\n",
      "COUNTING THE STABLE ATTRACTOR FIELDS BY GLOBAL SCENE\n",
      "{'111111111': 65536}\n",
      "Number of Edges: 10 - Attractor Fields: 65536\n",
      "==================================================\n",
      "COUNTING THE STABLE ATTRACTOR FIELDS BY GLOBAL SCENE\n",
      "{'1111111111': 65536}\n",
      "Number of Edges: 11 - Attractor Fields: 65536\n",
      "==================================================\n",
      "COUNTING THE STABLE ATTRACTOR FIELDS BY GLOBAL SCENE\n",
      "{'11111111111': 65536}\n",
      "Number of Edges: 12 - Attractor Fields: 66561\n",
      "==================================================\n",
      "COUNTING THE STABLE ATTRACTOR FIELDS BY GLOBAL SCENE\n",
      "{'111111111111': 65536, '111010000110': 1024, '000000000000': 1}\n"
     ]
    }
   ],
   "execution_count": 6
  }
 ],
 "metadata": {
  "kernelspec": {
   "display_name": "Python 3",
   "language": "python",
   "name": "python3"
  },
  "language_info": {
   "codemirror_mode": {
    "name": "ipython",
    "version": 2
   },
   "file_extension": ".py",
   "mimetype": "text/x-python",
   "name": "python",
   "nbconvert_exporter": "python",
   "pygments_lexer": "ipython2",
   "version": "2.7.6"
  }
 },
 "nbformat": 4,
 "nbformat_minor": 5
}
