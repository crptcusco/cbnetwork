{
 "cells": [
  {
   "metadata": {},
   "cell_type": "markdown",
   "source": "# Experimento 7 : Test te results",
   "id": "ad2842b931680031"
  },
  {
   "metadata": {},
   "cell_type": "markdown",
   "source": "## Load the CBNs and show his topologies",
   "id": "504183426a485cca"
  },
  {
   "metadata": {
    "ExecuteTime": {
     "end_time": "2024-07-15T22:19:16.295533Z",
     "start_time": "2024-07-15T22:19:16.211999Z"
    }
   },
   "cell_type": "code",
   "source": [
    "import pickle\n",
    "import os\n",
    "import matplotlib.pyplot as plt\n",
    "\n",
    "# Define el segundo número en la ruta del archivo pickle\n",
    "second_number = 6  # Cambia esto según sea necesario\n",
    "\n",
    "# Ruta base sin el número cambiante\n",
    "base_path_cbn = f'outputs/exp7_data_3_9_10/pkl_cbn/cbn_5_{second_number}_'\n",
    "\n",
    "# Número inicial y rango máximo\n",
    "start_number = second_number\n",
    "max_number = 2 * start_number\n",
    "\n",
    "# Lista de archivos pickle existentes\n",
    "pickle_files = [f\"{base_path_cbn}{i}.pkl\" for i in range(start_number, max_number + 1) if os.path.exists(f\"{base_path_cbn}{i}.pkl\")]\n",
    "\n",
    "# Número total de gráficos\n",
    "total_graphs = len(pickle_files)\n",
    "\n",
    "# Configuración de subplots en múltiples filas y columnas\n",
    "cols = 3\n",
    "rows = (total_graphs + cols - 1) // cols  # Calcula el número de filas necesario\n",
    "\n",
    "fig, axes = plt.subplots(rows, cols, figsize=(20, 5 * rows))\n",
    "\n",
    "# Aplanar la matriz de ejes si hay más de una fila\n",
    "if rows > 1:\n",
    "    axes = axes.flatten()\n",
    "else:\n",
    "    axes = [axes]\n",
    "\n",
    "# Iterador para cargar y mostrar las topologías\n",
    "for path_cbn, ax in zip(pickle_files, axes):\n",
    "    with open(path_cbn, 'rb') as file:\n",
    "        o_cbn = pickle.load(file)\n",
    "    \n",
    "    # Mostrar la información de CBN en el subplot correspondiente\n",
    "    o_cbn.plot_topology(ax=ax)  # Asegúrate de que plot_topology acepte un parámetro ax\n",
    "\n",
    "# Eliminar ejes vacíos si hay menos gráficos que espacios de subplots\n",
    "for ax in axes[total_graphs:]:\n",
    "    fig.delaxes(ax)\n",
    "\n",
    "# Ajustar el layout y mostrar todas las gráficas juntas\n",
    "plt.tight_layout()\n",
    "plt.show()\n"
   ],
   "id": "a7abf93ab8645d67",
   "outputs": [
    {
     "ename": "ValueError",
     "evalue": "Number of rows must be a positive integer, not 0",
     "output_type": "error",
     "traceback": [
      "\u001B[0;31m---------------------------------------------------------------------------\u001B[0m",
      "\u001B[0;31mValueError\u001B[0m                                Traceback (most recent call last)",
      "Cell \u001B[0;32mIn[2], line 25\u001B[0m\n\u001B[1;32m     22\u001B[0m cols \u001B[38;5;241m=\u001B[39m \u001B[38;5;241m3\u001B[39m\n\u001B[1;32m     23\u001B[0m rows \u001B[38;5;241m=\u001B[39m (total_graphs \u001B[38;5;241m+\u001B[39m cols \u001B[38;5;241m-\u001B[39m \u001B[38;5;241m1\u001B[39m) \u001B[38;5;241m/\u001B[39m\u001B[38;5;241m/\u001B[39m cols  \u001B[38;5;66;03m# Calcula el número de filas necesario\u001B[39;00m\n\u001B[0;32m---> 25\u001B[0m fig, axes \u001B[38;5;241m=\u001B[39m \u001B[43mplt\u001B[49m\u001B[38;5;241;43m.\u001B[39;49m\u001B[43msubplots\u001B[49m\u001B[43m(\u001B[49m\u001B[43mrows\u001B[49m\u001B[43m,\u001B[49m\u001B[43m \u001B[49m\u001B[43mcols\u001B[49m\u001B[43m,\u001B[49m\u001B[43m \u001B[49m\u001B[43mfigsize\u001B[49m\u001B[38;5;241;43m=\u001B[39;49m\u001B[43m(\u001B[49m\u001B[38;5;241;43m20\u001B[39;49m\u001B[43m,\u001B[49m\u001B[43m \u001B[49m\u001B[38;5;241;43m5\u001B[39;49m\u001B[43m \u001B[49m\u001B[38;5;241;43m*\u001B[39;49m\u001B[43m \u001B[49m\u001B[43mrows\u001B[49m\u001B[43m)\u001B[49m\u001B[43m)\u001B[49m\n\u001B[1;32m     27\u001B[0m \u001B[38;5;66;03m# Aplanar la matriz de ejes si hay más de una fila\u001B[39;00m\n\u001B[1;32m     28\u001B[0m \u001B[38;5;28;01mif\u001B[39;00m rows \u001B[38;5;241m>\u001B[39m \u001B[38;5;241m1\u001B[39m:\n",
      "File \u001B[0;32m~/Projects/cbnetwork/venv/lib/python3.9/site-packages/matplotlib/pyplot.py:1502\u001B[0m, in \u001B[0;36msubplots\u001B[0;34m(nrows, ncols, sharex, sharey, squeeze, width_ratios, height_ratios, subplot_kw, gridspec_kw, **fig_kw)\u001B[0m\n\u001B[1;32m   1358\u001B[0m \u001B[38;5;250m\u001B[39m\u001B[38;5;124;03m\"\"\"\u001B[39;00m\n\u001B[1;32m   1359\u001B[0m \u001B[38;5;124;03mCreate a figure and a set of subplots.\u001B[39;00m\n\u001B[1;32m   1360\u001B[0m \n\u001B[0;32m   (...)\u001B[0m\n\u001B[1;32m   1499\u001B[0m \n\u001B[1;32m   1500\u001B[0m \u001B[38;5;124;03m\"\"\"\u001B[39;00m\n\u001B[1;32m   1501\u001B[0m fig \u001B[38;5;241m=\u001B[39m figure(\u001B[38;5;241m*\u001B[39m\u001B[38;5;241m*\u001B[39mfig_kw)\n\u001B[0;32m-> 1502\u001B[0m axs \u001B[38;5;241m=\u001B[39m \u001B[43mfig\u001B[49m\u001B[38;5;241;43m.\u001B[39;49m\u001B[43msubplots\u001B[49m\u001B[43m(\u001B[49m\u001B[43mnrows\u001B[49m\u001B[38;5;241;43m=\u001B[39;49m\u001B[43mnrows\u001B[49m\u001B[43m,\u001B[49m\u001B[43m \u001B[49m\u001B[43mncols\u001B[49m\u001B[38;5;241;43m=\u001B[39;49m\u001B[43mncols\u001B[49m\u001B[43m,\u001B[49m\u001B[43m \u001B[49m\u001B[43msharex\u001B[49m\u001B[38;5;241;43m=\u001B[39;49m\u001B[43msharex\u001B[49m\u001B[43m,\u001B[49m\u001B[43m \u001B[49m\u001B[43msharey\u001B[49m\u001B[38;5;241;43m=\u001B[39;49m\u001B[43msharey\u001B[49m\u001B[43m,\u001B[49m\n\u001B[1;32m   1503\u001B[0m \u001B[43m                   \u001B[49m\u001B[43msqueeze\u001B[49m\u001B[38;5;241;43m=\u001B[39;49m\u001B[43msqueeze\u001B[49m\u001B[43m,\u001B[49m\u001B[43m \u001B[49m\u001B[43msubplot_kw\u001B[49m\u001B[38;5;241;43m=\u001B[39;49m\u001B[43msubplot_kw\u001B[49m\u001B[43m,\u001B[49m\n\u001B[1;32m   1504\u001B[0m \u001B[43m                   \u001B[49m\u001B[43mgridspec_kw\u001B[49m\u001B[38;5;241;43m=\u001B[39;49m\u001B[43mgridspec_kw\u001B[49m\u001B[43m,\u001B[49m\u001B[43m \u001B[49m\u001B[43mheight_ratios\u001B[49m\u001B[38;5;241;43m=\u001B[39;49m\u001B[43mheight_ratios\u001B[49m\u001B[43m,\u001B[49m\n\u001B[1;32m   1505\u001B[0m \u001B[43m                   \u001B[49m\u001B[43mwidth_ratios\u001B[49m\u001B[38;5;241;43m=\u001B[39;49m\u001B[43mwidth_ratios\u001B[49m\u001B[43m)\u001B[49m\n\u001B[1;32m   1506\u001B[0m \u001B[38;5;28;01mreturn\u001B[39;00m fig, axs\n",
      "File \u001B[0;32m~/Projects/cbnetwork/venv/lib/python3.9/site-packages/matplotlib/figure.py:916\u001B[0m, in \u001B[0;36mFigureBase.subplots\u001B[0;34m(self, nrows, ncols, sharex, sharey, squeeze, width_ratios, height_ratios, subplot_kw, gridspec_kw)\u001B[0m\n\u001B[1;32m    912\u001B[0m         \u001B[38;5;28;01mraise\u001B[39;00m \u001B[38;5;167;01mValueError\u001B[39;00m(\u001B[38;5;124m\"\u001B[39m\u001B[38;5;124m'\u001B[39m\u001B[38;5;124mwidth_ratios\u001B[39m\u001B[38;5;124m'\u001B[39m\u001B[38;5;124m must not be defined both as \u001B[39m\u001B[38;5;124m\"\u001B[39m\n\u001B[1;32m    913\u001B[0m                          \u001B[38;5;124m\"\u001B[39m\u001B[38;5;124mparameter and as key in \u001B[39m\u001B[38;5;124m'\u001B[39m\u001B[38;5;124mgridspec_kw\u001B[39m\u001B[38;5;124m'\u001B[39m\u001B[38;5;124m\"\u001B[39m)\n\u001B[1;32m    914\u001B[0m     gridspec_kw[\u001B[38;5;124m'\u001B[39m\u001B[38;5;124mwidth_ratios\u001B[39m\u001B[38;5;124m'\u001B[39m] \u001B[38;5;241m=\u001B[39m width_ratios\n\u001B[0;32m--> 916\u001B[0m gs \u001B[38;5;241m=\u001B[39m \u001B[38;5;28;43mself\u001B[39;49m\u001B[38;5;241;43m.\u001B[39;49m\u001B[43madd_gridspec\u001B[49m\u001B[43m(\u001B[49m\u001B[43mnrows\u001B[49m\u001B[43m,\u001B[49m\u001B[43m \u001B[49m\u001B[43mncols\u001B[49m\u001B[43m,\u001B[49m\u001B[43m \u001B[49m\u001B[43mfigure\u001B[49m\u001B[38;5;241;43m=\u001B[39;49m\u001B[38;5;28;43mself\u001B[39;49m\u001B[43m,\u001B[49m\u001B[43m \u001B[49m\u001B[38;5;241;43m*\u001B[39;49m\u001B[38;5;241;43m*\u001B[39;49m\u001B[43mgridspec_kw\u001B[49m\u001B[43m)\u001B[49m\n\u001B[1;32m    917\u001B[0m axs \u001B[38;5;241m=\u001B[39m gs\u001B[38;5;241m.\u001B[39msubplots(sharex\u001B[38;5;241m=\u001B[39msharex, sharey\u001B[38;5;241m=\u001B[39msharey, squeeze\u001B[38;5;241m=\u001B[39msqueeze,\n\u001B[1;32m    918\u001B[0m                   subplot_kw\u001B[38;5;241m=\u001B[39msubplot_kw)\n\u001B[1;32m    919\u001B[0m \u001B[38;5;28;01mreturn\u001B[39;00m axs\n",
      "File \u001B[0;32m~/Projects/cbnetwork/venv/lib/python3.9/site-packages/matplotlib/figure.py:1544\u001B[0m, in \u001B[0;36mFigureBase.add_gridspec\u001B[0;34m(self, nrows, ncols, **kwargs)\u001B[0m\n\u001B[1;32m   1505\u001B[0m \u001B[38;5;250m\u001B[39m\u001B[38;5;124;03m\"\"\"\u001B[39;00m\n\u001B[1;32m   1506\u001B[0m \u001B[38;5;124;03mReturn a `.GridSpec` that has this figure as a parent.  This allows\u001B[39;00m\n\u001B[1;32m   1507\u001B[0m \u001B[38;5;124;03mcomplex layout of Axes in the figure.\u001B[39;00m\n\u001B[0;32m   (...)\u001B[0m\n\u001B[1;32m   1540\u001B[0m \n\u001B[1;32m   1541\u001B[0m \u001B[38;5;124;03m\"\"\"\u001B[39;00m\n\u001B[1;32m   1543\u001B[0m _ \u001B[38;5;241m=\u001B[39m kwargs\u001B[38;5;241m.\u001B[39mpop(\u001B[38;5;124m'\u001B[39m\u001B[38;5;124mfigure\u001B[39m\u001B[38;5;124m'\u001B[39m, \u001B[38;5;28;01mNone\u001B[39;00m)  \u001B[38;5;66;03m# pop in case user has added this...\u001B[39;00m\n\u001B[0;32m-> 1544\u001B[0m gs \u001B[38;5;241m=\u001B[39m \u001B[43mGridSpec\u001B[49m\u001B[43m(\u001B[49m\u001B[43mnrows\u001B[49m\u001B[38;5;241;43m=\u001B[39;49m\u001B[43mnrows\u001B[49m\u001B[43m,\u001B[49m\u001B[43m \u001B[49m\u001B[43mncols\u001B[49m\u001B[38;5;241;43m=\u001B[39;49m\u001B[43mncols\u001B[49m\u001B[43m,\u001B[49m\u001B[43m \u001B[49m\u001B[43mfigure\u001B[49m\u001B[38;5;241;43m=\u001B[39;49m\u001B[38;5;28;43mself\u001B[39;49m\u001B[43m,\u001B[49m\u001B[43m \u001B[49m\u001B[38;5;241;43m*\u001B[39;49m\u001B[38;5;241;43m*\u001B[39;49m\u001B[43mkwargs\u001B[49m\u001B[43m)\u001B[49m\n\u001B[1;32m   1545\u001B[0m \u001B[38;5;28;01mreturn\u001B[39;00m gs\n",
      "File \u001B[0;32m~/Projects/cbnetwork/venv/lib/python3.9/site-packages/matplotlib/gridspec.py:379\u001B[0m, in \u001B[0;36mGridSpec.__init__\u001B[0;34m(self, nrows, ncols, figure, left, bottom, right, top, wspace, hspace, width_ratios, height_ratios)\u001B[0m\n\u001B[1;32m    376\u001B[0m \u001B[38;5;28mself\u001B[39m\u001B[38;5;241m.\u001B[39mhspace \u001B[38;5;241m=\u001B[39m hspace\n\u001B[1;32m    377\u001B[0m \u001B[38;5;28mself\u001B[39m\u001B[38;5;241m.\u001B[39mfigure \u001B[38;5;241m=\u001B[39m figure\n\u001B[0;32m--> 379\u001B[0m \u001B[38;5;28;43msuper\u001B[39;49m\u001B[43m(\u001B[49m\u001B[43m)\u001B[49m\u001B[38;5;241;43m.\u001B[39;49m\u001B[38;5;21;43m__init__\u001B[39;49m\u001B[43m(\u001B[49m\u001B[43mnrows\u001B[49m\u001B[43m,\u001B[49m\u001B[43m \u001B[49m\u001B[43mncols\u001B[49m\u001B[43m,\u001B[49m\n\u001B[1;32m    380\u001B[0m \u001B[43m                 \u001B[49m\u001B[43mwidth_ratios\u001B[49m\u001B[38;5;241;43m=\u001B[39;49m\u001B[43mwidth_ratios\u001B[49m\u001B[43m,\u001B[49m\n\u001B[1;32m    381\u001B[0m \u001B[43m                 \u001B[49m\u001B[43mheight_ratios\u001B[49m\u001B[38;5;241;43m=\u001B[39;49m\u001B[43mheight_ratios\u001B[49m\u001B[43m)\u001B[49m\n",
      "File \u001B[0;32m~/Projects/cbnetwork/venv/lib/python3.9/site-packages/matplotlib/gridspec.py:49\u001B[0m, in \u001B[0;36mGridSpecBase.__init__\u001B[0;34m(self, nrows, ncols, height_ratios, width_ratios)\u001B[0m\n\u001B[1;32m     34\u001B[0m \u001B[38;5;250m\u001B[39m\u001B[38;5;124;03m\"\"\"\u001B[39;00m\n\u001B[1;32m     35\u001B[0m \u001B[38;5;124;03mParameters\u001B[39;00m\n\u001B[1;32m     36\u001B[0m \u001B[38;5;124;03m----------\u001B[39;00m\n\u001B[0;32m   (...)\u001B[0m\n\u001B[1;32m     46\u001B[0m \u001B[38;5;124;03m    If not given, all rows will have the same height.\u001B[39;00m\n\u001B[1;32m     47\u001B[0m \u001B[38;5;124;03m\"\"\"\u001B[39;00m\n\u001B[1;32m     48\u001B[0m \u001B[38;5;28;01mif\u001B[39;00m \u001B[38;5;129;01mnot\u001B[39;00m \u001B[38;5;28misinstance\u001B[39m(nrows, Integral) \u001B[38;5;129;01mor\u001B[39;00m nrows \u001B[38;5;241m<\u001B[39m\u001B[38;5;241m=\u001B[39m \u001B[38;5;241m0\u001B[39m:\n\u001B[0;32m---> 49\u001B[0m     \u001B[38;5;28;01mraise\u001B[39;00m \u001B[38;5;167;01mValueError\u001B[39;00m(\n\u001B[1;32m     50\u001B[0m         \u001B[38;5;124mf\u001B[39m\u001B[38;5;124m\"\u001B[39m\u001B[38;5;124mNumber of rows must be a positive integer, not \u001B[39m\u001B[38;5;132;01m{\u001B[39;00mnrows\u001B[38;5;132;01m!r}\u001B[39;00m\u001B[38;5;124m\"\u001B[39m)\n\u001B[1;32m     51\u001B[0m \u001B[38;5;28;01mif\u001B[39;00m \u001B[38;5;129;01mnot\u001B[39;00m \u001B[38;5;28misinstance\u001B[39m(ncols, Integral) \u001B[38;5;129;01mor\u001B[39;00m ncols \u001B[38;5;241m<\u001B[39m\u001B[38;5;241m=\u001B[39m \u001B[38;5;241m0\u001B[39m:\n\u001B[1;32m     52\u001B[0m     \u001B[38;5;28;01mraise\u001B[39;00m \u001B[38;5;167;01mValueError\u001B[39;00m(\n\u001B[1;32m     53\u001B[0m         \u001B[38;5;124mf\u001B[39m\u001B[38;5;124m\"\u001B[39m\u001B[38;5;124mNumber of columns must be a positive integer, not \u001B[39m\u001B[38;5;132;01m{\u001B[39;00mncols\u001B[38;5;132;01m!r}\u001B[39;00m\u001B[38;5;124m\"\u001B[39m)\n",
      "\u001B[0;31mValueError\u001B[0m: Number of rows must be a positive integer, not 0"
     ]
    },
    {
     "data": {
      "text/plain": [
       "<Figure size 2000x0 with 0 Axes>"
      ]
     },
     "metadata": {},
     "output_type": "display_data"
    }
   ],
   "execution_count": 2
  },
  {
   "metadata": {},
   "cell_type": "code",
   "source": [
    "# Iterador para cargar y mostrar las topologías\n",
    "for path_cbn, ax in zip(pickle_files, axes):\n",
    "    with open(path_cbn, 'rb') as file:\n",
    "        o_cbn = pickle.load(file)\n",
    "        o_cbn.show_description()"
   ],
   "id": "167e8c1bfd7eb532",
   "outputs": [],
   "execution_count": null
  },
  {
   "metadata": {},
   "cell_type": "code",
   "source": [
    "import contextlib\n",
    "import io\n",
    "\n",
    "# Crear la carpeta de descripción si no existe\n",
    "description_folder = 'description'\n",
    "os.makedirs(description_folder, exist_ok=True)\n",
    "\n",
    "# Función para extraer el índice del archivo pickle\n",
    "def extract_index(file_path):\n",
    "    file_name = os.path.splitext(os.path.basename(file_path))[0]\n",
    "    return file_name.split('_')[-1]\n",
    "\n",
    "# Iterador para cargar y guardar las descripciones\n",
    "for path_cbn in pickle_files:\n",
    "    idx = extract_index(path_cbn)\n",
    "    \n",
    "    with open(path_cbn, 'rb') as file:\n",
    "        o_cbn = pickle.load(file)\n",
    "    \n",
    "    # Capturar la salida de o_cbn.show_description()\n",
    "    description = io.StringIO()\n",
    "    with contextlib.redirect_stdout(description):\n",
    "        o_cbn.show_description()\n",
    "    \n",
    "    # Guardar la descripción en un archivo de texto\n",
    "    description_file_path = os.path.join(description_folder, f'description_{idx}.txt')\n",
    "    with open(description_file_path, 'w') as desc_file:\n",
    "        desc_file.write(description.getvalue())\n",
    "\n",
    "print(\"Descripciones guardadas en la carpeta 'description'.\")"
   ],
   "id": "264f3e04c46ab303",
   "outputs": [],
   "execution_count": null
  }
 ],
 "metadata": {
  "kernelspec": {
   "display_name": "Python 3",
   "language": "python",
   "name": "python3"
  },
  "language_info": {
   "codemirror_mode": {
    "name": "ipython",
    "version": 2
   },
   "file_extension": ".py",
   "mimetype": "text/x-python",
   "name": "python",
   "nbconvert_exporter": "python",
   "pygments_lexer": "ipython2",
   "version": "2.7.6"
  }
 },
 "nbformat": 4,
 "nbformat_minor": 5
}
