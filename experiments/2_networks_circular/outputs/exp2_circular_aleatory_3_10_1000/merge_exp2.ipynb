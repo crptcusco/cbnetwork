{
 "cells": [
  {
   "cell_type": "code",
   "id": "initial_id",
   "metadata": {
    "collapsed": true,
    "ExecuteTime": {
     "end_time": "2024-06-30T22:09:45.552524Z",
     "start_time": "2024-06-30T22:09:45.165077Z"
    }
   },
   "source": [
    "import pandas as pd\n",
    "\n",
    "# Leer los dos archivos CSV en DataFrames\n",
    "df1 = pd.read_csv('../exp2_circular_aleatory_3_9_1000/data.csv')\n",
    "df2 = pd.read_csv('../exp2_circular_aleatory_10_10_1000/data.csv')\n",
    "\n",
    "# Concatenar los DataFrames\n",
    "combined_df = pd.concat([df1, df2])\n",
    "\n",
    "# Guardar el DataFrame combinado en un nuevo archivo CSV\n",
    "combined_df.to_csv('data.csv', index=False)"
   ],
   "outputs": [],
   "execution_count": 1
  }
 ],
 "metadata": {
  "kernelspec": {
   "display_name": "Python 3",
   "language": "python",
   "name": "python3"
  },
  "language_info": {
   "codemirror_mode": {
    "name": "ipython",
    "version": 2
   },
   "file_extension": ".py",
   "mimetype": "text/x-python",
   "name": "python",
   "nbconvert_exporter": "python",
   "pygments_lexer": "ipython2",
   "version": "2.7.6"
  }
 },
 "nbformat": 4,
 "nbformat_minor": 5
}
