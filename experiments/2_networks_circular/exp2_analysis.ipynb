{
 "cells": [
  {
   "metadata": {},
   "cell_type": "markdown",
   "source": "# Experiment 2 : Grow of stables attractors fields in Circular CBN",
   "id": "483e781db1425328"
  },
  {
   "metadata": {},
   "cell_type": "markdown",
   "source": "This experiment explore the growth of local networks in CBN with Circular topology. Its important see what happened with the Circular CBN with more local networks\n",
   "id": "a0236efa9bdf6edb"
  },
  {
   "cell_type": "code",
   "id": "initial_id",
   "metadata": {
    "collapsed": true
   },
   "source": [
    "import pandas as pd\n",
    "import matplotlib.pyplot as plt\n",
    "\n",
    "# Read the database\n",
    "df = pd.read_csv(\"outputs/exp2_circular_aleatory_3_9_10000/data.csv\")\n",
    "df.keys()"
   ],
   "outputs": [],
   "execution_count": null
  },
  {
   "metadata": {},
   "cell_type": "markdown",
   "source": "## Basics Estatistics",
   "id": "f1c4fb0625153e17"
  },
  {
   "metadata": {},
   "cell_type": "code",
   "source": [
    "# Select the required columns and create a new DataFrame\n",
    "df_resume = df[['n_local_networks', 'n_local_attractors', 'n_pair_attractors', 'n_attractor_fields']]\n",
    "df_resume.describe()"
   ],
   "id": "7c0fe7b652e2b2e3",
   "outputs": [],
   "execution_count": null
  },
  {
   "metadata": {},
   "cell_type": "code",
   "source": [
    "# Group by 'n_local_networks' and calculate the mean of 'n_local_attractors'\n",
    "grouped_data = df.groupby('n_local_networks')['n_local_attractors'].mean()\n",
    "\n",
    "# Create the histogram\n",
    "grouped_data.plot(kind='bar')\n",
    "\n",
    "# Customize the plot\n",
    "plt.title('Average n_local_attractors by n_local_networks')\n",
    "plt.xlabel('n_local_networks')\n",
    "plt.ylabel('Average n_local_attractors')\n",
    "plt.xticks(rotation=45)  # Rotate the x-axis labels for better readability\n",
    "\n",
    "# Show the plot\n",
    "plt.show()"
   ],
   "id": "20dc8bef8f0def5c",
   "outputs": [],
   "execution_count": null
  },
  {
   "metadata": {},
   "cell_type": "code",
   "source": [
    "# Group by 'n_local_networks' and calculate the mean of 'n_pair_attractors'\n",
    "grouped_data = df.groupby('n_local_networks')['n_pair_attractors'].mean()\n",
    "\n",
    "# Create the bar plot with different colors for each column\n",
    "grouped_data.plot(kind='bar')\n",
    "\n",
    "# Customize the plot\n",
    "plt.title('Average n_pair_attractors per n_local_networks')\n",
    "plt.xlabel('n_local_networks')\n",
    "plt.ylabel('Average n_pair_attractors')\n",
    "plt.xticks(rotation=45)  # Rotate the x-axis labels for better readability\n",
    "\n",
    "# Show the plot\n",
    "plt.show()\n",
    "                "
   ],
   "id": "782c5c36aec6edbf",
   "outputs": [],
   "execution_count": null
  },
  {
   "metadata": {},
   "cell_type": "code",
   "source": [
    "# Group by 'n_local_networks' and calculate the mean of 'n_attractor_fields'\n",
    "grouped_data = df.groupby('n_local_networks')['n_attractor_fields'].mean()\n",
    "\n",
    "# Create the bar plot with logarithmic scale on the y-axis and different colors\n",
    "grouped_data.plot(kind='bar', logy=True)\n",
    "\n",
    "# Customize the plot\n",
    "plt.title('Average n_attractor_fields per n_local_networks (log scale)')\n",
    "plt.xlabel('n_local_networks')\n",
    "plt.ylabel('Average n_attractor_fields (log scale)')\n",
    "plt.xticks(rotation=45)  # Rotate the x-axis labels for better readability\n",
    "\n",
    "# Show the plot\n",
    "plt.show()"
   ],
   "id": "3c46caebc023fa07",
   "outputs": [],
   "execution_count": null
  },
  {
   "metadata": {},
   "cell_type": "markdown",
   "source": "## Advanced Statistics",
   "id": "59db5f6477b1c"
  },
  {
   "metadata": {},
   "cell_type": "code",
   "source": [
    "# Obtain the last three unique values of n_local_networks\n",
    "n_local_networks_unique = df_resume['n_local_networks'].unique()\n",
    "# n_local_networks_last_three = sorted(n_local_networks_unique)[-3:]\n",
    "n_local_networks_last_three = sorted(n_local_networks_unique)\n",
    "\n",
    "# Violin graphs\n",
    "attributes = ['n_local_attractors', 'n_pair_attractors', 'n_attractor_fields']\n",
    "\n",
    "for attribute in attributes:\n",
    "    fig, axs = plt.subplots(1, len(n_local_networks_last_three), sharey=True, figsize=(15, 7))\n",
    "\n",
    "    for i, n_networks in enumerate(n_local_networks_last_three):\n",
    "        data = df_resume[df_resume['n_local_networks'] == n_networks][attribute]\n",
    "\n",
    "        axs[i].violinplot(data)\n",
    "        axs[i].boxplot(data)\n",
    "        axs[i].set_xlabel(f'N. local networks: {n_networks}')\n",
    "        axs[i].set_xticks([])\n",
    "        axs[i].set_xlim((0.5, 1.5))\n",
    "\n",
    "        mean = data.mean()\n",
    "        std_dev = data.std()\n",
    "        axs[i].axhline(mean, color='g', ls='--', label=fr'$\\bar{{x}}={mean:.4g}$')\n",
    "        axs[i].axhline(mean + std_dev, color='r', ls='--', label=fr'$\\sigma={std_dev:.4g}$')\n",
    "        axs[i].legend()\n",
    "\n",
    "        if attribute == 'n_attractor_fields':  # Apply log scale only on the last attribute\n",
    "            axs[i].set_yscale('log')\n",
    "\n",
    "    fig.suptitle(f'{attribute.replace(\"_\", \" \")} Distribution')\n",
    "    fig.tight_layout(w_pad=0)\n",
    "\n",
    "plt.show()"
   ],
   "id": "b2d99a3c6c201bb1",
   "outputs": [],
   "execution_count": null
  },
  {
   "metadata": {},
   "cell_type": "markdown",
   "source": "## Incremental Taxs ",
   "id": "3041a2f5a5e76e00"
  },
  {
   "metadata": {},
   "cell_type": "code",
   "source": [
    "# Sort the DataFrame by 'i_sample' and 'n_local_networks'\n",
    "df_sorted = df.sort_values(['i_sample', 'n_local_networks'])\n",
    "\n",
    "# Calculate the difference in 'n_attractor_fields' for each pair of consecutive values of 'n_local_networks' for a same 'i_sample'\n",
    "df_sorted['diff_n_attractor_fields'] = df_sorted.groupby(['i_sample'])['n_attractor_fields'].diff()\n",
    "\n",
    "# Remove rows containing NaN (corresponding to the first value of 'n_local_networks' for each 'i_sample')\n",
    "df_sorted = df_sorted.dropna(subset=['diff_n_attractor_fields'])\n",
    "\n",
    "# Calculate the average of the differences per 'i_sample'\n",
    "average_diff_by_i_sample = df_sorted.groupby('i_sample')['diff_n_attractor_fields'].mean()\n",
    "\n",
    "# Display the summary statistics of the average differences per 'i_sample'\n",
    "average_diff_by_i_sample.describe()"
   ],
   "id": "4e7b15cebfc22fa9",
   "outputs": [],
   "execution_count": null
  },
  {
   "metadata": {},
   "cell_type": "code",
   "source": [
    "# Violin graph and boxplot for 'average_diff_by_i_sample'\n",
    "plt.figure(figsize=(6, 8))\n",
    "\n",
    "# Violin plot\n",
    "plt.violinplot(average_diff_by_i_sample.values, vert=True, widths=0.9)\n",
    "\n",
    "# Boxplot\n",
    "plt.boxplot(average_diff_by_i_sample.values, vert=True, widths=0.4, patch_artist=True, showmeans=True)\n",
    "\n",
    "# Log scale for y-axis\n",
    "plt.yscale('log')\n",
    "\n",
    "# Customize plot\n",
    "plt.title('Distribution of average_diff_by_i_sample')\n",
    "plt.xlabel('Average Difference in n_attractor_fields')\n",
    "plt.ylabel('')\n",
    "plt.grid(True)\n",
    "\n",
    "# Show plot\n",
    "plt.show()"
   ],
   "id": "9025ca0153e494cd",
   "outputs": [],
   "execution_count": null
  },
  {
   "metadata": {},
   "cell_type": "markdown",
   "source": "# Top 20",
   "id": "34ea784dd663e865"
  },
  {
   "metadata": {},
   "cell_type": "code",
   "source": [
    "# Group by 'n_local_networks' and find the top 20 values of 'n_attractor_fields' for each group\n",
    "top_20_by_n_local_network = df.groupby('n_local_networks')['n_attractor_fields'].nlargest(20)\n",
    "\n",
    "# Create the stacked bar chart\n",
    "plt.figure(figsize=(10, 6))\n",
    "\n",
    "# Iterate over each group and draw the bars only for the top 20 values\n",
    "for network, values in top_20_by_n_local_network.groupby(level=0):\n",
    "    plt.bar([f'{network}'] * len(values), values.values, label=f'local networks: {network}', alpha=0.5)\n",
    "\n",
    "# Customize the plot\n",
    "plt.title('Top 20 n_attractor_fields by n_local_networks')\n",
    "plt.xlabel('Number of Local Networks')\n",
    "plt.ylabel('Number of stable attractor fields')\n",
    "plt.xticks(rotation=45)\n",
    "plt.yscale('log')  # Apply log scale on the y-axis\n",
    "plt.legend(title='Number of Local Networks')\n",
    "\n",
    "# Show the plot\n",
    "plt.show()"
   ],
   "id": "e84f087718bb6413",
   "outputs": [],
   "execution_count": null
  },
  {
   "metadata": {},
   "cell_type": "markdown",
   "source": "## Dispersion Graph",
   "id": "9678bfd586a6b684"
  },
  {
   "metadata": {},
   "cell_type": "code",
   "source": [
    "# Create a scatter plot\n",
    "plt.scatter(df['n_time_find_fields'], df['n_attractor_fields'])\n",
    "plt.xlabel('Time to find attractor fields (in seconds)')\n",
    "plt.ylabel('Number of attractor fields')\n",
    "plt.title('Scatter plot between time and number of attractor fields')\n",
    "plt.show()"
   ],
   "id": "85abebc560115ac2",
   "outputs": [],
   "execution_count": null
  },
  {
   "metadata": {},
   "cell_type": "markdown",
   "source": "## Power-Law Distribution",
   "id": "485082d3cbb92178"
  },
  {
   "metadata": {},
   "cell_type": "code",
   "source": [
    "# Calcular el histograma de frecuencias\n",
    "histogram = df['n_attractor_fields'].value_counts()\n",
    "\n",
    "# Graficar el histograma\n",
    "plt.figure(figsize=(10, 6))\n",
    "histogram.plot(kind='bar', color='blue', alpha=0.7)\n",
    "plt.title('Histograma de distribución de ley de potencias para n_attractor_fields')\n",
    "plt.xlabel('Valores')\n",
    "plt.ylabel('Frecuencia')\n",
    "plt.xticks(rotation=45)\n",
    "plt.grid(axis='y')\n",
    "\n",
    "plt.show()"
   ],
   "id": "f89e8ad56db82f2",
   "outputs": [],
   "execution_count": null
  }
 ],
 "metadata": {
  "kernelspec": {
   "display_name": "Python 3",
   "language": "python",
   "name": "python3"
  },
  "language_info": {
   "codemirror_mode": {
    "name": "ipython",
    "version": 2
   },
   "file_extension": ".py",
   "mimetype": "text/x-python",
   "name": "python",
   "nbconvert_exporter": "python",
   "pygments_lexer": "ipython2",
   "version": "2.7.6"
  }
 },
 "nbformat": 4,
 "nbformat_minor": 5
}
