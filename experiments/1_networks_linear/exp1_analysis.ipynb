{
 "cells": [
  {
   "metadata": {},
   "cell_type": "markdown",
   "source": "# Experiment 1: Growth of Stable Attractor Fields in Linear CBNs",
   "id": "483e781db1425328"
  },
  {
   "metadata": {},
   "cell_type": "markdown",
   "source": "This experiment explores the growth of local networks in Coupled Boolean Networks (CBNs) with a linear topology. It is crucial to observe the behavior of linear CBNs as the number of local networks increases.",
   "id": "a0236efa9bdf6edb"
  },
  {
   "cell_type": "code",
   "id": "initial_id",
   "metadata": {
    "collapsed": true,
    "ExecuteTime": {
     "end_time": "2024-06-23T17:30:54.105523Z",
     "start_time": "2024-06-23T17:30:54.086513Z"
    }
   },
   "source": [
    "import pandas as pd\n",
    "\n",
    "# Read the database\n",
    "df = pd.read_csv(\"outputs/exp1_linear_aleatory_3_11_1000/data.csv\")\n",
    "df.keys()"
   ],
   "outputs": [
    {
     "data": {
      "text/plain": [
       "Index(['i_sample', 'n_local_networks', 'n_var_network', 'v_topology',\n",
       "       'n_output_variables', 'n_clauses_function', 'n_local_attractors',\n",
       "       'n_pair_attractors', 'n_attractor_fields', 'n_time_find_attractors',\n",
       "       'n_time_find_pairs', 'n_time_find_fields'],\n",
       "      dtype='object')"
      ]
     },
     "execution_count": 32,
     "metadata": {},
     "output_type": "execute_result"
    }
   ],
   "execution_count": 32
  },
  {
   "metadata": {},
   "cell_type": "markdown",
   "source": "## Basics Estatistics",
   "id": "f1c4fb0625153e17"
  },
  {
   "metadata": {
    "ExecuteTime": {
     "end_time": "2024-06-23T17:30:54.239102Z",
     "start_time": "2024-06-23T17:30:54.212765Z"
    }
   },
   "cell_type": "code",
   "source": [
    "# Filtrar el DataFrame por 'n_local_networks' igual a 11\n",
    "df_filtered = df[df['n_local_networks'] == 11]\n",
    "\n",
    "# Seleccionar las columnas requeridas\n",
    "df_resume = df_filtered[['n_local_attractors', 'n_pair_attractors', 'n_attractor_fields']]\n",
    "\n",
    "# Describe the DataFrame to summarize statistics\n",
    "df_resume_stats = df_resume.describe()\n",
    "df_resume_stats"
   ],
   "id": "4ebb2cdac3bcb252",
   "outputs": [
    {
     "data": {
      "text/plain": [
       "       n_local_attractors  n_pair_attractors  n_attractor_fields\n",
       "count         1000.000000        1000.000000        1.000000e+03\n",
       "mean            31.317000          48.267000        8.669521e+05\n",
       "std             13.092591          52.515479        1.625068e+07\n",
       "min             21.000000           0.000000        0.000000e+00\n",
       "25%             21.000000          19.000000        1.000000e+00\n",
       "50%             31.000000          28.000000        2.000000e+00\n",
       "75%             42.000000          58.000000        2.048000e+03\n",
       "max            106.000000         576.000000        3.627971e+08"
      ],
      "text/html": [
       "<div>\n",
       "<style scoped>\n",
       "    .dataframe tbody tr th:only-of-type {\n",
       "        vertical-align: middle;\n",
       "    }\n",
       "\n",
       "    .dataframe tbody tr th {\n",
       "        vertical-align: top;\n",
       "    }\n",
       "\n",
       "    .dataframe thead th {\n",
       "        text-align: right;\n",
       "    }\n",
       "</style>\n",
       "<table border=\"1\" class=\"dataframe\">\n",
       "  <thead>\n",
       "    <tr style=\"text-align: right;\">\n",
       "      <th></th>\n",
       "      <th>n_local_attractors</th>\n",
       "      <th>n_pair_attractors</th>\n",
       "      <th>n_attractor_fields</th>\n",
       "    </tr>\n",
       "  </thead>\n",
       "  <tbody>\n",
       "    <tr>\n",
       "      <th>count</th>\n",
       "      <td>1000.000000</td>\n",
       "      <td>1000.000000</td>\n",
       "      <td>1.000000e+03</td>\n",
       "    </tr>\n",
       "    <tr>\n",
       "      <th>mean</th>\n",
       "      <td>31.317000</td>\n",
       "      <td>48.267000</td>\n",
       "      <td>8.669521e+05</td>\n",
       "    </tr>\n",
       "    <tr>\n",
       "      <th>std</th>\n",
       "      <td>13.092591</td>\n",
       "      <td>52.515479</td>\n",
       "      <td>1.625068e+07</td>\n",
       "    </tr>\n",
       "    <tr>\n",
       "      <th>min</th>\n",
       "      <td>21.000000</td>\n",
       "      <td>0.000000</td>\n",
       "      <td>0.000000e+00</td>\n",
       "    </tr>\n",
       "    <tr>\n",
       "      <th>25%</th>\n",
       "      <td>21.000000</td>\n",
       "      <td>19.000000</td>\n",
       "      <td>1.000000e+00</td>\n",
       "    </tr>\n",
       "    <tr>\n",
       "      <th>50%</th>\n",
       "      <td>31.000000</td>\n",
       "      <td>28.000000</td>\n",
       "      <td>2.000000e+00</td>\n",
       "    </tr>\n",
       "    <tr>\n",
       "      <th>75%</th>\n",
       "      <td>42.000000</td>\n",
       "      <td>58.000000</td>\n",
       "      <td>2.048000e+03</td>\n",
       "    </tr>\n",
       "    <tr>\n",
       "      <th>max</th>\n",
       "      <td>106.000000</td>\n",
       "      <td>576.000000</td>\n",
       "      <td>3.627971e+08</td>\n",
       "    </tr>\n",
       "  </tbody>\n",
       "</table>\n",
       "</div>"
      ]
     },
     "execution_count": 33,
     "metadata": {},
     "output_type": "execute_result"
    }
   ],
   "execution_count": 33
  },
  {
   "metadata": {
    "ExecuteTime": {
     "end_time": "2024-06-23T17:30:54.258117Z",
     "start_time": "2024-06-23T17:30:54.246378Z"
    }
   },
   "cell_type": "code",
   "source": [
    "import pandas as pd\n",
    "\n",
    "# Format the values to two decimal places\n",
    "stats_formatted = df_resume_stats.applymap(lambda x: f\"{x:.2f}\")\n",
    "\n",
    "# Export the descriptive statistics to a LaTeX table\n",
    "latex_text = stats_formatted.to_latex(\n",
    "    index=True,       # Include the index\n",
    "    bold_rows=True,   # Make the index bold\n",
    "    column_format='lccc',  # Column format (l: left, c: center, r: right)\n",
    "    header=True,      # Include column headers\n",
    "    caption='Descriptive Statistics of the Data',  # Add a caption\n",
    "    label='tab:descriptive_stats'  # Add a label\n",
    ")\n",
    "\n",
    "# Escape the '%' character in the LaTeX string\n",
    "latex_text_escaped = latex_text.replace('%', r'\\%')\n",
    "print(latex_text_escaped)"
   ],
   "id": "7c0fe7b652e2b2e3",
   "outputs": [
    {
     "name": "stdout",
     "output_type": "stream",
     "text": [
      "\\begin{table}\n",
      "\\caption{Descriptive Statistics of the Data}\n",
      "\\label{tab:descriptive_stats}\n",
      "\\begin{tabular}{lccc}\n",
      "\\toprule\n",
      " & n_local_attractors & n_pair_attractors & n_attractor_fields \\\\\n",
      "\\midrule\n",
      "\\textbf{count} & 1000.00 & 1000.00 & 1000.00 \\\\\n",
      "\\textbf{mean} & 31.32 & 48.27 & 866952.07 \\\\\n",
      "\\textbf{std} & 13.09 & 52.52 & 16250684.32 \\\\\n",
      "\\textbf{min} & 21.00 & 0.00 & 0.00 \\\\\n",
      "\\textbf{25\\%} & 21.00 & 19.00 & 1.00 \\\\\n",
      "\\textbf{50\\%} & 31.00 & 28.00 & 2.00 \\\\\n",
      "\\textbf{75\\%} & 42.00 & 58.00 & 2048.00 \\\\\n",
      "\\textbf{max} & 106.00 & 576.00 & 362797056.00 \\\\\n",
      "\\bottomrule\n",
      "\\end{tabular}\n",
      "\\end{table}\n",
      "\n"
     ]
    }
   ],
   "execution_count": 34
  },
  {
   "metadata": {
    "ExecuteTime": {
     "end_time": "2024-06-23T17:30:54.507885Z",
     "start_time": "2024-06-23T17:30:54.274125Z"
    }
   },
   "cell_type": "code",
   "source": [
    "import matplotlib\n",
    "import matplotlib.pyplot as plt\n",
    "import numpy as np\n",
    "\n",
    "# Group by 'n_local_networks' and calculate the mean of 'n_local_attractors'\n",
    "grouped_data = df.groupby('n_local_networks')['n_local_attractors'].mean()\n",
    "\n",
    "# Determine number of unique groups\n",
    "num_groups = len(grouped_data)\n",
    "\n",
    "# Choose a colormap (recommended way)\n",
    "cmap = matplotlib.colormaps['viridis']  # Access colormap by name\n",
    "\n",
    "# Create colors array from the colormap\n",
    "colors = cmap(np.linspace(0, 1, num_groups))\n",
    "\n",
    "# Create the bar plot with different colors for each bar\n",
    "grouped_data.plot(kind='bar', color=colors)\n",
    "\n",
    "# Customize the plot\n",
    "plt.title('Mean Local Attractors by Number of Local Networks')\n",
    "plt.xlabel('Number of Local Networks')\n",
    "plt.ylabel('Mean Local Attractors')\n",
    "plt.xticks(rotation=0)\n",
    "\n",
    "# Show the plot\n",
    "plt.show()"
   ],
   "id": "20dc8bef8f0def5c",
   "outputs": [
    {
     "data": {
      "text/plain": [
       "<Figure size 640x480 with 1 Axes>"
      ],
      "image/png": "[encoded data removed]"
     },
     "metadata": {},
     "output_type": "display_data"
    }
   ],
   "execution_count": 35
  },
  {
   "metadata": {
    "ExecuteTime": {
     "end_time": "2024-06-23T17:30:54.784762Z",
     "start_time": "2024-06-23T17:30:54.509966Z"
    }
   },
   "cell_type": "code",
   "source": [
    "import matplotlib\n",
    "import matplotlib.pyplot as plt\n",
    "import numpy as np\n",
    "\n",
    "# Group by 'n_local_networks' and calculate the mean of 'n_pair_attractors'\n",
    "grouped_data = df.groupby('n_local_networks')['n_pair_attractors'].mean()\n",
    "\n",
    "# Determine number of unique groups\n",
    "num_groups = len(grouped_data)\n",
    "\n",
    "# Choose a colormap (recommended way)\n",
    "cmap = matplotlib.colormaps['viridis']  # Access colormap by name\n",
    "\n",
    "# Create colors array from the colormap\n",
    "colors = cmap(np.linspace(0, 1, num_groups))\n",
    "\n",
    "# Create the bar plot with different colors for each bar\n",
    "grouped_data.plot(kind='bar', color=colors)\n",
    "\n",
    "# Customize the plot\n",
    "plt.title('Mean Attractor Pairs by Number of Local Networks')\n",
    "plt.xlabel('Number of Local Networks')\n",
    "plt.ylabel('Mean Attractor Pairs')\n",
    "plt.xticks(rotation=0)\n",
    "\n",
    "# Show the plot\n",
    "plt.show()"
   ],
   "id": "782c5c36aec6edbf",
   "outputs": [
    {
     "data": {
      "text/plain": [
       "<Figure size 640x480 with 1 Axes>"
      ],
      "image/png": "[encoded data removed]"
     },
     "metadata": {},
     "output_type": "display_data"
    }
   ],
   "execution_count": 36
  },
  {
   "metadata": {
    "ExecuteTime": {
     "end_time": "2024-06-23T17:30:55.410485Z",
     "start_time": "2024-06-23T17:30:54.786599Z"
    }
   },
   "cell_type": "code",
   "source": [
    "import matplotlib\n",
    "import matplotlib.pyplot as plt\n",
    "import numpy as np\n",
    "\n",
    "# Group by 'n_local_networks' and calculate the mean of 'n_attractor_fields'\n",
    "grouped_data = df.groupby('n_local_networks')['n_attractor_fields'].mean()\n",
    "\n",
    "# Determine number of unique groups (optional)\n",
    "num_groups = len(grouped_data)\n",
    "\n",
    "# Choose a colormap\n",
    "cmap = matplotlib.colormaps['viridis']  # Access colormap by name\n",
    "\n",
    "# Create colors array from the colormap (optional, for color variation)\n",
    "# You can remove these lines if you don't want color variation\n",
    "colors = cmap(np.linspace(0, 1, num_groups))\n",
    "\n",
    "# Create the bar plot with logarithmic scale on the y-axis\n",
    "grouped_data.plot(kind='bar', logy=True, color=colors)  # Use colors if desired\n",
    "\n",
    "# Customize the plot\n",
    "plt.title('Mean stable attractor fields by Local Networks')\n",
    "plt.xlabel('Number of Local Networks')\n",
    "plt.ylabel('Mean stable attractor fields (log scale)')\n",
    "plt.xticks(rotation=0)\n",
    "\n",
    "# Show the plot\n",
    "plt.show()"
   ],
   "id": "3c46caebc023fa07",
   "outputs": [
    {
     "data": {
      "text/plain": [
       "<Figure size 640x480 with 1 Axes>"
      ],
      "image/png": "[encoded data removed]"
     },
     "metadata": {},
     "output_type": "display_data"
    }
   ],
   "execution_count": 37
  },
  {
   "metadata": {},
   "cell_type": "markdown",
   "source": "## Advanced Statistics",
   "id": "59db5f6477b1c"
  },
  {
   "metadata": {
    "ExecuteTime": {
     "end_time": "2024-06-23T17:30:56.559334Z",
     "start_time": "2024-06-23T17:30:55.413006Z"
    }
   },
   "cell_type": "code",
   "source": [
    "# Obtain the last five unique values of n_local_networks\n",
    "n_local_networks_unique = df_resume['n_local_networks'].unique()\n",
    "n_local_networks_last_five = sorted(n_local_networks_unique)[-5:]\n",
    "\n",
    "# Violin and box plots\n",
    "attributes = ['n_local_attractors', 'n_pair_attractors', 'n_attractor_fields']\n",
    "attribute_labels = ['Growth of the number of Local Attractors by Number of Local Networks',\n",
    "                    'Growth of the number of Attractor Pairs by Number of Local Networks',\n",
    "                    'Growth of the number of Stable Attractor Fields by Number of Local Networks']\n",
    "\n",
    "for attribute, attribute_label in zip(attributes, attribute_labels):\n",
    "    fig, axs = plt.subplots(1, len(n_local_networks_last_five), sharey=True, figsize=(15, 7))\n",
    "\n",
    "    for i, n_networks in enumerate(n_local_networks_last_five):\n",
    "        data = df_resume[df_resume['n_local_networks'] == n_networks][attribute]\n",
    "\n",
    "        axs[i].violinplot(data)\n",
    "        axs[i].boxplot(data)\n",
    "        axs[i].set_xlabel(f'Number of local networks: {n_networks}')\n",
    "        axs[i].set_xticks([])\n",
    "        axs[i].set_xlim((0.5, 1.5))\n",
    "\n",
    "        mean = data.mean()\n",
    "        std_dev = data.std()\n",
    "        axs[i].axhline(mean, color='g', ls='--', label=fr'Mean: ${mean:.4g}$')\n",
    "        axs[i].axhline(mean + std_dev, color='r', ls='--', label=fr'+$\\sigma$: ${std_dev:.4g}$')\n",
    "        axs[i].axhline(mean - std_dev, color='b', ls='--', label=fr'-$\\sigma$: ${std_dev:.4g}$')\n",
    "        axs[i].legend()\n",
    "\n",
    "        if attribute == 'n_attractor_fields':  # Apply log scale only to the last attribute\n",
    "            axs[i].set_yscale('log')\n",
    "\n",
    "    fig.suptitle(f'{attribute_label}')\n",
    "    fig.tight_layout(w_pad=0)\n",
    "\n",
    "plt.show()\n"
   ],
   "id": "6214b127713b5d30",
   "outputs": [
    {
     "ename": "KeyError",
     "evalue": "'n_local_networks'",
     "output_type": "error",
     "traceback": [
      "\u001B[0;31m---------------------------------------------------------------------------\u001B[0m",
      "\u001B[0;31mKeyError\u001B[0m                                  Traceback (most recent call last)",
      "File \u001B[0;32m~/Projects/cbnetwork/venv/lib/python3.10/site-packages/pandas/core/indexes/base.py:3653\u001B[0m, in \u001B[0;36mIndex.get_loc\u001B[0;34m(self, key)\u001B[0m\n\u001B[1;32m   3652\u001B[0m \u001B[38;5;28;01mtry\u001B[39;00m:\n\u001B[0;32m-> 3653\u001B[0m     \u001B[38;5;28;01mreturn\u001B[39;00m \u001B[38;5;28;43mself\u001B[39;49m\u001B[38;5;241;43m.\u001B[39;49m\u001B[43m_engine\u001B[49m\u001B[38;5;241;43m.\u001B[39;49m\u001B[43mget_loc\u001B[49m\u001B[43m(\u001B[49m\u001B[43mcasted_key\u001B[49m\u001B[43m)\u001B[49m\n\u001B[1;32m   3654\u001B[0m \u001B[38;5;28;01mexcept\u001B[39;00m \u001B[38;5;167;01mKeyError\u001B[39;00m \u001B[38;5;28;01mas\u001B[39;00m err:\n",
      "File \u001B[0;32m~/Projects/cbnetwork/venv/lib/python3.10/site-packages/pandas/_libs/index.pyx:147\u001B[0m, in \u001B[0;36mpandas._libs.index.IndexEngine.get_loc\u001B[0;34m()\u001B[0m\n",
      "File \u001B[0;32m~/Projects/cbnetwork/venv/lib/python3.10/site-packages/pandas/_libs/index.pyx:176\u001B[0m, in \u001B[0;36mpandas._libs.index.IndexEngine.get_loc\u001B[0;34m()\u001B[0m\n",
      "File \u001B[0;32mpandas/_libs/hashtable_class_helper.pxi:7080\u001B[0m, in \u001B[0;36mpandas._libs.hashtable.PyObjectHashTable.get_item\u001B[0;34m()\u001B[0m\n",
      "File \u001B[0;32mpandas/_libs/hashtable_class_helper.pxi:7088\u001B[0m, in \u001B[0;36mpandas._libs.hashtable.PyObjectHashTable.get_item\u001B[0;34m()\u001B[0m\n",
      "\u001B[0;31mKeyError\u001B[0m: 'n_local_networks'",
      "\nThe above exception was the direct cause of the following exception:\n",
      "\u001B[0;31mKeyError\u001B[0m                                  Traceback (most recent call last)",
      "Cell \u001B[0;32mIn[38], line 2\u001B[0m\n\u001B[1;32m      1\u001B[0m \u001B[38;5;66;03m# Obtain the last five unique values of n_local_networks\u001B[39;00m\n\u001B[0;32m----> 2\u001B[0m n_local_networks_unique \u001B[38;5;241m=\u001B[39m \u001B[43mdf_resume\u001B[49m\u001B[43m[\u001B[49m\u001B[38;5;124;43m'\u001B[39;49m\u001B[38;5;124;43mn_local_networks\u001B[39;49m\u001B[38;5;124;43m'\u001B[39;49m\u001B[43m]\u001B[49m\u001B[38;5;241m.\u001B[39munique()\n\u001B[1;32m      3\u001B[0m n_local_networks_last_five \u001B[38;5;241m=\u001B[39m \u001B[38;5;28msorted\u001B[39m(n_local_networks_unique)[\u001B[38;5;241m-\u001B[39m\u001B[38;5;241m5\u001B[39m:]\n\u001B[1;32m      5\u001B[0m \u001B[38;5;66;03m# Violin and box plots\u001B[39;00m\n",
      "File \u001B[0;32m~/Projects/cbnetwork/venv/lib/python3.10/site-packages/pandas/core/frame.py:3761\u001B[0m, in \u001B[0;36mDataFrame.__getitem__\u001B[0;34m(self, key)\u001B[0m\n\u001B[1;32m   3759\u001B[0m \u001B[38;5;28;01mif\u001B[39;00m \u001B[38;5;28mself\u001B[39m\u001B[38;5;241m.\u001B[39mcolumns\u001B[38;5;241m.\u001B[39mnlevels \u001B[38;5;241m>\u001B[39m \u001B[38;5;241m1\u001B[39m:\n\u001B[1;32m   3760\u001B[0m     \u001B[38;5;28;01mreturn\u001B[39;00m \u001B[38;5;28mself\u001B[39m\u001B[38;5;241m.\u001B[39m_getitem_multilevel(key)\n\u001B[0;32m-> 3761\u001B[0m indexer \u001B[38;5;241m=\u001B[39m \u001B[38;5;28;43mself\u001B[39;49m\u001B[38;5;241;43m.\u001B[39;49m\u001B[43mcolumns\u001B[49m\u001B[38;5;241;43m.\u001B[39;49m\u001B[43mget_loc\u001B[49m\u001B[43m(\u001B[49m\u001B[43mkey\u001B[49m\u001B[43m)\u001B[49m\n\u001B[1;32m   3762\u001B[0m \u001B[38;5;28;01mif\u001B[39;00m is_integer(indexer):\n\u001B[1;32m   3763\u001B[0m     indexer \u001B[38;5;241m=\u001B[39m [indexer]\n",
      "File \u001B[0;32m~/Projects/cbnetwork/venv/lib/python3.10/site-packages/pandas/core/indexes/base.py:3655\u001B[0m, in \u001B[0;36mIndex.get_loc\u001B[0;34m(self, key)\u001B[0m\n\u001B[1;32m   3653\u001B[0m     \u001B[38;5;28;01mreturn\u001B[39;00m \u001B[38;5;28mself\u001B[39m\u001B[38;5;241m.\u001B[39m_engine\u001B[38;5;241m.\u001B[39mget_loc(casted_key)\n\u001B[1;32m   3654\u001B[0m \u001B[38;5;28;01mexcept\u001B[39;00m \u001B[38;5;167;01mKeyError\u001B[39;00m \u001B[38;5;28;01mas\u001B[39;00m err:\n\u001B[0;32m-> 3655\u001B[0m     \u001B[38;5;28;01mraise\u001B[39;00m \u001B[38;5;167;01mKeyError\u001B[39;00m(key) \u001B[38;5;28;01mfrom\u001B[39;00m \u001B[38;5;21;01merr\u001B[39;00m\n\u001B[1;32m   3656\u001B[0m \u001B[38;5;28;01mexcept\u001B[39;00m \u001B[38;5;167;01mTypeError\u001B[39;00m:\n\u001B[1;32m   3657\u001B[0m     \u001B[38;5;66;03m# If we have a listlike key, _check_indexing_error will raise\u001B[39;00m\n\u001B[1;32m   3658\u001B[0m     \u001B[38;5;66;03m#  InvalidIndexError. Otherwise we fall through and re-raise\u001B[39;00m\n\u001B[1;32m   3659\u001B[0m     \u001B[38;5;66;03m#  the TypeError.\u001B[39;00m\n\u001B[1;32m   3660\u001B[0m     \u001B[38;5;28mself\u001B[39m\u001B[38;5;241m.\u001B[39m_check_indexing_error(key)\n",
      "\u001B[0;31mKeyError\u001B[0m: 'n_local_networks'"
     ]
    }
   ],
   "execution_count": 38
  },
  {
   "metadata": {},
   "cell_type": "markdown",
   "source": "## Incremental Taxs ",
   "id": "3041a2f5a5e76e00"
  },
  {
   "metadata": {},
   "cell_type": "code",
   "source": [
    "# Sort the DataFrame by 'i_sample' and 'n_local_networks'\n",
    "df_sorted = df.sort_values(['i_sample', 'n_local_networks'])\n",
    "\n",
    "# Calculate the difference in 'n_attractor_fields' for each pair of consecutive values of 'n_local_networks' for a same 'i_sample'\n",
    "df_sorted['diff_n_attractor_fields'] = df_sorted.groupby(['i_sample'])['n_attractor_fields'].diff()\n",
    "\n",
    "# Remove rows containing NaN (corresponding to the first value of 'n_local_networks' for each 'i_sample')\n",
    "df_sorted = df_sorted.dropna(subset=['diff_n_attractor_fields'])\n",
    "\n",
    "# Calculate the average of the differences per 'i_sample'\n",
    "average_diff_by_i_sample = df_sorted.groupby('i_sample')['diff_n_attractor_fields'].mean()\n",
    "\n",
    "# Display the summary statistics of the average differences per 'i_sample'\n",
    "average_diff_by_i_sample.describe()"
   ],
   "id": "4e7b15cebfc22fa9",
   "outputs": [],
   "execution_count": null
  },
  {
   "metadata": {},
   "cell_type": "code",
   "source": [
    "import matplotlib.pyplot as plt\n",
    "\n",
    "plt.figure(figsize=(8, 6))\n",
    "\n",
    "# Violin plot\n",
    "plt.violinplot(average_diff_by_i_sample.values, vert=True, widths=0.7)\n",
    "\n",
    "# Boxplot\n",
    "plt.boxplot(average_diff_by_i_sample.values, vert=True, widths=0.4, patch_artist=True, showmeans=True)\n",
    "\n",
    "# Log scale for y-axis\n",
    "plt.yscale('log')\n",
    "\n",
    "# Customize plot\n",
    "plt.title('Distribution of Average Difference in Stable Attractor Fields by samples')\n",
    "plt.xlabel('Samples')\n",
    "plt.ylabel('Average Difference in Stable Attractor Fields (log scale)')\n",
    "plt.grid(True)\n",
    "\n",
    "# Show plot\n",
    "plt.show()"
   ],
   "id": "9025ca0153e494cd",
   "outputs": [],
   "execution_count": null
  },
  {
   "metadata": {},
   "cell_type": "markdown",
   "source": "# Top 20",
   "id": "34ea784dd663e865"
  },
  {
   "metadata": {},
   "cell_type": "code",
   "source": [
    "# Group by 'n_local_networks' and find the top 20 values of 'n_attractor_fields' for each group\n",
    "top_20_by_n_local_network = df.groupby('n_local_networks')['n_attractor_fields'].nlargest(20)\n",
    "\n",
    "# Create the stacked bar chart\n",
    "plt.figure(figsize=(10, 6))\n",
    "\n",
    "# Iterate over each group and draw the bars only for the top 20 values\n",
    "for network, values in top_20_by_n_local_network.groupby(level=0):\n",
    "    plt.bar([f'{network}'] * len(values), values.values, label=f'local networks: {network}', alpha=0.5)\n",
    "\n",
    "# Customize the plot\n",
    "plt.title('Top 20 n_attractor_fields by n_local_networks')\n",
    "plt.xlabel('Number of Local Networks')\n",
    "plt.ylabel('Number of stable attractor fields')\n",
    "plt.xticks(rotation=45)\n",
    "plt.yscale('log')  # Apply log scale on the y-axis\n",
    "plt.legend(title='Number of Local Networks')\n",
    "\n",
    "# Show the plot\n",
    "plt.show()"
   ],
   "id": "e84f087718bb6413",
   "outputs": [],
   "execution_count": null
  },
  {
   "metadata": {},
   "cell_type": "markdown",
   "source": "## Dispersion Graph",
   "id": "9678bfd586a6b684"
  },
  {
   "metadata": {},
   "cell_type": "code",
   "source": [
    "# Create a scatter plot\n",
    "plt.scatter(df['n_time_find_fields'], df['n_attractor_fields'])\n",
    "plt.xlabel('Time to find attractor fields (in seconds)')\n",
    "plt.ylabel('Number of attractor fields')\n",
    "plt.title('Scatter plot between time and number of attractor fields')\n",
    "plt.show()"
   ],
   "id": "85abebc560115ac2",
   "outputs": [],
   "execution_count": null
  },
  {
   "metadata": {},
   "cell_type": "markdown",
   "source": "## Power-Law Distribution",
   "id": "485082d3cbb92178"
  },
  {
   "metadata": {},
   "cell_type": "code",
   "source": [
    "# Calcular el histograma de frecuencias\n",
    "histogram = df['n_attractor_fields'].value_counts()\n",
    "\n",
    "# Graficar el histograma\n",
    "plt.figure(figsize=(10, 6))\n",
    "histogram.plot(kind='bar', color='blue', alpha=0.7)\n",
    "plt.title('Histograma de distribución de ley de potencias para n_attractor_fields')\n",
    "plt.xlabel('Valores')\n",
    "plt.ylabel('Frecuencia')\n",
    "plt.xticks(rotation=45)\n",
    "plt.grid(axis='y')\n",
    "\n",
    "plt.show()"
   ],
   "id": "f89e8ad56db82f2",
   "outputs": [],
   "execution_count": null
  }
 ],
 "metadata": {
  "kernelspec": {
   "display_name": "Python 3",
   "language": "python",
   "name": "python3"
  },
  "language_info": {
   "codemirror_mode": {
    "name": "ipython",
    "version": 2
   },
   "file_extension": ".py",
   "mimetype": "text/x-python",
   "name": "python",
   "nbconvert_exporter": "python",
   "pygments_lexer": "ipython2",
   "version": "2.7.6"
  }
 },
 "nbformat": 4,
 "nbformat_minor": 5
}
