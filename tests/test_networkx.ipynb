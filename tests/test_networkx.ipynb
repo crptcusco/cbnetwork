{
 "cells": [
  {
   "cell_type": "code",
   "execution_count": null,
   "id": "initial_id",
   "metadata": {
    "collapsed": true
   },
   "outputs": [],
   "source": [
    "import networkx as nx\n",
    "import matplotlib.pyplot as plt\n",
    "\n",
    "# l_networks = [1,2,3,4,5,6]\n",
    "l_networks = list(range(1,7))\n",
    "l_networks"
   ]
  },
  {
   "cell_type": "code",
   "execution_count": null,
   "outputs": [],
   "source": [
    "# Selecting the topology of the graph\n",
    "n = len(l_networks)\n",
    "# # Classical Networks \n",
    "# G = nx.balanced_tree(n,2, nx.DiGraph())\n",
    "# G = nx.barbell_graph(5,5, nx.DiGraph()) # Not supported\n",
    "# G = nx.binomial_tree(n,nx.DiGraph())\n",
    "# G = nx.complete_graph(n,nx.DiGraph())\n",
    "# G = nx.complete_multipartite_graph([1,2,3]) # Not supported\n",
    "# G = nx.circular_ladder_graph(n,nx.DiGraph) # Not supported\n",
    "# G = nx.circulant_graph(n,[1,2],nx.DiGraph())\n",
    "# G = nx.cycle_graph(n,nx.DiGraph())\n",
    "# G = nx.dorogovtsev_goltsev_mendes_graph(n,nx.DiGraph()) # not supported\n",
    "# G = nx.empty_graph(n,nx.DiGraph()) # not supported\n",
    "# G = nx.full_rary_tree(2,n,nx.DiGraph())\n",
    "# G = nx.ladder_graph(n,nx.DiGraph()) # not supported\n",
    "# G = nx.lollipop_graph(n,n,nx.DiGraph()) # not supported\n",
    "# G = nx.null_graph(nx.DiGraph()) # not supported\n",
    "# G = nx.path_graph(n,nx.DiGraph()) \n",
    "# G = nx.star_graph(n,nx.DiGraph()) # not supported\n",
    "# G = nx.trivial_graph(nx.DiGraph()) # not supported\n",
    "# G = nx.turan_graph(n,n) # not supported\n",
    "# G = nx.wheel_graph(n,nx.DiGraph()) # not supported\n",
    "\n",
    "# # Aleatory networks\n",
    "# G = nx.fast_gnp_random_graph(n, 0.5, directed=True)\n",
    "# G = nx.gnp_random_graph(n, 0.5, directed=True)\n",
    "# G = nx.gnp_random_graph(n, 0.5, directed=True)\n",
    "\n",
    "# # Directed Graphs\n",
    "# G = nx.gn_graph(n)\n",
    "# G = nx.gnr_graph(n,0.5)\n",
    "G = nx.gnc_graph(n)\n",
    "# G = nx.random_k_out_graph(n) # not supported\n",
    "# G = nx.scale_free_graph(n) \n",
    "\n",
    "# G = nx.grid_2d_graph(n,n,False,nx.DiGraph())\n",
    "o_plot = plt.plot()\n",
    "nx.draw(G)   # default spring_layout"
   ],
   "metadata": {
    "collapsed": false
   },
   "id": "c1888fb607bf06fb"
  },
  {
   "cell_type": "code",
   "execution_count": null,
   "outputs": [],
   "source": [
    "# Cambiar los nombres de los nodos para que comiencen en 1 en lugar de 0\n",
    "mapping = {node: node + 1 for node in G.nodes()}\n",
    "G = nx.relabel_nodes(G, mapping)\n",
    "\n",
    "# Imprimir los nodos del grafo\n",
    "print(\"Nodos del grafo después del cambio:\")\n",
    "print(G.nodes())"
   ],
   "metadata": {
    "collapsed": false
   },
   "id": "b5be5bae2285ae0d"
  },
  {
   "cell_type": "code",
   "execution_count": null,
   "outputs": [],
   "source": [
    "type(list(G.edges())[1])"
   ],
   "metadata": {
    "collapsed": false
   },
   "id": "40550fb92d43db10"
  }
 ],
 "metadata": {
  "kernelspec": {
   "display_name": "Python 3",
   "language": "python",
   "name": "python3"
  },
  "language_info": {
   "codemirror_mode": {
    "name": "ipython",
    "version": 2
   },
   "file_extension": ".py",
   "mimetype": "text/x-python",
   "name": "python",
   "nbconvert_exporter": "python",
   "pygments_lexer": "ipython2",
   "version": "2.7.6"
  }
 },
 "nbformat": 4,
 "nbformat_minor": 5
}
