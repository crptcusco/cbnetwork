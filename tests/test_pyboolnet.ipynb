{
 "cells": [
  {
   "cell_type": "code",
   "execution_count": null,
   "id": "initial_id",
   "metadata": {
    "collapsed": true
   },
   "outputs": [],
   "source": [
    "from pyboolnet.file_exchange import bnet2primes, primes2bnet\n",
    "from pyboolnet.prime_implicants import find_constants, create_variables\n",
    "from pyboolnet.repository import get_primes\n",
    "from pyboolnet.state_transition_graphs import primes2stg\n",
    "from pyboolnet.attractors import compute_attractors_tarjan\n",
    "\n",
    "bnet = \"\"\"\n",
    "v1,    !v1\n",
    "v2,    1\n",
    "v3,    v2 & (!v1 | v3)\n",
    "\"\"\"\n",
    "\n",
    "primes = bnet2primes(bnet)\n",
    "print (primes)"
   ]
  },
  {
   "cell_type": "code",
   "execution_count": null,
   "outputs": [],
   "source": [
    "# finding nodes\n",
    "const = find_constants(primes)\n",
    "print(const)"
   ],
   "metadata": {
    "collapsed": false
   },
   "id": "a3acf80488b06b2f"
  },
  {
   "cell_type": "code",
   "execution_count": null,
   "outputs": [],
   "source": [
    "stg = primes2stg(primes, \"synchronous\")\n",
    "steady, cyclic = compute_attractors_tarjan(stg)\n",
    "stg"
   ],
   "metadata": {
    "collapsed": false
   },
   "id": "9f5954888b3fab09"
  },
  {
   "cell_type": "code",
   "execution_count": null,
   "outputs": [],
   "source": [
    "steady"
   ],
   "metadata": {
    "collapsed": false
   },
   "id": "65334657725eb493"
  },
  {
   "cell_type": "code",
   "execution_count": null,
   "outputs": [],
   "source": [
    "cyclic"
   ],
   "metadata": {
    "collapsed": false
   },
   "id": "66d65af00bfca25e"
  },
  {
   "cell_type": "code",
   "execution_count": null,
   "outputs": [],
   "source": [
    "# modifying networks\n",
    "create_variables(primes, {\"v4\": \"v4 | v2\"})\n",
    "create_variables(primes, {\"v5\": lambda v1, v2, v3: v1 + v2 + v3 == 1})\n",
    "print(primes2bnet(primes))"
   ],
   "metadata": {
    "collapsed": false
   },
   "id": "4ecfc6a697b3594d"
  },
  {
   "cell_type": "code",
   "execution_count": null,
   "outputs": [],
   "source": [
    "# reading from the repository\n",
    "primes = get_primes(\"remy_tumorigenesis\")\n",
    "print(primes2bnet(primes))"
   ],
   "metadata": {
    "collapsed": false
   },
   "id": "a019ffb179727f2c"
  }
 ],
 "metadata": {
  "kernelspec": {
   "display_name": "Python 3",
   "language": "python",
   "name": "python3"
  },
  "language_info": {
   "codemirror_mode": {
    "name": "ipython",
    "version": 2
   },
   "file_extension": ".py",
   "mimetype": "text/x-python",
   "name": "python",
   "nbconvert_exporter": "python",
   "pygments_lexer": "ipython2",
   "version": "2.7.6"
  }
 },
 "nbformat": 4,
 "nbformat_minor": 5
}
